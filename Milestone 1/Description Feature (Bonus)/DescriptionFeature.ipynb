{
 "cells": [
  {
   "cell_type": "code",
   "execution_count": 147,
   "outputs": [
    {
     "name": "stdout",
     "output_type": "stream",
     "text": [
      "                                                    URL          ID  \\\n",
      "0     https://apps.apple.com/us/app/heir-of-light/id...  1264483706   \n",
      "1     https://apps.apple.com/us/app/endgame-eurasia/...   607705356   \n",
      "2     https://apps.apple.com/us/app/free-solitaire/i...   627491527   \n",
      "3     https://apps.apple.com/us/app/draft-trainer/id...   430252596   \n",
      "4     https://apps.apple.com/us/app/rogue-knight-inf...  1115082819   \n",
      "...                                                 ...         ...   \n",
      "5209  https://apps.apple.com/us/app/plague-inc/id525...   525818839   \n",
      "5210  https://apps.apple.com/us/app/jeans-club/id945...   945975522   \n",
      "5211  https://apps.apple.com/us/app/train-game-assis...   550919302   \n",
      "5212  https://apps.apple.com/us/app/independence-day...  1086647459   \n",
      "5213  https://apps.apple.com/us/app/order-up-food-tr...   542784161   \n",
      "\n",
      "                                            Name  \\\n",
      "0                                  HEIR OF LIGHT   \n",
      "1                                Endgame:Eurasia   \n",
      "2                                Free Solitaire+   \n",
      "3                                  Draft Trainer   \n",
      "4                   Rogue Knight: Infested Lands   \n",
      "...                                          ...   \n",
      "5209                                 Plague Inc.   \n",
      "5210                               \"Jean's Club\"   \n",
      "5211                        Train Game Assistant   \n",
      "5212  Independence Day Resurgence: Battle Heroes   \n",
      "5213                  Order Up!! Food Truck Wars   \n",
      "\n",
      "                            Subtitle  \\\n",
      "0                   Dark Fantasy RPG   \n",
      "1                                NaN   \n",
      "2                                NaN   \n",
      "3                                NaN   \n",
      "4      Tactical roguelike w/ stealth   \n",
      "...                              ...   \n",
      "5209       Can you Infect the World?   \n",
      "5210  \"Let's run a attractive club.\"   \n",
      "5211                             NaN   \n",
      "5212                             NaN   \n",
      "5213                             NaN   \n",
      "\n",
      "                                               Icon URL  User Rating Count  \\\n",
      "0     https://is3-ssl.mzstatic.com/image/thumb/Purpl...                982   \n",
      "1     https://is4-ssl.mzstatic.com/image/thumb/Purpl...                 19   \n",
      "2     https://is5-ssl.mzstatic.com/image/thumb/Purpl...                 14   \n",
      "3     https://is1-ssl.mzstatic.com/image/thumb/Purpl...                 88   \n",
      "4     https://is2-ssl.mzstatic.com/image/thumb/Purpl...                 13   \n",
      "...                                                 ...                ...   \n",
      "5209  https://is2-ssl.mzstatic.com/image/thumb/Purpl...             205014   \n",
      "5210  https://is1-ssl.mzstatic.com/image/thumb/Purpl...                252   \n",
      "5211  https://is1-ssl.mzstatic.com/image/thumb/Purpl...                 12   \n",
      "5212  https://is5-ssl.mzstatic.com/image/thumb/Purpl...                578   \n",
      "5213  https://is1-ssl.mzstatic.com/image/thumb/Purpl...                782   \n",
      "\n",
      "      Price                                   In-app Purchases  \\\n",
      "0      0.00  29.99, 19.99, 9.99, 29.99, 29.99, 8.99, 4.99, ...   \n",
      "1      0.00                                                NaN   \n",
      "2      0.00                                                NaN   \n",
      "3      1.99                                                NaN   \n",
      "4      3.99                                                NaN   \n",
      "...     ...                                                ...   \n",
      "5209   0.99  1.99, 1.99, 1.99, 1.99, 1.99, 1.99, 2.99, 7.99...   \n",
      "5210   0.00   2.99, 4.99, 1.99, 2.99, 5.99, 9.99, 11.99, 19.99   \n",
      "5211   0.00                                                NaN   \n",
      "5212   0.00  9.99, 1.99, 4.99, 19.99, 4.99, 4.99, 4.99, 9.9...   \n",
      "5213   0.00         0.99, 1.99, 0.99, 4.99, 9.99, 19.99, 49.99   \n",
      "\n",
      "                                            Description             Developer  \\\n",
      "0     A Dark Fantasy, Collectible RPG\\n\\nDarkness ha...          GAMEVIL Inc.   \n",
      "1     \"This interactive experience is an exploration...    Auroch Digital Ltd   \n",
      "2     Same Solitaire game with classic Solitaire run...       Chen Zhong Yuan   \n",
      "3     ** Discounted for a limited time **\\n\\nEver wo...       GG Wizards, LLC   \n",
      "4     Fight or sneak your way through hordes of mons...         Luis Regueira   \n",
      "...                                                 ...                   ...   \n",
      "5209  \"Can you infect the world? Plague Inc. is a un...      Ndemic Creations   \n",
      "5210  \"Jean start new business, managing club after ...           AFEEL, Inc.   \n",
      "5211  \"Train Game Assistant supplements the board ga...   Stasis Software LLC   \n",
      "5212  \"Earth stands united!\\n\\nJoin the combat ranks...      ZEN Studios Ltd.   \n",
      "5213  With over 8 Million Downloads and a 4.5 Star R...  Supervillain Studios   \n",
      "\n",
      "     Age Rating                                          Languages       Size  \\\n",
      "0           12+             EN, FR, DE, JA, KO, ZH, ES, TH, ZH, VI  894489600   \n",
      "1           12+                                                 EN  116407296   \n",
      "2            4+                                             EN, ZH   50647040   \n",
      "3            9+                                                 EN   28120064   \n",
      "4           12+                                                 EN   39915520   \n",
      "...         ...                                                ...        ...   \n",
      "5209        12+  EN, FR, DE, IT, JA, KO, NB, PL, PT, RU, ZH, ES...  118793216   \n",
      "5210         4+                                         EN, JA, KO   79267840   \n",
      "5211         4+                                                 EN   19513344   \n",
      "5212         9+                                                 EN  275680256   \n",
      "5213         4+                                                 EN   85438464   \n",
      "\n",
      "     Primary Genre                                      Genres  \\\n",
      "0            Games               Games, Role Playing, Strategy   \n",
      "1            Games           Games, Simulation, Strategy, News   \n",
      "2            Games        Games, Strategy, Entertainment, Card   \n",
      "3            Games            Games, Utilities, Card, Strategy   \n",
      "4            Games               Games, Role Playing, Strategy   \n",
      "...            ...                                         ...   \n",
      "5209         Games                 Games, Strategy, Simulation   \n",
      "5210         Games  Games, Simulation, Strategy, Entertainment   \n",
      "5211     Utilities           Utilities, Games, Board, Strategy   \n",
      "5212         Games               Games, Strategy, Role Playing   \n",
      "5213         Games        Games, Card, Entertainment, Strategy   \n",
      "\n",
      "     Original Release Date Current Version Release Date  Average User Rating  \n",
      "0                 6/3/2018                   31/07/2019                  4.0  \n",
      "1               21/03/2013                   28/06/2017                  3.5  \n",
      "2                 4/4/2013                   21/04/2015                  4.5  \n",
      "3               26/05/2011                   23/07/2019                  3.5  \n",
      "4               19/05/2017                     6/2/2019                  4.5  \n",
      "...                    ...                          ...                  ...  \n",
      "5209            26/05/2012                     8/2/2019                  4.5  \n",
      "5210             11/1/2015                   16/04/2018                  4.5  \n",
      "5211            16/08/2012                   21/02/2017                  5.0  \n",
      "5212              8/6/2016                   30/01/2017                  4.0  \n",
      "5213             10/9/2012                   14/03/2015                  3.5  \n",
      "\n",
      "[5214 rows x 18 columns]\n"
     ]
    }
   ],
   "source": [
    "import pandas\n",
    "import string\n",
    "import re\n",
    "from nltk.corpus import stopwords\n",
    "from nltk.corpus import wordnet\n",
    "from nltk.stem.porter import PorterStemmer\n",
    "from nltk.stem import WordNetLemmatizer\n",
    "from nltk import pos_tag\n",
    "from collections import Counter\n",
    "\n",
    "df = pandas.read_csv('../MS1 Dataset [ORIG]/games-regression-dataset.csv')\n",
    "print(df)"
   ],
   "metadata": {
    "collapsed": false,
    "pycharm": {
     "name": "#%%\n"
    }
   }
  },
  {
   "cell_type": "code",
   "execution_count": 148,
   "outputs": [
    {
     "data": {
      "text/plain": "0       A Dark Fantasy, Collectible RPG\\n\\nDarkness ha...\n1       \"This interactive experience is an exploration...\n2       Same Solitaire game with classic Solitaire run...\n3       ** Discounted for a limited time **\\n\\nEver wo...\n4       Fight or sneak your way through hordes of mons...\n                              ...                        \n5209    \"Can you infect the world? Plague Inc. is a un...\n5210    \"Jean start new business, managing club after ...\n5211    \"Train Game Assistant supplements the board ga...\n5212    \"Earth stands united!\\n\\nJoin the combat ranks...\n5213    With over 8 Million Downloads and a 4.5 Star R...\nName: Description, Length: 5214, dtype: object"
     },
     "execution_count": 148,
     "metadata": {},
     "output_type": "execute_result"
    }
   ],
   "source": [
    "df['Description']"
   ],
   "metadata": {
    "collapsed": false,
    "pycharm": {
     "name": "#%%\n"
    }
   }
  },
  {
   "cell_type": "code",
   "execution_count": 149,
   "outputs": [],
   "source": [
    "# convert text to lowercase\n",
    "df['clean_text'] = df['Description'].str.lower()"
   ],
   "metadata": {
    "collapsed": false,
    "pycharm": {
     "name": "#%%\n"
    }
   }
  },
  {
   "cell_type": "code",
   "execution_count": 150,
   "outputs": [
    {
     "data": {
      "text/plain": "0       a dark fantasy collectible rpgnndarkness has o...\n1       this interactive experience is an exploration ...\n2       same solitaire game with classic solitaire run...\n3        discounted for a limited time nnever wonder h...\n4       fight or sneak your way through hordes of mons...\n                              ...                        \n5209    can you infect the world plague inc is a uniqu...\n5210    jean start new business managing club after th...\n5211    train game assistant supplements the board gam...\n5212    earth stands unitednnjoin the combat ranks of ...\n5213    with over 8 million downloads and a 45 star ra...\nName: clean_text, Length: 5214, dtype: object"
     },
     "execution_count": 150,
     "metadata": {},
     "output_type": "execute_result"
    }
   ],
   "source": [
    "# remove punctuations\n",
    "def remove_punctuations(text):\n",
    "    return text.translate(str.maketrans(\"\", \"\", string.punctuation))\n",
    "\n",
    "df['clean_text'] = df['clean_text'].apply(lambda x: remove_punctuations(x))\n",
    "df['clean_text']"
   ],
   "metadata": {
    "collapsed": false,
    "pycharm": {
     "name": "#%%\n"
    }
   }
  },
  {
   "cell_type": "code",
   "execution_count": 151,
   "outputs": [
    {
     "data": {
      "text/plain": "0       dark fantasy collectible rpgnndarkness overtak...\n1       interactive experience exploration modern war ...\n2       solitaire game classic solitaire running windo...\n3       discounted limited time nnever wonder protour ...\n4       fight sneak way hordes monsters attempt hunt d...\n                              ...                        \n5209    infect world plague inc unique mix high strate...\n5210    jean start new business managing club big hits...\n5211    train game assistant supplements board game ra...\n5212    earth stands unitednnjoin combat ranks earth s...\n5213    8 million downloads 45 star rating order go sm...\nName: clean_text, Length: 5214, dtype: object"
     },
     "execution_count": 151,
     "metadata": {},
     "output_type": "execute_result"
    }
   ],
   "source": [
    "# remove stopwords\n",
    "stop_words = set(stopwords.words('english'))\n",
    "def remove_stopwords(text):\n",
    "    return \" \".join(word for word in text.split() if word not in stop_words)\n",
    "\n",
    "df['clean_text'] = df['clean_text'].apply(lambda x: remove_stopwords(x))\n",
    "df['clean_text']"
   ],
   "metadata": {
    "collapsed": false,
    "pycharm": {
     "name": "#%%\n"
    }
   }
  },
  {
   "cell_type": "code",
   "execution_count": 152,
   "outputs": [
    {
     "data": {
      "text/plain": "0       dark fantasy collectible rpgnndarkness overtak...\n1       interactive experience exploration modern war ...\n2       solitaire classic solitaire running windows be...\n3       discounted limited nnever wonder protour magic...\n4       fight sneak way hordes monsters attempt hunt d...\n                              ...                        \n5209    infect plague inc unique mix high terrifyingly...\n5210    jean start business managing club big hits jea...\n5211    train assistant supplements board rail baronxa...\n5212    earth stands unitednnjoin combat ranks earth s...\n5213    8 million downloads 45 star rating order go sm...\nName: clean_text, Length: 5214, dtype: object"
     },
     "execution_count": 152,
     "metadata": {},
     "output_type": "execute_result"
    }
   ],
   "source": [
    "# remove frequently words\n",
    "word_count = Counter()\n",
    "for txt in df[\"clean_text\"]:\n",
    "    for wrd in txt.split():\n",
    "        word_count[wrd] += 1\n",
    "\n",
    "# frequently words occur more than 2000\n",
    "frequent_words = set(word for (word, frequency) in word_count.most_common(14))\n",
    "\n",
    "def remove_frequently_words(text):\n",
    "    return \" \".join([word for word in text.split() if word not in frequent_words])\n",
    "\n",
    "\n",
    "df['clean_text'] = df['clean_text'].apply(lambda x: remove_frequently_words(x))\n",
    "df['clean_text']"
   ],
   "metadata": {
    "collapsed": false,
    "pycharm": {
     "name": "#%%\n"
    }
   }
  },
  {
   "cell_type": "code",
   "execution_count": 153,
   "outputs": [
    {
     "data": {
      "text/plain": "0       dark fantasy collectible rpgnndarkness overtak...\n1       interactive experience exploration modern war ...\n2       solitaire classic solitaire running windows be...\n3       discounted limited nnever wonder protour magic...\n4       fight sneak way hordes monsters attempt hunt d...\n                              ...                        \n5209    infect plague inc unique mix high terrifyingly...\n5210    jean start business managing club big hits jea...\n5211    train assistant supplements board rail baronxa...\n5212    earth stands unitednnjoin combat ranks earth s...\n5213    8 million downloads 45 star rating order go sm...\nName: clean_text, Length: 5214, dtype: object"
     },
     "execution_count": 153,
     "metadata": {},
     "output_type": "execute_result"
    }
   ],
   "source": [
    "# remove special characters\n",
    "def remove_special_characters(text):\n",
    "    text = re.sub(\"[^a-zA-Z0-9]\", \" \", text)\n",
    "    text = re.sub(\"\\s+\", \" \", text)\n",
    "    return text\n",
    "df['clean_text'] = df['clean_text'].apply(lambda x: remove_special_characters(x))\n",
    "df['clean_text']"
   ],
   "metadata": {
    "collapsed": false,
    "pycharm": {
     "name": "#%%\n"
    }
   }
  },
  {
   "cell_type": "code",
   "execution_count": 154,
   "outputs": [
    {
     "data": {
      "text/plain": "0       dark fantasi collect rpgnndark overtaken realm...\n1       interact experi explor modern war fiction news...\n2       solitair classic solitair run window best kill...\n3       discount limit nnever wonder protour magic gat...\n4       fight sneak way hord monster attempt hunt dark...\n                              ...                        \n5209    infect plagu inc uniqu mix high terrifyingli r...\n5210    jean start busi manag club big hit jean boutiq...\n5211    train assist supplement board rail baronxa mak...\n5212    earth stand unitednnjoin combat rank earth spa...\n5213    8 million download 45 star rate order go smash...\nName: clean_text, Length: 5214, dtype: object"
     },
     "execution_count": 154,
     "metadata": {},
     "output_type": "execute_result"
    }
   ],
   "source": [
    "# stemming\n",
    "porter_stemmer = PorterStemmer()\n",
    "def apply_stemming(text):\n",
    "    return \" \".join([porter_stemmer.stem(word) for word in text.split()])\n",
    "df['clean_text'] = df['clean_text'].apply(lambda x: apply_stemming(x))\n",
    "df['clean_text']"
   ],
   "metadata": {
    "collapsed": false,
    "pycharm": {
     "name": "#%%\n"
    }
   }
  },
  {
   "cell_type": "code",
   "execution_count": null,
   "outputs": [],
   "source": [
    "# part of speech and lemmatization\n"
   ],
   "metadata": {
    "collapsed": false,
    "pycharm": {
     "name": "#%%\n"
    }
   }
  }
 ],
 "metadata": {
  "kernelspec": {
   "display_name": "Python 3",
   "language": "python",
   "name": "python3"
  },
  "language_info": {
   "codemirror_mode": {
    "name": "ipython",
    "version": 2
   },
   "file_extension": ".py",
   "mimetype": "text/x-python",
   "name": "python",
   "nbconvert_exporter": "python",
   "pygments_lexer": "ipython2",
   "version": "2.7.6"
  }
 },
 "nbformat": 4,
 "nbformat_minor": 0
}