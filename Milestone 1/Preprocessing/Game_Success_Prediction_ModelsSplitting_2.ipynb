{
 "cells": [
  {
   "cell_type": "markdown",
   "id": "4619c63c",
   "metadata": {
    "id": "4619c63c"
   },
   "source": [
    "# Import Libraries"
   ]
  },
  {
   "cell_type": "code",
   "execution_count": 1,
   "id": "9075564a",
   "metadata": {
    "ExecuteTime": {
     "end_time": "2023-04-26T21:27:02.729136Z",
     "start_time": "2023-04-26T21:26:59.992614Z"
    },
    "colab": {
     "base_uri": "https://localhost:8080/"
    },
    "id": "9075564a",
    "outputId": "fbb15d7a-5dea-4275-9d06-0150379913f7"
   },
   "outputs": [
    {
     "name": "stderr",
     "output_type": "stream",
     "text": [
      "[nltk_data] Downloading package stopwords to\n",
      "[nltk_data]     /Users/ahmedhafez/nltk_data...\n",
      "[nltk_data]   Package stopwords is already up-to-date!\n",
      "[nltk_data] Downloading package punkt to\n",
      "[nltk_data]     /Users/ahmedhafez/nltk_data...\n",
      "[nltk_data]   Package punkt is already up-to-date!\n",
      "[nltk_data] Downloading package averaged_perceptron_tagger to\n",
      "[nltk_data]     /Users/ahmedhafez/nltk_data...\n",
      "[nltk_data]   Package averaged_perceptron_tagger is already up-to-\n",
      "[nltk_data]       date!\n"
     ]
    }
   ],
   "source": [
    "import pandas as pd\n",
    "import numpy as np\n",
    "import matplotlib.pyplot as plt\n",
    "import seaborn as sns\n",
    "from urllib.parse import urlparse\n",
    "import re\n",
    "import nltk\n",
    "from nltk.corpus import stopwords\n",
    "from nltk.tokenize import word_tokenize\n",
    "from collections import Counter\n",
    "nltk.download('stopwords')\n",
    "nltk.download('punkt')\n",
    "nltk.download('averaged_perceptron_tagger')\n",
    "from sklearn.preprocessing import MinMaxScaler\n",
    "from statistics import mean\n",
    "from nltk.tokenize import word_tokenize, sent_tokenize\n",
    "import pickle\n",
    "from sklearn.model_selection import train_test_split\n",
    "from sklearn import linear_model\n",
    "from sklearn import metrics\n",
    "from sklearn.metrics import r2_score\n",
    "from sklearn.datasets import load_breast_cancer, load_diabetes, load_wine\n",
    "from sklearn.linear_model import Ridge, RidgeCV, Lasso\n",
    "from sklearn.metrics import auc, accuracy_score, confusion_matrix, mean_squared_error\n",
    "from sklearn.model_selection import cross_val_score, GridSearchCV, KFold, RandomizedSearchCV, train_test_split\n",
    "import xgboost as xgb"
   ]
  },
  {
   "cell_type": "markdown",
   "id": "75b1c51f",
   "metadata": {
    "id": "75b1c51f"
   },
   "source": [
    "# \n",
    "# Functions"
   ]
  },
  {
   "cell_type": "markdown",
   "id": "e47c492c",
   "metadata": {
    "id": "e47c492c"
   },
   "source": [
    "**`PreprocessListCategories`** <br>\n",
    "`Function take df, list of categories columns and apply OHE on them, then return the df after modifications`"
   ]
  },
  {
   "cell_type": "code",
   "execution_count": 2,
   "id": "ff7a35df",
   "metadata": {
    "ExecuteTime": {
     "end_time": "2023-04-26T21:27:08.141392Z",
     "start_time": "2023-04-26T21:27:08.126376Z"
    },
    "id": "ff7a35df"
   },
   "outputs": [],
   "source": [
    "def PreprocessListCategories(df, lst):\n",
    "    for col in lst:\n",
    "        # Apply one-hot encoding to the \"col\" column in list and put the output in newdf\n",
    "        newdf = df[col].str.get_dummies(sep=', ')\n",
    "        df.drop(columns=[col], inplace=True)\n",
    "        # Concatenate the one-hot encoded columns with the original DataFrame\n",
    "        df = pd.concat([df, newdf], axis=1)\n",
    "        \n",
    "    return df"
   ]
  },
  {
   "cell_type": "markdown",
   "id": "3a725a2a",
   "metadata": {
    "id": "3a725a2a"
   },
   "source": [
    "**`CheckNullRows`**<br>\n",
    "`Function take df and print number of null rows`"
   ]
  },
  {
   "cell_type": "code",
   "execution_count": 3,
   "id": "8789d72f",
   "metadata": {
    "ExecuteTime": {
     "end_time": "2023-04-26T21:27:09.559656Z",
     "start_time": "2023-04-26T21:27:09.550175Z"
    },
    "id": "8789d72f"
   },
   "outputs": [],
   "source": [
    "def CheckNullRows(df):\n",
    "    missing_rows = df.isnull().any(axis=1).sum()\n",
    "    print('Number of rows that have null values: ', missing_rows)"
   ]
  },
  {
   "cell_type": "markdown",
   "id": "5bf1fa20",
   "metadata": {
    "id": "5bf1fa20"
   },
   "source": [
    "**`DropNullRows`**<br>\n",
    "`Function take df and drop all null rows`"
   ]
  },
  {
   "cell_type": "code",
   "execution_count": 4,
   "id": "43f58232",
   "metadata": {
    "ExecuteTime": {
     "end_time": "2023-04-26T21:27:11.375263Z",
     "start_time": "2023-04-26T21:27:11.365188Z"
    },
    "id": "43f58232"
   },
   "outputs": [],
   "source": [
    "def DropNullRows(df):\n",
    "    df.dropna(inplace=True)"
   ]
  },
  {
   "cell_type": "markdown",
   "id": "9934aee2",
   "metadata": {
    "id": "9934aee2"
   },
   "source": [
    "**`ChangeDataType`**<br>\n",
    "`Function take df and change data types of some columns to appropriate data type`"
   ]
  },
  {
   "cell_type": "code",
   "execution_count": 5,
   "id": "de536423",
   "metadata": {
    "ExecuteTime": {
     "end_time": "2023-04-26T21:27:12.147720Z",
     "start_time": "2023-04-26T21:27:12.132260Z"
    },
    "id": "de536423"
   },
   "outputs": [],
   "source": [
    "def PreProcessAgrRating(df):\n",
    "    # Age Rating \n",
    "    # Print current data type\n",
    "    print('Data type of Age Rating is, ', df['Age Rating'].dtype)\n",
    "    # Remove the + sign\n",
    "    df['Age Rating'] = df['Age Rating'].str.replace('+', '', regex=False)\n",
    "    # Convert Column datatype to int\n",
    "    df['Age Rating'] = df['Age Rating'].astype(int)\n",
    "    print('Data type of Age Rating after processing is ', df['Age Rating'].dtype)\n",
    "    # Create a dictionary to map the age ratings to integers\n",
    "    age_rating_map = {4: 1, 9: 2, 12: 3, 17: 4}\n",
    "    # Replace each value with its category\n",
    "    df['Age Rating'] = df['Age Rating'].replace(age_rating_map)\n",
    "    # Print Age Rating\n",
    "    print(df['Age Rating'].head())"
   ]
  },
  {
   "cell_type": "code",
   "execution_count": 6,
   "id": "eee8d8c4",
   "metadata": {
    "ExecuteTime": {
     "end_time": "2023-04-26T21:27:12.613742Z",
     "start_time": "2023-04-26T21:27:12.603292Z"
    },
    "id": "eee8d8c4"
   },
   "outputs": [],
   "source": [
    "def dropColumns(df, lst):\n",
    "    for col in lst:\n",
    "        if col in df.columns:\n",
    "            df.drop(columns=[col], inplace=True)"
   ]
  },
  {
   "cell_type": "code",
   "execution_count": 7,
   "id": "7b542980",
   "metadata": {
    "ExecuteTime": {
     "end_time": "2023-04-26T21:27:12.922649Z",
     "start_time": "2023-04-26T21:27:12.914470Z"
    },
    "id": "7b542980"
   },
   "outputs": [],
   "source": [
    "def ConvertToDateTime(df, lst):\n",
    "    for col in lst:\n",
    "        df[col] = pd.to_datetime(df[col].astype('datetime64'),dayfirst=True).astype('int64')"
   ]
  },
  {
   "cell_type": "code",
   "execution_count": 8,
   "id": "9ba94a51",
   "metadata": {
    "ExecuteTime": {
     "end_time": "2023-04-26T21:27:13.151350Z",
     "start_time": "2023-04-26T21:27:13.145472Z"
    },
    "id": "9ba94a51"
   },
   "outputs": [],
   "source": [
    "def GetColumnsNullsPerc(df):\n",
    "    # print count of nulls for each column and percentage of them\n",
    "    missing_data = pd.DataFrame({'total_missing': df.isnull().sum(), 'perc_missing': (df.isnull().mean())*100})\n",
    "    return missing_data"
   ]
  },
  {
   "cell_type": "code",
   "execution_count": 9,
   "id": "afcb1bef",
   "metadata": {
    "ExecuteTime": {
     "end_time": "2023-04-26T21:27:13.372098Z",
     "start_time": "2023-04-26T21:27:13.362159Z"
    },
    "id": "afcb1bef"
   },
   "outputs": [],
   "source": [
    "def CheckListOfCategoriesColumn(df, col):\n",
    "    print(\"Data type of \", col, \"column is: \", df[col].dtype)\n",
    "    all_languages = list(set(','.join(df['Languages'].fillna('').unique()).split(',')))\n",
    "    print(col, \"column has \", len(all_languages), \"unique\", col)"
   ]
  },
  {
   "cell_type": "code",
   "execution_count": 10,
   "id": "b387bbde",
   "metadata": {
    "ExecuteTime": {
     "end_time": "2023-04-26T21:27:13.544117Z",
     "start_time": "2023-04-26T21:27:13.537251Z"
    },
    "id": "b387bbde"
   },
   "outputs": [],
   "source": [
    "def PrintDfColumns(df):\n",
    "    columns_list = df.columns.tolist()\n",
    "    print(columns_list)"
   ]
  },
  {
   "cell_type": "code",
   "execution_count": 11,
   "id": "d1afb3ec",
   "metadata": {
    "ExecuteTime": {
     "end_time": "2023-04-26T21:27:13.917322Z",
     "start_time": "2023-04-26T21:27:13.908858Z"
    },
    "id": "d1afb3ec"
   },
   "outputs": [],
   "source": [
    "def FillColumnNulls(df, col):\n",
    "    df[col] = df[col].fillna(0)"
   ]
  },
  {
   "cell_type": "code",
   "execution_count": 12,
   "id": "51974ec4",
   "metadata": {
    "ExecuteTime": {
     "end_time": "2023-04-26T21:27:14.135189Z",
     "start_time": "2023-04-26T21:27:14.127126Z"
    },
    "id": "51974ec4"
   },
   "outputs": [],
   "source": [
    "def DuplicatesDetectionAndRemoval(df):\n",
    "    print(\"Number of duplicates rows: \", df.duplicated().sum())\n",
    "    df.drop_duplicates(inplace = True, keep=\"first\")"
   ]
  },
  {
   "cell_type": "code",
   "execution_count": 13,
   "id": "bdc047b7",
   "metadata": {
    "ExecuteTime": {
     "end_time": "2023-04-26T21:27:14.389986Z",
     "start_time": "2023-04-26T21:27:14.377769Z"
    },
    "id": "bdc047b7"
   },
   "outputs": [],
   "source": [
    "def outliers(dataset,col):\n",
    "    fig, ax =plt.subplots(1,2)\n",
    "    sns.boxplot( y=col, data=dataset,color=\"red\", ax=ax[0])\n",
    "    Q1 = dataset[col].quantile(0.25)\n",
    "    Q3 = dataset[col].quantile(0.75)\n",
    "    IQR = Q3-Q1\n",
    "    lower_bound = Q1-1.5*IQR\n",
    "    upper_bound = Q3+1.5*IQR\n",
    "    dataset[col]=dataset[col].apply(lambda x: upper_bound if x> upper_bound else( lower_bound if x< lower_bound  else x))        \n",
    "    sns.boxplot( y=col, data=dataset,color=\"blue\", ax=ax[1])\n",
    "    fig.show()"
   ]
  },
  {
   "cell_type": "code",
   "execution_count": 14,
   "id": "5946e13a",
   "metadata": {
    "ExecuteTime": {
     "end_time": "2023-04-26T21:27:14.604807Z",
     "start_time": "2023-04-26T21:27:14.595637Z"
    },
    "id": "5946e13a"
   },
   "outputs": [],
   "source": [
    "def avarage_Purchases(data,col):\n",
    "    data[col]=data[col].fillna(\"0\")\n",
    "    data[col]=data[col].astype(str)\n",
    "    data[col]=data[col].str.split(\",\")\n",
    "    data[col]=[np.float64(x) for x in data[col]]\n",
    "    data[col]=data[col].apply(lambda x: mean(x))\n",
    "    data[col]=data[col].astype(float)\n",
    "    return data"
   ]
  },
  {
   "cell_type": "code",
   "execution_count": 15,
   "id": "jpymktfX8tuq",
   "metadata": {
    "ExecuteTime": {
     "end_time": "2023-04-26T21:27:14.970176Z",
     "start_time": "2023-04-26T21:27:14.960232Z"
    },
    "id": "jpymktfX8tuq"
   },
   "outputs": [],
   "source": [
    "def reduceOHEColumns(df):\n",
    "    X = df.iloc[:,14:] #columns of categories [languages, generes, ]\n",
    "    zero_percentage = pd.DataFrame({'total_zeros': (X == 0).sum(), 'perc_zeros': (X == 0).mean() * 100})\n",
    "    to_keep = zero_percentage['perc_zeros'] < 90\n",
    "    \n",
    "    updatedX = X.loc[:, to_keep]\n",
    "    df = df.drop(df.columns[18:], axis=1)\n",
    "    \n",
    "    result = pd.concat([df, updatedX], axis=1)\n",
    "    return result"
   ]
  },
  {
   "cell_type": "code",
   "execution_count": 16,
   "id": "QER0HqSFZ1d9",
   "metadata": {
    "ExecuteTime": {
     "end_time": "2023-04-26T21:27:15.463493Z",
     "start_time": "2023-04-26T21:27:15.454100Z"
    },
    "id": "QER0HqSFZ1d9"
   },
   "outputs": [],
   "source": [
    "def extract_country(links):\n",
    "    us_words = []\n",
    "    for link in links:\n",
    "        parsed_url = urlparse(link)\n",
    "        try:\n",
    "            us_word = parsed_url.path.split('/')[1]\n",
    "            us_words.append(us_word)\n",
    "        except IndexError:\n",
    "            print(f\"Malformed link: {link}\")\n",
    "    return us_words"
   ]
  },
  {
   "cell_type": "code",
   "execution_count": 17,
   "id": "PGeNGlyHZ680",
   "metadata": {
    "ExecuteTime": {
     "end_time": "2023-04-26T21:27:15.657041Z",
     "start_time": "2023-04-26T21:27:15.647444Z"
    },
    "id": "PGeNGlyHZ680"
   },
   "outputs": [],
   "source": [
    "def extract_color(links):\n",
    "    is_color_list = []\n",
    "    for link in links:\n",
    "        parsed_url = urlparse(link)\n",
    "        netloc = parsed_url.netloc.lower()\n",
    "        is_color_match = re.search(r\"is\\d\", netloc)\n",
    "        if is_color_match:\n",
    "            is_color = is_color_match.group()\n",
    "        else:\n",
    "            is_color = None\n",
    "        is_color_list.append(is_color)\n",
    "    return is_color_list"
   ]
  },
  {
   "cell_type": "code",
   "execution_count": 18,
   "id": "8JgQSJbmaHMB",
   "metadata": {
    "ExecuteTime": {
     "end_time": "2023-04-26T21:27:15.879335Z",
     "start_time": "2023-04-26T21:27:15.870400Z"
    },
    "id": "8JgQSJbmaHMB"
   },
   "outputs": [],
   "source": [
    "def count_dev_games(df):\n",
    "  # Create a dictionary to store the frequency of each developer\n",
    "  developer_freq = df['Developer'].value_counts().to_dict()\n",
    "\n",
    "  # Replace each developer name with its frequency in the dataset\n",
    "  df['Developer'] = df['Developer'].map(developer_freq)\n",
    "  return df"
   ]
  },
  {
   "cell_type": "code",
   "execution_count": 19,
   "id": "yeq2ZE5oZ-kJ",
   "metadata": {
    "ExecuteTime": {
     "end_time": "2023-04-26T21:27:16.131684Z",
     "start_time": "2023-04-26T21:27:16.114401Z"
    },
    "id": "yeq2ZE5oZ-kJ"
   },
   "outputs": [],
   "source": [
    "def frequent_words_in_name(df):\n",
    "       # Download the stop words and tokenizer if needed\n",
    "    nltk.download('stopwords')\n",
    "    nltk.download('punkt')\n",
    "\n",
    "    # Define the stop words list\n",
    "    stop_words = set(stopwords.words('english'))\n",
    "\n",
    "    # Create an empty Counter object to store the word frequencies\n",
    "    word_freq = Counter()\n",
    "\n",
    "    # Iterate over each row in the 'Name' column\n",
    "    for name in df['Name']:\n",
    "        # Check if the value is a string before tokenizing it\n",
    "        if isinstance(name, str):\n",
    "            # Tokenize the name string into words\n",
    "            words = word_tokenize(name)\n",
    "\n",
    "            # Filter out stop words and iterate over each word\n",
    "            for word, pos in nltk.pos_tag(words):\n",
    "                # Filter out stop words and check if the word is a noun or verb\n",
    "                if word not in stop_words and (pos.startswith('N') or pos.startswith('V')):\n",
    "                    # Add the word to the counter\n",
    "                    word_freq[word.lower()] += 1\n",
    "\n",
    "    # Get the 50 most frequent words\n",
    "    most_common_words = [word[0] for word in word_freq.most_common(50)]\n",
    "\n",
    "    # Replace each word in the 'Name' column with 1 if it matches one of the 50 most frequent words\n",
    "    df['Name'] = df['Name'].apply(lambda x: sum(1 for word in word_tokenize(str(x).lower()) if word in most_common_words) + 1)\n",
    "\n",
    "    return df"
   ]
  },
  {
   "cell_type": "code",
   "execution_count": 20,
   "id": "H6cWg8DU8PIW",
   "metadata": {
    "ExecuteTime": {
     "end_time": "2023-04-26T21:27:16.708993Z",
     "start_time": "2023-04-26T21:27:16.692636Z"
    },
    "id": "H6cWg8DU8PIW"
   },
   "outputs": [],
   "source": [
    "def scaling(df):\n",
    "  #use Min-Max scaling, which scales the data to a range between 0 and 1.\n",
    "  # Initialize the MinMaxScaler object\n",
    "  scalerA = MinMaxScaler()\n",
    "  scalerB = MinMaxScaler()\n",
    "  # Fit and transform the features\n",
    "  df['User Rating Count'] = scalerA.fit_transform(df[['User Rating Count']])\n",
    "  df['Size'] = scalerB.fit_transform(df[['Size']])\n",
    "  with open('sA.pkl', 'wb') as file:\n",
    "      pickle.dump(scalerA,file)\n",
    "  with open('sB.pkl', 'wb') as file:\n",
    "      pickle.dump(scalerB,file)  \n",
    "  return df"
   ]
  },
  {
   "cell_type": "code",
   "execution_count": 21,
   "id": "IWwH7Q7jN_ee",
   "metadata": {
    "ExecuteTime": {
     "end_time": "2023-04-26T21:27:16.912440Z",
     "start_time": "2023-04-26T21:27:16.904038Z"
    },
    "id": "IWwH7Q7jN_ee"
   },
   "outputs": [],
   "source": [
    "def apply_scaling(df):\n",
    "    with open('sA.pkl', 'rb') as file:\n",
    "      scaler_A = pickle.load(file)\n",
    "    with open('sB.pkl', 'rb') as file:\n",
    "      scaler_B = pickle.load(file)\n",
    "    df['User Rating Count'] = scaler_A.transform(df[['User Rating Count']])\n",
    "    df['Size'] = scaler_B.transform(df[['Size']])"
   ]
  },
  {
   "cell_type": "code",
   "execution_count": 22,
   "id": "rsPY33Po8IBE",
   "metadata": {
    "ExecuteTime": {
     "end_time": "2023-04-26T21:27:17.392804Z",
     "start_time": "2023-04-26T21:27:17.383322Z"
    },
    "id": "rsPY33Po8IBE"
   },
   "outputs": [],
   "source": [
    "def feature_transformation(df):\n",
    "    # country name extraction\n",
    "    df['URL'] = extract_country(df['URL'])\n",
    "    df.rename(columns = {'URL':'Country'}, inplace = True)\n",
    "    # color extraction\n",
    "    df['Icon URL'] = extract_color(df['Icon URL'])\n",
    "    df.rename(columns = {'Icon URL':'Color'}, inplace = True)\n",
    "    # number of other games by dev\n",
    "    df = count_dev_games(df)\n",
    "    df.rename(columns = {'Developer':'Other by developer'}, inplace = True)\n",
    "    df = scaling(df)\n",
    "    return df"
   ]
  },
  {
   "cell_type": "code",
   "execution_count": 23,
   "id": "uBhX7j6_KFsk",
   "metadata": {
    "ExecuteTime": {
     "end_time": "2023-04-26T21:27:17.621628Z",
     "start_time": "2023-04-26T21:27:17.611904Z"
    },
    "id": "uBhX7j6_KFsk"
   },
   "outputs": [],
   "source": [
    "def extract_difficulty(description):\n",
    "    difficulty = None\n",
    "    if re.search(r\"\\b(hard|difficult|challenging|difficult|demanding|arduous|tough|grueling|strenuous|intense|brutal|hardcore|punishing)\\b\", description, re.IGNORECASE):\n",
    "        difficulty = \"Hard\"\n",
    "    elif re.search(r\"\\b(medium|moderate|average|intermediate|in-between|neither easy nor hard|fairly challenging|not too easy, not too hard|reasonably difficult|somewhat challenging|tolerable difficulty|manageable|adequate difficulty)\\b\", description, re.IGNORECASE):\n",
    "        difficulty = \"Medium\"\n",
    "    else:\n",
    "        difficulty = \"Easy\"\n",
    "    return difficulty"
   ]
  },
  {
   "cell_type": "code",
   "execution_count": 24,
   "id": "34a457b8",
   "metadata": {
    "ExecuteTime": {
     "end_time": "2023-04-26T21:27:17.877519Z",
     "start_time": "2023-04-26T21:27:17.870848Z"
    },
    "id": "34a457b8"
   },
   "outputs": [],
   "source": [
    "def selection(df1,df2):\n",
    "    df = pd.concat([df1,df2] ,axis=1)\n",
    "    corr = df.corr()\n",
    "    top_features = corr.index[abs(corr['Average User Rating'])>0.1]\n",
    "    top_features = top_features.delete(-1)\n",
    "    return top_features"
   ]
  },
  {
   "cell_type": "markdown",
   "id": "g1D7iZfQH7Qp",
   "metadata": {
    "id": "g1D7iZfQH7Qp"
   },
   "source": []
  },
  {
   "cell_type": "markdown",
   "id": "7c21accf",
   "metadata": {
    "id": "7c21accf"
   },
   "source": [
    "# \n",
    "# Read Data"
   ]
  },
  {
   "cell_type": "code",
   "execution_count": 27,
   "id": "8332daac",
   "metadata": {
    "ExecuteTime": {
     "end_time": "2023-04-26T21:28:44.836084Z",
     "start_time": "2023-04-26T21:28:43.547483Z"
    },
    "colab": {
     "base_uri": "https://localhost:8080/",
     "height": 363
    },
    "id": "8332daac",
    "outputId": "f567db74-4d44-4449-dfc4-3711997aada7"
   },
   "outputs": [],
   "source": [
    "df = pd.read_excel('games-regression-dataset.xlsx')"
   ]
  },
  {
   "cell_type": "code",
   "execution_count": 28,
   "id": "86f7d50c",
   "metadata": {
    "ExecuteTime": {
     "end_time": "2023-04-26T21:28:45.487654Z",
     "start_time": "2023-04-26T21:28:45.466220Z"
    },
    "id": "86f7d50c"
   },
   "outputs": [
    {
     "data": {
      "text/plain": [
       "(5214, 18)"
      ]
     },
     "execution_count": 28,
     "metadata": {},
     "output_type": "execute_result"
    }
   ],
   "source": [
    "df.shape"
   ]
  },
  {
   "cell_type": "markdown",
   "id": "mgFRuLAO_3If",
   "metadata": {
    "id": "mgFRuLAO_3If"
   },
   "source": [
    "# Split"
   ]
  },
  {
   "cell_type": "code",
   "execution_count": 29,
   "id": "cyreB8I9_NZL",
   "metadata": {
    "ExecuteTime": {
     "end_time": "2023-04-26T21:28:46.751887Z",
     "start_time": "2023-04-26T21:28:46.729730Z"
    },
    "id": "cyreB8I9_NZL"
   },
   "outputs": [],
   "source": [
    "# drop ID column because its unique value is equal to number of rows\n",
    "df.drop(columns='ID', inplace=True)"
   ]
  },
  {
   "cell_type": "code",
   "execution_count": 30,
   "id": "9907d5a4",
   "metadata": {
    "ExecuteTime": {
     "end_time": "2023-04-26T21:28:47.109977Z",
     "start_time": "2023-04-26T21:28:47.071495Z"
    },
    "id": "9907d5a4"
   },
   "outputs": [
    {
     "name": "stdout",
     "output_type": "stream",
     "text": [
      "Number of rows that have null values:  4130\n",
      "Number of rows that have null values:  0\n"
     ]
    },
    {
     "data": {
      "text/plain": [
       "(1084, 17)"
      ]
     },
     "execution_count": 30,
     "metadata": {},
     "output_type": "execute_result"
    }
   ],
   "source": [
    "df.shape\n",
    "CheckNullRows(df)\n",
    "DropNullRows(df)\n",
    "CheckNullRows(df)\n",
    "df.shape"
   ]
  },
  {
   "cell_type": "code",
   "execution_count": 31,
   "id": "a1b8142a",
   "metadata": {
    "ExecuteTime": {
     "end_time": "2023-04-26T21:28:47.559513Z",
     "start_time": "2023-04-26T21:28:47.516376Z"
    },
    "id": "a1b8142a"
   },
   "outputs": [
    {
     "name": "stdout",
     "output_type": "stream",
     "text": [
      "Number of duplicates rows:  8\n"
     ]
    }
   ],
   "source": [
    "DuplicatesDetectionAndRemoval(df)"
   ]
  },
  {
   "cell_type": "code",
   "execution_count": 32,
   "id": "bddd2842",
   "metadata": {
    "ExecuteTime": {
     "end_time": "2023-04-26T21:28:48.669982Z",
     "start_time": "2023-04-26T21:28:48.642684Z"
    },
    "id": "bddd2842"
   },
   "outputs": [],
   "source": [
    "Y = df['Average User Rating']\n",
    "X = df.drop(columns='Average User Rating', inplace=False)\n",
    "X_train, X_test, Y_train, Y_test = train_test_split(X, Y, test_size = 0.20, shuffle=True, random_state=10)"
   ]
  },
  {
   "cell_type": "markdown",
   "id": "a2649036",
   "metadata": {
    "id": "a2649036"
   },
   "source": [
    "# \n",
    "# Preprocessing Pipeline\n",
    "- **`1. Columns Analysis `**\n",
    "- **`2. Columns Nulls`**\n",
    "- **`3. Price Encoding`**\n",
    "- **`4. Outlires Detection & Removal`**\n",
    "- **`5. Deal With Categories`**\n",
    "- **`6. Feature Transformation`**"
   ]
  },
  {
   "cell_type": "markdown",
   "id": "21e961d4",
   "metadata": {
    "id": "21e961d4"
   },
   "source": [
    "## \n",
    "### `1. Columns Analysis`"
   ]
  },
  {
   "cell_type": "code",
   "execution_count": 33,
   "id": "9fef4bff",
   "metadata": {
    "ExecuteTime": {
     "end_time": "2023-04-26T21:28:50.251866Z",
     "start_time": "2023-04-26T21:28:50.235192Z"
    },
    "id": "9fef4bff"
   },
   "outputs": [
    {
     "data": {
      "text/plain": [
       "URL                              object\n",
       "Name                             object\n",
       "Subtitle                         object\n",
       "Icon URL                         object\n",
       "User Rating Count                 int64\n",
       "Price                           float64\n",
       "In-app Purchases                 object\n",
       "Description                      object\n",
       "Developer                        object\n",
       "Age Rating                       object\n",
       "Languages                        object\n",
       "Size                              int64\n",
       "Primary Genre                    object\n",
       "Genres                           object\n",
       "Original Release Date            object\n",
       "Current Version Release Date     object\n",
       "dtype: object"
      ]
     },
     "execution_count": 33,
     "metadata": {},
     "output_type": "execute_result"
    }
   ],
   "source": [
    "X_train.dtypes"
   ]
  },
  {
   "cell_type": "markdown",
   "id": "2f52b732",
   "metadata": {
    "id": "2f52b732"
   },
   "source": [
    "<br> \n",
    "\n",
    "**Age Rating**\n",
    "- Remove + sign \n",
    "- Convert to int\n",
    "- Notice that the column has only 4 ages so we can categorize them"
   ]
  },
  {
   "cell_type": "code",
   "execution_count": 34,
   "id": "b39f3b59",
   "metadata": {
    "ExecuteTime": {
     "end_time": "2023-04-26T21:28:52.649681Z",
     "start_time": "2023-04-26T21:28:52.634157Z"
    },
    "id": "b39f3b59"
   },
   "outputs": [
    {
     "name": "stdout",
     "output_type": "stream",
     "text": [
      "Data type of Age Rating is,  object\n",
      "Data type of Age Rating after processing is  int64\n",
      "5210    1\n",
      "1493    1\n",
      "2394    1\n",
      "1805    3\n",
      "1044    2\n",
      "Name: Age Rating, dtype: int64\n"
     ]
    }
   ],
   "source": [
    "PreProcessAgrRating(X_train)"
   ]
  },
  {
   "cell_type": "markdown",
   "id": "4f0b3f76",
   "metadata": {
    "id": "4f0b3f76"
   },
   "source": [
    "<br>\n",
    "\n",
    "**Languages**"
   ]
  },
  {
   "cell_type": "code",
   "execution_count": 35,
   "id": "64670dea",
   "metadata": {
    "ExecuteTime": {
     "end_time": "2023-04-26T21:28:53.405376Z",
     "start_time": "2023-04-26T21:28:53.389460Z"
    },
    "id": "64670dea"
   },
   "outputs": [
    {
     "name": "stdout",
     "output_type": "stream",
     "text": [
      "Data type of  Languages column is:  object\n",
      "Languages column has  121 unique Languages\n"
     ]
    }
   ],
   "source": [
    "CheckListOfCategoriesColumn(X_train, 'Languages')"
   ]
  },
  {
   "cell_type": "markdown",
   "id": "c94d419d",
   "metadata": {
    "id": "c94d419d"
   },
   "source": [
    "<br>\n",
    "\n",
    "**Genres**"
   ]
  },
  {
   "cell_type": "code",
   "execution_count": 36,
   "id": "3b9ca29f",
   "metadata": {
    "ExecuteTime": {
     "end_time": "2023-04-26T21:28:54.193700Z",
     "start_time": "2023-04-26T21:28:54.178590Z"
    },
    "id": "3b9ca29f"
   },
   "outputs": [
    {
     "name": "stdout",
     "output_type": "stream",
     "text": [
      "Data type of  Genres column is:  object\n",
      "Genres column has  121 unique Genres\n"
     ]
    }
   ],
   "source": [
    "CheckListOfCategoriesColumn(X_train, 'Genres')"
   ]
  },
  {
   "cell_type": "markdown",
   "id": "28ca22d0",
   "metadata": {
    "id": "28ca22d0"
   },
   "source": [
    "<br>\n",
    "\n",
    "**Primary Genre**"
   ]
  },
  {
   "cell_type": "code",
   "execution_count": 37,
   "id": "b00a04d5",
   "metadata": {
    "ExecuteTime": {
     "end_time": "2023-04-26T21:28:55.574637Z",
     "start_time": "2023-04-26T21:28:55.559695Z"
    },
    "id": "b00a04d5"
   },
   "outputs": [
    {
     "name": "stdout",
     "output_type": "stream",
     "text": [
      "Data type of  Primary Genre column is:  object\n",
      "Primary Genre column has  121 unique Primary Genre\n"
     ]
    }
   ],
   "source": [
    "CheckListOfCategoriesColumn(X_train, 'Primary Genre')"
   ]
  },
  {
   "cell_type": "markdown",
   "id": "59ed3894",
   "metadata": {
    "id": "59ed3894"
   },
   "source": [
    "## \n",
    "**Dates**\n",
    "- Convert to date time data type"
   ]
  },
  {
   "cell_type": "code",
   "execution_count": 38,
   "id": "ecfdbd17",
   "metadata": {
    "ExecuteTime": {
     "end_time": "2023-04-26T21:28:57.372556Z",
     "start_time": "2023-04-26T21:28:57.338091Z"
    },
    "id": "ecfdbd17"
   },
   "outputs": [
    {
     "name": "stderr",
     "output_type": "stream",
     "text": [
      "/Users/ahmedhafez/opt/anaconda3/lib/python3.9/site-packages/pandas/core/dtypes/cast.py:1163: UserWarning: Parsing '18/03/2018' in DD/MM/YYYY format. Provide format or specify infer_datetime_format=True for consistent parsing.\n",
      "  to_datetime(arr).values,\n",
      "/Users/ahmedhafez/opt/anaconda3/lib/python3.9/site-packages/pandas/core/dtypes/cast.py:1163: UserWarning: Parsing '24/05/2016' in DD/MM/YYYY format. Provide format or specify infer_datetime_format=True for consistent parsing.\n",
      "  to_datetime(arr).values,\n",
      "/Users/ahmedhafez/opt/anaconda3/lib/python3.9/site-packages/pandas/core/dtypes/cast.py:1163: UserWarning: Parsing '23/06/2017' in DD/MM/YYYY format. Provide format or specify infer_datetime_format=True for consistent parsing.\n",
      "  to_datetime(arr).values,\n",
      "/Users/ahmedhafez/opt/anaconda3/lib/python3.9/site-packages/pandas/core/dtypes/cast.py:1163: UserWarning: Parsing '25/11/2009' in DD/MM/YYYY format. Provide format or specify infer_datetime_format=True for consistent parsing.\n",
      "  to_datetime(arr).values,\n",
      "/Users/ahmedhafez/opt/anaconda3/lib/python3.9/site-packages/pandas/core/dtypes/cast.py:1163: UserWarning: Parsing '22/12/2017' in DD/MM/YYYY format. Provide format or specify infer_datetime_format=True for consistent parsing.\n",
      "  to_datetime(arr).values,\n",
      "/Users/ahmedhafez/opt/anaconda3/lib/python3.9/site-packages/pandas/core/dtypes/cast.py:1163: UserWarning: Parsing '23/08/2017' in DD/MM/YYYY format. Provide format or specify infer_datetime_format=True for consistent parsing.\n",
      "  to_datetime(arr).values,\n",
      "/Users/ahmedhafez/opt/anaconda3/lib/python3.9/site-packages/pandas/core/dtypes/cast.py:1163: UserWarning: Parsing '25/11/2013' in DD/MM/YYYY format. Provide format or specify infer_datetime_format=True for consistent parsing.\n",
      "  to_datetime(arr).values,\n",
      "/Users/ahmedhafez/opt/anaconda3/lib/python3.9/site-packages/pandas/core/dtypes/cast.py:1163: UserWarning: Parsing '29/08/2018' in DD/MM/YYYY format. Provide format or specify infer_datetime_format=True for consistent parsing.\n",
      "  to_datetime(arr).values,\n",
      "/Users/ahmedhafez/opt/anaconda3/lib/python3.9/site-packages/pandas/core/dtypes/cast.py:1163: UserWarning: Parsing '14/05/2015' in DD/MM/YYYY format. Provide format or specify infer_datetime_format=True for consistent parsing.\n",
      "  to_datetime(arr).values,\n",
      "/Users/ahmedhafez/opt/anaconda3/lib/python3.9/site-packages/pandas/core/dtypes/cast.py:1163: UserWarning: Parsing '25/04/2012' in DD/MM/YYYY format. Provide format or specify infer_datetime_format=True for consistent parsing.\n",
      "  to_datetime(arr).values,\n",
      "/Users/ahmedhafez/opt/anaconda3/lib/python3.9/site-packages/pandas/core/dtypes/cast.py:1163: UserWarning: Parsing '18/10/2017' in DD/MM/YYYY format. Provide format or specify infer_datetime_format=True for consistent parsing.\n",
      "  to_datetime(arr).values,\n",
      "/Users/ahmedhafez/opt/anaconda3/lib/python3.9/site-packages/pandas/core/dtypes/cast.py:1163: UserWarning: Parsing '14/09/2014' in DD/MM/YYYY format. Provide format or specify infer_datetime_format=True for consistent parsing.\n",
      "  to_datetime(arr).values,\n",
      "/Users/ahmedhafez/opt/anaconda3/lib/python3.9/site-packages/pandas/core/dtypes/cast.py:1163: UserWarning: Parsing '23/02/2016' in DD/MM/YYYY format. Provide format or specify infer_datetime_format=True for consistent parsing.\n",
      "  to_datetime(arr).values,\n",
      "/Users/ahmedhafez/opt/anaconda3/lib/python3.9/site-packages/pandas/core/dtypes/cast.py:1163: UserWarning: Parsing '13/09/2017' in DD/MM/YYYY format. Provide format or specify infer_datetime_format=True for consistent parsing.\n",
      "  to_datetime(arr).values,\n",
      "/Users/ahmedhafez/opt/anaconda3/lib/python3.9/site-packages/pandas/core/dtypes/cast.py:1163: UserWarning: Parsing '20/12/2018' in DD/MM/YYYY format. Provide format or specify infer_datetime_format=True for consistent parsing.\n",
      "  to_datetime(arr).values,\n",
      "/Users/ahmedhafez/opt/anaconda3/lib/python3.9/site-packages/pandas/core/dtypes/cast.py:1163: UserWarning: Parsing '17/08/2017' in DD/MM/YYYY format. Provide format or specify infer_datetime_format=True for consistent parsing.\n",
      "  to_datetime(arr).values,\n",
      "/Users/ahmedhafez/opt/anaconda3/lib/python3.9/site-packages/pandas/core/dtypes/cast.py:1163: UserWarning: Parsing '21/03/2015' in DD/MM/YYYY format. Provide format or specify infer_datetime_format=True for consistent parsing.\n",
      "  to_datetime(arr).values,\n",
      "/Users/ahmedhafez/opt/anaconda3/lib/python3.9/site-packages/pandas/core/dtypes/cast.py:1163: UserWarning: Parsing '19/11/2015' in DD/MM/YYYY format. Provide format or specify infer_datetime_format=True for consistent parsing.\n",
      "  to_datetime(arr).values,\n",
      "/Users/ahmedhafez/opt/anaconda3/lib/python3.9/site-packages/pandas/core/dtypes/cast.py:1163: UserWarning: Parsing '31/03/2016' in DD/MM/YYYY format. Provide format or specify infer_datetime_format=True for consistent parsing.\n",
      "  to_datetime(arr).values,\n",
      "/Users/ahmedhafez/opt/anaconda3/lib/python3.9/site-packages/pandas/core/dtypes/cast.py:1163: UserWarning: Parsing '28/09/2016' in DD/MM/YYYY format. Provide format or specify infer_datetime_format=True for consistent parsing.\n",
      "  to_datetime(arr).values,\n",
      "/Users/ahmedhafez/opt/anaconda3/lib/python3.9/site-packages/pandas/core/dtypes/cast.py:1163: UserWarning: Parsing '31/03/2017' in DD/MM/YYYY format. Provide format or specify infer_datetime_format=True for consistent parsing.\n",
      "  to_datetime(arr).values,\n",
      "/Users/ahmedhafez/opt/anaconda3/lib/python3.9/site-packages/pandas/core/dtypes/cast.py:1163: UserWarning: Parsing '26/07/2017' in DD/MM/YYYY format. Provide format or specify infer_datetime_format=True for consistent parsing.\n",
      "  to_datetime(arr).values,\n",
      "/Users/ahmedhafez/opt/anaconda3/lib/python3.9/site-packages/pandas/core/dtypes/cast.py:1163: UserWarning: Parsing '19/09/2015' in DD/MM/YYYY format. Provide format or specify infer_datetime_format=True for consistent parsing.\n",
      "  to_datetime(arr).values,\n",
      "/Users/ahmedhafez/opt/anaconda3/lib/python3.9/site-packages/pandas/core/dtypes/cast.py:1163: UserWarning: Parsing '13/12/2017' in DD/MM/YYYY format. Provide format or specify infer_datetime_format=True for consistent parsing.\n",
      "  to_datetime(arr).values,\n",
      "/Users/ahmedhafez/opt/anaconda3/lib/python3.9/site-packages/pandas/core/dtypes/cast.py:1163: UserWarning: Parsing '29/11/2017' in DD/MM/YYYY format. Provide format or specify infer_datetime_format=True for consistent parsing.\n",
      "  to_datetime(arr).values,\n",
      "/Users/ahmedhafez/opt/anaconda3/lib/python3.9/site-packages/pandas/core/dtypes/cast.py:1163: UserWarning: Parsing '31/12/2017' in DD/MM/YYYY format. Provide format or specify infer_datetime_format=True for consistent parsing.\n",
      "  to_datetime(arr).values,\n",
      "/Users/ahmedhafez/opt/anaconda3/lib/python3.9/site-packages/pandas/core/dtypes/cast.py:1163: UserWarning: Parsing '28/11/2009' in DD/MM/YYYY format. Provide format or specify infer_datetime_format=True for consistent parsing.\n",
      "  to_datetime(arr).values,\n",
      "/Users/ahmedhafez/opt/anaconda3/lib/python3.9/site-packages/pandas/core/dtypes/cast.py:1163: UserWarning: Parsing '19/11/2014' in DD/MM/YYYY format. Provide format or specify infer_datetime_format=True for consistent parsing.\n",
      "  to_datetime(arr).values,\n",
      "/Users/ahmedhafez/opt/anaconda3/lib/python3.9/site-packages/pandas/core/dtypes/cast.py:1163: UserWarning: Parsing '18/10/2012' in DD/MM/YYYY format. Provide format or specify infer_datetime_format=True for consistent parsing.\n",
      "  to_datetime(arr).values,\n",
      "/Users/ahmedhafez/opt/anaconda3/lib/python3.9/site-packages/pandas/core/dtypes/cast.py:1163: UserWarning: Parsing '17/02/2012' in DD/MM/YYYY format. Provide format or specify infer_datetime_format=True for consistent parsing.\n",
      "  to_datetime(arr).values,\n",
      "/Users/ahmedhafez/opt/anaconda3/lib/python3.9/site-packages/pandas/core/dtypes/cast.py:1163: UserWarning: Parsing '30/11/2017' in DD/MM/YYYY format. Provide format or specify infer_datetime_format=True for consistent parsing.\n",
      "  to_datetime(arr).values,\n",
      "/Users/ahmedhafez/opt/anaconda3/lib/python3.9/site-packages/pandas/core/dtypes/cast.py:1163: UserWarning: Parsing '13/04/2011' in DD/MM/YYYY format. Provide format or specify infer_datetime_format=True for consistent parsing.\n",
      "  to_datetime(arr).values,\n",
      "/Users/ahmedhafez/opt/anaconda3/lib/python3.9/site-packages/pandas/core/dtypes/cast.py:1163: UserWarning: Parsing '21/02/2017' in DD/MM/YYYY format. Provide format or specify infer_datetime_format=True for consistent parsing.\n",
      "  to_datetime(arr).values,\n",
      "/Users/ahmedhafez/opt/anaconda3/lib/python3.9/site-packages/pandas/core/dtypes/cast.py:1163: UserWarning: Parsing '19/10/2015' in DD/MM/YYYY format. Provide format or specify infer_datetime_format=True for consistent parsing.\n",
      "  to_datetime(arr).values,\n",
      "/Users/ahmedhafez/opt/anaconda3/lib/python3.9/site-packages/pandas/core/dtypes/cast.py:1163: UserWarning: Parsing '23/05/2017' in DD/MM/YYYY format. Provide format or specify infer_datetime_format=True for consistent parsing.\n",
      "  to_datetime(arr).values,\n",
      "/Users/ahmedhafez/opt/anaconda3/lib/python3.9/site-packages/pandas/core/dtypes/cast.py:1163: UserWarning: Parsing '19/10/2017' in DD/MM/YYYY format. Provide format or specify infer_datetime_format=True for consistent parsing.\n",
      "  to_datetime(arr).values,\n",
      "/Users/ahmedhafez/opt/anaconda3/lib/python3.9/site-packages/pandas/core/dtypes/cast.py:1163: UserWarning: Parsing '20/10/2011' in DD/MM/YYYY format. Provide format or specify infer_datetime_format=True for consistent parsing.\n",
      "  to_datetime(arr).values,\n",
      "/Users/ahmedhafez/opt/anaconda3/lib/python3.9/site-packages/pandas/core/dtypes/cast.py:1163: UserWarning: Parsing '28/06/2017' in DD/MM/YYYY format. Provide format or specify infer_datetime_format=True for consistent parsing.\n",
      "  to_datetime(arr).values,\n",
      "/Users/ahmedhafez/opt/anaconda3/lib/python3.9/site-packages/pandas/core/dtypes/cast.py:1163: UserWarning: Parsing '28/05/2015' in DD/MM/YYYY format. Provide format or specify infer_datetime_format=True for consistent parsing.\n",
      "  to_datetime(arr).values,\n",
      "/Users/ahmedhafez/opt/anaconda3/lib/python3.9/site-packages/pandas/core/dtypes/cast.py:1163: UserWarning: Parsing '19/03/2018' in DD/MM/YYYY format. Provide format or specify infer_datetime_format=True for consistent parsing.\n",
      "  to_datetime(arr).values,\n",
      "/Users/ahmedhafez/opt/anaconda3/lib/python3.9/site-packages/pandas/core/dtypes/cast.py:1163: UserWarning: Parsing '15/11/2017' in DD/MM/YYYY format. Provide format or specify infer_datetime_format=True for consistent parsing.\n",
      "  to_datetime(arr).values,\n",
      "/Users/ahmedhafez/opt/anaconda3/lib/python3.9/site-packages/pandas/core/dtypes/cast.py:1163: UserWarning: Parsing '23/09/2015' in DD/MM/YYYY format. Provide format or specify infer_datetime_format=True for consistent parsing.\n",
      "  to_datetime(arr).values,\n",
      "/Users/ahmedhafez/opt/anaconda3/lib/python3.9/site-packages/pandas/core/dtypes/cast.py:1163: UserWarning: Parsing '16/02/2014' in DD/MM/YYYY format. Provide format or specify infer_datetime_format=True for consistent parsing.\n",
      "  to_datetime(arr).values,\n",
      "/Users/ahmedhafez/opt/anaconda3/lib/python3.9/site-packages/pandas/core/dtypes/cast.py:1163: UserWarning: Parsing '19/08/2011' in DD/MM/YYYY format. Provide format or specify infer_datetime_format=True for consistent parsing.\n",
      "  to_datetime(arr).values,\n",
      "/Users/ahmedhafez/opt/anaconda3/lib/python3.9/site-packages/pandas/core/dtypes/cast.py:1163: UserWarning: Parsing '30/08/2017' in DD/MM/YYYY format. Provide format or specify infer_datetime_format=True for consistent parsing.\n",
      "  to_datetime(arr).values,\n",
      "/Users/ahmedhafez/opt/anaconda3/lib/python3.9/site-packages/pandas/core/dtypes/cast.py:1163: UserWarning: Parsing '26/10/2017' in DD/MM/YYYY format. Provide format or specify infer_datetime_format=True for consistent parsing.\n",
      "  to_datetime(arr).values,\n",
      "/Users/ahmedhafez/opt/anaconda3/lib/python3.9/site-packages/pandas/core/dtypes/cast.py:1163: UserWarning: Parsing '24/07/2017' in DD/MM/YYYY format. Provide format or specify infer_datetime_format=True for consistent parsing.\n",
      "  to_datetime(arr).values,\n",
      "/Users/ahmedhafez/opt/anaconda3/lib/python3.9/site-packages/pandas/core/dtypes/cast.py:1163: UserWarning: Parsing '21/12/2014' in DD/MM/YYYY format. Provide format or specify infer_datetime_format=True for consistent parsing.\n",
      "  to_datetime(arr).values,\n",
      "/Users/ahmedhafez/opt/anaconda3/lib/python3.9/site-packages/pandas/core/dtypes/cast.py:1163: UserWarning: Parsing '27/07/2017' in DD/MM/YYYY format. Provide format or specify infer_datetime_format=True for consistent parsing.\n",
      "  to_datetime(arr).values,\n",
      "/Users/ahmedhafez/opt/anaconda3/lib/python3.9/site-packages/pandas/core/dtypes/cast.py:1163: UserWarning: Parsing '22/02/2016' in DD/MM/YYYY format. Provide format or specify infer_datetime_format=True for consistent parsing.\n",
      "  to_datetime(arr).values,\n",
      "/Users/ahmedhafez/opt/anaconda3/lib/python3.9/site-packages/pandas/core/dtypes/cast.py:1163: UserWarning: Parsing '25/08/2014' in DD/MM/YYYY format. Provide format or specify infer_datetime_format=True for consistent parsing.\n",
      "  to_datetime(arr).values,\n",
      "/Users/ahmedhafez/opt/anaconda3/lib/python3.9/site-packages/pandas/core/dtypes/cast.py:1163: UserWarning: Parsing '14/02/2018' in DD/MM/YYYY format. Provide format or specify infer_datetime_format=True for consistent parsing.\n",
      "  to_datetime(arr).values,\n",
      "/Users/ahmedhafez/opt/anaconda3/lib/python3.9/site-packages/pandas/core/dtypes/cast.py:1163: UserWarning: Parsing '20/01/2015' in DD/MM/YYYY format. Provide format or specify infer_datetime_format=True for consistent parsing.\n",
      "  to_datetime(arr).values,\n",
      "/Users/ahmedhafez/opt/anaconda3/lib/python3.9/site-packages/pandas/core/dtypes/cast.py:1163: UserWarning: Parsing '18/02/2016' in DD/MM/YYYY format. Provide format or specify infer_datetime_format=True for consistent parsing.\n",
      "  to_datetime(arr).values,\n",
      "/Users/ahmedhafez/opt/anaconda3/lib/python3.9/site-packages/pandas/core/dtypes/cast.py:1163: UserWarning: Parsing '17/12/2018' in DD/MM/YYYY format. Provide format or specify infer_datetime_format=True for consistent parsing.\n",
      "  to_datetime(arr).values,\n",
      "/Users/ahmedhafez/opt/anaconda3/lib/python3.9/site-packages/pandas/core/dtypes/cast.py:1163: UserWarning: Parsing '24/03/2016' in DD/MM/YYYY format. Provide format or specify infer_datetime_format=True for consistent parsing.\n",
      "  to_datetime(arr).values,\n",
      "/Users/ahmedhafez/opt/anaconda3/lib/python3.9/site-packages/pandas/core/dtypes/cast.py:1163: UserWarning: Parsing '17/11/2015' in DD/MM/YYYY format. Provide format or specify infer_datetime_format=True for consistent parsing.\n",
      "  to_datetime(arr).values,\n",
      "/Users/ahmedhafez/opt/anaconda3/lib/python3.9/site-packages/pandas/core/dtypes/cast.py:1163: UserWarning: Parsing '22/06/2017' in DD/MM/YYYY format. Provide format or specify infer_datetime_format=True for consistent parsing.\n",
      "  to_datetime(arr).values,\n",
      "/Users/ahmedhafez/opt/anaconda3/lib/python3.9/site-packages/pandas/core/dtypes/cast.py:1163: UserWarning: Parsing '20/01/2018' in DD/MM/YYYY format. Provide format or specify infer_datetime_format=True for consistent parsing.\n",
      "  to_datetime(arr).values,\n",
      "/Users/ahmedhafez/opt/anaconda3/lib/python3.9/site-packages/pandas/core/dtypes/cast.py:1163: UserWarning: Parsing '22/08/2015' in DD/MM/YYYY format. Provide format or specify infer_datetime_format=True for consistent parsing.\n",
      "  to_datetime(arr).values,\n",
      "/Users/ahmedhafez/opt/anaconda3/lib/python3.9/site-packages/pandas/core/dtypes/cast.py:1163: UserWarning: Parsing '28/04/2016' in DD/MM/YYYY format. Provide format or specify infer_datetime_format=True for consistent parsing.\n",
      "  to_datetime(arr).values,\n",
      "/Users/ahmedhafez/opt/anaconda3/lib/python3.9/site-packages/pandas/core/dtypes/cast.py:1163: UserWarning: Parsing '26/01/2016' in DD/MM/YYYY format. Provide format or specify infer_datetime_format=True for consistent parsing.\n",
      "  to_datetime(arr).values,\n",
      "/Users/ahmedhafez/opt/anaconda3/lib/python3.9/site-packages/pandas/core/dtypes/cast.py:1163: UserWarning: Parsing '20/09/2018' in DD/MM/YYYY format. Provide format or specify infer_datetime_format=True for consistent parsing.\n",
      "  to_datetime(arr).values,\n",
      "/Users/ahmedhafez/opt/anaconda3/lib/python3.9/site-packages/pandas/core/dtypes/cast.py:1163: UserWarning: Parsing '19/08/2017' in DD/MM/YYYY format. Provide format or specify infer_datetime_format=True for consistent parsing.\n",
      "  to_datetime(arr).values,\n",
      "/Users/ahmedhafez/opt/anaconda3/lib/python3.9/site-packages/pandas/core/dtypes/cast.py:1163: UserWarning: Parsing '27/03/2018' in DD/MM/YYYY format. Provide format or specify infer_datetime_format=True for consistent parsing.\n",
      "  to_datetime(arr).values,\n",
      "/Users/ahmedhafez/opt/anaconda3/lib/python3.9/site-packages/pandas/core/dtypes/cast.py:1163: UserWarning: Parsing '30/07/2008' in DD/MM/YYYY format. Provide format or specify infer_datetime_format=True for consistent parsing.\n",
      "  to_datetime(arr).values,\n",
      "/Users/ahmedhafez/opt/anaconda3/lib/python3.9/site-packages/pandas/core/dtypes/cast.py:1163: UserWarning: Parsing '23/07/2016' in DD/MM/YYYY format. Provide format or specify infer_datetime_format=True for consistent parsing.\n",
      "  to_datetime(arr).values,\n",
      "/Users/ahmedhafez/opt/anaconda3/lib/python3.9/site-packages/pandas/core/dtypes/cast.py:1163: UserWarning: Parsing '17/10/2015' in DD/MM/YYYY format. Provide format or specify infer_datetime_format=True for consistent parsing.\n",
      "  to_datetime(arr).values,\n",
      "/Users/ahmedhafez/opt/anaconda3/lib/python3.9/site-packages/pandas/core/dtypes/cast.py:1163: UserWarning: Parsing '21/06/2012' in DD/MM/YYYY format. Provide format or specify infer_datetime_format=True for consistent parsing.\n",
      "  to_datetime(arr).values,\n",
      "/Users/ahmedhafez/opt/anaconda3/lib/python3.9/site-packages/pandas/core/dtypes/cast.py:1163: UserWarning: Parsing '20/01/2014' in DD/MM/YYYY format. Provide format or specify infer_datetime_format=True for consistent parsing.\n",
      "  to_datetime(arr).values,\n",
      "/Users/ahmedhafez/opt/anaconda3/lib/python3.9/site-packages/pandas/core/dtypes/cast.py:1163: UserWarning: Parsing '31/01/2013' in DD/MM/YYYY format. Provide format or specify infer_datetime_format=True for consistent parsing.\n",
      "  to_datetime(arr).values,\n",
      "/Users/ahmedhafez/opt/anaconda3/lib/python3.9/site-packages/pandas/core/dtypes/cast.py:1163: UserWarning: Parsing '17/10/2013' in DD/MM/YYYY format. Provide format or specify infer_datetime_format=True for consistent parsing.\n",
      "  to_datetime(arr).values,\n",
      "/Users/ahmedhafez/opt/anaconda3/lib/python3.9/site-packages/pandas/core/dtypes/cast.py:1163: UserWarning: Parsing '29/11/2018' in DD/MM/YYYY format. Provide format or specify infer_datetime_format=True for consistent parsing.\n",
      "  to_datetime(arr).values,\n",
      "/Users/ahmedhafez/opt/anaconda3/lib/python3.9/site-packages/pandas/core/dtypes/cast.py:1163: UserWarning: Parsing '22/04/2018' in DD/MM/YYYY format. Provide format or specify infer_datetime_format=True for consistent parsing.\n",
      "  to_datetime(arr).values,\n",
      "/Users/ahmedhafez/opt/anaconda3/lib/python3.9/site-packages/pandas/core/dtypes/cast.py:1163: UserWarning: Parsing '14/09/2012' in DD/MM/YYYY format. Provide format or specify infer_datetime_format=True for consistent parsing.\n",
      "  to_datetime(arr).values,\n",
      "/Users/ahmedhafez/opt/anaconda3/lib/python3.9/site-packages/pandas/core/dtypes/cast.py:1163: UserWarning: Parsing '24/09/2017' in DD/MM/YYYY format. Provide format or specify infer_datetime_format=True for consistent parsing.\n",
      "  to_datetime(arr).values,\n",
      "/Users/ahmedhafez/opt/anaconda3/lib/python3.9/site-packages/pandas/core/dtypes/cast.py:1163: UserWarning: Parsing '16/12/2011' in DD/MM/YYYY format. Provide format or specify infer_datetime_format=True for consistent parsing.\n",
      "  to_datetime(arr).values,\n",
      "/Users/ahmedhafez/opt/anaconda3/lib/python3.9/site-packages/pandas/core/dtypes/cast.py:1163: UserWarning: Parsing '21/12/2017' in DD/MM/YYYY format. Provide format or specify infer_datetime_format=True for consistent parsing.\n",
      "  to_datetime(arr).values,\n",
      "/Users/ahmedhafez/opt/anaconda3/lib/python3.9/site-packages/pandas/core/dtypes/cast.py:1163: UserWarning: Parsing '26/04/2017' in DD/MM/YYYY format. Provide format or specify infer_datetime_format=True for consistent parsing.\n",
      "  to_datetime(arr).values,\n",
      "/Users/ahmedhafez/opt/anaconda3/lib/python3.9/site-packages/pandas/core/dtypes/cast.py:1163: UserWarning: Parsing '25/10/2009' in DD/MM/YYYY format. Provide format or specify infer_datetime_format=True for consistent parsing.\n",
      "  to_datetime(arr).values,\n",
      "/Users/ahmedhafez/opt/anaconda3/lib/python3.9/site-packages/pandas/core/dtypes/cast.py:1163: UserWarning: Parsing '18/05/2017' in DD/MM/YYYY format. Provide format or specify infer_datetime_format=True for consistent parsing.\n",
      "  to_datetime(arr).values,\n",
      "/Users/ahmedhafez/opt/anaconda3/lib/python3.9/site-packages/pandas/core/dtypes/cast.py:1163: UserWarning: Parsing '25/01/2019' in DD/MM/YYYY format. Provide format or specify infer_datetime_format=True for consistent parsing.\n",
      "  to_datetime(arr).values,\n",
      "/Users/ahmedhafez/opt/anaconda3/lib/python3.9/site-packages/pandas/core/dtypes/cast.py:1163: UserWarning: Parsing '15/02/2013' in DD/MM/YYYY format. Provide format or specify infer_datetime_format=True for consistent parsing.\n",
      "  to_datetime(arr).values,\n",
      "/Users/ahmedhafez/opt/anaconda3/lib/python3.9/site-packages/pandas/core/dtypes/cast.py:1163: UserWarning: Parsing '26/08/2018' in DD/MM/YYYY format. Provide format or specify infer_datetime_format=True for consistent parsing.\n",
      "  to_datetime(arr).values,\n",
      "/Users/ahmedhafez/opt/anaconda3/lib/python3.9/site-packages/pandas/core/dtypes/cast.py:1163: UserWarning: Parsing '18/01/2018' in DD/MM/YYYY format. Provide format or specify infer_datetime_format=True for consistent parsing.\n",
      "  to_datetime(arr).values,\n",
      "/Users/ahmedhafez/opt/anaconda3/lib/python3.9/site-packages/pandas/core/dtypes/cast.py:1163: UserWarning: Parsing '22/08/2017' in DD/MM/YYYY format. Provide format or specify infer_datetime_format=True for consistent parsing.\n",
      "  to_datetime(arr).values,\n",
      "/Users/ahmedhafez/opt/anaconda3/lib/python3.9/site-packages/pandas/core/dtypes/cast.py:1163: UserWarning: Parsing '18/09/2012' in DD/MM/YYYY format. Provide format or specify infer_datetime_format=True for consistent parsing.\n",
      "  to_datetime(arr).values,\n",
      "/Users/ahmedhafez/opt/anaconda3/lib/python3.9/site-packages/pandas/core/dtypes/cast.py:1163: UserWarning: Parsing '22/01/2015' in DD/MM/YYYY format. Provide format or specify infer_datetime_format=True for consistent parsing.\n",
      "  to_datetime(arr).values,\n",
      "/Users/ahmedhafez/opt/anaconda3/lib/python3.9/site-packages/pandas/core/dtypes/cast.py:1163: UserWarning: Parsing '16/04/2015' in DD/MM/YYYY format. Provide format or specify infer_datetime_format=True for consistent parsing.\n",
      "  to_datetime(arr).values,\n",
      "/Users/ahmedhafez/opt/anaconda3/lib/python3.9/site-packages/pandas/core/dtypes/cast.py:1163: UserWarning: Parsing '21/03/2019' in DD/MM/YYYY format. Provide format or specify infer_datetime_format=True for consistent parsing.\n",
      "  to_datetime(arr).values,\n",
      "/Users/ahmedhafez/opt/anaconda3/lib/python3.9/site-packages/pandas/core/dtypes/cast.py:1163: UserWarning: Parsing '15/08/2017' in DD/MM/YYYY format. Provide format or specify infer_datetime_format=True for consistent parsing.\n",
      "  to_datetime(arr).values,\n",
      "/Users/ahmedhafez/opt/anaconda3/lib/python3.9/site-packages/pandas/core/dtypes/cast.py:1163: UserWarning: Parsing '19/02/2015' in DD/MM/YYYY format. Provide format or specify infer_datetime_format=True for consistent parsing.\n",
      "  to_datetime(arr).values,\n",
      "/Users/ahmedhafez/opt/anaconda3/lib/python3.9/site-packages/pandas/core/dtypes/cast.py:1163: UserWarning: Parsing '29/01/2019' in DD/MM/YYYY format. Provide format or specify infer_datetime_format=True for consistent parsing.\n",
      "  to_datetime(arr).values,\n",
      "/Users/ahmedhafez/opt/anaconda3/lib/python3.9/site-packages/pandas/core/dtypes/cast.py:1163: UserWarning: Parsing '18/07/2016' in DD/MM/YYYY format. Provide format or specify infer_datetime_format=True for consistent parsing.\n",
      "  to_datetime(arr).values,\n",
      "/Users/ahmedhafez/opt/anaconda3/lib/python3.9/site-packages/pandas/core/dtypes/cast.py:1163: UserWarning: Parsing '29/09/2010' in DD/MM/YYYY format. Provide format or specify infer_datetime_format=True for consistent parsing.\n",
      "  to_datetime(arr).values,\n",
      "/Users/ahmedhafez/opt/anaconda3/lib/python3.9/site-packages/pandas/core/dtypes/cast.py:1163: UserWarning: Parsing '26/03/2014' in DD/MM/YYYY format. Provide format or specify infer_datetime_format=True for consistent parsing.\n",
      "  to_datetime(arr).values,\n",
      "/Users/ahmedhafez/opt/anaconda3/lib/python3.9/site-packages/pandas/core/dtypes/cast.py:1163: UserWarning: Parsing '16/05/2012' in DD/MM/YYYY format. Provide format or specify infer_datetime_format=True for consistent parsing.\n",
      "  to_datetime(arr).values,\n",
      "/Users/ahmedhafez/opt/anaconda3/lib/python3.9/site-packages/pandas/core/dtypes/cast.py:1163: UserWarning: Parsing '21/09/2014' in DD/MM/YYYY format. Provide format or specify infer_datetime_format=True for consistent parsing.\n",
      "  to_datetime(arr).values,\n",
      "/Users/ahmedhafez/opt/anaconda3/lib/python3.9/site-packages/pandas/core/dtypes/cast.py:1163: UserWarning: Parsing '28/06/2014' in DD/MM/YYYY format. Provide format or specify infer_datetime_format=True for consistent parsing.\n",
      "  to_datetime(arr).values,\n",
      "/Users/ahmedhafez/opt/anaconda3/lib/python3.9/site-packages/pandas/core/dtypes/cast.py:1163: UserWarning: Parsing '25/09/2012' in DD/MM/YYYY format. Provide format or specify infer_datetime_format=True for consistent parsing.\n",
      "  to_datetime(arr).values,\n",
      "/Users/ahmedhafez/opt/anaconda3/lib/python3.9/site-packages/pandas/core/dtypes/cast.py:1163: UserWarning: Parsing '13/11/2017' in DD/MM/YYYY format. Provide format or specify infer_datetime_format=True for consistent parsing.\n",
      "  to_datetime(arr).values,\n",
      "/Users/ahmedhafez/opt/anaconda3/lib/python3.9/site-packages/pandas/core/dtypes/cast.py:1163: UserWarning: Parsing '17/03/2017' in DD/MM/YYYY format. Provide format or specify infer_datetime_format=True for consistent parsing.\n",
      "  to_datetime(arr).values,\n",
      "/Users/ahmedhafez/opt/anaconda3/lib/python3.9/site-packages/pandas/core/dtypes/cast.py:1163: UserWarning: Parsing '26/12/2015' in DD/MM/YYYY format. Provide format or specify infer_datetime_format=True for consistent parsing.\n",
      "  to_datetime(arr).values,\n",
      "/Users/ahmedhafez/opt/anaconda3/lib/python3.9/site-packages/pandas/core/dtypes/cast.py:1163: UserWarning: Parsing '26/05/2012' in DD/MM/YYYY format. Provide format or specify infer_datetime_format=True for consistent parsing.\n",
      "  to_datetime(arr).values,\n",
      "/Users/ahmedhafez/opt/anaconda3/lib/python3.9/site-packages/pandas/core/dtypes/cast.py:1163: UserWarning: Parsing '25/01/2017' in DD/MM/YYYY format. Provide format or specify infer_datetime_format=True for consistent parsing.\n",
      "  to_datetime(arr).values,\n",
      "/Users/ahmedhafez/opt/anaconda3/lib/python3.9/site-packages/pandas/core/dtypes/cast.py:1163: UserWarning: Parsing '29/09/2018' in DD/MM/YYYY format. Provide format or specify infer_datetime_format=True for consistent parsing.\n",
      "  to_datetime(arr).values,\n",
      "/Users/ahmedhafez/opt/anaconda3/lib/python3.9/site-packages/pandas/core/dtypes/cast.py:1163: UserWarning: Parsing '17/07/2017' in DD/MM/YYYY format. Provide format or specify infer_datetime_format=True for consistent parsing.\n",
      "  to_datetime(arr).values,\n",
      "/Users/ahmedhafez/opt/anaconda3/lib/python3.9/site-packages/pandas/core/dtypes/cast.py:1163: UserWarning: Parsing '18/10/2018' in DD/MM/YYYY format. Provide format or specify infer_datetime_format=True for consistent parsing.\n",
      "  to_datetime(arr).values,\n",
      "/Users/ahmedhafez/opt/anaconda3/lib/python3.9/site-packages/pandas/core/dtypes/cast.py:1163: UserWarning: Parsing '19/08/2010' in DD/MM/YYYY format. Provide format or specify infer_datetime_format=True for consistent parsing.\n",
      "  to_datetime(arr).values,\n",
      "/Users/ahmedhafez/opt/anaconda3/lib/python3.9/site-packages/pandas/core/dtypes/cast.py:1163: UserWarning: Parsing '13/12/2012' in DD/MM/YYYY format. Provide format or specify infer_datetime_format=True for consistent parsing.\n",
      "  to_datetime(arr).values,\n",
      "/Users/ahmedhafez/opt/anaconda3/lib/python3.9/site-packages/pandas/core/dtypes/cast.py:1163: UserWarning: Parsing '30/09/2011' in DD/MM/YYYY format. Provide format or specify infer_datetime_format=True for consistent parsing.\n",
      "  to_datetime(arr).values,\n",
      "/Users/ahmedhafez/opt/anaconda3/lib/python3.9/site-packages/pandas/core/dtypes/cast.py:1163: UserWarning: Parsing '26/09/2013' in DD/MM/YYYY format. Provide format or specify infer_datetime_format=True for consistent parsing.\n",
      "  to_datetime(arr).values,\n",
      "/Users/ahmedhafez/opt/anaconda3/lib/python3.9/site-packages/pandas/core/dtypes/cast.py:1163: UserWarning: Parsing '31/08/2016' in DD/MM/YYYY format. Provide format or specify infer_datetime_format=True for consistent parsing.\n",
      "  to_datetime(arr).values,\n",
      "/Users/ahmedhafez/opt/anaconda3/lib/python3.9/site-packages/pandas/core/dtypes/cast.py:1163: UserWarning: Parsing '26/04/2014' in DD/MM/YYYY format. Provide format or specify infer_datetime_format=True for consistent parsing.\n",
      "  to_datetime(arr).values,\n",
      "/Users/ahmedhafez/opt/anaconda3/lib/python3.9/site-packages/pandas/core/dtypes/cast.py:1163: UserWarning: Parsing '16/05/2017' in DD/MM/YYYY format. Provide format or specify infer_datetime_format=True for consistent parsing.\n",
      "  to_datetime(arr).values,\n",
      "/Users/ahmedhafez/opt/anaconda3/lib/python3.9/site-packages/pandas/core/dtypes/cast.py:1163: UserWarning: Parsing '19/05/2016' in DD/MM/YYYY format. Provide format or specify infer_datetime_format=True for consistent parsing.\n",
      "  to_datetime(arr).values,\n",
      "/Users/ahmedhafez/opt/anaconda3/lib/python3.9/site-packages/pandas/core/dtypes/cast.py:1163: UserWarning: Parsing '18/04/2017' in DD/MM/YYYY format. Provide format or specify infer_datetime_format=True for consistent parsing.\n",
      "  to_datetime(arr).values,\n",
      "/Users/ahmedhafez/opt/anaconda3/lib/python3.9/site-packages/pandas/core/dtypes/cast.py:1163: UserWarning: Parsing '16/05/2018' in DD/MM/YYYY format. Provide format or specify infer_datetime_format=True for consistent parsing.\n",
      "  to_datetime(arr).values,\n",
      "/Users/ahmedhafez/opt/anaconda3/lib/python3.9/site-packages/pandas/core/dtypes/cast.py:1163: UserWarning: Parsing '14/08/2017' in DD/MM/YYYY format. Provide format or specify infer_datetime_format=True for consistent parsing.\n",
      "  to_datetime(arr).values,\n",
      "/Users/ahmedhafez/opt/anaconda3/lib/python3.9/site-packages/pandas/core/dtypes/cast.py:1163: UserWarning: Parsing '29/08/2017' in DD/MM/YYYY format. Provide format or specify infer_datetime_format=True for consistent parsing.\n",
      "  to_datetime(arr).values,\n",
      "/Users/ahmedhafez/opt/anaconda3/lib/python3.9/site-packages/pandas/core/dtypes/cast.py:1163: UserWarning: Parsing '14/03/2018' in DD/MM/YYYY format. Provide format or specify infer_datetime_format=True for consistent parsing.\n",
      "  to_datetime(arr).values,\n",
      "/Users/ahmedhafez/opt/anaconda3/lib/python3.9/site-packages/pandas/core/dtypes/cast.py:1163: UserWarning: Parsing '23/06/2015' in DD/MM/YYYY format. Provide format or specify infer_datetime_format=True for consistent parsing.\n",
      "  to_datetime(arr).values,\n",
      "/Users/ahmedhafez/opt/anaconda3/lib/python3.9/site-packages/pandas/core/dtypes/cast.py:1163: UserWarning: Parsing '25/04/2018' in DD/MM/YYYY format. Provide format or specify infer_datetime_format=True for consistent parsing.\n",
      "  to_datetime(arr).values,\n",
      "/Users/ahmedhafez/opt/anaconda3/lib/python3.9/site-packages/pandas/core/dtypes/cast.py:1163: UserWarning: Parsing '18/08/2015' in DD/MM/YYYY format. Provide format or specify infer_datetime_format=True for consistent parsing.\n",
      "  to_datetime(arr).values,\n",
      "/Users/ahmedhafez/opt/anaconda3/lib/python3.9/site-packages/pandas/core/dtypes/cast.py:1163: UserWarning: Parsing '21/06/2017' in DD/MM/YYYY format. Provide format or specify infer_datetime_format=True for consistent parsing.\n",
      "  to_datetime(arr).values,\n",
      "/Users/ahmedhafez/opt/anaconda3/lib/python3.9/site-packages/pandas/core/dtypes/cast.py:1163: UserWarning: Parsing '28/02/2018' in DD/MM/YYYY format. Provide format or specify infer_datetime_format=True for consistent parsing.\n",
      "  to_datetime(arr).values,\n",
      "/Users/ahmedhafez/opt/anaconda3/lib/python3.9/site-packages/pandas/core/dtypes/cast.py:1163: UserWarning: Parsing '25/05/2011' in DD/MM/YYYY format. Provide format or specify infer_datetime_format=True for consistent parsing.\n",
      "  to_datetime(arr).values,\n",
      "/Users/ahmedhafez/opt/anaconda3/lib/python3.9/site-packages/pandas/core/dtypes/cast.py:1163: UserWarning: Parsing '17/03/2016' in DD/MM/YYYY format. Provide format or specify infer_datetime_format=True for consistent parsing.\n",
      "  to_datetime(arr).values,\n",
      "/Users/ahmedhafez/opt/anaconda3/lib/python3.9/site-packages/pandas/core/dtypes/cast.py:1163: UserWarning: Parsing '25/10/2017' in DD/MM/YYYY format. Provide format or specify infer_datetime_format=True for consistent parsing.\n",
      "  to_datetime(arr).values,\n",
      "/Users/ahmedhafez/opt/anaconda3/lib/python3.9/site-packages/pandas/core/dtypes/cast.py:1163: UserWarning: Parsing '17/11/2014' in DD/MM/YYYY format. Provide format or specify infer_datetime_format=True for consistent parsing.\n",
      "  to_datetime(arr).values,\n",
      "/Users/ahmedhafez/opt/anaconda3/lib/python3.9/site-packages/pandas/core/dtypes/cast.py:1163: UserWarning: Parsing '13/08/2013' in DD/MM/YYYY format. Provide format or specify infer_datetime_format=True for consistent parsing.\n",
      "  to_datetime(arr).values,\n",
      "/Users/ahmedhafez/opt/anaconda3/lib/python3.9/site-packages/pandas/core/dtypes/cast.py:1163: UserWarning: Parsing '30/09/2014' in DD/MM/YYYY format. Provide format or specify infer_datetime_format=True for consistent parsing.\n",
      "  to_datetime(arr).values,\n",
      "/Users/ahmedhafez/opt/anaconda3/lib/python3.9/site-packages/pandas/core/dtypes/cast.py:1163: UserWarning: Parsing '15/02/2015' in DD/MM/YYYY format. Provide format or specify infer_datetime_format=True for consistent parsing.\n",
      "  to_datetime(arr).values,\n",
      "/Users/ahmedhafez/opt/anaconda3/lib/python3.9/site-packages/pandas/core/dtypes/cast.py:1163: UserWarning: Parsing '14/06/2017' in DD/MM/YYYY format. Provide format or specify infer_datetime_format=True for consistent parsing.\n",
      "  to_datetime(arr).values,\n",
      "/Users/ahmedhafez/opt/anaconda3/lib/python3.9/site-packages/pandas/core/dtypes/cast.py:1163: UserWarning: Parsing '13/11/2014' in DD/MM/YYYY format. Provide format or specify infer_datetime_format=True for consistent parsing.\n",
      "  to_datetime(arr).values,\n",
      "/Users/ahmedhafez/opt/anaconda3/lib/python3.9/site-packages/pandas/core/dtypes/cast.py:1163: UserWarning: Parsing '18/07/2015' in DD/MM/YYYY format. Provide format or specify infer_datetime_format=True for consistent parsing.\n",
      "  to_datetime(arr).values,\n",
      "/Users/ahmedhafez/opt/anaconda3/lib/python3.9/site-packages/pandas/core/dtypes/cast.py:1163: UserWarning: Parsing '17/07/2012' in DD/MM/YYYY format. Provide format or specify infer_datetime_format=True for consistent parsing.\n",
      "  to_datetime(arr).values,\n",
      "/Users/ahmedhafez/opt/anaconda3/lib/python3.9/site-packages/pandas/core/dtypes/cast.py:1163: UserWarning: Parsing '17/01/2019' in DD/MM/YYYY format. Provide format or specify infer_datetime_format=True for consistent parsing.\n",
      "  to_datetime(arr).values,\n",
      "/Users/ahmedhafez/opt/anaconda3/lib/python3.9/site-packages/pandas/core/dtypes/cast.py:1163: UserWarning: Parsing '17/02/2017' in DD/MM/YYYY format. Provide format or specify infer_datetime_format=True for consistent parsing.\n",
      "  to_datetime(arr).values,\n",
      "/Users/ahmedhafez/opt/anaconda3/lib/python3.9/site-packages/pandas/core/dtypes/cast.py:1163: UserWarning: Parsing '15/02/2016' in DD/MM/YYYY format. Provide format or specify infer_datetime_format=True for consistent parsing.\n",
      "  to_datetime(arr).values,\n",
      "/Users/ahmedhafez/opt/anaconda3/lib/python3.9/site-packages/pandas/core/dtypes/cast.py:1163: UserWarning: Parsing '19/07/2012' in DD/MM/YYYY format. Provide format or specify infer_datetime_format=True for consistent parsing.\n",
      "  to_datetime(arr).values,\n",
      "/Users/ahmedhafez/opt/anaconda3/lib/python3.9/site-packages/pandas/core/dtypes/cast.py:1163: UserWarning: Parsing '25/02/2014' in DD/MM/YYYY format. Provide format or specify infer_datetime_format=True for consistent parsing.\n",
      "  to_datetime(arr).values,\n",
      "/Users/ahmedhafez/opt/anaconda3/lib/python3.9/site-packages/pandas/core/dtypes/cast.py:1163: UserWarning: Parsing '18/09/2017' in DD/MM/YYYY format. Provide format or specify infer_datetime_format=True for consistent parsing.\n",
      "  to_datetime(arr).values,\n",
      "/Users/ahmedhafez/opt/anaconda3/lib/python3.9/site-packages/pandas/core/dtypes/cast.py:1163: UserWarning: Parsing '28/11/2017' in DD/MM/YYYY format. Provide format or specify infer_datetime_format=True for consistent parsing.\n",
      "  to_datetime(arr).values,\n",
      "/Users/ahmedhafez/opt/anaconda3/lib/python3.9/site-packages/pandas/core/dtypes/cast.py:1163: UserWarning: Parsing '26/10/2018' in DD/MM/YYYY format. Provide format or specify infer_datetime_format=True for consistent parsing.\n",
      "  to_datetime(arr).values,\n",
      "/Users/ahmedhafez/opt/anaconda3/lib/python3.9/site-packages/pandas/core/dtypes/cast.py:1163: UserWarning: Parsing '25/02/2015' in DD/MM/YYYY format. Provide format or specify infer_datetime_format=True for consistent parsing.\n",
      "  to_datetime(arr).values,\n",
      "/Users/ahmedhafez/opt/anaconda3/lib/python3.9/site-packages/pandas/core/dtypes/cast.py:1163: UserWarning: Parsing '28/01/2015' in DD/MM/YYYY format. Provide format or specify infer_datetime_format=True for consistent parsing.\n",
      "  to_datetime(arr).values,\n",
      "/Users/ahmedhafez/opt/anaconda3/lib/python3.9/site-packages/pandas/core/dtypes/cast.py:1163: UserWarning: Parsing '31/05/2017' in DD/MM/YYYY format. Provide format or specify infer_datetime_format=True for consistent parsing.\n",
      "  to_datetime(arr).values,\n",
      "/Users/ahmedhafez/opt/anaconda3/lib/python3.9/site-packages/pandas/core/dtypes/cast.py:1163: UserWarning: Parsing '29/03/2017' in DD/MM/YYYY format. Provide format or specify infer_datetime_format=True for consistent parsing.\n",
      "  to_datetime(arr).values,\n",
      "/Users/ahmedhafez/opt/anaconda3/lib/python3.9/site-packages/pandas/core/dtypes/cast.py:1163: UserWarning: Parsing '31/01/2017' in DD/MM/YYYY format. Provide format or specify infer_datetime_format=True for consistent parsing.\n",
      "  to_datetime(arr).values,\n",
      "/Users/ahmedhafez/opt/anaconda3/lib/python3.9/site-packages/pandas/core/dtypes/cast.py:1163: UserWarning: Parsing '15/07/2017' in DD/MM/YYYY format. Provide format or specify infer_datetime_format=True for consistent parsing.\n",
      "  to_datetime(arr).values,\n",
      "/Users/ahmedhafez/opt/anaconda3/lib/python3.9/site-packages/pandas/core/dtypes/cast.py:1163: UserWarning: Parsing '21/03/2018' in DD/MM/YYYY format. Provide format or specify infer_datetime_format=True for consistent parsing.\n",
      "  to_datetime(arr).values,\n",
      "/Users/ahmedhafez/opt/anaconda3/lib/python3.9/site-packages/pandas/core/dtypes/cast.py:1163: UserWarning: Parsing '16/07/2011' in DD/MM/YYYY format. Provide format or specify infer_datetime_format=True for consistent parsing.\n",
      "  to_datetime(arr).values,\n",
      "/Users/ahmedhafez/opt/anaconda3/lib/python3.9/site-packages/pandas/core/dtypes/cast.py:1163: UserWarning: Parsing '15/09/2017' in DD/MM/YYYY format. Provide format or specify infer_datetime_format=True for consistent parsing.\n",
      "  to_datetime(arr).values,\n",
      "/Users/ahmedhafez/opt/anaconda3/lib/python3.9/site-packages/pandas/core/dtypes/cast.py:1163: UserWarning: Parsing '16/01/2018' in DD/MM/YYYY format. Provide format or specify infer_datetime_format=True for consistent parsing.\n",
      "  to_datetime(arr).values,\n",
      "/Users/ahmedhafez/opt/anaconda3/lib/python3.9/site-packages/pandas/core/dtypes/cast.py:1163: UserWarning: Parsing '27/10/2012' in DD/MM/YYYY format. Provide format or specify infer_datetime_format=True for consistent parsing.\n",
      "  to_datetime(arr).values,\n",
      "/Users/ahmedhafez/opt/anaconda3/lib/python3.9/site-packages/pandas/core/dtypes/cast.py:1163: UserWarning: Parsing '29/06/2011' in DD/MM/YYYY format. Provide format or specify infer_datetime_format=True for consistent parsing.\n",
      "  to_datetime(arr).values,\n",
      "/Users/ahmedhafez/opt/anaconda3/lib/python3.9/site-packages/pandas/core/dtypes/cast.py:1163: UserWarning: Parsing '27/06/2013' in DD/MM/YYYY format. Provide format or specify infer_datetime_format=True for consistent parsing.\n",
      "  to_datetime(arr).values,\n",
      "/Users/ahmedhafez/opt/anaconda3/lib/python3.9/site-packages/pandas/core/dtypes/cast.py:1163: UserWarning: Parsing '18/07/2012' in DD/MM/YYYY format. Provide format or specify infer_datetime_format=True for consistent parsing.\n",
      "  to_datetime(arr).values,\n",
      "/Users/ahmedhafez/opt/anaconda3/lib/python3.9/site-packages/pandas/core/dtypes/cast.py:1163: UserWarning: Parsing '26/11/2015' in DD/MM/YYYY format. Provide format or specify infer_datetime_format=True for consistent parsing.\n",
      "  to_datetime(arr).values,\n",
      "/Users/ahmedhafez/opt/anaconda3/lib/python3.9/site-packages/pandas/core/dtypes/cast.py:1163: UserWarning: Parsing '25/02/2009' in DD/MM/YYYY format. Provide format or specify infer_datetime_format=True for consistent parsing.\n",
      "  to_datetime(arr).values,\n",
      "/Users/ahmedhafez/opt/anaconda3/lib/python3.9/site-packages/pandas/core/dtypes/cast.py:1163: UserWarning: Parsing '22/11/2013' in DD/MM/YYYY format. Provide format or specify infer_datetime_format=True for consistent parsing.\n",
      "  to_datetime(arr).values,\n",
      "/Users/ahmedhafez/opt/anaconda3/lib/python3.9/site-packages/pandas/core/dtypes/cast.py:1163: UserWarning: Parsing '14/09/2016' in DD/MM/YYYY format. Provide format or specify infer_datetime_format=True for consistent parsing.\n",
      "  to_datetime(arr).values,\n",
      "/Users/ahmedhafez/opt/anaconda3/lib/python3.9/site-packages/pandas/core/dtypes/cast.py:1163: UserWarning: Parsing '29/06/2018' in DD/MM/YYYY format. Provide format or specify infer_datetime_format=True for consistent parsing.\n",
      "  to_datetime(arr).values,\n",
      "/Users/ahmedhafez/opt/anaconda3/lib/python3.9/site-packages/pandas/core/dtypes/cast.py:1163: UserWarning: Parsing '25/04/2014' in DD/MM/YYYY format. Provide format or specify infer_datetime_format=True for consistent parsing.\n",
      "  to_datetime(arr).values,\n",
      "/Users/ahmedhafez/opt/anaconda3/lib/python3.9/site-packages/pandas/core/dtypes/cast.py:1163: UserWarning: Parsing '26/04/2016' in DD/MM/YYYY format. Provide format or specify infer_datetime_format=True for consistent parsing.\n",
      "  to_datetime(arr).values,\n",
      "/Users/ahmedhafez/opt/anaconda3/lib/python3.9/site-packages/pandas/core/dtypes/cast.py:1163: UserWarning: Parsing '16/01/2015' in DD/MM/YYYY format. Provide format or specify infer_datetime_format=True for consistent parsing.\n",
      "  to_datetime(arr).values,\n",
      "/Users/ahmedhafez/opt/anaconda3/lib/python3.9/site-packages/pandas/core/dtypes/cast.py:1163: UserWarning: Parsing '16/12/2016' in DD/MM/YYYY format. Provide format or specify infer_datetime_format=True for consistent parsing.\n",
      "  to_datetime(arr).values,\n",
      "/Users/ahmedhafez/opt/anaconda3/lib/python3.9/site-packages/pandas/core/dtypes/cast.py:1163: UserWarning: Parsing '28/03/2018' in DD/MM/YYYY format. Provide format or specify infer_datetime_format=True for consistent parsing.\n",
      "  to_datetime(arr).values,\n",
      "/Users/ahmedhafez/opt/anaconda3/lib/python3.9/site-packages/pandas/core/dtypes/cast.py:1163: UserWarning: Parsing '26/02/2014' in DD/MM/YYYY format. Provide format or specify infer_datetime_format=True for consistent parsing.\n",
      "  to_datetime(arr).values,\n",
      "/Users/ahmedhafez/opt/anaconda3/lib/python3.9/site-packages/pandas/core/dtypes/cast.py:1163: UserWarning: Parsing '20/07/2016' in DD/MM/YYYY format. Provide format or specify infer_datetime_format=True for consistent parsing.\n",
      "  to_datetime(arr).values,\n",
      "/Users/ahmedhafez/opt/anaconda3/lib/python3.9/site-packages/pandas/core/dtypes/cast.py:1163: UserWarning: Parsing '18/12/2017' in DD/MM/YYYY format. Provide format or specify infer_datetime_format=True for consistent parsing.\n",
      "  to_datetime(arr).values,\n",
      "/Users/ahmedhafez/opt/anaconda3/lib/python3.9/site-packages/pandas/core/dtypes/cast.py:1163: UserWarning: Parsing '21/09/2017' in DD/MM/YYYY format. Provide format or specify infer_datetime_format=True for consistent parsing.\n",
      "  to_datetime(arr).values,\n",
      "/Users/ahmedhafez/opt/anaconda3/lib/python3.9/site-packages/pandas/core/dtypes/cast.py:1163: UserWarning: Parsing '18/05/2011' in DD/MM/YYYY format. Provide format or specify infer_datetime_format=True for consistent parsing.\n",
      "  to_datetime(arr).values,\n",
      "/Users/ahmedhafez/opt/anaconda3/lib/python3.9/site-packages/pandas/core/dtypes/cast.py:1163: UserWarning: Parsing '17/01/2016' in DD/MM/YYYY format. Provide format or specify infer_datetime_format=True for consistent parsing.\n",
      "  to_datetime(arr).values,\n",
      "/Users/ahmedhafez/opt/anaconda3/lib/python3.9/site-packages/pandas/core/dtypes/cast.py:1163: UserWarning: Parsing '17/10/2017' in DD/MM/YYYY format. Provide format or specify infer_datetime_format=True for consistent parsing.\n",
      "  to_datetime(arr).values,\n",
      "/Users/ahmedhafez/opt/anaconda3/lib/python3.9/site-packages/pandas/core/dtypes/cast.py:1163: UserWarning: Parsing '18/12/2015' in DD/MM/YYYY format. Provide format or specify infer_datetime_format=True for consistent parsing.\n",
      "  to_datetime(arr).values,\n",
      "/Users/ahmedhafez/opt/anaconda3/lib/python3.9/site-packages/pandas/core/dtypes/cast.py:1163: UserWarning: Parsing '22/10/2013' in DD/MM/YYYY format. Provide format or specify infer_datetime_format=True for consistent parsing.\n",
      "  to_datetime(arr).values,\n",
      "/Users/ahmedhafez/opt/anaconda3/lib/python3.9/site-packages/pandas/core/dtypes/cast.py:1163: UserWarning: Parsing '30/10/2018' in DD/MM/YYYY format. Provide format or specify infer_datetime_format=True for consistent parsing.\n",
      "  to_datetime(arr).values,\n",
      "/Users/ahmedhafez/opt/anaconda3/lib/python3.9/site-packages/pandas/core/dtypes/cast.py:1163: UserWarning: Parsing '28/08/2017' in DD/MM/YYYY format. Provide format or specify infer_datetime_format=True for consistent parsing.\n",
      "  to_datetime(arr).values,\n",
      "/Users/ahmedhafez/opt/anaconda3/lib/python3.9/site-packages/pandas/core/dtypes/cast.py:1163: UserWarning: Parsing '30/06/2012' in DD/MM/YYYY format. Provide format or specify infer_datetime_format=True for consistent parsing.\n",
      "  to_datetime(arr).values,\n",
      "/Users/ahmedhafez/opt/anaconda3/lib/python3.9/site-packages/pandas/core/dtypes/cast.py:1163: UserWarning: Parsing '14/07/2017' in DD/MM/YYYY format. Provide format or specify infer_datetime_format=True for consistent parsing.\n",
      "  to_datetime(arr).values,\n",
      "/Users/ahmedhafez/opt/anaconda3/lib/python3.9/site-packages/pandas/core/dtypes/cast.py:1163: UserWarning: Parsing '17/12/2014' in DD/MM/YYYY format. Provide format or specify infer_datetime_format=True for consistent parsing.\n",
      "  to_datetime(arr).values,\n",
      "/Users/ahmedhafez/opt/anaconda3/lib/python3.9/site-packages/pandas/core/dtypes/cast.py:1163: UserWarning: Parsing '31/01/2018' in DD/MM/YYYY format. Provide format or specify infer_datetime_format=True for consistent parsing.\n",
      "  to_datetime(arr).values,\n",
      "/Users/ahmedhafez/opt/anaconda3/lib/python3.9/site-packages/pandas/core/dtypes/cast.py:1163: UserWarning: Parsing '23/10/2017' in DD/MM/YYYY format. Provide format or specify infer_datetime_format=True for consistent parsing.\n",
      "  to_datetime(arr).values,\n",
      "/Users/ahmedhafez/opt/anaconda3/lib/python3.9/site-packages/pandas/core/dtypes/cast.py:1163: UserWarning: Parsing '28/06/2012' in DD/MM/YYYY format. Provide format or specify infer_datetime_format=True for consistent parsing.\n",
      "  to_datetime(arr).values,\n",
      "/Users/ahmedhafez/opt/anaconda3/lib/python3.9/site-packages/pandas/core/dtypes/cast.py:1163: UserWarning: Parsing '28/11/2016' in DD/MM/YYYY format. Provide format or specify infer_datetime_format=True for consistent parsing.\n",
      "  to_datetime(arr).values,\n",
      "/Users/ahmedhafez/opt/anaconda3/lib/python3.9/site-packages/pandas/core/dtypes/cast.py:1163: UserWarning: Parsing '15/12/2017' in DD/MM/YYYY format. Provide format or specify infer_datetime_format=True for consistent parsing.\n",
      "  to_datetime(arr).values,\n",
      "/Users/ahmedhafez/opt/anaconda3/lib/python3.9/site-packages/pandas/core/dtypes/cast.py:1163: UserWarning: Parsing '16/07/2015' in DD/MM/YYYY format. Provide format or specify infer_datetime_format=True for consistent parsing.\n",
      "  to_datetime(arr).values,\n",
      "/Users/ahmedhafez/opt/anaconda3/lib/python3.9/site-packages/pandas/core/dtypes/cast.py:1163: UserWarning: Parsing '30/11/2016' in DD/MM/YYYY format. Provide format or specify infer_datetime_format=True for consistent parsing.\n",
      "  to_datetime(arr).values,\n",
      "/Users/ahmedhafez/opt/anaconda3/lib/python3.9/site-packages/pandas/core/dtypes/cast.py:1163: UserWarning: Parsing '22/01/2011' in DD/MM/YYYY format. Provide format or specify infer_datetime_format=True for consistent parsing.\n",
      "  to_datetime(arr).values,\n",
      "/Users/ahmedhafez/opt/anaconda3/lib/python3.9/site-packages/pandas/core/dtypes/cast.py:1163: UserWarning: Parsing '25/06/2017' in DD/MM/YYYY format. Provide format or specify infer_datetime_format=True for consistent parsing.\n",
      "  to_datetime(arr).values,\n",
      "/Users/ahmedhafez/opt/anaconda3/lib/python3.9/site-packages/pandas/core/dtypes/cast.py:1163: UserWarning: Parsing '18/07/2013' in DD/MM/YYYY format. Provide format or specify infer_datetime_format=True for consistent parsing.\n",
      "  to_datetime(arr).values,\n",
      "/Users/ahmedhafez/opt/anaconda3/lib/python3.9/site-packages/pandas/core/dtypes/cast.py:1163: UserWarning: Parsing '17/04/2017' in DD/MM/YYYY format. Provide format or specify infer_datetime_format=True for consistent parsing.\n",
      "  to_datetime(arr).values,\n",
      "/Users/ahmedhafez/opt/anaconda3/lib/python3.9/site-packages/pandas/core/dtypes/cast.py:1163: UserWarning: Parsing '18/11/2010' in DD/MM/YYYY format. Provide format or specify infer_datetime_format=True for consistent parsing.\n",
      "  to_datetime(arr).values,\n",
      "/Users/ahmedhafez/opt/anaconda3/lib/python3.9/site-packages/pandas/core/dtypes/cast.py:1163: UserWarning: Parsing '15/09/2016' in DD/MM/YYYY format. Provide format or specify infer_datetime_format=True for consistent parsing.\n",
      "  to_datetime(arr).values,\n",
      "/Users/ahmedhafez/opt/anaconda3/lib/python3.9/site-packages/pandas/core/dtypes/cast.py:1163: UserWarning: Parsing '19/12/2016' in DD/MM/YYYY format. Provide format or specify infer_datetime_format=True for consistent parsing.\n",
      "  to_datetime(arr).values,\n",
      "/Users/ahmedhafez/opt/anaconda3/lib/python3.9/site-packages/pandas/core/dtypes/cast.py:1163: UserWarning: Parsing '20/12/2013' in DD/MM/YYYY format. Provide format or specify infer_datetime_format=True for consistent parsing.\n",
      "  to_datetime(arr).values,\n",
      "/Users/ahmedhafez/opt/anaconda3/lib/python3.9/site-packages/pandas/core/dtypes/cast.py:1163: UserWarning: Parsing '15/03/2017' in DD/MM/YYYY format. Provide format or specify infer_datetime_format=True for consistent parsing.\n",
      "  to_datetime(arr).values,\n",
      "/Users/ahmedhafez/opt/anaconda3/lib/python3.9/site-packages/pandas/core/dtypes/cast.py:1163: UserWarning: Parsing '21/03/2016' in DD/MM/YYYY format. Provide format or specify infer_datetime_format=True for consistent parsing.\n",
      "  to_datetime(arr).values,\n",
      "/Users/ahmedhafez/opt/anaconda3/lib/python3.9/site-packages/pandas/core/dtypes/cast.py:1163: UserWarning: Parsing '14/04/2009' in DD/MM/YYYY format. Provide format or specify infer_datetime_format=True for consistent parsing.\n",
      "  to_datetime(arr).values,\n",
      "/Users/ahmedhafez/opt/anaconda3/lib/python3.9/site-packages/pandas/core/dtypes/cast.py:1163: UserWarning: Parsing '25/05/2016' in DD/MM/YYYY format. Provide format or specify infer_datetime_format=True for consistent parsing.\n",
      "  to_datetime(arr).values,\n",
      "/Users/ahmedhafez/opt/anaconda3/lib/python3.9/site-packages/pandas/core/dtypes/cast.py:1163: UserWarning: Parsing '30/06/2015' in DD/MM/YYYY format. Provide format or specify infer_datetime_format=True for consistent parsing.\n",
      "  to_datetime(arr).values,\n",
      "/Users/ahmedhafez/opt/anaconda3/lib/python3.9/site-packages/pandas/core/dtypes/cast.py:1163: UserWarning: Parsing '27/09/2018' in DD/MM/YYYY format. Provide format or specify infer_datetime_format=True for consistent parsing.\n",
      "  to_datetime(arr).values,\n",
      "/Users/ahmedhafez/opt/anaconda3/lib/python3.9/site-packages/pandas/core/dtypes/cast.py:1163: UserWarning: Parsing '20/11/2017' in DD/MM/YYYY format. Provide format or specify infer_datetime_format=True for consistent parsing.\n",
      "  to_datetime(arr).values,\n",
      "/Users/ahmedhafez/opt/anaconda3/lib/python3.9/site-packages/pandas/core/dtypes/cast.py:1163: UserWarning: Parsing '23/03/2017' in DD/MM/YYYY format. Provide format or specify infer_datetime_format=True for consistent parsing.\n",
      "  to_datetime(arr).values,\n",
      "/Users/ahmedhafez/opt/anaconda3/lib/python3.9/site-packages/pandas/core/dtypes/cast.py:1163: UserWarning: Parsing '16/10/2013' in DD/MM/YYYY format. Provide format or specify infer_datetime_format=True for consistent parsing.\n",
      "  to_datetime(arr).values,\n",
      "/Users/ahmedhafez/opt/anaconda3/lib/python3.9/site-packages/pandas/core/dtypes/cast.py:1163: UserWarning: Parsing '26/06/2015' in DD/MM/YYYY format. Provide format or specify infer_datetime_format=True for consistent parsing.\n",
      "  to_datetime(arr).values,\n",
      "/Users/ahmedhafez/opt/anaconda3/lib/python3.9/site-packages/pandas/core/dtypes/cast.py:1163: UserWarning: Parsing '28/10/2014' in DD/MM/YYYY format. Provide format or specify infer_datetime_format=True for consistent parsing.\n",
      "  to_datetime(arr).values,\n",
      "/Users/ahmedhafez/opt/anaconda3/lib/python3.9/site-packages/pandas/core/dtypes/cast.py:1163: UserWarning: Parsing '27/10/2017' in DD/MM/YYYY format. Provide format or specify infer_datetime_format=True for consistent parsing.\n",
      "  to_datetime(arr).values,\n",
      "/Users/ahmedhafez/opt/anaconda3/lib/python3.9/site-packages/pandas/core/dtypes/cast.py:1163: UserWarning: Parsing '29/01/2013' in DD/MM/YYYY format. Provide format or specify infer_datetime_format=True for consistent parsing.\n",
      "  to_datetime(arr).values,\n",
      "/Users/ahmedhafez/opt/anaconda3/lib/python3.9/site-packages/pandas/core/dtypes/cast.py:1163: UserWarning: Parsing '29/12/2009' in DD/MM/YYYY format. Provide format or specify infer_datetime_format=True for consistent parsing.\n",
      "  to_datetime(arr).values,\n",
      "/Users/ahmedhafez/opt/anaconda3/lib/python3.9/site-packages/pandas/core/dtypes/cast.py:1163: UserWarning: Parsing '24/01/2019' in DD/MM/YYYY format. Provide format or specify infer_datetime_format=True for consistent parsing.\n",
      "  to_datetime(arr).values,\n",
      "/Users/ahmedhafez/opt/anaconda3/lib/python3.9/site-packages/pandas/core/dtypes/cast.py:1163: UserWarning: Parsing '19/02/2018' in DD/MM/YYYY format. Provide format or specify infer_datetime_format=True for consistent parsing.\n",
      "  to_datetime(arr).values,\n",
      "/Users/ahmedhafez/opt/anaconda3/lib/python3.9/site-packages/pandas/core/dtypes/cast.py:1163: UserWarning: Parsing '13/07/2017' in DD/MM/YYYY format. Provide format or specify infer_datetime_format=True for consistent parsing.\n",
      "  to_datetime(arr).values,\n",
      "/Users/ahmedhafez/opt/anaconda3/lib/python3.9/site-packages/pandas/core/dtypes/cast.py:1163: UserWarning: Parsing '14/06/2018' in DD/MM/YYYY format. Provide format or specify infer_datetime_format=True for consistent parsing.\n",
      "  to_datetime(arr).values,\n",
      "/Users/ahmedhafez/opt/anaconda3/lib/python3.9/site-packages/pandas/core/dtypes/cast.py:1163: UserWarning: Parsing '29/09/2016' in DD/MM/YYYY format. Provide format or specify infer_datetime_format=True for consistent parsing.\n",
      "  to_datetime(arr).values,\n",
      "/Users/ahmedhafez/opt/anaconda3/lib/python3.9/site-packages/pandas/core/dtypes/cast.py:1163: UserWarning: Parsing '19/12/2017' in DD/MM/YYYY format. Provide format or specify infer_datetime_format=True for consistent parsing.\n",
      "  to_datetime(arr).values,\n",
      "/Users/ahmedhafez/opt/anaconda3/lib/python3.9/site-packages/pandas/core/dtypes/cast.py:1163: UserWarning: Parsing '28/04/2018' in DD/MM/YYYY format. Provide format or specify infer_datetime_format=True for consistent parsing.\n",
      "  to_datetime(arr).values,\n",
      "/Users/ahmedhafez/opt/anaconda3/lib/python3.9/site-packages/pandas/core/dtypes/cast.py:1163: UserWarning: Parsing '27/08/2017' in DD/MM/YYYY format. Provide format or specify infer_datetime_format=True for consistent parsing.\n",
      "  to_datetime(arr).values,\n",
      "/Users/ahmedhafez/opt/anaconda3/lib/python3.9/site-packages/pandas/core/dtypes/cast.py:1163: UserWarning: Parsing '18/04/2018' in DD/MM/YYYY format. Provide format or specify infer_datetime_format=True for consistent parsing.\n",
      "  to_datetime(arr).values,\n",
      "/Users/ahmedhafez/opt/anaconda3/lib/python3.9/site-packages/pandas/core/dtypes/cast.py:1163: UserWarning: Parsing '21/07/2017' in DD/MM/YYYY format. Provide format or specify infer_datetime_format=True for consistent parsing.\n",
      "  to_datetime(arr).values,\n",
      "/Users/ahmedhafez/opt/anaconda3/lib/python3.9/site-packages/pandas/core/dtypes/cast.py:1163: UserWarning: Parsing '16/07/2014' in DD/MM/YYYY format. Provide format or specify infer_datetime_format=True for consistent parsing.\n",
      "  to_datetime(arr).values,\n",
      "/Users/ahmedhafez/opt/anaconda3/lib/python3.9/site-packages/pandas/core/dtypes/cast.py:1163: UserWarning: Parsing '14/07/2016' in DD/MM/YYYY format. Provide format or specify infer_datetime_format=True for consistent parsing.\n",
      "  to_datetime(arr).values,\n",
      "/Users/ahmedhafez/opt/anaconda3/lib/python3.9/site-packages/pandas/core/dtypes/cast.py:1163: UserWarning: Parsing '31/10/2014' in DD/MM/YYYY format. Provide format or specify infer_datetime_format=True for consistent parsing.\n",
      "  to_datetime(arr).values,\n",
      "/Users/ahmedhafez/opt/anaconda3/lib/python3.9/site-packages/pandas/core/dtypes/cast.py:1163: UserWarning: Parsing '18/02/2014' in DD/MM/YYYY format. Provide format or specify infer_datetime_format=True for consistent parsing.\n",
      "  to_datetime(arr).values,\n",
      "/Users/ahmedhafez/opt/anaconda3/lib/python3.9/site-packages/pandas/core/dtypes/cast.py:1163: UserWarning: Parsing '25/08/2016' in DD/MM/YYYY format. Provide format or specify infer_datetime_format=True for consistent parsing.\n",
      "  to_datetime(arr).values,\n",
      "/Users/ahmedhafez/opt/anaconda3/lib/python3.9/site-packages/pandas/core/dtypes/cast.py:1163: UserWarning: Parsing '14/02/2017' in DD/MM/YYYY format. Provide format or specify infer_datetime_format=True for consistent parsing.\n",
      "  to_datetime(arr).values,\n",
      "/Users/ahmedhafez/opt/anaconda3/lib/python3.9/site-packages/pandas/core/dtypes/cast.py:1163: UserWarning: Parsing '18/11/2009' in DD/MM/YYYY format. Provide format or specify infer_datetime_format=True for consistent parsing.\n",
      "  to_datetime(arr).values,\n",
      "/Users/ahmedhafez/opt/anaconda3/lib/python3.9/site-packages/pandas/core/dtypes/cast.py:1163: UserWarning: Parsing '18/09/2016' in DD/MM/YYYY format. Provide format or specify infer_datetime_format=True for consistent parsing.\n",
      "  to_datetime(arr).values,\n",
      "/Users/ahmedhafez/opt/anaconda3/lib/python3.9/site-packages/pandas/core/dtypes/cast.py:1163: UserWarning: Parsing '29/06/2017' in DD/MM/YYYY format. Provide format or specify infer_datetime_format=True for consistent parsing.\n",
      "  to_datetime(arr).values,\n",
      "/Users/ahmedhafez/opt/anaconda3/lib/python3.9/site-packages/pandas/core/dtypes/cast.py:1163: UserWarning: Parsing '23/11/2017' in DD/MM/YYYY format. Provide format or specify infer_datetime_format=True for consistent parsing.\n",
      "  to_datetime(arr).values,\n",
      "/Users/ahmedhafez/opt/anaconda3/lib/python3.9/site-packages/pandas/core/dtypes/cast.py:1163: UserWarning: Parsing '31/07/2016' in DD/MM/YYYY format. Provide format or specify infer_datetime_format=True for consistent parsing.\n",
      "  to_datetime(arr).values,\n",
      "/Users/ahmedhafez/opt/anaconda3/lib/python3.9/site-packages/pandas/core/dtypes/cast.py:1163: UserWarning: Parsing '16/08/2013' in DD/MM/YYYY format. Provide format or specify infer_datetime_format=True for consistent parsing.\n",
      "  to_datetime(arr).values,\n",
      "/Users/ahmedhafez/opt/anaconda3/lib/python3.9/site-packages/pandas/core/dtypes/cast.py:1163: UserWarning: Parsing '17/11/2013' in DD/MM/YYYY format. Provide format or specify infer_datetime_format=True for consistent parsing.\n",
      "  to_datetime(arr).values,\n",
      "/Users/ahmedhafez/opt/anaconda3/lib/python3.9/site-packages/pandas/core/dtypes/cast.py:1163: UserWarning: Parsing '27/04/2016' in DD/MM/YYYY format. Provide format or specify infer_datetime_format=True for consistent parsing.\n",
      "  to_datetime(arr).values,\n",
      "/Users/ahmedhafez/opt/anaconda3/lib/python3.9/site-packages/pandas/core/dtypes/cast.py:1163: UserWarning: Parsing '29/06/2016' in DD/MM/YYYY format. Provide format or specify infer_datetime_format=True for consistent parsing.\n",
      "  to_datetime(arr).values,\n",
      "/Users/ahmedhafez/opt/anaconda3/lib/python3.9/site-packages/pandas/core/dtypes/cast.py:1163: UserWarning: Parsing '20/06/2012' in DD/MM/YYYY format. Provide format or specify infer_datetime_format=True for consistent parsing.\n",
      "  to_datetime(arr).values,\n",
      "/Users/ahmedhafez/opt/anaconda3/lib/python3.9/site-packages/pandas/core/dtypes/cast.py:1163: UserWarning: Parsing '23/11/2011' in DD/MM/YYYY format. Provide format or specify infer_datetime_format=True for consistent parsing.\n",
      "  to_datetime(arr).values,\n",
      "/Users/ahmedhafez/opt/anaconda3/lib/python3.9/site-packages/pandas/core/dtypes/cast.py:1163: UserWarning: Parsing '30/08/2013' in DD/MM/YYYY format. Provide format or specify infer_datetime_format=True for consistent parsing.\n",
      "  to_datetime(arr).values,\n",
      "/Users/ahmedhafez/opt/anaconda3/lib/python3.9/site-packages/pandas/core/dtypes/cast.py:1163: UserWarning: Parsing '14/05/2014' in DD/MM/YYYY format. Provide format or specify infer_datetime_format=True for consistent parsing.\n",
      "  to_datetime(arr).values,\n",
      "/Users/ahmedhafez/opt/anaconda3/lib/python3.9/site-packages/pandas/core/dtypes/cast.py:1163: UserWarning: Parsing '28/09/2017' in DD/MM/YYYY format. Provide format or specify infer_datetime_format=True for consistent parsing.\n",
      "  to_datetime(arr).values,\n",
      "/Users/ahmedhafez/opt/anaconda3/lib/python3.9/site-packages/pandas/core/dtypes/cast.py:1163: UserWarning: Parsing '29/07/2015' in DD/MM/YYYY format. Provide format or specify infer_datetime_format=True for consistent parsing.\n",
      "  to_datetime(arr).values,\n",
      "/Users/ahmedhafez/opt/anaconda3/lib/python3.9/site-packages/pandas/core/dtypes/cast.py:1163: UserWarning: Parsing '31/07/2014' in DD/MM/YYYY format. Provide format or specify infer_datetime_format=True for consistent parsing.\n",
      "  to_datetime(arr).values,\n",
      "/Users/ahmedhafez/opt/anaconda3/lib/python3.9/site-packages/pandas/core/dtypes/cast.py:1163: UserWarning: Parsing '22/10/2015' in DD/MM/YYYY format. Provide format or specify infer_datetime_format=True for consistent parsing.\n",
      "  to_datetime(arr).values,\n",
      "/Users/ahmedhafez/opt/anaconda3/lib/python3.9/site-packages/pandas/core/dtypes/cast.py:1163: UserWarning: Parsing '17/03/2014' in DD/MM/YYYY format. Provide format or specify infer_datetime_format=True for consistent parsing.\n",
      "  to_datetime(arr).values,\n",
      "/Users/ahmedhafez/opt/anaconda3/lib/python3.9/site-packages/pandas/core/dtypes/cast.py:1163: UserWarning: Parsing '28/12/2017' in DD/MM/YYYY format. Provide format or specify infer_datetime_format=True for consistent parsing.\n",
      "  to_datetime(arr).values,\n",
      "/Users/ahmedhafez/opt/anaconda3/lib/python3.9/site-packages/pandas/core/dtypes/cast.py:1163: UserWarning: Parsing '22/05/2010' in DD/MM/YYYY format. Provide format or specify infer_datetime_format=True for consistent parsing.\n",
      "  to_datetime(arr).values,\n",
      "/Users/ahmedhafez/opt/anaconda3/lib/python3.9/site-packages/pandas/core/dtypes/cast.py:1163: UserWarning: Parsing '20/06/2019' in DD/MM/YYYY format. Provide format or specify infer_datetime_format=True for consistent parsing.\n",
      "  to_datetime(arr).values,\n",
      "/Users/ahmedhafez/opt/anaconda3/lib/python3.9/site-packages/pandas/core/dtypes/cast.py:1163: UserWarning: Parsing '16/06/2017' in DD/MM/YYYY format. Provide format or specify infer_datetime_format=True for consistent parsing.\n",
      "  to_datetime(arr).values,\n",
      "/Users/ahmedhafez/opt/anaconda3/lib/python3.9/site-packages/pandas/core/dtypes/cast.py:1163: UserWarning: Parsing '16/10/2014' in DD/MM/YYYY format. Provide format or specify infer_datetime_format=True for consistent parsing.\n",
      "  to_datetime(arr).values,\n",
      "/Users/ahmedhafez/opt/anaconda3/lib/python3.9/site-packages/pandas/core/dtypes/cast.py:1163: UserWarning: Parsing '28/09/2013' in DD/MM/YYYY format. Provide format or specify infer_datetime_format=True for consistent parsing.\n",
      "  to_datetime(arr).values,\n",
      "/Users/ahmedhafez/opt/anaconda3/lib/python3.9/site-packages/pandas/core/dtypes/cast.py:1163: UserWarning: Parsing '21/03/2013' in DD/MM/YYYY format. Provide format or specify infer_datetime_format=True for consistent parsing.\n",
      "  to_datetime(arr).values,\n",
      "/Users/ahmedhafez/opt/anaconda3/lib/python3.9/site-packages/pandas/core/dtypes/cast.py:1163: UserWarning: Parsing '22/11/2017' in DD/MM/YYYY format. Provide format or specify infer_datetime_format=True for consistent parsing.\n",
      "  to_datetime(arr).values,\n",
      "/Users/ahmedhafez/opt/anaconda3/lib/python3.9/site-packages/pandas/core/dtypes/cast.py:1163: UserWarning: Parsing '27/05/2016' in DD/MM/YYYY format. Provide format or specify infer_datetime_format=True for consistent parsing.\n",
      "  to_datetime(arr).values,\n",
      "/Users/ahmedhafez/opt/anaconda3/lib/python3.9/site-packages/pandas/core/dtypes/cast.py:1163: UserWarning: Parsing '20/08/2016' in DD/MM/YYYY format. Provide format or specify infer_datetime_format=True for consistent parsing.\n",
      "  to_datetime(arr).values,\n",
      "/Users/ahmedhafez/opt/anaconda3/lib/python3.9/site-packages/pandas/core/dtypes/cast.py:1163: UserWarning: Parsing '14/11/2017' in DD/MM/YYYY format. Provide format or specify infer_datetime_format=True for consistent parsing.\n",
      "  to_datetime(arr).values,\n",
      "/Users/ahmedhafez/opt/anaconda3/lib/python3.9/site-packages/pandas/core/dtypes/cast.py:1163: UserWarning: Parsing '13/10/2015' in DD/MM/YYYY format. Provide format or specify infer_datetime_format=True for consistent parsing.\n",
      "  to_datetime(arr).values,\n",
      "/Users/ahmedhafez/opt/anaconda3/lib/python3.9/site-packages/pandas/core/dtypes/cast.py:1163: UserWarning: Parsing '30/10/2015' in DD/MM/YYYY format. Provide format or specify infer_datetime_format=True for consistent parsing.\n",
      "  to_datetime(arr).values,\n",
      "/Users/ahmedhafez/opt/anaconda3/lib/python3.9/site-packages/pandas/core/dtypes/cast.py:1163: UserWarning: Parsing '20/06/2017' in DD/MM/YYYY format. Provide format or specify infer_datetime_format=True for consistent parsing.\n",
      "  to_datetime(arr).values,\n",
      "/Users/ahmedhafez/opt/anaconda3/lib/python3.9/site-packages/pandas/core/dtypes/cast.py:1163: UserWarning: Parsing '14/05/2017' in DD/MM/YYYY format. Provide format or specify infer_datetime_format=True for consistent parsing.\n",
      "  to_datetime(arr).values,\n",
      "/Users/ahmedhafez/opt/anaconda3/lib/python3.9/site-packages/pandas/core/dtypes/cast.py:1163: UserWarning: Parsing '21/10/2015' in DD/MM/YYYY format. Provide format or specify infer_datetime_format=True for consistent parsing.\n",
      "  to_datetime(arr).values,\n",
      "/Users/ahmedhafez/opt/anaconda3/lib/python3.9/site-packages/pandas/core/dtypes/cast.py:1163: UserWarning: Parsing '24/02/2016' in DD/MM/YYYY format. Provide format or specify infer_datetime_format=True for consistent parsing.\n",
      "  to_datetime(arr).values,\n",
      "/Users/ahmedhafez/opt/anaconda3/lib/python3.9/site-packages/pandas/core/dtypes/cast.py:1163: UserWarning: Parsing '25/09/2014' in DD/MM/YYYY format. Provide format or specify infer_datetime_format=True for consistent parsing.\n",
      "  to_datetime(arr).values,\n",
      "/Users/ahmedhafez/opt/anaconda3/lib/python3.9/site-packages/pandas/core/dtypes/cast.py:1163: UserWarning: Parsing '24/09/2008' in DD/MM/YYYY format. Provide format or specify infer_datetime_format=True for consistent parsing.\n",
      "  to_datetime(arr).values,\n",
      "/Users/ahmedhafez/opt/anaconda3/lib/python3.9/site-packages/pandas/core/dtypes/cast.py:1163: UserWarning: Parsing '24/04/2014' in DD/MM/YYYY format. Provide format or specify infer_datetime_format=True for consistent parsing.\n",
      "  to_datetime(arr).values,\n",
      "/Users/ahmedhafez/opt/anaconda3/lib/python3.9/site-packages/pandas/core/dtypes/cast.py:1163: UserWarning: Parsing '19/06/2010' in DD/MM/YYYY format. Provide format or specify infer_datetime_format=True for consistent parsing.\n",
      "  to_datetime(arr).values,\n",
      "/Users/ahmedhafez/opt/anaconda3/lib/python3.9/site-packages/pandas/core/dtypes/cast.py:1163: UserWarning: Parsing '18/06/2019' in DD/MM/YYYY format. Provide format or specify infer_datetime_format=True for consistent parsing.\n",
      "  to_datetime(arr).values,\n",
      "/Users/ahmedhafez/opt/anaconda3/lib/python3.9/site-packages/pandas/core/dtypes/cast.py:1163: UserWarning: Parsing '24/09/2018' in DD/MM/YYYY format. Provide format or specify infer_datetime_format=True for consistent parsing.\n",
      "  to_datetime(arr).values,\n",
      "/Users/ahmedhafez/opt/anaconda3/lib/python3.9/site-packages/pandas/core/dtypes/cast.py:1163: UserWarning: Parsing '24/11/2016' in DD/MM/YYYY format. Provide format or specify infer_datetime_format=True for consistent parsing.\n",
      "  to_datetime(arr).values,\n",
      "/Users/ahmedhafez/opt/anaconda3/lib/python3.9/site-packages/pandas/core/dtypes/cast.py:1163: UserWarning: Parsing '27/09/2017' in DD/MM/YYYY format. Provide format or specify infer_datetime_format=True for consistent parsing.\n",
      "  to_datetime(arr).values,\n",
      "/Users/ahmedhafez/opt/anaconda3/lib/python3.9/site-packages/pandas/core/dtypes/cast.py:1163: UserWarning: Parsing '31/03/2013' in DD/MM/YYYY format. Provide format or specify infer_datetime_format=True for consistent parsing.\n",
      "  to_datetime(arr).values,\n",
      "/Users/ahmedhafez/opt/anaconda3/lib/python3.9/site-packages/pandas/core/dtypes/cast.py:1163: UserWarning: Parsing '29/04/2016' in DD/MM/YYYY format. Provide format or specify infer_datetime_format=True for consistent parsing.\n",
      "  to_datetime(arr).values,\n",
      "/Users/ahmedhafez/opt/anaconda3/lib/python3.9/site-packages/pandas/core/dtypes/cast.py:1163: UserWarning: Parsing '27/06/2016' in DD/MM/YYYY format. Provide format or specify infer_datetime_format=True for consistent parsing.\n",
      "  to_datetime(arr).values,\n",
      "/Users/ahmedhafez/opt/anaconda3/lib/python3.9/site-packages/pandas/core/dtypes/cast.py:1163: UserWarning: Parsing '30/05/2013' in DD/MM/YYYY format. Provide format or specify infer_datetime_format=True for consistent parsing.\n",
      "  to_datetime(arr).values,\n",
      "/Users/ahmedhafez/opt/anaconda3/lib/python3.9/site-packages/pandas/core/dtypes/cast.py:1163: UserWarning: Parsing '23/08/2016' in DD/MM/YYYY format. Provide format or specify infer_datetime_format=True for consistent parsing.\n",
      "  to_datetime(arr).values,\n",
      "/Users/ahmedhafez/opt/anaconda3/lib/python3.9/site-packages/pandas/core/dtypes/cast.py:1163: UserWarning: Parsing '25/07/2017' in DD/MM/YYYY format. Provide format or specify infer_datetime_format=True for consistent parsing.\n",
      "  to_datetime(arr).values,\n",
      "/Users/ahmedhafez/opt/anaconda3/lib/python3.9/site-packages/pandas/core/dtypes/cast.py:1163: UserWarning: Parsing '14/06/2011' in DD/MM/YYYY format. Provide format or specify infer_datetime_format=True for consistent parsing.\n",
      "  to_datetime(arr).values,\n",
      "/Users/ahmedhafez/opt/anaconda3/lib/python3.9/site-packages/pandas/core/dtypes/cast.py:1163: UserWarning: Parsing '17/06/2015' in DD/MM/YYYY format. Provide format or specify infer_datetime_format=True for consistent parsing.\n",
      "  to_datetime(arr).values,\n",
      "/Users/ahmedhafez/opt/anaconda3/lib/python3.9/site-packages/pandas/core/dtypes/cast.py:1163: UserWarning: Parsing '18/12/2014' in DD/MM/YYYY format. Provide format or specify infer_datetime_format=True for consistent parsing.\n",
      "  to_datetime(arr).values,\n",
      "/Users/ahmedhafez/opt/anaconda3/lib/python3.9/site-packages/pandas/core/dtypes/cast.py:1163: UserWarning: Parsing '29/11/2012' in DD/MM/YYYY format. Provide format or specify infer_datetime_format=True for consistent parsing.\n",
      "  to_datetime(arr).values,\n",
      "/Users/ahmedhafez/opt/anaconda3/lib/python3.9/site-packages/pandas/core/dtypes/cast.py:1163: UserWarning: Parsing '14/06/2015' in DD/MM/YYYY format. Provide format or specify infer_datetime_format=True for consistent parsing.\n",
      "  to_datetime(arr).values,\n",
      "/Users/ahmedhafez/opt/anaconda3/lib/python3.9/site-packages/pandas/core/dtypes/cast.py:1163: UserWarning: Parsing '23/01/2018' in DD/MM/YYYY format. Provide format or specify infer_datetime_format=True for consistent parsing.\n",
      "  to_datetime(arr).values,\n",
      "/Users/ahmedhafez/opt/anaconda3/lib/python3.9/site-packages/pandas/core/dtypes/cast.py:1163: UserWarning: Parsing '24/06/2017' in DD/MM/YYYY format. Provide format or specify infer_datetime_format=True for consistent parsing.\n",
      "  to_datetime(arr).values,\n",
      "/Users/ahmedhafez/opt/anaconda3/lib/python3.9/site-packages/pandas/core/dtypes/cast.py:1163: UserWarning: Parsing '29/06/2010' in DD/MM/YYYY format. Provide format or specify infer_datetime_format=True for consistent parsing.\n",
      "  to_datetime(arr).values,\n",
      "/Users/ahmedhafez/opt/anaconda3/lib/python3.9/site-packages/pandas/core/dtypes/cast.py:1163: UserWarning: Parsing '13/10/2017' in DD/MM/YYYY format. Provide format or specify infer_datetime_format=True for consistent parsing.\n",
      "  to_datetime(arr).values,\n",
      "/Users/ahmedhafez/opt/anaconda3/lib/python3.9/site-packages/pandas/core/dtypes/cast.py:1163: UserWarning: Parsing '26/08/2014' in DD/MM/YYYY format. Provide format or specify infer_datetime_format=True for consistent parsing.\n",
      "  to_datetime(arr).values,\n",
      "/Users/ahmedhafez/opt/anaconda3/lib/python3.9/site-packages/pandas/core/dtypes/cast.py:1163: UserWarning: Parsing '26/09/2017' in DD/MM/YYYY format. Provide format or specify infer_datetime_format=True for consistent parsing.\n",
      "  to_datetime(arr).values,\n",
      "/Users/ahmedhafez/opt/anaconda3/lib/python3.9/site-packages/pandas/core/dtypes/cast.py:1163: UserWarning: Parsing '20/08/2018' in DD/MM/YYYY format. Provide format or specify infer_datetime_format=True for consistent parsing.\n",
      "  to_datetime(arr).values,\n",
      "/Users/ahmedhafez/opt/anaconda3/lib/python3.9/site-packages/pandas/core/dtypes/cast.py:1163: UserWarning: Parsing '27/06/2017' in DD/MM/YYYY format. Provide format or specify infer_datetime_format=True for consistent parsing.\n",
      "  to_datetime(arr).values,\n",
      "/Users/ahmedhafez/opt/anaconda3/lib/python3.9/site-packages/pandas/core/dtypes/cast.py:1163: UserWarning: Parsing '16/02/2018' in DD/MM/YYYY format. Provide format or specify infer_datetime_format=True for consistent parsing.\n",
      "  to_datetime(arr).values,\n",
      "/Users/ahmedhafez/opt/anaconda3/lib/python3.9/site-packages/pandas/core/dtypes/cast.py:1163: UserWarning: Parsing '18/11/2017' in DD/MM/YYYY format. Provide format or specify infer_datetime_format=True for consistent parsing.\n",
      "  to_datetime(arr).values,\n",
      "/Users/ahmedhafez/opt/anaconda3/lib/python3.9/site-packages/pandas/core/dtypes/cast.py:1163: UserWarning: Parsing '14/02/2013' in DD/MM/YYYY format. Provide format or specify infer_datetime_format=True for consistent parsing.\n",
      "  to_datetime(arr).values,\n",
      "/Users/ahmedhafez/opt/anaconda3/lib/python3.9/site-packages/pandas/core/dtypes/cast.py:1163: UserWarning: Parsing '19/07/2017' in DD/MM/YYYY format. Provide format or specify infer_datetime_format=True for consistent parsing.\n",
      "  to_datetime(arr).values,\n",
      "/Users/ahmedhafez/opt/anaconda3/lib/python3.9/site-packages/pandas/core/dtypes/cast.py:1163: UserWarning: Parsing '29/05/2017' in DD/MM/YYYY format. Provide format or specify infer_datetime_format=True for consistent parsing.\n",
      "  to_datetime(arr).values,\n",
      "/Users/ahmedhafez/opt/anaconda3/lib/python3.9/site-packages/pandas/core/dtypes/cast.py:1163: UserWarning: Parsing '20/07/2017' in DD/MM/YYYY format. Provide format or specify infer_datetime_format=True for consistent parsing.\n",
      "  to_datetime(arr).values,\n",
      "/Users/ahmedhafez/opt/anaconda3/lib/python3.9/site-packages/pandas/core/dtypes/cast.py:1163: UserWarning: Parsing '22/12/2011' in DD/MM/YYYY format. Provide format or specify infer_datetime_format=True for consistent parsing.\n",
      "  to_datetime(arr).values,\n",
      "/Users/ahmedhafez/opt/anaconda3/lib/python3.9/site-packages/pandas/core/dtypes/cast.py:1163: UserWarning: Parsing '21/03/2017' in DD/MM/YYYY format. Provide format or specify infer_datetime_format=True for consistent parsing.\n",
      "  to_datetime(arr).values,\n",
      "/Users/ahmedhafez/opt/anaconda3/lib/python3.9/site-packages/pandas/core/dtypes/cast.py:1163: UserWarning: Parsing '25/01/2018' in DD/MM/YYYY format. Provide format or specify infer_datetime_format=True for consistent parsing.\n",
      "  to_datetime(arr).values,\n",
      "/Users/ahmedhafez/opt/anaconda3/lib/python3.9/site-packages/pandas/core/dtypes/cast.py:1163: UserWarning: Parsing '28/01/2016' in DD/MM/YYYY format. Provide format or specify infer_datetime_format=True for consistent parsing.\n",
      "  to_datetime(arr).values,\n",
      "/Users/ahmedhafez/opt/anaconda3/lib/python3.9/site-packages/pandas/core/dtypes/cast.py:1163: UserWarning: Parsing '15/05/2013' in DD/MM/YYYY format. Provide format or specify infer_datetime_format=True for consistent parsing.\n",
      "  to_datetime(arr).values,\n",
      "/Users/ahmedhafez/opt/anaconda3/lib/python3.9/site-packages/pandas/core/dtypes/cast.py:1163: UserWarning: Parsing '20/04/2016' in DD/MM/YYYY format. Provide format or specify infer_datetime_format=True for consistent parsing.\n",
      "  to_datetime(arr).values,\n",
      "/Users/ahmedhafez/opt/anaconda3/lib/python3.9/site-packages/pandas/core/dtypes/cast.py:1163: UserWarning: Parsing '28/06/2011' in DD/MM/YYYY format. Provide format or specify infer_datetime_format=True for consistent parsing.\n",
      "  to_datetime(arr).values,\n",
      "/Users/ahmedhafez/opt/anaconda3/lib/python3.9/site-packages/pandas/core/dtypes/cast.py:1163: UserWarning: Parsing '22/01/2014' in DD/MM/YYYY format. Provide format or specify infer_datetime_format=True for consistent parsing.\n",
      "  to_datetime(arr).values,\n",
      "/Users/ahmedhafez/opt/anaconda3/lib/python3.9/site-packages/pandas/core/dtypes/cast.py:1163: UserWarning: Parsing '25/12/2017' in DD/MM/YYYY format. Provide format or specify infer_datetime_format=True for consistent parsing.\n",
      "  to_datetime(arr).values,\n",
      "/Users/ahmedhafez/opt/anaconda3/lib/python3.9/site-packages/pandas/core/dtypes/cast.py:1163: UserWarning: Parsing '26/05/2017' in DD/MM/YYYY format. Provide format or specify infer_datetime_format=True for consistent parsing.\n",
      "  to_datetime(arr).values,\n",
      "/Users/ahmedhafez/opt/anaconda3/lib/python3.9/site-packages/pandas/core/dtypes/cast.py:1163: UserWarning: Parsing '14/09/2015' in DD/MM/YYYY format. Provide format or specify infer_datetime_format=True for consistent parsing.\n",
      "  to_datetime(arr).values,\n",
      "/Users/ahmedhafez/opt/anaconda3/lib/python3.9/site-packages/pandas/core/dtypes/cast.py:1163: UserWarning: Parsing '18/03/2015' in DD/MM/YYYY format. Provide format or specify infer_datetime_format=True for consistent parsing.\n",
      "  to_datetime(arr).values,\n",
      "/Users/ahmedhafez/opt/anaconda3/lib/python3.9/site-packages/pandas/core/dtypes/cast.py:1163: UserWarning: Parsing '27/10/2016' in DD/MM/YYYY format. Provide format or specify infer_datetime_format=True for consistent parsing.\n",
      "  to_datetime(arr).values,\n",
      "/Users/ahmedhafez/opt/anaconda3/lib/python3.9/site-packages/pandas/core/dtypes/cast.py:1163: UserWarning: Parsing '24/03/2014' in DD/MM/YYYY format. Provide format or specify infer_datetime_format=True for consistent parsing.\n",
      "  to_datetime(arr).values,\n",
      "/Users/ahmedhafez/opt/anaconda3/lib/python3.9/site-packages/pandas/core/dtypes/cast.py:1163: UserWarning: Parsing '25/11/2014' in DD/MM/YYYY format. Provide format or specify infer_datetime_format=True for consistent parsing.\n",
      "  to_datetime(arr).values,\n",
      "/Users/ahmedhafez/opt/anaconda3/lib/python3.9/site-packages/pandas/core/dtypes/cast.py:1163: UserWarning: Parsing '31/05/2012' in DD/MM/YYYY format. Provide format or specify infer_datetime_format=True for consistent parsing.\n",
      "  to_datetime(arr).values,\n",
      "/Users/ahmedhafez/opt/anaconda3/lib/python3.9/site-packages/pandas/core/dtypes/cast.py:1163: UserWarning: Parsing '27/08/2014' in DD/MM/YYYY format. Provide format or specify infer_datetime_format=True for consistent parsing.\n",
      "  to_datetime(arr).values,\n",
      "/Users/ahmedhafez/opt/anaconda3/lib/python3.9/site-packages/pandas/core/dtypes/cast.py:1163: UserWarning: Parsing '20/05/2017' in DD/MM/YYYY format. Provide format or specify infer_datetime_format=True for consistent parsing.\n",
      "  to_datetime(arr).values,\n",
      "/Users/ahmedhafez/opt/anaconda3/lib/python3.9/site-packages/pandas/core/dtypes/cast.py:1163: UserWarning: Parsing '17/12/2013' in DD/MM/YYYY format. Provide format or specify infer_datetime_format=True for consistent parsing.\n",
      "  to_datetime(arr).values,\n",
      "/Users/ahmedhafez/opt/anaconda3/lib/python3.9/site-packages/pandas/core/dtypes/cast.py:1163: UserWarning: Parsing '20/06/2018' in DD/MM/YYYY format. Provide format or specify infer_datetime_format=True for consistent parsing.\n",
      "  to_datetime(arr).values,\n",
      "/Users/ahmedhafez/opt/anaconda3/lib/python3.9/site-packages/pandas/core/dtypes/cast.py:1163: UserWarning: Parsing '26/01/2018' in DD/MM/YYYY format. Provide format or specify infer_datetime_format=True for consistent parsing.\n",
      "  to_datetime(arr).values,\n",
      "/Users/ahmedhafez/opt/anaconda3/lib/python3.9/site-packages/pandas/core/dtypes/cast.py:1163: UserWarning: Parsing '22/09/2017' in DD/MM/YYYY format. Provide format or specify infer_datetime_format=True for consistent parsing.\n",
      "  to_datetime(arr).values,\n",
      "/Users/ahmedhafez/opt/anaconda3/lib/python3.9/site-packages/pandas/core/dtypes/cast.py:1163: UserWarning: Parsing '15/04/2017' in DD/MM/YYYY format. Provide format or specify infer_datetime_format=True for consistent parsing.\n",
      "  to_datetime(arr).values,\n",
      "/Users/ahmedhafez/opt/anaconda3/lib/python3.9/site-packages/pandas/core/dtypes/cast.py:1163: UserWarning: Parsing '28/04/2019' in DD/MM/YYYY format. Provide format or specify infer_datetime_format=True for consistent parsing.\n",
      "  to_datetime(arr).values,\n",
      "/Users/ahmedhafez/opt/anaconda3/lib/python3.9/site-packages/pandas/core/dtypes/cast.py:1163: UserWarning: Parsing '30/01/2013' in DD/MM/YYYY format. Provide format or specify infer_datetime_format=True for consistent parsing.\n",
      "  to_datetime(arr).values,\n",
      "/Users/ahmedhafez/opt/anaconda3/lib/python3.9/site-packages/pandas/core/dtypes/cast.py:1163: UserWarning: Parsing '13/06/2009' in DD/MM/YYYY format. Provide format or specify infer_datetime_format=True for consistent parsing.\n",
      "  to_datetime(arr).values,\n",
      "/Users/ahmedhafez/opt/anaconda3/lib/python3.9/site-packages/pandas/core/dtypes/cast.py:1163: UserWarning: Parsing '27/01/2016' in DD/MM/YYYY format. Provide format or specify infer_datetime_format=True for consistent parsing.\n",
      "  to_datetime(arr).values,\n",
      "/Users/ahmedhafez/opt/anaconda3/lib/python3.9/site-packages/pandas/core/dtypes/cast.py:1163: UserWarning: Parsing '22/04/2015' in DD/MM/YYYY format. Provide format or specify infer_datetime_format=True for consistent parsing.\n",
      "  to_datetime(arr).values,\n",
      "/Users/ahmedhafez/opt/anaconda3/lib/python3.9/site-packages/pandas/core/dtypes/cast.py:1163: UserWarning: Parsing '20/07/2014' in DD/MM/YYYY format. Provide format or specify infer_datetime_format=True for consistent parsing.\n",
      "  to_datetime(arr).values,\n",
      "/Users/ahmedhafez/opt/anaconda3/lib/python3.9/site-packages/pandas/core/dtypes/cast.py:1163: UserWarning: Parsing '19/12/2013' in DD/MM/YYYY format. Provide format or specify infer_datetime_format=True for consistent parsing.\n",
      "  to_datetime(arr).values,\n",
      "/Users/ahmedhafez/opt/anaconda3/lib/python3.9/site-packages/pandas/core/dtypes/cast.py:1163: UserWarning: Parsing '29/12/2017' in DD/MM/YYYY format. Provide format or specify infer_datetime_format=True for consistent parsing.\n",
      "  to_datetime(arr).values,\n",
      "/Users/ahmedhafez/opt/anaconda3/lib/python3.9/site-packages/pandas/core/dtypes/cast.py:1163: UserWarning: Parsing '13/06/2015' in DD/MM/YYYY format. Provide format or specify infer_datetime_format=True for consistent parsing.\n",
      "  to_datetime(arr).values,\n",
      "/Users/ahmedhafez/opt/anaconda3/lib/python3.9/site-packages/pandas/core/dtypes/cast.py:1163: UserWarning: Parsing '22/04/2016' in DD/MM/YYYY format. Provide format or specify infer_datetime_format=True for consistent parsing.\n",
      "  to_datetime(arr).values,\n",
      "/Users/ahmedhafez/opt/anaconda3/lib/python3.9/site-packages/pandas/core/dtypes/cast.py:1163: UserWarning: Parsing '25/07/2018' in DD/MM/YYYY format. Provide format or specify infer_datetime_format=True for consistent parsing.\n",
      "  to_datetime(arr).values,\n",
      "/Users/ahmedhafez/opt/anaconda3/lib/python3.9/site-packages/pandas/core/dtypes/cast.py:1163: UserWarning: Parsing '16/09/2014' in DD/MM/YYYY format. Provide format or specify infer_datetime_format=True for consistent parsing.\n",
      "  to_datetime(arr).values,\n",
      "/Users/ahmedhafez/opt/anaconda3/lib/python3.9/site-packages/pandas/core/dtypes/cast.py:1163: UserWarning: Parsing '15/09/2014' in DD/MM/YYYY format. Provide format or specify infer_datetime_format=True for consistent parsing.\n",
      "  to_datetime(arr).values,\n",
      "/Users/ahmedhafez/opt/anaconda3/lib/python3.9/site-packages/pandas/core/dtypes/cast.py:1163: UserWarning: Parsing '14/03/2017' in DD/MM/YYYY format. Provide format or specify infer_datetime_format=True for consistent parsing.\n",
      "  to_datetime(arr).values,\n",
      "/Users/ahmedhafez/opt/anaconda3/lib/python3.9/site-packages/pandas/core/dtypes/cast.py:1163: UserWarning: Parsing '19/04/2016' in DD/MM/YYYY format. Provide format or specify infer_datetime_format=True for consistent parsing.\n",
      "  to_datetime(arr).values,\n",
      "/Users/ahmedhafez/opt/anaconda3/lib/python3.9/site-packages/pandas/core/dtypes/cast.py:1163: UserWarning: Parsing '21/09/2016' in DD/MM/YYYY format. Provide format or specify infer_datetime_format=True for consistent parsing.\n",
      "  to_datetime(arr).values,\n",
      "/Users/ahmedhafez/opt/anaconda3/lib/python3.9/site-packages/pandas/core/dtypes/cast.py:1163: UserWarning: Parsing '25/06/2013' in DD/MM/YYYY format. Provide format or specify infer_datetime_format=True for consistent parsing.\n",
      "  to_datetime(arr).values,\n",
      "/Users/ahmedhafez/opt/anaconda3/lib/python3.9/site-packages/pandas/core/dtypes/cast.py:1163: UserWarning: Parsing '15/11/2012' in DD/MM/YYYY format. Provide format or specify infer_datetime_format=True for consistent parsing.\n",
      "  to_datetime(arr).values,\n",
      "/Users/ahmedhafez/opt/anaconda3/lib/python3.9/site-packages/pandas/core/dtypes/cast.py:1163: UserWarning: Parsing '30/03/2014' in DD/MM/YYYY format. Provide format or specify infer_datetime_format=True for consistent parsing.\n",
      "  to_datetime(arr).values,\n",
      "/Users/ahmedhafez/opt/anaconda3/lib/python3.9/site-packages/pandas/core/dtypes/cast.py:1163: UserWarning: Parsing '20/01/2016' in DD/MM/YYYY format. Provide format or specify infer_datetime_format=True for consistent parsing.\n",
      "  to_datetime(arr).values,\n",
      "/Users/ahmedhafez/opt/anaconda3/lib/python3.9/site-packages/pandas/core/dtypes/cast.py:1163: UserWarning: Parsing '20/06/2013' in DD/MM/YYYY format. Provide format or specify infer_datetime_format=True for consistent parsing.\n",
      "  to_datetime(arr).values,\n",
      "/Users/ahmedhafez/opt/anaconda3/lib/python3.9/site-packages/pandas/core/dtypes/cast.py:1163: UserWarning: Parsing '30/09/2013' in DD/MM/YYYY format. Provide format or specify infer_datetime_format=True for consistent parsing.\n",
      "  to_datetime(arr).values,\n",
      "/Users/ahmedhafez/opt/anaconda3/lib/python3.9/site-packages/pandas/core/dtypes/cast.py:1163: UserWarning: Parsing '13/01/2017' in DD/MM/YYYY format. Provide format or specify infer_datetime_format=True for consistent parsing.\n",
      "  to_datetime(arr).values,\n",
      "/Users/ahmedhafez/opt/anaconda3/lib/python3.9/site-packages/pandas/core/dtypes/cast.py:1163: UserWarning: Parsing '16/06/2015' in DD/MM/YYYY format. Provide format or specify infer_datetime_format=True for consistent parsing.\n",
      "  to_datetime(arr).values,\n",
      "/Users/ahmedhafez/opt/anaconda3/lib/python3.9/site-packages/pandas/core/dtypes/cast.py:1163: UserWarning: Parsing '25/06/2018' in DD/MM/YYYY format. Provide format or specify infer_datetime_format=True for consistent parsing.\n",
      "  to_datetime(arr).values,\n",
      "/Users/ahmedhafez/opt/anaconda3/lib/python3.9/site-packages/pandas/core/dtypes/cast.py:1163: UserWarning: Parsing '31/10/2017' in DD/MM/YYYY format. Provide format or specify infer_datetime_format=True for consistent parsing.\n",
      "  to_datetime(arr).values,\n",
      "/Users/ahmedhafez/opt/anaconda3/lib/python3.9/site-packages/pandas/core/dtypes/cast.py:1163: UserWarning: Parsing '20/09/2016' in DD/MM/YYYY format. Provide format or specify infer_datetime_format=True for consistent parsing.\n",
      "  to_datetime(arr).values,\n",
      "/Users/ahmedhafez/opt/anaconda3/lib/python3.9/site-packages/pandas/core/dtypes/cast.py:1163: UserWarning: Parsing '24/10/2016' in DD/MM/YYYY format. Provide format or specify infer_datetime_format=True for consistent parsing.\n",
      "  to_datetime(arr).values,\n",
      "/Users/ahmedhafez/opt/anaconda3/lib/python3.9/site-packages/pandas/core/dtypes/cast.py:1163: UserWarning: Parsing '18/11/2015' in DD/MM/YYYY format. Provide format or specify infer_datetime_format=True for consistent parsing.\n",
      "  to_datetime(arr).values,\n",
      "/Users/ahmedhafez/opt/anaconda3/lib/python3.9/site-packages/pandas/core/dtypes/cast.py:1163: UserWarning: Parsing '25/06/2015' in DD/MM/YYYY format. Provide format or specify infer_datetime_format=True for consistent parsing.\n",
      "  to_datetime(arr).values,\n",
      "/Users/ahmedhafez/opt/anaconda3/lib/python3.9/site-packages/pandas/core/dtypes/cast.py:1163: UserWarning: Parsing '14/03/2010' in DD/MM/YYYY format. Provide format or specify infer_datetime_format=True for consistent parsing.\n",
      "  to_datetime(arr).values,\n",
      "/Users/ahmedhafez/opt/anaconda3/lib/python3.9/site-packages/pandas/core/dtypes/cast.py:1163: UserWarning: Parsing '25/02/2010' in DD/MM/YYYY format. Provide format or specify infer_datetime_format=True for consistent parsing.\n",
      "  to_datetime(arr).values,\n",
      "/Users/ahmedhafez/opt/anaconda3/lib/python3.9/site-packages/pandas/core/dtypes/cast.py:1163: UserWarning: Parsing '20/08/2010' in DD/MM/YYYY format. Provide format or specify infer_datetime_format=True for consistent parsing.\n",
      "  to_datetime(arr).values,\n",
      "/Users/ahmedhafez/opt/anaconda3/lib/python3.9/site-packages/pandas/core/dtypes/cast.py:1163: UserWarning: Parsing '19/05/2014' in DD/MM/YYYY format. Provide format or specify infer_datetime_format=True for consistent parsing.\n",
      "  to_datetime(arr).values,\n",
      "/Users/ahmedhafez/opt/anaconda3/lib/python3.9/site-packages/pandas/core/dtypes/cast.py:1163: UserWarning: Parsing '17/10/2018' in DD/MM/YYYY format. Provide format or specify infer_datetime_format=True for consistent parsing.\n",
      "  to_datetime(arr).values,\n",
      "/Users/ahmedhafez/opt/anaconda3/lib/python3.9/site-packages/pandas/core/dtypes/cast.py:1163: UserWarning: Parsing '22/05/2011' in DD/MM/YYYY format. Provide format or specify infer_datetime_format=True for consistent parsing.\n",
      "  to_datetime(arr).values,\n",
      "/Users/ahmedhafez/opt/anaconda3/lib/python3.9/site-packages/pandas/core/dtypes/cast.py:1163: UserWarning: Parsing '13/05/2018' in DD/MM/YYYY format. Provide format or specify infer_datetime_format=True for consistent parsing.\n",
      "  to_datetime(arr).values,\n",
      "/Users/ahmedhafez/opt/anaconda3/lib/python3.9/site-packages/pandas/core/dtypes/cast.py:1163: UserWarning: Parsing '21/12/2016' in DD/MM/YYYY format. Provide format or specify infer_datetime_format=True for consistent parsing.\n",
      "  to_datetime(arr).values,\n",
      "/Users/ahmedhafez/opt/anaconda3/lib/python3.9/site-packages/pandas/core/dtypes/cast.py:1163: UserWarning: Parsing '24/11/2015' in DD/MM/YYYY format. Provide format or specify infer_datetime_format=True for consistent parsing.\n",
      "  to_datetime(arr).values,\n",
      "/Users/ahmedhafez/opt/anaconda3/lib/python3.9/site-packages/pandas/core/dtypes/cast.py:1163: UserWarning: Parsing '16/11/2017' in DD/MM/YYYY format. Provide format or specify infer_datetime_format=True for consistent parsing.\n",
      "  to_datetime(arr).values,\n",
      "/Users/ahmedhafez/opt/anaconda3/lib/python3.9/site-packages/pandas/core/dtypes/cast.py:1163: UserWarning: Parsing '21/04/2017' in DD/MM/YYYY format. Provide format or specify infer_datetime_format=True for consistent parsing.\n",
      "  to_datetime(arr).values,\n",
      "/Users/ahmedhafez/opt/anaconda3/lib/python3.9/site-packages/pandas/core/dtypes/cast.py:1163: UserWarning: Parsing '24/07/2016' in DD/MM/YYYY format. Provide format or specify infer_datetime_format=True for consistent parsing.\n",
      "  to_datetime(arr).values,\n",
      "/Users/ahmedhafez/opt/anaconda3/lib/python3.9/site-packages/pandas/core/dtypes/cast.py:1163: UserWarning: Parsing '16/09/2016' in DD/MM/YYYY format. Provide format or specify infer_datetime_format=True for consistent parsing.\n",
      "  to_datetime(arr).values,\n",
      "/Users/ahmedhafez/opt/anaconda3/lib/python3.9/site-packages/pandas/core/dtypes/cast.py:1163: UserWarning: Parsing '17/01/2018' in DD/MM/YYYY format. Provide format or specify infer_datetime_format=True for consistent parsing.\n",
      "  to_datetime(arr).values,\n",
      "/Users/ahmedhafez/opt/anaconda3/lib/python3.9/site-packages/pandas/core/dtypes/cast.py:1163: UserWarning: Parsing '19/01/2016' in DD/MM/YYYY format. Provide format or specify infer_datetime_format=True for consistent parsing.\n",
      "  to_datetime(arr).values,\n",
      "/Users/ahmedhafez/opt/anaconda3/lib/python3.9/site-packages/pandas/core/dtypes/cast.py:1163: UserWarning: Parsing '24/03/2019' in DD/MM/YYYY format. Provide format or specify infer_datetime_format=True for consistent parsing.\n",
      "  to_datetime(arr).values,\n",
      "/Users/ahmedhafez/opt/anaconda3/lib/python3.9/site-packages/pandas/core/dtypes/cast.py:1163: UserWarning: Parsing '20/09/2011' in DD/MM/YYYY format. Provide format or specify infer_datetime_format=True for consistent parsing.\n",
      "  to_datetime(arr).values,\n",
      "/Users/ahmedhafez/opt/anaconda3/lib/python3.9/site-packages/pandas/core/dtypes/cast.py:1163: UserWarning: Parsing '21/01/2018' in DD/MM/YYYY format. Provide format or specify infer_datetime_format=True for consistent parsing.\n",
      "  to_datetime(arr).values,\n",
      "/Users/ahmedhafez/opt/anaconda3/lib/python3.9/site-packages/pandas/core/dtypes/cast.py:1163: UserWarning: Parsing '17/09/2011' in DD/MM/YYYY format. Provide format or specify infer_datetime_format=True for consistent parsing.\n",
      "  to_datetime(arr).values,\n",
      "/Users/ahmedhafez/opt/anaconda3/lib/python3.9/site-packages/pandas/core/dtypes/cast.py:1163: UserWarning: Parsing '29/08/2015' in DD/MM/YYYY format. Provide format or specify infer_datetime_format=True for consistent parsing.\n",
      "  to_datetime(arr).values,\n",
      "/Users/ahmedhafez/opt/anaconda3/lib/python3.9/site-packages/pandas/core/dtypes/cast.py:1163: UserWarning: Parsing '21/09/2015' in DD/MM/YYYY format. Provide format or specify infer_datetime_format=True for consistent parsing.\n",
      "  to_datetime(arr).values,\n",
      "/Users/ahmedhafez/opt/anaconda3/lib/python3.9/site-packages/pandas/core/dtypes/cast.py:1163: UserWarning: Parsing '17/02/2018' in DD/MM/YYYY format. Provide format or specify infer_datetime_format=True for consistent parsing.\n",
      "  to_datetime(arr).values,\n",
      "/Users/ahmedhafez/opt/anaconda3/lib/python3.9/site-packages/pandas/core/dtypes/cast.py:1163: UserWarning: Parsing '28/01/2013' in DD/MM/YYYY format. Provide format or specify infer_datetime_format=True for consistent parsing.\n",
      "  to_datetime(arr).values,\n",
      "/Users/ahmedhafez/opt/anaconda3/lib/python3.9/site-packages/pandas/core/dtypes/cast.py:1163: UserWarning: Parsing '21/08/2012' in DD/MM/YYYY format. Provide format or specify infer_datetime_format=True for consistent parsing.\n",
      "  to_datetime(arr).values,\n",
      "/Users/ahmedhafez/opt/anaconda3/lib/python3.9/site-packages/pandas/core/dtypes/cast.py:1163: UserWarning: Parsing '31/07/2019' in DD/MM/YYYY format. Provide format or specify infer_datetime_format=True for consistent parsing.\n",
      "  to_datetime(arr).values,\n",
      "/Users/ahmedhafez/opt/anaconda3/lib/python3.9/site-packages/pandas/core/dtypes/cast.py:1163: UserWarning: Parsing '25/01/2013' in DD/MM/YYYY format. Provide format or specify infer_datetime_format=True for consistent parsing.\n",
      "  to_datetime(arr).values,\n",
      "/Users/ahmedhafez/opt/anaconda3/lib/python3.9/site-packages/pandas/core/dtypes/cast.py:1163: UserWarning: Parsing '13/07/2016' in DD/MM/YYYY format. Provide format or specify infer_datetime_format=True for consistent parsing.\n",
      "  to_datetime(arr).values,\n",
      "/Users/ahmedhafez/opt/anaconda3/lib/python3.9/site-packages/pandas/core/dtypes/cast.py:1163: UserWarning: Parsing '18/10/2013' in DD/MM/YYYY format. Provide format or specify infer_datetime_format=True for consistent parsing.\n",
      "  to_datetime(arr).values,\n",
      "/Users/ahmedhafez/opt/anaconda3/lib/python3.9/site-packages/pandas/core/dtypes/cast.py:1163: UserWarning: Parsing '29/10/2016' in DD/MM/YYYY format. Provide format or specify infer_datetime_format=True for consistent parsing.\n",
      "  to_datetime(arr).values,\n",
      "/Users/ahmedhafez/opt/anaconda3/lib/python3.9/site-packages/pandas/core/dtypes/cast.py:1163: UserWarning: Parsing '21/11/2012' in DD/MM/YYYY format. Provide format or specify infer_datetime_format=True for consistent parsing.\n",
      "  to_datetime(arr).values,\n",
      "/Users/ahmedhafez/opt/anaconda3/lib/python3.9/site-packages/pandas/core/dtypes/cast.py:1163: UserWarning: Parsing '25/04/2019' in DD/MM/YYYY format. Provide format or specify infer_datetime_format=True for consistent parsing.\n",
      "  to_datetime(arr).values,\n",
      "/Users/ahmedhafez/opt/anaconda3/lib/python3.9/site-packages/pandas/core/dtypes/cast.py:1163: UserWarning: Parsing '16/11/2016' in DD/MM/YYYY format. Provide format or specify infer_datetime_format=True for consistent parsing.\n",
      "  to_datetime(arr).values,\n",
      "/Users/ahmedhafez/opt/anaconda3/lib/python3.9/site-packages/pandas/core/dtypes/cast.py:1163: UserWarning: Parsing '30/05/2015' in DD/MM/YYYY format. Provide format or specify infer_datetime_format=True for consistent parsing.\n",
      "  to_datetime(arr).values,\n",
      "/Users/ahmedhafez/opt/anaconda3/lib/python3.9/site-packages/pandas/core/dtypes/cast.py:1163: UserWarning: Parsing '18/12/2016' in DD/MM/YYYY format. Provide format or specify infer_datetime_format=True for consistent parsing.\n",
      "  to_datetime(arr).values,\n",
      "/Users/ahmedhafez/opt/anaconda3/lib/python3.9/site-packages/pandas/core/dtypes/cast.py:1163: UserWarning: Parsing '16/03/2016' in DD/MM/YYYY format. Provide format or specify infer_datetime_format=True for consistent parsing.\n",
      "  to_datetime(arr).values,\n",
      "/Users/ahmedhafez/opt/anaconda3/lib/python3.9/site-packages/pandas/core/dtypes/cast.py:1163: UserWarning: Parsing '14/12/2017' in DD/MM/YYYY format. Provide format or specify infer_datetime_format=True for consistent parsing.\n",
      "  to_datetime(arr).values,\n",
      "/Users/ahmedhafez/opt/anaconda3/lib/python3.9/site-packages/pandas/core/dtypes/cast.py:1163: UserWarning: Parsing '16/09/2017' in DD/MM/YYYY format. Provide format or specify infer_datetime_format=True for consistent parsing.\n",
      "  to_datetime(arr).values,\n",
      "/Users/ahmedhafez/opt/anaconda3/lib/python3.9/site-packages/pandas/core/dtypes/cast.py:1163: UserWarning: Parsing '26/06/2017' in DD/MM/YYYY format. Provide format or specify infer_datetime_format=True for consistent parsing.\n",
      "  to_datetime(arr).values,\n",
      "/Users/ahmedhafez/opt/anaconda3/lib/python3.9/site-packages/pandas/core/dtypes/cast.py:1163: UserWarning: Parsing '29/03/2018' in DD/MM/YYYY format. Provide format or specify infer_datetime_format=True for consistent parsing.\n",
      "  to_datetime(arr).values,\n",
      "/Users/ahmedhafez/opt/anaconda3/lib/python3.9/site-packages/pandas/core/dtypes/cast.py:1163: UserWarning: Parsing '31/05/2016' in DD/MM/YYYY format. Provide format or specify infer_datetime_format=True for consistent parsing.\n",
      "  to_datetime(arr).values,\n",
      "/Users/ahmedhafez/opt/anaconda3/lib/python3.9/site-packages/pandas/core/dtypes/cast.py:1163: UserWarning: Parsing '23/05/2015' in DD/MM/YYYY format. Provide format or specify infer_datetime_format=True for consistent parsing.\n",
      "  to_datetime(arr).values,\n",
      "/Users/ahmedhafez/opt/anaconda3/lib/python3.9/site-packages/pandas/core/dtypes/cast.py:1163: UserWarning: Parsing '20/04/2017' in DD/MM/YYYY format. Provide format or specify infer_datetime_format=True for consistent parsing.\n",
      "  to_datetime(arr).values,\n",
      "/Users/ahmedhafez/opt/anaconda3/lib/python3.9/site-packages/pandas/core/dtypes/cast.py:1163: UserWarning: Parsing '13/02/2017' in DD/MM/YYYY format. Provide format or specify infer_datetime_format=True for consistent parsing.\n",
      "  to_datetime(arr).values,\n",
      "/Users/ahmedhafez/opt/anaconda3/lib/python3.9/site-packages/pandas/core/dtypes/cast.py:1163: UserWarning: Parsing '20/10/2018' in DD/MM/YYYY format. Provide format or specify infer_datetime_format=True for consistent parsing.\n",
      "  to_datetime(arr).values,\n",
      "/Users/ahmedhafez/opt/anaconda3/lib/python3.9/site-packages/pandas/core/dtypes/cast.py:1163: UserWarning: Parsing '29/08/2014' in DD/MM/YYYY format. Provide format or specify infer_datetime_format=True for consistent parsing.\n",
      "  to_datetime(arr).values,\n",
      "/Users/ahmedhafez/opt/anaconda3/lib/python3.9/site-packages/pandas/core/dtypes/cast.py:1163: UserWarning: Parsing '26/03/2018' in DD/MM/YYYY format. Provide format or specify infer_datetime_format=True for consistent parsing.\n",
      "  to_datetime(arr).values,\n",
      "/Users/ahmedhafez/opt/anaconda3/lib/python3.9/site-packages/pandas/core/dtypes/cast.py:1163: UserWarning: Parsing '27/11/2011' in DD/MM/YYYY format. Provide format or specify infer_datetime_format=True for consistent parsing.\n",
      "  to_datetime(arr).values,\n",
      "/Users/ahmedhafez/opt/anaconda3/lib/python3.9/site-packages/pandas/core/dtypes/cast.py:1163: UserWarning: Parsing '19/09/2017' in DD/MM/YYYY format. Provide format or specify infer_datetime_format=True for consistent parsing.\n",
      "  to_datetime(arr).values,\n",
      "/Users/ahmedhafez/opt/anaconda3/lib/python3.9/site-packages/pandas/core/dtypes/cast.py:1163: UserWarning: Parsing '20/05/2015' in DD/MM/YYYY format. Provide format or specify infer_datetime_format=True for consistent parsing.\n",
      "  to_datetime(arr).values,\n",
      "/Users/ahmedhafez/opt/anaconda3/lib/python3.9/site-packages/pandas/core/dtypes/cast.py:1163: UserWarning: Parsing '15/11/2016' in DD/MM/YYYY format. Provide format or specify infer_datetime_format=True for consistent parsing.\n",
      "  to_datetime(arr).values,\n",
      "/Users/ahmedhafez/opt/anaconda3/lib/python3.9/site-packages/pandas/core/dtypes/cast.py:1163: UserWarning: Parsing '22/06/2016' in DD/MM/YYYY format. Provide format or specify infer_datetime_format=True for consistent parsing.\n",
      "  to_datetime(arr).values,\n",
      "/Users/ahmedhafez/opt/anaconda3/lib/python3.9/site-packages/pandas/core/dtypes/cast.py:1163: UserWarning: Parsing '25/04/2015' in DD/MM/YYYY format. Provide format or specify infer_datetime_format=True for consistent parsing.\n",
      "  to_datetime(arr).values,\n",
      "/Users/ahmedhafez/opt/anaconda3/lib/python3.9/site-packages/pandas/core/dtypes/cast.py:1163: UserWarning: Parsing '22/11/2018' in DD/MM/YYYY format. Provide format or specify infer_datetime_format=True for consistent parsing.\n",
      "  to_datetime(arr).values,\n",
      "/Users/ahmedhafez/opt/anaconda3/lib/python3.9/site-packages/pandas/core/dtypes/cast.py:1163: UserWarning: Parsing '25/08/2011' in DD/MM/YYYY format. Provide format or specify infer_datetime_format=True for consistent parsing.\n",
      "  to_datetime(arr).values,\n",
      "/Users/ahmedhafez/opt/anaconda3/lib/python3.9/site-packages/pandas/core/dtypes/cast.py:1163: UserWarning: Parsing '31/07/2013' in DD/MM/YYYY format. Provide format or specify infer_datetime_format=True for consistent parsing.\n",
      "  to_datetime(arr).values,\n",
      "/Users/ahmedhafez/opt/anaconda3/lib/python3.9/site-packages/pandas/core/dtypes/cast.py:1163: UserWarning: Parsing '26/10/2016' in DD/MM/YYYY format. Provide format or specify infer_datetime_format=True for consistent parsing.\n",
      "  to_datetime(arr).values,\n",
      "/Users/ahmedhafez/opt/anaconda3/lib/python3.9/site-packages/pandas/core/dtypes/cast.py:1163: UserWarning: Parsing '20/03/2010' in DD/MM/YYYY format. Provide format or specify infer_datetime_format=True for consistent parsing.\n",
      "  to_datetime(arr).values,\n",
      "/Users/ahmedhafez/opt/anaconda3/lib/python3.9/site-packages/pandas/core/dtypes/cast.py:1163: UserWarning: Parsing '16/05/2016' in DD/MM/YYYY format. Provide format or specify infer_datetime_format=True for consistent parsing.\n",
      "  to_datetime(arr).values,\n",
      "/Users/ahmedhafez/opt/anaconda3/lib/python3.9/site-packages/pandas/core/dtypes/cast.py:1163: UserWarning: Parsing '27/01/2017' in DD/MM/YYYY format. Provide format or specify infer_datetime_format=True for consistent parsing.\n",
      "  to_datetime(arr).values,\n",
      "/Users/ahmedhafez/opt/anaconda3/lib/python3.9/site-packages/pandas/core/dtypes/cast.py:1163: UserWarning: Parsing '28/03/2011' in DD/MM/YYYY format. Provide format or specify infer_datetime_format=True for consistent parsing.\n",
      "  to_datetime(arr).values,\n",
      "/Users/ahmedhafez/opt/anaconda3/lib/python3.9/site-packages/pandas/core/dtypes/cast.py:1163: UserWarning: Parsing '15/05/2012' in DD/MM/YYYY format. Provide format or specify infer_datetime_format=True for consistent parsing.\n",
      "  to_datetime(arr).values,\n",
      "/Users/ahmedhafez/opt/anaconda3/lib/python3.9/site-packages/pandas/core/dtypes/cast.py:1163: UserWarning: Parsing '14/11/2013' in DD/MM/YYYY format. Provide format or specify infer_datetime_format=True for consistent parsing.\n",
      "  to_datetime(arr).values,\n",
      "/Users/ahmedhafez/opt/anaconda3/lib/python3.9/site-packages/pandas/core/dtypes/cast.py:1163: UserWarning: Parsing '23/04/2017' in DD/MM/YYYY format. Provide format or specify infer_datetime_format=True for consistent parsing.\n",
      "  to_datetime(arr).values,\n",
      "/Users/ahmedhafez/opt/anaconda3/lib/python3.9/site-packages/pandas/core/dtypes/cast.py:1163: UserWarning: Parsing '20/09/2017' in DD/MM/YYYY format. Provide format or specify infer_datetime_format=True for consistent parsing.\n",
      "  to_datetime(arr).values,\n",
      "/Users/ahmedhafez/opt/anaconda3/lib/python3.9/site-packages/pandas/core/dtypes/cast.py:1163: UserWarning: Parsing '19/09/2013' in DD/MM/YYYY format. Provide format or specify infer_datetime_format=True for consistent parsing.\n",
      "  to_datetime(arr).values,\n",
      "/Users/ahmedhafez/opt/anaconda3/lib/python3.9/site-packages/pandas/core/dtypes/cast.py:1163: UserWarning: Parsing '15/07/2016' in DD/MM/YYYY format. Provide format or specify infer_datetime_format=True for consistent parsing.\n",
      "  to_datetime(arr).values,\n",
      "/Users/ahmedhafez/opt/anaconda3/lib/python3.9/site-packages/pandas/core/dtypes/cast.py:1163: UserWarning: Parsing '31/10/2013' in DD/MM/YYYY format. Provide format or specify infer_datetime_format=True for consistent parsing.\n",
      "  to_datetime(arr).values,\n",
      "/Users/ahmedhafez/opt/anaconda3/lib/python3.9/site-packages/pandas/core/dtypes/cast.py:1163: UserWarning: Parsing '30/07/2016' in DD/MM/YYYY format. Provide format or specify infer_datetime_format=True for consistent parsing.\n",
      "  to_datetime(arr).values,\n",
      "/Users/ahmedhafez/opt/anaconda3/lib/python3.9/site-packages/pandas/core/dtypes/cast.py:1163: UserWarning: Parsing '15/06/2019' in DD/MM/YYYY format. Provide format or specify infer_datetime_format=True for consistent parsing.\n",
      "  to_datetime(arr).values,\n",
      "/Users/ahmedhafez/opt/anaconda3/lib/python3.9/site-packages/pandas/core/dtypes/cast.py:1163: UserWarning: Parsing '18/12/2013' in DD/MM/YYYY format. Provide format or specify infer_datetime_format=True for consistent parsing.\n",
      "  to_datetime(arr).values,\n",
      "/Users/ahmedhafez/opt/anaconda3/lib/python3.9/site-packages/pandas/core/dtypes/cast.py:1163: UserWarning: Parsing '26/08/2015' in DD/MM/YYYY format. Provide format or specify infer_datetime_format=True for consistent parsing.\n",
      "  to_datetime(arr).values,\n",
      "/Users/ahmedhafez/opt/anaconda3/lib/python3.9/site-packages/pandas/core/dtypes/cast.py:1163: UserWarning: Parsing '18/08/2018' in DD/MM/YYYY format. Provide format or specify infer_datetime_format=True for consistent parsing.\n",
      "  to_datetime(arr).values,\n",
      "/Users/ahmedhafez/opt/anaconda3/lib/python3.9/site-packages/pandas/core/dtypes/cast.py:1163: UserWarning: Parsing '29/07/2012' in DD/MM/YYYY format. Provide format or specify infer_datetime_format=True for consistent parsing.\n",
      "  to_datetime(arr).values,\n",
      "/Users/ahmedhafez/opt/anaconda3/lib/python3.9/site-packages/pandas/core/dtypes/cast.py:1163: UserWarning: Parsing '14/06/2013' in DD/MM/YYYY format. Provide format or specify infer_datetime_format=True for consistent parsing.\n",
      "  to_datetime(arr).values,\n",
      "/Users/ahmedhafez/opt/anaconda3/lib/python3.9/site-packages/pandas/core/dtypes/cast.py:1163: UserWarning: Parsing '30/06/2017' in DD/MM/YYYY format. Provide format or specify infer_datetime_format=True for consistent parsing.\n",
      "  to_datetime(arr).values,\n",
      "/Users/ahmedhafez/opt/anaconda3/lib/python3.9/site-packages/pandas/core/dtypes/cast.py:1163: UserWarning: Parsing '19/08/2014' in DD/MM/YYYY format. Provide format or specify infer_datetime_format=True for consistent parsing.\n",
      "  to_datetime(arr).values,\n",
      "/Users/ahmedhafez/opt/anaconda3/lib/python3.9/site-packages/pandas/core/dtypes/cast.py:1163: UserWarning: Parsing '16/04/2018' in DD/MM/YYYY format. Provide format or specify infer_datetime_format=True for consistent parsing.\n",
      "  to_datetime(arr).values,\n",
      "/Users/ahmedhafez/opt/anaconda3/lib/python3.9/site-packages/pandas/core/dtypes/cast.py:1163: UserWarning: Parsing '24/04/2018' in DD/MM/YYYY format. Provide format or specify infer_datetime_format=True for consistent parsing.\n",
      "  to_datetime(arr).values,\n",
      "/Users/ahmedhafez/opt/anaconda3/lib/python3.9/site-packages/pandas/core/dtypes/cast.py:1163: UserWarning: Parsing '16/03/2018' in DD/MM/YYYY format. Provide format or specify infer_datetime_format=True for consistent parsing.\n",
      "  to_datetime(arr).values,\n",
      "/Users/ahmedhafez/opt/anaconda3/lib/python3.9/site-packages/pandas/core/dtypes/cast.py:1163: UserWarning: Parsing '22/04/2019' in DD/MM/YYYY format. Provide format or specify infer_datetime_format=True for consistent parsing.\n",
      "  to_datetime(arr).values,\n",
      "/Users/ahmedhafez/opt/anaconda3/lib/python3.9/site-packages/pandas/core/dtypes/cast.py:1163: UserWarning: Parsing '27/05/2019' in DD/MM/YYYY format. Provide format or specify infer_datetime_format=True for consistent parsing.\n",
      "  to_datetime(arr).values,\n",
      "/Users/ahmedhafez/opt/anaconda3/lib/python3.9/site-packages/pandas/core/dtypes/cast.py:1163: UserWarning: Parsing '22/08/2017' in DD/MM/YYYY format. Provide format or specify infer_datetime_format=True for consistent parsing.\n",
      "  to_datetime(arr).values,\n",
      "/Users/ahmedhafez/opt/anaconda3/lib/python3.9/site-packages/pandas/core/dtypes/cast.py:1163: UserWarning: Parsing '28/07/2019' in DD/MM/YYYY format. Provide format or specify infer_datetime_format=True for consistent parsing.\n",
      "  to_datetime(arr).values,\n",
      "/Users/ahmedhafez/opt/anaconda3/lib/python3.9/site-packages/pandas/core/dtypes/cast.py:1163: UserWarning: Parsing '22/07/2019' in DD/MM/YYYY format. Provide format or specify infer_datetime_format=True for consistent parsing.\n",
      "  to_datetime(arr).values,\n",
      "/Users/ahmedhafez/opt/anaconda3/lib/python3.9/site-packages/pandas/core/dtypes/cast.py:1163: UserWarning: Parsing '31/07/2019' in DD/MM/YYYY format. Provide format or specify infer_datetime_format=True for consistent parsing.\n",
      "  to_datetime(arr).values,\n",
      "/Users/ahmedhafez/opt/anaconda3/lib/python3.9/site-packages/pandas/core/dtypes/cast.py:1163: UserWarning: Parsing '30/07/2019' in DD/MM/YYYY format. Provide format or specify infer_datetime_format=True for consistent parsing.\n",
      "  to_datetime(arr).values,\n",
      "/Users/ahmedhafez/opt/anaconda3/lib/python3.9/site-packages/pandas/core/dtypes/cast.py:1163: UserWarning: Parsing '22/12/2017' in DD/MM/YYYY format. Provide format or specify infer_datetime_format=True for consistent parsing.\n",
      "  to_datetime(arr).values,\n",
      "/Users/ahmedhafez/opt/anaconda3/lib/python3.9/site-packages/pandas/core/dtypes/cast.py:1163: UserWarning: Parsing '23/08/2018' in DD/MM/YYYY format. Provide format or specify infer_datetime_format=True for consistent parsing.\n",
      "  to_datetime(arr).values,\n",
      "/Users/ahmedhafez/opt/anaconda3/lib/python3.9/site-packages/pandas/core/dtypes/cast.py:1163: UserWarning: Parsing '17/07/2019' in DD/MM/YYYY format. Provide format or specify infer_datetime_format=True for consistent parsing.\n",
      "  to_datetime(arr).values,\n",
      "/Users/ahmedhafez/opt/anaconda3/lib/python3.9/site-packages/pandas/core/dtypes/cast.py:1163: UserWarning: Parsing '25/09/2017' in DD/MM/YYYY format. Provide format or specify infer_datetime_format=True for consistent parsing.\n",
      "  to_datetime(arr).values,\n",
      "/Users/ahmedhafez/opt/anaconda3/lib/python3.9/site-packages/pandas/core/dtypes/cast.py:1163: UserWarning: Parsing '30/08/2018' in DD/MM/YYYY format. Provide format or specify infer_datetime_format=True for consistent parsing.\n",
      "  to_datetime(arr).values,\n",
      "/Users/ahmedhafez/opt/anaconda3/lib/python3.9/site-packages/pandas/core/dtypes/cast.py:1163: UserWarning: Parsing '23/10/2017' in DD/MM/YYYY format. Provide format or specify infer_datetime_format=True for consistent parsing.\n",
      "  to_datetime(arr).values,\n",
      "/Users/ahmedhafez/opt/anaconda3/lib/python3.9/site-packages/pandas/core/dtypes/cast.py:1163: UserWarning: Parsing '29/05/2018' in DD/MM/YYYY format. Provide format or specify infer_datetime_format=True for consistent parsing.\n",
      "  to_datetime(arr).values,\n",
      "/Users/ahmedhafez/opt/anaconda3/lib/python3.9/site-packages/pandas/core/dtypes/cast.py:1163: UserWarning: Parsing '24/06/2019' in DD/MM/YYYY format. Provide format or specify infer_datetime_format=True for consistent parsing.\n",
      "  to_datetime(arr).values,\n",
      "/Users/ahmedhafez/opt/anaconda3/lib/python3.9/site-packages/pandas/core/dtypes/cast.py:1163: UserWarning: Parsing '26/06/2017' in DD/MM/YYYY format. Provide format or specify infer_datetime_format=True for consistent parsing.\n",
      "  to_datetime(arr).values,\n",
      "/Users/ahmedhafez/opt/anaconda3/lib/python3.9/site-packages/pandas/core/dtypes/cast.py:1163: UserWarning: Parsing '29/03/2018' in DD/MM/YYYY format. Provide format or specify infer_datetime_format=True for consistent parsing.\n",
      "  to_datetime(arr).values,\n",
      "/Users/ahmedhafez/opt/anaconda3/lib/python3.9/site-packages/pandas/core/dtypes/cast.py:1163: UserWarning: Parsing '29/01/2019' in DD/MM/YYYY format. Provide format or specify infer_datetime_format=True for consistent parsing.\n",
      "  to_datetime(arr).values,\n",
      "/Users/ahmedhafez/opt/anaconda3/lib/python3.9/site-packages/pandas/core/dtypes/cast.py:1163: UserWarning: Parsing '15/03/2019' in DD/MM/YYYY format. Provide format or specify infer_datetime_format=True for consistent parsing.\n",
      "  to_datetime(arr).values,\n",
      "/Users/ahmedhafez/opt/anaconda3/lib/python3.9/site-packages/pandas/core/dtypes/cast.py:1163: UserWarning: Parsing '25/07/2019' in DD/MM/YYYY format. Provide format or specify infer_datetime_format=True for consistent parsing.\n",
      "  to_datetime(arr).values,\n",
      "/Users/ahmedhafez/opt/anaconda3/lib/python3.9/site-packages/pandas/core/dtypes/cast.py:1163: UserWarning: Parsing '15/02/2018' in DD/MM/YYYY format. Provide format or specify infer_datetime_format=True for consistent parsing.\n",
      "  to_datetime(arr).values,\n",
      "/Users/ahmedhafez/opt/anaconda3/lib/python3.9/site-packages/pandas/core/dtypes/cast.py:1163: UserWarning: Parsing '28/06/2017' in DD/MM/YYYY format. Provide format or specify infer_datetime_format=True for consistent parsing.\n",
      "  to_datetime(arr).values,\n",
      "/Users/ahmedhafez/opt/anaconda3/lib/python3.9/site-packages/pandas/core/dtypes/cast.py:1163: UserWarning: Parsing '18/07/2019' in DD/MM/YYYY format. Provide format or specify infer_datetime_format=True for consistent parsing.\n",
      "  to_datetime(arr).values,\n",
      "/Users/ahmedhafez/opt/anaconda3/lib/python3.9/site-packages/pandas/core/dtypes/cast.py:1163: UserWarning: Parsing '25/10/2018' in DD/MM/YYYY format. Provide format or specify infer_datetime_format=True for consistent parsing.\n",
      "  to_datetime(arr).values,\n",
      "/Users/ahmedhafez/opt/anaconda3/lib/python3.9/site-packages/pandas/core/dtypes/cast.py:1163: UserWarning: Parsing '16/07/2019' in DD/MM/YYYY format. Provide format or specify infer_datetime_format=True for consistent parsing.\n",
      "  to_datetime(arr).values,\n",
      "/Users/ahmedhafez/opt/anaconda3/lib/python3.9/site-packages/pandas/core/dtypes/cast.py:1163: UserWarning: Parsing '17/09/2018' in DD/MM/YYYY format. Provide format or specify infer_datetime_format=True for consistent parsing.\n",
      "  to_datetime(arr).values,\n",
      "/Users/ahmedhafez/opt/anaconda3/lib/python3.9/site-packages/pandas/core/dtypes/cast.py:1163: UserWarning: Parsing '28/11/2017' in DD/MM/YYYY format. Provide format or specify infer_datetime_format=True for consistent parsing.\n",
      "  to_datetime(arr).values,\n",
      "/Users/ahmedhafez/opt/anaconda3/lib/python3.9/site-packages/pandas/core/dtypes/cast.py:1163: UserWarning: Parsing '25/06/2019' in DD/MM/YYYY format. Provide format or specify infer_datetime_format=True for consistent parsing.\n",
      "  to_datetime(arr).values,\n",
      "/Users/ahmedhafez/opt/anaconda3/lib/python3.9/site-packages/pandas/core/dtypes/cast.py:1163: UserWarning: Parsing '29/01/2018' in DD/MM/YYYY format. Provide format or specify infer_datetime_format=True for consistent parsing.\n",
      "  to_datetime(arr).values,\n",
      "/Users/ahmedhafez/opt/anaconda3/lib/python3.9/site-packages/pandas/core/dtypes/cast.py:1163: UserWarning: Parsing '29/07/2019' in DD/MM/YYYY format. Provide format or specify infer_datetime_format=True for consistent parsing.\n",
      "  to_datetime(arr).values,\n",
      "/Users/ahmedhafez/opt/anaconda3/lib/python3.9/site-packages/pandas/core/dtypes/cast.py:1163: UserWarning: Parsing '20/09/2017' in DD/MM/YYYY format. Provide format or specify infer_datetime_format=True for consistent parsing.\n",
      "  to_datetime(arr).values,\n",
      "/Users/ahmedhafez/opt/anaconda3/lib/python3.9/site-packages/pandas/core/dtypes/cast.py:1163: UserWarning: Parsing '13/03/2019' in DD/MM/YYYY format. Provide format or specify infer_datetime_format=True for consistent parsing.\n",
      "  to_datetime(arr).values,\n",
      "/Users/ahmedhafez/opt/anaconda3/lib/python3.9/site-packages/pandas/core/dtypes/cast.py:1163: UserWarning: Parsing '23/08/2017' in DD/MM/YYYY format. Provide format or specify infer_datetime_format=True for consistent parsing.\n",
      "  to_datetime(arr).values,\n",
      "/Users/ahmedhafez/opt/anaconda3/lib/python3.9/site-packages/pandas/core/dtypes/cast.py:1163: UserWarning: Parsing '13/06/2019' in DD/MM/YYYY format. Provide format or specify infer_datetime_format=True for consistent parsing.\n",
      "  to_datetime(arr).values,\n",
      "/Users/ahmedhafez/opt/anaconda3/lib/python3.9/site-packages/pandas/core/dtypes/cast.py:1163: UserWarning: Parsing '13/09/2017' in DD/MM/YYYY format. Provide format or specify infer_datetime_format=True for consistent parsing.\n",
      "  to_datetime(arr).values,\n",
      "/Users/ahmedhafez/opt/anaconda3/lib/python3.9/site-packages/pandas/core/dtypes/cast.py:1163: UserWarning: Parsing '22/01/2019' in DD/MM/YYYY format. Provide format or specify infer_datetime_format=True for consistent parsing.\n",
      "  to_datetime(arr).values,\n",
      "/Users/ahmedhafez/opt/anaconda3/lib/python3.9/site-packages/pandas/core/dtypes/cast.py:1163: UserWarning: Parsing '30/04/2019' in DD/MM/YYYY format. Provide format or specify infer_datetime_format=True for consistent parsing.\n",
      "  to_datetime(arr).values,\n",
      "/Users/ahmedhafez/opt/anaconda3/lib/python3.9/site-packages/pandas/core/dtypes/cast.py:1163: UserWarning: Parsing '17/07/2017' in DD/MM/YYYY format. Provide format or specify infer_datetime_format=True for consistent parsing.\n",
      "  to_datetime(arr).values,\n",
      "/Users/ahmedhafez/opt/anaconda3/lib/python3.9/site-packages/pandas/core/dtypes/cast.py:1163: UserWarning: Parsing '16/05/2019' in DD/MM/YYYY format. Provide format or specify infer_datetime_format=True for consistent parsing.\n",
      "  to_datetime(arr).values,\n",
      "/Users/ahmedhafez/opt/anaconda3/lib/python3.9/site-packages/pandas/core/dtypes/cast.py:1163: UserWarning: Parsing '18/08/2018' in DD/MM/YYYY format. Provide format or specify infer_datetime_format=True for consistent parsing.\n",
      "  to_datetime(arr).values,\n",
      "/Users/ahmedhafez/opt/anaconda3/lib/python3.9/site-packages/pandas/core/dtypes/cast.py:1163: UserWarning: Parsing '18/06/2017' in DD/MM/YYYY format. Provide format or specify infer_datetime_format=True for consistent parsing.\n",
      "  to_datetime(arr).values,\n",
      "/Users/ahmedhafez/opt/anaconda3/lib/python3.9/site-packages/pandas/core/dtypes/cast.py:1163: UserWarning: Parsing '21/03/2019' in DD/MM/YYYY format. Provide format or specify infer_datetime_format=True for consistent parsing.\n",
      "  to_datetime(arr).values,\n",
      "/Users/ahmedhafez/opt/anaconda3/lib/python3.9/site-packages/pandas/core/dtypes/cast.py:1163: UserWarning: Parsing '19/07/2019' in DD/MM/YYYY format. Provide format or specify infer_datetime_format=True for consistent parsing.\n",
      "  to_datetime(arr).values,\n",
      "/Users/ahmedhafez/opt/anaconda3/lib/python3.9/site-packages/pandas/core/dtypes/cast.py:1163: UserWarning: Parsing '14/06/2019' in DD/MM/YYYY format. Provide format or specify infer_datetime_format=True for consistent parsing.\n",
      "  to_datetime(arr).values,\n",
      "/Users/ahmedhafez/opt/anaconda3/lib/python3.9/site-packages/pandas/core/dtypes/cast.py:1163: UserWarning: Parsing '19/04/2019' in DD/MM/YYYY format. Provide format or specify infer_datetime_format=True for consistent parsing.\n",
      "  to_datetime(arr).values,\n",
      "/Users/ahmedhafez/opt/anaconda3/lib/python3.9/site-packages/pandas/core/dtypes/cast.py:1163: UserWarning: Parsing '18/03/2019' in DD/MM/YYYY format. Provide format or specify infer_datetime_format=True for consistent parsing.\n",
      "  to_datetime(arr).values,\n",
      "/Users/ahmedhafez/opt/anaconda3/lib/python3.9/site-packages/pandas/core/dtypes/cast.py:1163: UserWarning: Parsing '29/06/2018' in DD/MM/YYYY format. Provide format or specify infer_datetime_format=True for consistent parsing.\n",
      "  to_datetime(arr).values,\n",
      "/Users/ahmedhafez/opt/anaconda3/lib/python3.9/site-packages/pandas/core/dtypes/cast.py:1163: UserWarning: Parsing '27/12/2018' in DD/MM/YYYY format. Provide format or specify infer_datetime_format=True for consistent parsing.\n",
      "  to_datetime(arr).values,\n",
      "/Users/ahmedhafez/opt/anaconda3/lib/python3.9/site-packages/pandas/core/dtypes/cast.py:1163: UserWarning: Parsing '15/12/2018' in DD/MM/YYYY format. Provide format or specify infer_datetime_format=True for consistent parsing.\n",
      "  to_datetime(arr).values,\n",
      "/Users/ahmedhafez/opt/anaconda3/lib/python3.9/site-packages/pandas/core/dtypes/cast.py:1163: UserWarning: Parsing '14/02/2019' in DD/MM/YYYY format. Provide format or specify infer_datetime_format=True for consistent parsing.\n",
      "  to_datetime(arr).values,\n",
      "/Users/ahmedhafez/opt/anaconda3/lib/python3.9/site-packages/pandas/core/dtypes/cast.py:1163: UserWarning: Parsing '18/05/2019' in DD/MM/YYYY format. Provide format or specify infer_datetime_format=True for consistent parsing.\n",
      "  to_datetime(arr).values,\n",
      "/Users/ahmedhafez/opt/anaconda3/lib/python3.9/site-packages/pandas/core/dtypes/cast.py:1163: UserWarning: Parsing '27/09/2018' in DD/MM/YYYY format. Provide format or specify infer_datetime_format=True for consistent parsing.\n",
      "  to_datetime(arr).values,\n",
      "/Users/ahmedhafez/opt/anaconda3/lib/python3.9/site-packages/pandas/core/dtypes/cast.py:1163: UserWarning: Parsing '21/08/2017' in DD/MM/YYYY format. Provide format or specify infer_datetime_format=True for consistent parsing.\n",
      "  to_datetime(arr).values,\n",
      "/Users/ahmedhafez/opt/anaconda3/lib/python3.9/site-packages/pandas/core/dtypes/cast.py:1163: UserWarning: Parsing '17/06/2019' in DD/MM/YYYY format. Provide format or specify infer_datetime_format=True for consistent parsing.\n",
      "  to_datetime(arr).values,\n",
      "/Users/ahmedhafez/opt/anaconda3/lib/python3.9/site-packages/pandas/core/dtypes/cast.py:1163: UserWarning: Parsing '27/07/2019' in DD/MM/YYYY format. Provide format or specify infer_datetime_format=True for consistent parsing.\n",
      "  to_datetime(arr).values,\n",
      "/Users/ahmedhafez/opt/anaconda3/lib/python3.9/site-packages/pandas/core/dtypes/cast.py:1163: UserWarning: Parsing '19/10/2017' in DD/MM/YYYY format. Provide format or specify infer_datetime_format=True for consistent parsing.\n",
      "  to_datetime(arr).values,\n",
      "/Users/ahmedhafez/opt/anaconda3/lib/python3.9/site-packages/pandas/core/dtypes/cast.py:1163: UserWarning: Parsing '29/04/2019' in DD/MM/YYYY format. Provide format or specify infer_datetime_format=True for consistent parsing.\n",
      "  to_datetime(arr).values,\n",
      "/Users/ahmedhafez/opt/anaconda3/lib/python3.9/site-packages/pandas/core/dtypes/cast.py:1163: UserWarning: Parsing '26/11/2018' in DD/MM/YYYY format. Provide format or specify infer_datetime_format=True for consistent parsing.\n",
      "  to_datetime(arr).values,\n",
      "/Users/ahmedhafez/opt/anaconda3/lib/python3.9/site-packages/pandas/core/dtypes/cast.py:1163: UserWarning: Parsing '22/06/2017' in DD/MM/YYYY format. Provide format or specify infer_datetime_format=True for consistent parsing.\n",
      "  to_datetime(arr).values,\n",
      "/Users/ahmedhafez/opt/anaconda3/lib/python3.9/site-packages/pandas/core/dtypes/cast.py:1163: UserWarning: Parsing '19/12/2018' in DD/MM/YYYY format. Provide format or specify infer_datetime_format=True for consistent parsing.\n",
      "  to_datetime(arr).values,\n",
      "/Users/ahmedhafez/opt/anaconda3/lib/python3.9/site-packages/pandas/core/dtypes/cast.py:1163: UserWarning: Parsing '18/10/2018' in DD/MM/YYYY format. Provide format or specify infer_datetime_format=True for consistent parsing.\n",
      "  to_datetime(arr).values,\n",
      "/Users/ahmedhafez/opt/anaconda3/lib/python3.9/site-packages/pandas/core/dtypes/cast.py:1163: UserWarning: Parsing '30/11/2018' in DD/MM/YYYY format. Provide format or specify infer_datetime_format=True for consistent parsing.\n",
      "  to_datetime(arr).values,\n",
      "/Users/ahmedhafez/opt/anaconda3/lib/python3.9/site-packages/pandas/core/dtypes/cast.py:1163: UserWarning: Parsing '18/12/2018' in DD/MM/YYYY format. Provide format or specify infer_datetime_format=True for consistent parsing.\n",
      "  to_datetime(arr).values,\n",
      "/Users/ahmedhafez/opt/anaconda3/lib/python3.9/site-packages/pandas/core/dtypes/cast.py:1163: UserWarning: Parsing '17/04/2019' in DD/MM/YYYY format. Provide format or specify infer_datetime_format=True for consistent parsing.\n",
      "  to_datetime(arr).values,\n",
      "/Users/ahmedhafez/opt/anaconda3/lib/python3.9/site-packages/pandas/core/dtypes/cast.py:1163: UserWarning: Parsing '27/03/2019' in DD/MM/YYYY format. Provide format or specify infer_datetime_format=True for consistent parsing.\n",
      "  to_datetime(arr).values,\n",
      "/Users/ahmedhafez/opt/anaconda3/lib/python3.9/site-packages/pandas/core/dtypes/cast.py:1163: UserWarning: Parsing '18/04/2018' in DD/MM/YYYY format. Provide format or specify infer_datetime_format=True for consistent parsing.\n",
      "  to_datetime(arr).values,\n",
      "/Users/ahmedhafez/opt/anaconda3/lib/python3.9/site-packages/pandas/core/dtypes/cast.py:1163: UserWarning: Parsing '23/07/2019' in DD/MM/YYYY format. Provide format or specify infer_datetime_format=True for consistent parsing.\n",
      "  to_datetime(arr).values,\n",
      "/Users/ahmedhafez/opt/anaconda3/lib/python3.9/site-packages/pandas/core/dtypes/cast.py:1163: UserWarning: Parsing '20/01/2019' in DD/MM/YYYY format. Provide format or specify infer_datetime_format=True for consistent parsing.\n",
      "  to_datetime(arr).values,\n",
      "/Users/ahmedhafez/opt/anaconda3/lib/python3.9/site-packages/pandas/core/dtypes/cast.py:1163: UserWarning: Parsing '28/08/2018' in DD/MM/YYYY format. Provide format or specify infer_datetime_format=True for consistent parsing.\n",
      "  to_datetime(arr).values,\n",
      "/Users/ahmedhafez/opt/anaconda3/lib/python3.9/site-packages/pandas/core/dtypes/cast.py:1163: UserWarning: Parsing '17/05/2018' in DD/MM/YYYY format. Provide format or specify infer_datetime_format=True for consistent parsing.\n",
      "  to_datetime(arr).values,\n",
      "/Users/ahmedhafez/opt/anaconda3/lib/python3.9/site-packages/pandas/core/dtypes/cast.py:1163: UserWarning: Parsing '26/09/2018' in DD/MM/YYYY format. Provide format or specify infer_datetime_format=True for consistent parsing.\n",
      "  to_datetime(arr).values,\n",
      "/Users/ahmedhafez/opt/anaconda3/lib/python3.9/site-packages/pandas/core/dtypes/cast.py:1163: UserWarning: Parsing '28/08/2017' in DD/MM/YYYY format. Provide format or specify infer_datetime_format=True for consistent parsing.\n",
      "  to_datetime(arr).values,\n",
      "/Users/ahmedhafez/opt/anaconda3/lib/python3.9/site-packages/pandas/core/dtypes/cast.py:1163: UserWarning: Parsing '18/01/2018' in DD/MM/YYYY format. Provide format or specify infer_datetime_format=True for consistent parsing.\n",
      "  to_datetime(arr).values,\n",
      "/Users/ahmedhafez/opt/anaconda3/lib/python3.9/site-packages/pandas/core/dtypes/cast.py:1163: UserWarning: Parsing '20/11/2018' in DD/MM/YYYY format. Provide format or specify infer_datetime_format=True for consistent parsing.\n",
      "  to_datetime(arr).values,\n",
      "/Users/ahmedhafez/opt/anaconda3/lib/python3.9/site-packages/pandas/core/dtypes/cast.py:1163: UserWarning: Parsing '15/09/2017' in DD/MM/YYYY format. Provide format or specify infer_datetime_format=True for consistent parsing.\n",
      "  to_datetime(arr).values,\n",
      "/Users/ahmedhafez/opt/anaconda3/lib/python3.9/site-packages/pandas/core/dtypes/cast.py:1163: UserWarning: Parsing '26/04/2019' in DD/MM/YYYY format. Provide format or specify infer_datetime_format=True for consistent parsing.\n",
      "  to_datetime(arr).values,\n",
      "/Users/ahmedhafez/opt/anaconda3/lib/python3.9/site-packages/pandas/core/dtypes/cast.py:1163: UserWarning: Parsing '16/07/2018' in DD/MM/YYYY format. Provide format or specify infer_datetime_format=True for consistent parsing.\n",
      "  to_datetime(arr).values,\n",
      "/Users/ahmedhafez/opt/anaconda3/lib/python3.9/site-packages/pandas/core/dtypes/cast.py:1163: UserWarning: Parsing '21/03/2018' in DD/MM/YYYY format. Provide format or specify infer_datetime_format=True for consistent parsing.\n",
      "  to_datetime(arr).values,\n",
      "/Users/ahmedhafez/opt/anaconda3/lib/python3.9/site-packages/pandas/core/dtypes/cast.py:1163: UserWarning: Parsing '18/06/2018' in DD/MM/YYYY format. Provide format or specify infer_datetime_format=True for consistent parsing.\n",
      "  to_datetime(arr).values,\n",
      "/Users/ahmedhafez/opt/anaconda3/lib/python3.9/site-packages/pandas/core/dtypes/cast.py:1163: UserWarning: Parsing '22/03/2018' in DD/MM/YYYY format. Provide format or specify infer_datetime_format=True for consistent parsing.\n",
      "  to_datetime(arr).values,\n",
      "/Users/ahmedhafez/opt/anaconda3/lib/python3.9/site-packages/pandas/core/dtypes/cast.py:1163: UserWarning: Parsing '26/07/2019' in DD/MM/YYYY format. Provide format or specify infer_datetime_format=True for consistent parsing.\n",
      "  to_datetime(arr).values,\n",
      "/Users/ahmedhafez/opt/anaconda3/lib/python3.9/site-packages/pandas/core/dtypes/cast.py:1163: UserWarning: Parsing '20/05/2019' in DD/MM/YYYY format. Provide format or specify infer_datetime_format=True for consistent parsing.\n",
      "  to_datetime(arr).values,\n",
      "/Users/ahmedhafez/opt/anaconda3/lib/python3.9/site-packages/pandas/core/dtypes/cast.py:1163: UserWarning: Parsing '18/06/2019' in DD/MM/YYYY format. Provide format or specify infer_datetime_format=True for consistent parsing.\n",
      "  to_datetime(arr).values,\n",
      "/Users/ahmedhafez/opt/anaconda3/lib/python3.9/site-packages/pandas/core/dtypes/cast.py:1163: UserWarning: Parsing '30/10/2018' in DD/MM/YYYY format. Provide format or specify infer_datetime_format=True for consistent parsing.\n",
      "  to_datetime(arr).values,\n",
      "/Users/ahmedhafez/opt/anaconda3/lib/python3.9/site-packages/pandas/core/dtypes/cast.py:1163: UserWarning: Parsing '22/05/2018' in DD/MM/YYYY format. Provide format or specify infer_datetime_format=True for consistent parsing.\n",
      "  to_datetime(arr).values,\n",
      "/Users/ahmedhafez/opt/anaconda3/lib/python3.9/site-packages/pandas/core/dtypes/cast.py:1163: UserWarning: Parsing '29/03/2019' in DD/MM/YYYY format. Provide format or specify infer_datetime_format=True for consistent parsing.\n",
      "  to_datetime(arr).values,\n",
      "/Users/ahmedhafez/opt/anaconda3/lib/python3.9/site-packages/pandas/core/dtypes/cast.py:1163: UserWarning: Parsing '27/11/2018' in DD/MM/YYYY format. Provide format or specify infer_datetime_format=True for consistent parsing.\n",
      "  to_datetime(arr).values,\n",
      "/Users/ahmedhafez/opt/anaconda3/lib/python3.9/site-packages/pandas/core/dtypes/cast.py:1163: UserWarning: Parsing '14/09/2017' in DD/MM/YYYY format. Provide format or specify infer_datetime_format=True for consistent parsing.\n",
      "  to_datetime(arr).values,\n",
      "/Users/ahmedhafez/opt/anaconda3/lib/python3.9/site-packages/pandas/core/dtypes/cast.py:1163: UserWarning: Parsing '19/06/2018' in DD/MM/YYYY format. Provide format or specify infer_datetime_format=True for consistent parsing.\n",
      "  to_datetime(arr).values,\n",
      "/Users/ahmedhafez/opt/anaconda3/lib/python3.9/site-packages/pandas/core/dtypes/cast.py:1163: UserWarning: Parsing '16/04/2019' in DD/MM/YYYY format. Provide format or specify infer_datetime_format=True for consistent parsing.\n",
      "  to_datetime(arr).values,\n",
      "/Users/ahmedhafez/opt/anaconda3/lib/python3.9/site-packages/pandas/core/dtypes/cast.py:1163: UserWarning: Parsing '21/07/2019' in DD/MM/YYYY format. Provide format or specify infer_datetime_format=True for consistent parsing.\n",
      "  to_datetime(arr).values,\n",
      "/Users/ahmedhafez/opt/anaconda3/lib/python3.9/site-packages/pandas/core/dtypes/cast.py:1163: UserWarning: Parsing '29/12/2018' in DD/MM/YYYY format. Provide format or specify infer_datetime_format=True for consistent parsing.\n",
      "  to_datetime(arr).values,\n",
      "/Users/ahmedhafez/opt/anaconda3/lib/python3.9/site-packages/pandas/core/dtypes/cast.py:1163: UserWarning: Parsing '20/10/2017' in DD/MM/YYYY format. Provide format or specify infer_datetime_format=True for consistent parsing.\n",
      "  to_datetime(arr).values,\n",
      "/Users/ahmedhafez/opt/anaconda3/lib/python3.9/site-packages/pandas/core/dtypes/cast.py:1163: UserWarning: Parsing '29/08/2018' in DD/MM/YYYY format. Provide format or specify infer_datetime_format=True for consistent parsing.\n",
      "  to_datetime(arr).values,\n",
      "/Users/ahmedhafez/opt/anaconda3/lib/python3.9/site-packages/pandas/core/dtypes/cast.py:1163: UserWarning: Parsing '22/05/2019' in DD/MM/YYYY format. Provide format or specify infer_datetime_format=True for consistent parsing.\n",
      "  to_datetime(arr).values,\n",
      "/Users/ahmedhafez/opt/anaconda3/lib/python3.9/site-packages/pandas/core/dtypes/cast.py:1163: UserWarning: Parsing '24/07/2019' in DD/MM/YYYY format. Provide format or specify infer_datetime_format=True for consistent parsing.\n",
      "  to_datetime(arr).values,\n",
      "/Users/ahmedhafez/opt/anaconda3/lib/python3.9/site-packages/pandas/core/dtypes/cast.py:1163: UserWarning: Parsing '19/10/2018' in DD/MM/YYYY format. Provide format or specify infer_datetime_format=True for consistent parsing.\n",
      "  to_datetime(arr).values,\n",
      "/Users/ahmedhafez/opt/anaconda3/lib/python3.9/site-packages/pandas/core/dtypes/cast.py:1163: UserWarning: Parsing '26/02/2019' in DD/MM/YYYY format. Provide format or specify infer_datetime_format=True for consistent parsing.\n",
      "  to_datetime(arr).values,\n",
      "/Users/ahmedhafez/opt/anaconda3/lib/python3.9/site-packages/pandas/core/dtypes/cast.py:1163: UserWarning: Parsing '24/10/2017' in DD/MM/YYYY format. Provide format or specify infer_datetime_format=True for consistent parsing.\n",
      "  to_datetime(arr).values,\n",
      "/Users/ahmedhafez/opt/anaconda3/lib/python3.9/site-packages/pandas/core/dtypes/cast.py:1163: UserWarning: Parsing '21/09/2018' in DD/MM/YYYY format. Provide format or specify infer_datetime_format=True for consistent parsing.\n",
      "  to_datetime(arr).values,\n",
      "/Users/ahmedhafez/opt/anaconda3/lib/python3.9/site-packages/pandas/core/dtypes/cast.py:1163: UserWarning: Parsing '19/06/2019' in DD/MM/YYYY format. Provide format or specify infer_datetime_format=True for consistent parsing.\n",
      "  to_datetime(arr).values,\n",
      "/Users/ahmedhafez/opt/anaconda3/lib/python3.9/site-packages/pandas/core/dtypes/cast.py:1163: UserWarning: Parsing '24/06/2018' in DD/MM/YYYY format. Provide format or specify infer_datetime_format=True for consistent parsing.\n",
      "  to_datetime(arr).values,\n",
      "/Users/ahmedhafez/opt/anaconda3/lib/python3.9/site-packages/pandas/core/dtypes/cast.py:1163: UserWarning: Parsing '23/05/2019' in DD/MM/YYYY format. Provide format or specify infer_datetime_format=True for consistent parsing.\n",
      "  to_datetime(arr).values,\n",
      "/Users/ahmedhafez/opt/anaconda3/lib/python3.9/site-packages/pandas/core/dtypes/cast.py:1163: UserWarning: Parsing '13/01/2019' in DD/MM/YYYY format. Provide format or specify infer_datetime_format=True for consistent parsing.\n",
      "  to_datetime(arr).values,\n",
      "/Users/ahmedhafez/opt/anaconda3/lib/python3.9/site-packages/pandas/core/dtypes/cast.py:1163: UserWarning: Parsing '24/09/2018' in DD/MM/YYYY format. Provide format or specify infer_datetime_format=True for consistent parsing.\n",
      "  to_datetime(arr).values,\n",
      "/Users/ahmedhafez/opt/anaconda3/lib/python3.9/site-packages/pandas/core/dtypes/cast.py:1163: UserWarning: Parsing '30/05/2019' in DD/MM/YYYY format. Provide format or specify infer_datetime_format=True for consistent parsing.\n",
      "  to_datetime(arr).values,\n",
      "/Users/ahmedhafez/opt/anaconda3/lib/python3.9/site-packages/pandas/core/dtypes/cast.py:1163: UserWarning: Parsing '31/05/2019' in DD/MM/YYYY format. Provide format or specify infer_datetime_format=True for consistent parsing.\n",
      "  to_datetime(arr).values,\n",
      "/Users/ahmedhafez/opt/anaconda3/lib/python3.9/site-packages/pandas/core/dtypes/cast.py:1163: UserWarning: Parsing '19/07/2017' in DD/MM/YYYY format. Provide format or specify infer_datetime_format=True for consistent parsing.\n",
      "  to_datetime(arr).values,\n",
      "/Users/ahmedhafez/opt/anaconda3/lib/python3.9/site-packages/pandas/core/dtypes/cast.py:1163: UserWarning: Parsing '24/05/2018' in DD/MM/YYYY format. Provide format or specify infer_datetime_format=True for consistent parsing.\n",
      "  to_datetime(arr).values,\n",
      "/Users/ahmedhafez/opt/anaconda3/lib/python3.9/site-packages/pandas/core/dtypes/cast.py:1163: UserWarning: Parsing '17/05/2019' in DD/MM/YYYY format. Provide format or specify infer_datetime_format=True for consistent parsing.\n",
      "  to_datetime(arr).values,\n",
      "/Users/ahmedhafez/opt/anaconda3/lib/python3.9/site-packages/pandas/core/dtypes/cast.py:1163: UserWarning: Parsing '14/05/2019' in DD/MM/YYYY format. Provide format or specify infer_datetime_format=True for consistent parsing.\n",
      "  to_datetime(arr).values,\n",
      "/Users/ahmedhafez/opt/anaconda3/lib/python3.9/site-packages/pandas/core/dtypes/cast.py:1163: UserWarning: Parsing '25/09/2018' in DD/MM/YYYY format. Provide format or specify infer_datetime_format=True for consistent parsing.\n",
      "  to_datetime(arr).values,\n",
      "/Users/ahmedhafez/opt/anaconda3/lib/python3.9/site-packages/pandas/core/dtypes/cast.py:1163: UserWarning: Parsing '27/06/2019' in DD/MM/YYYY format. Provide format or specify infer_datetime_format=True for consistent parsing.\n",
      "  to_datetime(arr).values,\n",
      "/Users/ahmedhafez/opt/anaconda3/lib/python3.9/site-packages/pandas/core/dtypes/cast.py:1163: UserWarning: Parsing '17/11/2018' in DD/MM/YYYY format. Provide format or specify infer_datetime_format=True for consistent parsing.\n",
      "  to_datetime(arr).values,\n",
      "/Users/ahmedhafez/opt/anaconda3/lib/python3.9/site-packages/pandas/core/dtypes/cast.py:1163: UserWarning: Parsing '15/01/2019' in DD/MM/YYYY format. Provide format or specify infer_datetime_format=True for consistent parsing.\n",
      "  to_datetime(arr).values,\n",
      "/Users/ahmedhafez/opt/anaconda3/lib/python3.9/site-packages/pandas/core/dtypes/cast.py:1163: UserWarning: Parsing '26/10/2018' in DD/MM/YYYY format. Provide format or specify infer_datetime_format=True for consistent parsing.\n",
      "  to_datetime(arr).values,\n",
      "/Users/ahmedhafez/opt/anaconda3/lib/python3.9/site-packages/pandas/core/dtypes/cast.py:1163: UserWarning: Parsing '21/06/2018' in DD/MM/YYYY format. Provide format or specify infer_datetime_format=True for consistent parsing.\n",
      "  to_datetime(arr).values,\n",
      "/Users/ahmedhafez/opt/anaconda3/lib/python3.9/site-packages/pandas/core/dtypes/cast.py:1163: UserWarning: Parsing '14/03/2018' in DD/MM/YYYY format. Provide format or specify infer_datetime_format=True for consistent parsing.\n",
      "  to_datetime(arr).values,\n",
      "/Users/ahmedhafez/opt/anaconda3/lib/python3.9/site-packages/pandas/core/dtypes/cast.py:1163: UserWarning: Parsing '14/07/2018' in DD/MM/YYYY format. Provide format or specify infer_datetime_format=True for consistent parsing.\n",
      "  to_datetime(arr).values,\n",
      "/Users/ahmedhafez/opt/anaconda3/lib/python3.9/site-packages/pandas/core/dtypes/cast.py:1163: UserWarning: Parsing '31/08/2018' in DD/MM/YYYY format. Provide format or specify infer_datetime_format=True for consistent parsing.\n",
      "  to_datetime(arr).values,\n",
      "/Users/ahmedhafez/opt/anaconda3/lib/python3.9/site-packages/pandas/core/dtypes/cast.py:1163: UserWarning: Parsing '21/06/2019' in DD/MM/YYYY format. Provide format or specify infer_datetime_format=True for consistent parsing.\n",
      "  to_datetime(arr).values,\n",
      "/Users/ahmedhafez/opt/anaconda3/lib/python3.9/site-packages/pandas/core/dtypes/cast.py:1163: UserWarning: Parsing '29/09/2018' in DD/MM/YYYY format. Provide format or specify infer_datetime_format=True for consistent parsing.\n",
      "  to_datetime(arr).values,\n",
      "/Users/ahmedhafez/opt/anaconda3/lib/python3.9/site-packages/pandas/core/dtypes/cast.py:1163: UserWarning: Parsing '28/09/2017' in DD/MM/YYYY format. Provide format or specify infer_datetime_format=True for consistent parsing.\n",
      "  to_datetime(arr).values,\n",
      "/Users/ahmedhafez/opt/anaconda3/lib/python3.9/site-packages/pandas/core/dtypes/cast.py:1163: UserWarning: Parsing '25/01/2017' in DD/MM/YYYY format. Provide format or specify infer_datetime_format=True for consistent parsing.\n",
      "  to_datetime(arr).values,\n",
      "/Users/ahmedhafez/opt/anaconda3/lib/python3.9/site-packages/pandas/core/dtypes/cast.py:1163: UserWarning: Parsing '17/01/2018' in DD/MM/YYYY format. Provide format or specify infer_datetime_format=True for consistent parsing.\n",
      "  to_datetime(arr).values,\n",
      "/Users/ahmedhafez/opt/anaconda3/lib/python3.9/site-packages/pandas/core/dtypes/cast.py:1163: UserWarning: Parsing '15/04/2019' in DD/MM/YYYY format. Provide format or specify infer_datetime_format=True for consistent parsing.\n",
      "  to_datetime(arr).values,\n",
      "/Users/ahmedhafez/opt/anaconda3/lib/python3.9/site-packages/pandas/core/dtypes/cast.py:1163: UserWarning: Parsing '25/07/2018' in DD/MM/YYYY format. Provide format or specify infer_datetime_format=True for consistent parsing.\n",
      "  to_datetime(arr).values,\n",
      "/Users/ahmedhafez/opt/anaconda3/lib/python3.9/site-packages/pandas/core/dtypes/cast.py:1163: UserWarning: Parsing '19/09/2017' in DD/MM/YYYY format. Provide format or specify infer_datetime_format=True for consistent parsing.\n",
      "  to_datetime(arr).values,\n",
      "/Users/ahmedhafez/opt/anaconda3/lib/python3.9/site-packages/pandas/core/dtypes/cast.py:1163: UserWarning: Parsing '20/07/2019' in DD/MM/YYYY format. Provide format or specify infer_datetime_format=True for consistent parsing.\n",
      "  to_datetime(arr).values,\n",
      "/Users/ahmedhafez/opt/anaconda3/lib/python3.9/site-packages/pandas/core/dtypes/cast.py:1163: UserWarning: Parsing '24/11/2018' in DD/MM/YYYY format. Provide format or specify infer_datetime_format=True for consistent parsing.\n",
      "  to_datetime(arr).values,\n",
      "/Users/ahmedhafez/opt/anaconda3/lib/python3.9/site-packages/pandas/core/dtypes/cast.py:1163: UserWarning: Parsing '13/05/2019' in DD/MM/YYYY format. Provide format or specify infer_datetime_format=True for consistent parsing.\n",
      "  to_datetime(arr).values,\n",
      "/Users/ahmedhafez/opt/anaconda3/lib/python3.9/site-packages/pandas/core/dtypes/cast.py:1163: UserWarning: Parsing '21/04/2018' in DD/MM/YYYY format. Provide format or specify infer_datetime_format=True for consistent parsing.\n",
      "  to_datetime(arr).values,\n",
      "/Users/ahmedhafez/opt/anaconda3/lib/python3.9/site-packages/pandas/core/dtypes/cast.py:1163: UserWarning: Parsing '16/06/2019' in DD/MM/YYYY format. Provide format or specify infer_datetime_format=True for consistent parsing.\n",
      "  to_datetime(arr).values,\n",
      "/Users/ahmedhafez/opt/anaconda3/lib/python3.9/site-packages/pandas/core/dtypes/cast.py:1163: UserWarning: Parsing '24/01/2019' in DD/MM/YYYY format. Provide format or specify infer_datetime_format=True for consistent parsing.\n",
      "  to_datetime(arr).values,\n",
      "/Users/ahmedhafez/opt/anaconda3/lib/python3.9/site-packages/pandas/core/dtypes/cast.py:1163: UserWarning: Parsing '18/02/2019' in DD/MM/YYYY format. Provide format or specify infer_datetime_format=True for consistent parsing.\n",
      "  to_datetime(arr).values,\n",
      "/Users/ahmedhafez/opt/anaconda3/lib/python3.9/site-packages/pandas/core/dtypes/cast.py:1163: UserWarning: Parsing '25/10/2017' in DD/MM/YYYY format. Provide format or specify infer_datetime_format=True for consistent parsing.\n",
      "  to_datetime(arr).values,\n",
      "/Users/ahmedhafez/opt/anaconda3/lib/python3.9/site-packages/pandas/core/dtypes/cast.py:1163: UserWarning: Parsing '13/12/2017' in DD/MM/YYYY format. Provide format or specify infer_datetime_format=True for consistent parsing.\n",
      "  to_datetime(arr).values,\n",
      "/Users/ahmedhafez/opt/anaconda3/lib/python3.9/site-packages/pandas/core/dtypes/cast.py:1163: UserWarning: Parsing '26/03/2019' in DD/MM/YYYY format. Provide format or specify infer_datetime_format=True for consistent parsing.\n",
      "  to_datetime(arr).values,\n",
      "/Users/ahmedhafez/opt/anaconda3/lib/python3.9/site-packages/pandas/core/dtypes/cast.py:1163: UserWarning: Parsing '28/11/2018' in DD/MM/YYYY format. Provide format or specify infer_datetime_format=True for consistent parsing.\n",
      "  to_datetime(arr).values,\n",
      "/Users/ahmedhafez/opt/anaconda3/lib/python3.9/site-packages/pandas/core/dtypes/cast.py:1163: UserWarning: Parsing '24/03/2019' in DD/MM/YYYY format. Provide format or specify infer_datetime_format=True for consistent parsing.\n",
      "  to_datetime(arr).values,\n",
      "/Users/ahmedhafez/opt/anaconda3/lib/python3.9/site-packages/pandas/core/dtypes/cast.py:1163: UserWarning: Parsing '14/07/2017' in DD/MM/YYYY format. Provide format or specify infer_datetime_format=True for consistent parsing.\n",
      "  to_datetime(arr).values,\n",
      "/Users/ahmedhafez/opt/anaconda3/lib/python3.9/site-packages/pandas/core/dtypes/cast.py:1163: UserWarning: Parsing '24/05/2019' in DD/MM/YYYY format. Provide format or specify infer_datetime_format=True for consistent parsing.\n",
      "  to_datetime(arr).values,\n",
      "/Users/ahmedhafez/opt/anaconda3/lib/python3.9/site-packages/pandas/core/dtypes/cast.py:1163: UserWarning: Parsing '15/02/2019' in DD/MM/YYYY format. Provide format or specify infer_datetime_format=True for consistent parsing.\n",
      "  to_datetime(arr).values,\n",
      "/Users/ahmedhafez/opt/anaconda3/lib/python3.9/site-packages/pandas/core/dtypes/cast.py:1163: UserWarning: Parsing '13/02/2018' in DD/MM/YYYY format. Provide format or specify infer_datetime_format=True for consistent parsing.\n",
      "  to_datetime(arr).values,\n",
      "/Users/ahmedhafez/opt/anaconda3/lib/python3.9/site-packages/pandas/core/dtypes/cast.py:1163: UserWarning: Parsing '20/06/2018' in DD/MM/YYYY format. Provide format or specify infer_datetime_format=True for consistent parsing.\n",
      "  to_datetime(arr).values,\n",
      "/Users/ahmedhafez/opt/anaconda3/lib/python3.9/site-packages/pandas/core/dtypes/cast.py:1163: UserWarning: Parsing '15/11/2018' in DD/MM/YYYY format. Provide format or specify infer_datetime_format=True for consistent parsing.\n",
      "  to_datetime(arr).values,\n",
      "/Users/ahmedhafez/opt/anaconda3/lib/python3.9/site-packages/pandas/core/dtypes/cast.py:1163: UserWarning: Parsing '15/04/2018' in DD/MM/YYYY format. Provide format or specify infer_datetime_format=True for consistent parsing.\n",
      "  to_datetime(arr).values,\n",
      "/Users/ahmedhafez/opt/anaconda3/lib/python3.9/site-packages/pandas/core/dtypes/cast.py:1163: UserWarning: Parsing '20/03/2019' in DD/MM/YYYY format. Provide format or specify infer_datetime_format=True for consistent parsing.\n",
      "  to_datetime(arr).values,\n",
      "/Users/ahmedhafez/opt/anaconda3/lib/python3.9/site-packages/pandas/core/dtypes/cast.py:1163: UserWarning: Parsing '29/11/2018' in DD/MM/YYYY format. Provide format or specify infer_datetime_format=True for consistent parsing.\n",
      "  to_datetime(arr).values,\n",
      "/Users/ahmedhafez/opt/anaconda3/lib/python3.9/site-packages/pandas/core/dtypes/cast.py:1163: UserWarning: Parsing '18/01/2019' in DD/MM/YYYY format. Provide format or specify infer_datetime_format=True for consistent parsing.\n",
      "  to_datetime(arr).values,\n",
      "/Users/ahmedhafez/opt/anaconda3/lib/python3.9/site-packages/pandas/core/dtypes/cast.py:1163: UserWarning: Parsing '24/07/2018' in DD/MM/YYYY format. Provide format or specify infer_datetime_format=True for consistent parsing.\n",
      "  to_datetime(arr).values,\n",
      "/Users/ahmedhafez/opt/anaconda3/lib/python3.9/site-packages/pandas/core/dtypes/cast.py:1163: UserWarning: Parsing '16/06/2017' in DD/MM/YYYY format. Provide format or specify infer_datetime_format=True for consistent parsing.\n",
      "  to_datetime(arr).values,\n",
      "/Users/ahmedhafez/opt/anaconda3/lib/python3.9/site-packages/pandas/core/dtypes/cast.py:1163: UserWarning: Parsing '22/02/2019' in DD/MM/YYYY format. Provide format or specify infer_datetime_format=True for consistent parsing.\n",
      "  to_datetime(arr).values,\n",
      "/Users/ahmedhafez/opt/anaconda3/lib/python3.9/site-packages/pandas/core/dtypes/cast.py:1163: UserWarning: Parsing '23/05/2018' in DD/MM/YYYY format. Provide format or specify infer_datetime_format=True for consistent parsing.\n",
      "  to_datetime(arr).values,\n",
      "/Users/ahmedhafez/opt/anaconda3/lib/python3.9/site-packages/pandas/core/dtypes/cast.py:1163: UserWarning: Parsing '25/06/2018' in DD/MM/YYYY format. Provide format or specify infer_datetime_format=True for consistent parsing.\n",
      "  to_datetime(arr).values,\n",
      "/Users/ahmedhafez/opt/anaconda3/lib/python3.9/site-packages/pandas/core/dtypes/cast.py:1163: UserWarning: Parsing '17/10/2018' in DD/MM/YYYY format. Provide format or specify infer_datetime_format=True for consistent parsing.\n",
      "  to_datetime(arr).values,\n",
      "/Users/ahmedhafez/opt/anaconda3/lib/python3.9/site-packages/pandas/core/dtypes/cast.py:1163: UserWarning: Parsing '28/03/2018' in DD/MM/YYYY format. Provide format or specify infer_datetime_format=True for consistent parsing.\n",
      "  to_datetime(arr).values,\n",
      "/Users/ahmedhafez/opt/anaconda3/lib/python3.9/site-packages/pandas/core/dtypes/cast.py:1163: UserWarning: Parsing '13/12/2018' in DD/MM/YYYY format. Provide format or specify infer_datetime_format=True for consistent parsing.\n",
      "  to_datetime(arr).values,\n",
      "/Users/ahmedhafez/opt/anaconda3/lib/python3.9/site-packages/pandas/core/dtypes/cast.py:1163: UserWarning: Parsing '21/07/2017' in DD/MM/YYYY format. Provide format or specify infer_datetime_format=True for consistent parsing.\n",
      "  to_datetime(arr).values,\n",
      "/Users/ahmedhafez/opt/anaconda3/lib/python3.9/site-packages/pandas/core/dtypes/cast.py:1163: UserWarning: Parsing '15/07/2019' in DD/MM/YYYY format. Provide format or specify infer_datetime_format=True for consistent parsing.\n",
      "  to_datetime(arr).values,\n",
      "/Users/ahmedhafez/opt/anaconda3/lib/python3.9/site-packages/pandas/core/dtypes/cast.py:1163: UserWarning: Parsing '31/05/2018' in DD/MM/YYYY format. Provide format or specify infer_datetime_format=True for consistent parsing.\n",
      "  to_datetime(arr).values,\n",
      "/Users/ahmedhafez/opt/anaconda3/lib/python3.9/site-packages/pandas/core/dtypes/cast.py:1163: UserWarning: Parsing '21/11/2017' in DD/MM/YYYY format. Provide format or specify infer_datetime_format=True for consistent parsing.\n",
      "  to_datetime(arr).values,\n",
      "/Users/ahmedhafez/opt/anaconda3/lib/python3.9/site-packages/pandas/core/dtypes/cast.py:1163: UserWarning: Parsing '16/11/2018' in DD/MM/YYYY format. Provide format or specify infer_datetime_format=True for consistent parsing.\n",
      "  to_datetime(arr).values,\n",
      "/Users/ahmedhafez/opt/anaconda3/lib/python3.9/site-packages/pandas/core/dtypes/cast.py:1163: UserWarning: Parsing '21/01/2019' in DD/MM/YYYY format. Provide format or specify infer_datetime_format=True for consistent parsing.\n",
      "  to_datetime(arr).values,\n",
      "/Users/ahmedhafez/opt/anaconda3/lib/python3.9/site-packages/pandas/core/dtypes/cast.py:1163: UserWarning: Parsing '27/02/2019' in DD/MM/YYYY format. Provide format or specify infer_datetime_format=True for consistent parsing.\n",
      "  to_datetime(arr).values,\n",
      "/Users/ahmedhafez/opt/anaconda3/lib/python3.9/site-packages/pandas/core/dtypes/cast.py:1163: UserWarning: Parsing '14/03/2019' in DD/MM/YYYY format. Provide format or specify infer_datetime_format=True for consistent parsing.\n",
      "  to_datetime(arr).values,\n",
      "/Users/ahmedhafez/opt/anaconda3/lib/python3.9/site-packages/pandas/core/dtypes/cast.py:1163: UserWarning: Parsing '31/10/2018' in DD/MM/YYYY format. Provide format or specify infer_datetime_format=True for consistent parsing.\n",
      "  to_datetime(arr).values,\n",
      "/Users/ahmedhafez/opt/anaconda3/lib/python3.9/site-packages/pandas/core/dtypes/cast.py:1163: UserWarning: Parsing '14/12/2018' in DD/MM/YYYY format. Provide format or specify infer_datetime_format=True for consistent parsing.\n",
      "  to_datetime(arr).values,\n",
      "/Users/ahmedhafez/opt/anaconda3/lib/python3.9/site-packages/pandas/core/dtypes/cast.py:1163: UserWarning: Parsing '17/03/2018' in DD/MM/YYYY format. Provide format or specify infer_datetime_format=True for consistent parsing.\n",
      "  to_datetime(arr).values,\n",
      "/Users/ahmedhafez/opt/anaconda3/lib/python3.9/site-packages/pandas/core/dtypes/cast.py:1163: UserWarning: Parsing '23/04/2018' in DD/MM/YYYY format. Provide format or specify infer_datetime_format=True for consistent parsing.\n",
      "  to_datetime(arr).values,\n",
      "/Users/ahmedhafez/opt/anaconda3/lib/python3.9/site-packages/pandas/core/dtypes/cast.py:1163: UserWarning: Parsing '26/04/2018' in DD/MM/YYYY format. Provide format or specify infer_datetime_format=True for consistent parsing.\n",
      "  to_datetime(arr).values,\n",
      "/Users/ahmedhafez/opt/anaconda3/lib/python3.9/site-packages/pandas/core/dtypes/cast.py:1163: UserWarning: Parsing '28/02/2019' in DD/MM/YYYY format. Provide format or specify infer_datetime_format=True for consistent parsing.\n",
      "  to_datetime(arr).values,\n",
      "/Users/ahmedhafez/opt/anaconda3/lib/python3.9/site-packages/pandas/core/dtypes/cast.py:1163: UserWarning: Parsing '31/07/2018' in DD/MM/YYYY format. Provide format or specify infer_datetime_format=True for consistent parsing.\n",
      "  to_datetime(arr).values,\n",
      "/Users/ahmedhafez/opt/anaconda3/lib/python3.9/site-packages/pandas/core/dtypes/cast.py:1163: UserWarning: Parsing '20/06/2019' in DD/MM/YYYY format. Provide format or specify infer_datetime_format=True for consistent parsing.\n",
      "  to_datetime(arr).values,\n",
      "/Users/ahmedhafez/opt/anaconda3/lib/python3.9/site-packages/pandas/core/dtypes/cast.py:1163: UserWarning: Parsing '13/07/2017' in DD/MM/YYYY format. Provide format or specify infer_datetime_format=True for consistent parsing.\n",
      "  to_datetime(arr).values,\n",
      "/Users/ahmedhafez/opt/anaconda3/lib/python3.9/site-packages/pandas/core/dtypes/cast.py:1163: UserWarning: Parsing '28/10/2017' in DD/MM/YYYY format. Provide format or specify infer_datetime_format=True for consistent parsing.\n",
      "  to_datetime(arr).values,\n",
      "/Users/ahmedhafez/opt/anaconda3/lib/python3.9/site-packages/pandas/core/dtypes/cast.py:1163: UserWarning: Parsing '25/05/2018' in DD/MM/YYYY format. Provide format or specify infer_datetime_format=True for consistent parsing.\n",
      "  to_datetime(arr).values,\n",
      "/Users/ahmedhafez/opt/anaconda3/lib/python3.9/site-packages/pandas/core/dtypes/cast.py:1163: UserWarning: Parsing '22/06/2019' in DD/MM/YYYY format. Provide format or specify infer_datetime_format=True for consistent parsing.\n",
      "  to_datetime(arr).values,\n",
      "/Users/ahmedhafez/opt/anaconda3/lib/python3.9/site-packages/pandas/core/dtypes/cast.py:1163: UserWarning: Parsing '16/02/2019' in DD/MM/YYYY format. Provide format or specify infer_datetime_format=True for consistent parsing.\n",
      "  to_datetime(arr).values,\n",
      "/Users/ahmedhafez/opt/anaconda3/lib/python3.9/site-packages/pandas/core/dtypes/cast.py:1163: UserWarning: Parsing '18/03/2018' in DD/MM/YYYY format. Provide format or specify infer_datetime_format=True for consistent parsing.\n",
      "  to_datetime(arr).values,\n",
      "/Users/ahmedhafez/opt/anaconda3/lib/python3.9/site-packages/pandas/core/dtypes/cast.py:1163: UserWarning: Parsing '28/02/2018' in DD/MM/YYYY format. Provide format or specify infer_datetime_format=True for consistent parsing.\n",
      "  to_datetime(arr).values,\n",
      "/Users/ahmedhafez/opt/anaconda3/lib/python3.9/site-packages/pandas/core/dtypes/cast.py:1163: UserWarning: Parsing '20/02/2019' in DD/MM/YYYY format. Provide format or specify infer_datetime_format=True for consistent parsing.\n",
      "  to_datetime(arr).values,\n",
      "/Users/ahmedhafez/opt/anaconda3/lib/python3.9/site-packages/pandas/core/dtypes/cast.py:1163: UserWarning: Parsing '24/04/2019' in DD/MM/YYYY format. Provide format or specify infer_datetime_format=True for consistent parsing.\n",
      "  to_datetime(arr).values,\n",
      "/Users/ahmedhafez/opt/anaconda3/lib/python3.9/site-packages/pandas/core/dtypes/cast.py:1163: UserWarning: Parsing '27/03/2018' in DD/MM/YYYY format. Provide format or specify infer_datetime_format=True for consistent parsing.\n",
      "  to_datetime(arr).values,\n",
      "/Users/ahmedhafez/opt/anaconda3/lib/python3.9/site-packages/pandas/core/dtypes/cast.py:1163: UserWarning: Parsing '26/03/2018' in DD/MM/YYYY format. Provide format or specify infer_datetime_format=True for consistent parsing.\n",
      "  to_datetime(arr).values,\n",
      "/Users/ahmedhafez/opt/anaconda3/lib/python3.9/site-packages/pandas/core/dtypes/cast.py:1163: UserWarning: Parsing '25/07/2017' in DD/MM/YYYY format. Provide format or specify infer_datetime_format=True for consistent parsing.\n",
      "  to_datetime(arr).values,\n",
      "/Users/ahmedhafez/opt/anaconda3/lib/python3.9/site-packages/pandas/core/dtypes/cast.py:1163: UserWarning: Parsing '17/01/2019' in DD/MM/YYYY format. Provide format or specify infer_datetime_format=True for consistent parsing.\n",
      "  to_datetime(arr).values,\n",
      "/Users/ahmedhafez/opt/anaconda3/lib/python3.9/site-packages/pandas/core/dtypes/cast.py:1163: UserWarning: Parsing '23/09/2017' in DD/MM/YYYY format. Provide format or specify infer_datetime_format=True for consistent parsing.\n",
      "  to_datetime(arr).values,\n",
      "/Users/ahmedhafez/opt/anaconda3/lib/python3.9/site-packages/pandas/core/dtypes/cast.py:1163: UserWarning: Parsing '17/08/2017' in DD/MM/YYYY format. Provide format or specify infer_datetime_format=True for consistent parsing.\n",
      "  to_datetime(arr).values,\n",
      "/Users/ahmedhafez/opt/anaconda3/lib/python3.9/site-packages/pandas/core/dtypes/cast.py:1163: UserWarning: Parsing '25/02/2019' in DD/MM/YYYY format. Provide format or specify infer_datetime_format=True for consistent parsing.\n",
      "  to_datetime(arr).values,\n",
      "/Users/ahmedhafez/opt/anaconda3/lib/python3.9/site-packages/pandas/core/dtypes/cast.py:1163: UserWarning: Parsing '23/09/2018' in DD/MM/YYYY format. Provide format or specify infer_datetime_format=True for consistent parsing.\n",
      "  to_datetime(arr).values,\n",
      "/Users/ahmedhafez/opt/anaconda3/lib/python3.9/site-packages/pandas/core/dtypes/cast.py:1163: UserWarning: Parsing '16/08/2017' in DD/MM/YYYY format. Provide format or specify infer_datetime_format=True for consistent parsing.\n",
      "  to_datetime(arr).values,\n",
      "/Users/ahmedhafez/opt/anaconda3/lib/python3.9/site-packages/pandas/core/dtypes/cast.py:1163: UserWarning: Parsing '17/03/2019' in DD/MM/YYYY format. Provide format or specify infer_datetime_format=True for consistent parsing.\n",
      "  to_datetime(arr).values,\n",
      "/Users/ahmedhafez/opt/anaconda3/lib/python3.9/site-packages/pandas/core/dtypes/cast.py:1163: UserWarning: Parsing '13/10/2017' in DD/MM/YYYY format. Provide format or specify infer_datetime_format=True for consistent parsing.\n",
      "  to_datetime(arr).values,\n",
      "/Users/ahmedhafez/opt/anaconda3/lib/python3.9/site-packages/pandas/core/dtypes/cast.py:1163: UserWarning: Parsing '14/02/2018' in DD/MM/YYYY format. Provide format or specify infer_datetime_format=True for consistent parsing.\n",
      "  to_datetime(arr).values,\n",
      "/Users/ahmedhafez/opt/anaconda3/lib/python3.9/site-packages/pandas/core/dtypes/cast.py:1163: UserWarning: Parsing '19/11/2018' in DD/MM/YYYY format. Provide format or specify infer_datetime_format=True for consistent parsing.\n",
      "  to_datetime(arr).values,\n",
      "/Users/ahmedhafez/opt/anaconda3/lib/python3.9/site-packages/pandas/core/dtypes/cast.py:1163: UserWarning: Parsing '18/09/2018' in DD/MM/YYYY format. Provide format or specify infer_datetime_format=True for consistent parsing.\n",
      "  to_datetime(arr).values,\n",
      "/Users/ahmedhafez/opt/anaconda3/lib/python3.9/site-packages/pandas/core/dtypes/cast.py:1163: UserWarning: Parsing '22/10/2018' in DD/MM/YYYY format. Provide format or specify infer_datetime_format=True for consistent parsing.\n",
      "  to_datetime(arr).values,\n",
      "/Users/ahmedhafez/opt/anaconda3/lib/python3.9/site-packages/pandas/core/dtypes/cast.py:1163: UserWarning: Parsing '27/04/2018' in DD/MM/YYYY format. Provide format or specify infer_datetime_format=True for consistent parsing.\n",
      "  to_datetime(arr).values,\n",
      "/Users/ahmedhafez/opt/anaconda3/lib/python3.9/site-packages/pandas/core/dtypes/cast.py:1163: UserWarning: Parsing '29/09/2017' in DD/MM/YYYY format. Provide format or specify infer_datetime_format=True for consistent parsing.\n",
      "  to_datetime(arr).values,\n",
      "/Users/ahmedhafez/opt/anaconda3/lib/python3.9/site-packages/pandas/core/dtypes/cast.py:1163: UserWarning: Parsing '17/12/2018' in DD/MM/YYYY format. Provide format or specify infer_datetime_format=True for consistent parsing.\n",
      "  to_datetime(arr).values,\n",
      "/Users/ahmedhafez/opt/anaconda3/lib/python3.9/site-packages/pandas/core/dtypes/cast.py:1163: UserWarning: Parsing '24/10/2018' in DD/MM/YYYY format. Provide format or specify infer_datetime_format=True for consistent parsing.\n",
      "  to_datetime(arr).values,\n",
      "/Users/ahmedhafez/opt/anaconda3/lib/python3.9/site-packages/pandas/core/dtypes/cast.py:1163: UserWarning: Parsing '20/12/2018' in DD/MM/YYYY format. Provide format or specify infer_datetime_format=True for consistent parsing.\n",
      "  to_datetime(arr).values,\n",
      "/Users/ahmedhafez/opt/anaconda3/lib/python3.9/site-packages/pandas/core/dtypes/cast.py:1163: UserWarning: Parsing '30/05/2018' in DD/MM/YYYY format. Provide format or specify infer_datetime_format=True for consistent parsing.\n",
      "  to_datetime(arr).values,\n",
      "/Users/ahmedhafez/opt/anaconda3/lib/python3.9/site-packages/pandas/core/dtypes/cast.py:1163: UserWarning: Parsing '28/06/2019' in DD/MM/YYYY format. Provide format or specify infer_datetime_format=True for consistent parsing.\n",
      "  to_datetime(arr).values,\n",
      "/Users/ahmedhafez/opt/anaconda3/lib/python3.9/site-packages/pandas/core/dtypes/cast.py:1163: UserWarning: Parsing '16/01/2018' in DD/MM/YYYY format. Provide format or specify infer_datetime_format=True for consistent parsing.\n",
      "  to_datetime(arr).values,\n",
      "/Users/ahmedhafez/opt/anaconda3/lib/python3.9/site-packages/pandas/core/dtypes/cast.py:1163: UserWarning: Parsing '15/10/2017' in DD/MM/YYYY format. Provide format or specify infer_datetime_format=True for consistent parsing.\n",
      "  to_datetime(arr).values,\n",
      "/Users/ahmedhafez/opt/anaconda3/lib/python3.9/site-packages/pandas/core/dtypes/cast.py:1163: UserWarning: Parsing '29/07/2018' in DD/MM/YYYY format. Provide format or specify infer_datetime_format=True for consistent parsing.\n",
      "  to_datetime(arr).values,\n",
      "/Users/ahmedhafez/opt/anaconda3/lib/python3.9/site-packages/pandas/core/dtypes/cast.py:1163: UserWarning: Parsing '19/05/2018' in DD/MM/YYYY format. Provide format or specify infer_datetime_format=True for consistent parsing.\n",
      "  to_datetime(arr).values,\n",
      "/Users/ahmedhafez/opt/anaconda3/lib/python3.9/site-packages/pandas/core/dtypes/cast.py:1163: UserWarning: Parsing '20/12/2017' in DD/MM/YYYY format. Provide format or specify infer_datetime_format=True for consistent parsing.\n",
      "  to_datetime(arr).values,\n",
      "/Users/ahmedhafez/opt/anaconda3/lib/python3.9/site-packages/pandas/core/dtypes/cast.py:1163: UserWarning: Parsing '23/10/2018' in DD/MM/YYYY format. Provide format or specify infer_datetime_format=True for consistent parsing.\n",
      "  to_datetime(arr).values,\n",
      "/Users/ahmedhafez/opt/anaconda3/lib/python3.9/site-packages/pandas/core/dtypes/cast.py:1163: UserWarning: Parsing '14/12/2017' in DD/MM/YYYY format. Provide format or specify infer_datetime_format=True for consistent parsing.\n",
      "  to_datetime(arr).values,\n",
      "/Users/ahmedhafez/opt/anaconda3/lib/python3.9/site-packages/pandas/core/dtypes/cast.py:1163: UserWarning: Parsing '19/03/2018' in DD/MM/YYYY format. Provide format or specify infer_datetime_format=True for consistent parsing.\n",
      "  to_datetime(arr).values,\n",
      "/Users/ahmedhafez/opt/anaconda3/lib/python3.9/site-packages/pandas/core/dtypes/cast.py:1163: UserWarning: Parsing '31/03/2019' in DD/MM/YYYY format. Provide format or specify infer_datetime_format=True for consistent parsing.\n",
      "  to_datetime(arr).values,\n",
      "/Users/ahmedhafez/opt/anaconda3/lib/python3.9/site-packages/pandas/core/dtypes/cast.py:1163: UserWarning: Parsing '26/09/2017' in DD/MM/YYYY format. Provide format or specify infer_datetime_format=True for consistent parsing.\n",
      "  to_datetime(arr).values,\n",
      "/Users/ahmedhafez/opt/anaconda3/lib/python3.9/site-packages/pandas/core/dtypes/cast.py:1163: UserWarning: Parsing '25/03/2019' in DD/MM/YYYY format. Provide format or specify infer_datetime_format=True for consistent parsing.\n",
      "  to_datetime(arr).values,\n",
      "/Users/ahmedhafez/opt/anaconda3/lib/python3.9/site-packages/pandas/core/dtypes/cast.py:1163: UserWarning: Parsing '21/12/2018' in DD/MM/YYYY format. Provide format or specify infer_datetime_format=True for consistent parsing.\n",
      "  to_datetime(arr).values,\n",
      "/Users/ahmedhafez/opt/anaconda3/lib/python3.9/site-packages/pandas/core/dtypes/cast.py:1163: UserWarning: Parsing '14/08/2018' in DD/MM/YYYY format. Provide format or specify infer_datetime_format=True for consistent parsing.\n",
      "  to_datetime(arr).values,\n",
      "/Users/ahmedhafez/opt/anaconda3/lib/python3.9/site-packages/pandas/core/dtypes/cast.py:1163: UserWarning: Parsing '29/10/2018' in DD/MM/YYYY format. Provide format or specify infer_datetime_format=True for consistent parsing.\n",
      "  to_datetime(arr).values,\n",
      "/Users/ahmedhafez/opt/anaconda3/lib/python3.9/site-packages/pandas/core/dtypes/cast.py:1163: UserWarning: Parsing '17/11/2017' in DD/MM/YYYY format. Provide format or specify infer_datetime_format=True for consistent parsing.\n",
      "  to_datetime(arr).values,\n",
      "/Users/ahmedhafez/opt/anaconda3/lib/python3.9/site-packages/pandas/core/dtypes/cast.py:1163: UserWarning: Parsing '16/08/2018' in DD/MM/YYYY format. Provide format or specify infer_datetime_format=True for consistent parsing.\n",
      "  to_datetime(arr).values,\n",
      "/Users/ahmedhafez/opt/anaconda3/lib/python3.9/site-packages/pandas/core/dtypes/cast.py:1163: UserWarning: Parsing '15/07/2017' in DD/MM/YYYY format. Provide format or specify infer_datetime_format=True for consistent parsing.\n",
      "  to_datetime(arr).values,\n",
      "/Users/ahmedhafez/opt/anaconda3/lib/python3.9/site-packages/pandas/core/dtypes/cast.py:1163: UserWarning: Parsing '28/03/2019' in DD/MM/YYYY format. Provide format or specify infer_datetime_format=True for consistent parsing.\n",
      "  to_datetime(arr).values,\n",
      "/Users/ahmedhafez/opt/anaconda3/lib/python3.9/site-packages/pandas/core/dtypes/cast.py:1163: UserWarning: Parsing '31/07/2017' in DD/MM/YYYY format. Provide format or specify infer_datetime_format=True for consistent parsing.\n",
      "  to_datetime(arr).values,\n",
      "/Users/ahmedhafez/opt/anaconda3/lib/python3.9/site-packages/pandas/core/dtypes/cast.py:1163: UserWarning: Parsing '22/08/2018' in DD/MM/YYYY format. Provide format or specify infer_datetime_format=True for consistent parsing.\n",
      "  to_datetime(arr).values,\n",
      "/Users/ahmedhafez/opt/anaconda3/lib/python3.9/site-packages/pandas/core/dtypes/cast.py:1163: UserWarning: Parsing '16/09/2017' in DD/MM/YYYY format. Provide format or specify infer_datetime_format=True for consistent parsing.\n",
      "  to_datetime(arr).values,\n",
      "/Users/ahmedhafez/opt/anaconda3/lib/python3.9/site-packages/pandas/core/dtypes/cast.py:1163: UserWarning: Parsing '19/02/2018' in DD/MM/YYYY format. Provide format or specify infer_datetime_format=True for consistent parsing.\n",
      "  to_datetime(arr).values,\n",
      "/Users/ahmedhafez/opt/anaconda3/lib/python3.9/site-packages/pandas/core/dtypes/cast.py:1163: UserWarning: Parsing '28/01/2019' in DD/MM/YYYY format. Provide format or specify infer_datetime_format=True for consistent parsing.\n",
      "  to_datetime(arr).values,\n",
      "/Users/ahmedhafez/opt/anaconda3/lib/python3.9/site-packages/pandas/core/dtypes/cast.py:1163: UserWarning: Parsing '20/08/2017' in DD/MM/YYYY format. Provide format or specify infer_datetime_format=True for consistent parsing.\n",
      "  to_datetime(arr).values,\n",
      "/Users/ahmedhafez/opt/anaconda3/lib/python3.9/site-packages/pandas/core/dtypes/cast.py:1163: UserWarning: Parsing '14/11/2018' in DD/MM/YYYY format. Provide format or specify infer_datetime_format=True for consistent parsing.\n",
      "  to_datetime(arr).values,\n",
      "/Users/ahmedhafez/opt/anaconda3/lib/python3.9/site-packages/pandas/core/dtypes/cast.py:1163: UserWarning: Parsing '17/08/2018' in DD/MM/YYYY format. Provide format or specify infer_datetime_format=True for consistent parsing.\n",
      "  to_datetime(arr).values,\n",
      "/Users/ahmedhafez/opt/anaconda3/lib/python3.9/site-packages/pandas/core/dtypes/cast.py:1163: UserWarning: Parsing '18/08/2017' in DD/MM/YYYY format. Provide format or specify infer_datetime_format=True for consistent parsing.\n",
      "  to_datetime(arr).values,\n",
      "/Users/ahmedhafez/opt/anaconda3/lib/python3.9/site-packages/pandas/core/dtypes/cast.py:1163: UserWarning: Parsing '15/05/2019' in DD/MM/YYYY format. Provide format or specify infer_datetime_format=True for consistent parsing.\n",
      "  to_datetime(arr).values,\n",
      "/Users/ahmedhafez/opt/anaconda3/lib/python3.9/site-packages/pandas/core/dtypes/cast.py:1163: UserWarning: Parsing '21/12/2017' in DD/MM/YYYY format. Provide format or specify infer_datetime_format=True for consistent parsing.\n",
      "  to_datetime(arr).values,\n",
      "/Users/ahmedhafez/opt/anaconda3/lib/python3.9/site-packages/pandas/core/dtypes/cast.py:1163: UserWarning: Parsing '13/08/2018' in DD/MM/YYYY format. Provide format or specify infer_datetime_format=True for consistent parsing.\n",
      "  to_datetime(arr).values,\n",
      "/Users/ahmedhafez/opt/anaconda3/lib/python3.9/site-packages/pandas/core/dtypes/cast.py:1163: UserWarning: Parsing '22/02/2018' in DD/MM/YYYY format. Provide format or specify infer_datetime_format=True for consistent parsing.\n",
      "  to_datetime(arr).values,\n"
     ]
    }
   ],
   "source": [
    "ConvertToDateTime(X_train, ['Original Release Date', 'Current Version Release Date'])"
   ]
  },
  {
   "cell_type": "markdown",
   "id": "12304ad1",
   "metadata": {
    "id": "12304ad1"
   },
   "source": [
    "## \n",
    "### `2. Columns Nulls`"
   ]
  },
  {
   "cell_type": "code",
   "execution_count": 39,
   "id": "acd75d56",
   "metadata": {
    "ExecuteTime": {
     "end_time": "2023-04-26T21:28:58.103816Z",
     "start_time": "2023-04-26T21:28:58.073031Z"
    },
    "id": "acd75d56"
   },
   "outputs": [
    {
     "data": {
      "text/html": [
       "<div>\n",
       "<style scoped>\n",
       "    .dataframe tbody tr th:only-of-type {\n",
       "        vertical-align: middle;\n",
       "    }\n",
       "\n",
       "    .dataframe tbody tr th {\n",
       "        vertical-align: top;\n",
       "    }\n",
       "\n",
       "    .dataframe thead th {\n",
       "        text-align: right;\n",
       "    }\n",
       "</style>\n",
       "<table border=\"1\" class=\"dataframe\">\n",
       "  <thead>\n",
       "    <tr style=\"text-align: right;\">\n",
       "      <th></th>\n",
       "      <th>total_missing</th>\n",
       "      <th>perc_missing</th>\n",
       "    </tr>\n",
       "  </thead>\n",
       "  <tbody>\n",
       "    <tr>\n",
       "      <th>URL</th>\n",
       "      <td>0</td>\n",
       "      <td>0.0</td>\n",
       "    </tr>\n",
       "    <tr>\n",
       "      <th>Name</th>\n",
       "      <td>0</td>\n",
       "      <td>0.0</td>\n",
       "    </tr>\n",
       "    <tr>\n",
       "      <th>Subtitle</th>\n",
       "      <td>0</td>\n",
       "      <td>0.0</td>\n",
       "    </tr>\n",
       "    <tr>\n",
       "      <th>Icon URL</th>\n",
       "      <td>0</td>\n",
       "      <td>0.0</td>\n",
       "    </tr>\n",
       "    <tr>\n",
       "      <th>User Rating Count</th>\n",
       "      <td>0</td>\n",
       "      <td>0.0</td>\n",
       "    </tr>\n",
       "    <tr>\n",
       "      <th>Price</th>\n",
       "      <td>0</td>\n",
       "      <td>0.0</td>\n",
       "    </tr>\n",
       "    <tr>\n",
       "      <th>In-app Purchases</th>\n",
       "      <td>0</td>\n",
       "      <td>0.0</td>\n",
       "    </tr>\n",
       "    <tr>\n",
       "      <th>Description</th>\n",
       "      <td>0</td>\n",
       "      <td>0.0</td>\n",
       "    </tr>\n",
       "    <tr>\n",
       "      <th>Developer</th>\n",
       "      <td>0</td>\n",
       "      <td>0.0</td>\n",
       "    </tr>\n",
       "    <tr>\n",
       "      <th>Age Rating</th>\n",
       "      <td>0</td>\n",
       "      <td>0.0</td>\n",
       "    </tr>\n",
       "    <tr>\n",
       "      <th>Languages</th>\n",
       "      <td>0</td>\n",
       "      <td>0.0</td>\n",
       "    </tr>\n",
       "    <tr>\n",
       "      <th>Size</th>\n",
       "      <td>0</td>\n",
       "      <td>0.0</td>\n",
       "    </tr>\n",
       "    <tr>\n",
       "      <th>Primary Genre</th>\n",
       "      <td>0</td>\n",
       "      <td>0.0</td>\n",
       "    </tr>\n",
       "    <tr>\n",
       "      <th>Genres</th>\n",
       "      <td>0</td>\n",
       "      <td>0.0</td>\n",
       "    </tr>\n",
       "    <tr>\n",
       "      <th>Original Release Date</th>\n",
       "      <td>0</td>\n",
       "      <td>0.0</td>\n",
       "    </tr>\n",
       "    <tr>\n",
       "      <th>Current Version Release Date</th>\n",
       "      <td>0</td>\n",
       "      <td>0.0</td>\n",
       "    </tr>\n",
       "  </tbody>\n",
       "</table>\n",
       "</div>"
      ],
      "text/plain": [
       "                              total_missing  perc_missing\n",
       "URL                                       0           0.0\n",
       "Name                                      0           0.0\n",
       "Subtitle                                  0           0.0\n",
       "Icon URL                                  0           0.0\n",
       "User Rating Count                         0           0.0\n",
       "Price                                     0           0.0\n",
       "In-app Purchases                          0           0.0\n",
       "Description                               0           0.0\n",
       "Developer                                 0           0.0\n",
       "Age Rating                                0           0.0\n",
       "Languages                                 0           0.0\n",
       "Size                                      0           0.0\n",
       "Primary Genre                             0           0.0\n",
       "Genres                                    0           0.0\n",
       "Original Release Date                     0           0.0\n",
       "Current Version Release Date              0           0.0"
      ]
     },
     "execution_count": 39,
     "metadata": {},
     "output_type": "execute_result"
    }
   ],
   "source": [
    "GetColumnsNullsPerc(X_train)"
   ]
  },
  {
   "cell_type": "code",
   "execution_count": 40,
   "id": "a522fff3",
   "metadata": {
    "ExecuteTime": {
     "end_time": "2023-04-26T21:28:58.478360Z",
     "start_time": "2023-04-26T21:28:58.465156Z"
    },
    "id": "a522fff3"
   },
   "outputs": [],
   "source": [
    "# because null percentage > 0.50\n",
    "X_train.drop(columns=['Subtitle'], inplace=True)"
   ]
  },
  {
   "cell_type": "code",
   "execution_count": 41,
   "id": "6d81625b",
   "metadata": {
    "ExecuteTime": {
     "end_time": "2023-04-26T21:28:58.915352Z",
     "start_time": "2023-04-26T21:28:58.889643Z"
    },
    "id": "6d81625b"
   },
   "outputs": [
    {
     "data": {
      "text/html": [
       "<div>\n",
       "<style scoped>\n",
       "    .dataframe tbody tr th:only-of-type {\n",
       "        vertical-align: middle;\n",
       "    }\n",
       "\n",
       "    .dataframe tbody tr th {\n",
       "        vertical-align: top;\n",
       "    }\n",
       "\n",
       "    .dataframe thead th {\n",
       "        text-align: right;\n",
       "    }\n",
       "</style>\n",
       "<table border=\"1\" class=\"dataframe\">\n",
       "  <thead>\n",
       "    <tr style=\"text-align: right;\">\n",
       "      <th></th>\n",
       "      <th>total_missing</th>\n",
       "      <th>perc_missing</th>\n",
       "    </tr>\n",
       "  </thead>\n",
       "  <tbody>\n",
       "    <tr>\n",
       "      <th>URL</th>\n",
       "      <td>0</td>\n",
       "      <td>0.0</td>\n",
       "    </tr>\n",
       "    <tr>\n",
       "      <th>Name</th>\n",
       "      <td>0</td>\n",
       "      <td>0.0</td>\n",
       "    </tr>\n",
       "    <tr>\n",
       "      <th>Icon URL</th>\n",
       "      <td>0</td>\n",
       "      <td>0.0</td>\n",
       "    </tr>\n",
       "    <tr>\n",
       "      <th>User Rating Count</th>\n",
       "      <td>0</td>\n",
       "      <td>0.0</td>\n",
       "    </tr>\n",
       "    <tr>\n",
       "      <th>Price</th>\n",
       "      <td>0</td>\n",
       "      <td>0.0</td>\n",
       "    </tr>\n",
       "    <tr>\n",
       "      <th>In-app Purchases</th>\n",
       "      <td>0</td>\n",
       "      <td>0.0</td>\n",
       "    </tr>\n",
       "    <tr>\n",
       "      <th>Description</th>\n",
       "      <td>0</td>\n",
       "      <td>0.0</td>\n",
       "    </tr>\n",
       "    <tr>\n",
       "      <th>Developer</th>\n",
       "      <td>0</td>\n",
       "      <td>0.0</td>\n",
       "    </tr>\n",
       "    <tr>\n",
       "      <th>Age Rating</th>\n",
       "      <td>0</td>\n",
       "      <td>0.0</td>\n",
       "    </tr>\n",
       "    <tr>\n",
       "      <th>Languages</th>\n",
       "      <td>0</td>\n",
       "      <td>0.0</td>\n",
       "    </tr>\n",
       "    <tr>\n",
       "      <th>Size</th>\n",
       "      <td>0</td>\n",
       "      <td>0.0</td>\n",
       "    </tr>\n",
       "    <tr>\n",
       "      <th>Primary Genre</th>\n",
       "      <td>0</td>\n",
       "      <td>0.0</td>\n",
       "    </tr>\n",
       "    <tr>\n",
       "      <th>Genres</th>\n",
       "      <td>0</td>\n",
       "      <td>0.0</td>\n",
       "    </tr>\n",
       "    <tr>\n",
       "      <th>Original Release Date</th>\n",
       "      <td>0</td>\n",
       "      <td>0.0</td>\n",
       "    </tr>\n",
       "    <tr>\n",
       "      <th>Current Version Release Date</th>\n",
       "      <td>0</td>\n",
       "      <td>0.0</td>\n",
       "    </tr>\n",
       "  </tbody>\n",
       "</table>\n",
       "</div>"
      ],
      "text/plain": [
       "                              total_missing  perc_missing\n",
       "URL                                       0           0.0\n",
       "Name                                      0           0.0\n",
       "Icon URL                                  0           0.0\n",
       "User Rating Count                         0           0.0\n",
       "Price                                     0           0.0\n",
       "In-app Purchases                          0           0.0\n",
       "Description                               0           0.0\n",
       "Developer                                 0           0.0\n",
       "Age Rating                                0           0.0\n",
       "Languages                                 0           0.0\n",
       "Size                                      0           0.0\n",
       "Primary Genre                             0           0.0\n",
       "Genres                                    0           0.0\n",
       "Original Release Date                     0           0.0\n",
       "Current Version Release Date              0           0.0"
      ]
     },
     "execution_count": 41,
     "metadata": {},
     "output_type": "execute_result"
    }
   ],
   "source": [
    "GetColumnsNullsPerc(X_train)"
   ]
  },
  {
   "cell_type": "markdown",
   "id": "128d4610",
   "metadata": {
    "id": "128d4610"
   },
   "source": [
    "\n",
    "<br> \n",
    "\n",
    "**In-app Purchases**\n",
    "- We can assum that any cell with null value, does not has any purshases. So replace all nulls with 0\n",
    "- Replce each cell with the mean"
   ]
  },
  {
   "cell_type": "code",
   "execution_count": 42,
   "id": "ef1eb79c",
   "metadata": {
    "ExecuteTime": {
     "end_time": "2023-04-26T21:29:01.031326Z",
     "start_time": "2023-04-26T21:29:01.021191Z"
    },
    "id": "ef1eb79c"
   },
   "outputs": [],
   "source": [
    "FillColumnNulls(X_train, 'In-app Purchases')\n",
    "FillColumnNulls(X_train, 'Price')"
   ]
  },
  {
   "cell_type": "code",
   "execution_count": 43,
   "id": "f04121c3",
   "metadata": {
    "ExecuteTime": {
     "end_time": "2023-04-26T21:29:01.423309Z",
     "start_time": "2023-04-26T21:29:01.397517Z"
    },
    "id": "f04121c3"
   },
   "outputs": [
    {
     "data": {
      "text/html": [
       "<div>\n",
       "<style scoped>\n",
       "    .dataframe tbody tr th:only-of-type {\n",
       "        vertical-align: middle;\n",
       "    }\n",
       "\n",
       "    .dataframe tbody tr th {\n",
       "        vertical-align: top;\n",
       "    }\n",
       "\n",
       "    .dataframe thead th {\n",
       "        text-align: right;\n",
       "    }\n",
       "</style>\n",
       "<table border=\"1\" class=\"dataframe\">\n",
       "  <thead>\n",
       "    <tr style=\"text-align: right;\">\n",
       "      <th></th>\n",
       "      <th>total_missing</th>\n",
       "      <th>perc_missing</th>\n",
       "    </tr>\n",
       "  </thead>\n",
       "  <tbody>\n",
       "    <tr>\n",
       "      <th>URL</th>\n",
       "      <td>0</td>\n",
       "      <td>0.0</td>\n",
       "    </tr>\n",
       "    <tr>\n",
       "      <th>Name</th>\n",
       "      <td>0</td>\n",
       "      <td>0.0</td>\n",
       "    </tr>\n",
       "    <tr>\n",
       "      <th>Icon URL</th>\n",
       "      <td>0</td>\n",
       "      <td>0.0</td>\n",
       "    </tr>\n",
       "    <tr>\n",
       "      <th>User Rating Count</th>\n",
       "      <td>0</td>\n",
       "      <td>0.0</td>\n",
       "    </tr>\n",
       "    <tr>\n",
       "      <th>Price</th>\n",
       "      <td>0</td>\n",
       "      <td>0.0</td>\n",
       "    </tr>\n",
       "    <tr>\n",
       "      <th>In-app Purchases</th>\n",
       "      <td>0</td>\n",
       "      <td>0.0</td>\n",
       "    </tr>\n",
       "    <tr>\n",
       "      <th>Description</th>\n",
       "      <td>0</td>\n",
       "      <td>0.0</td>\n",
       "    </tr>\n",
       "    <tr>\n",
       "      <th>Developer</th>\n",
       "      <td>0</td>\n",
       "      <td>0.0</td>\n",
       "    </tr>\n",
       "    <tr>\n",
       "      <th>Age Rating</th>\n",
       "      <td>0</td>\n",
       "      <td>0.0</td>\n",
       "    </tr>\n",
       "    <tr>\n",
       "      <th>Languages</th>\n",
       "      <td>0</td>\n",
       "      <td>0.0</td>\n",
       "    </tr>\n",
       "    <tr>\n",
       "      <th>Size</th>\n",
       "      <td>0</td>\n",
       "      <td>0.0</td>\n",
       "    </tr>\n",
       "    <tr>\n",
       "      <th>Primary Genre</th>\n",
       "      <td>0</td>\n",
       "      <td>0.0</td>\n",
       "    </tr>\n",
       "    <tr>\n",
       "      <th>Genres</th>\n",
       "      <td>0</td>\n",
       "      <td>0.0</td>\n",
       "    </tr>\n",
       "    <tr>\n",
       "      <th>Original Release Date</th>\n",
       "      <td>0</td>\n",
       "      <td>0.0</td>\n",
       "    </tr>\n",
       "    <tr>\n",
       "      <th>Current Version Release Date</th>\n",
       "      <td>0</td>\n",
       "      <td>0.0</td>\n",
       "    </tr>\n",
       "  </tbody>\n",
       "</table>\n",
       "</div>"
      ],
      "text/plain": [
       "                              total_missing  perc_missing\n",
       "URL                                       0           0.0\n",
       "Name                                      0           0.0\n",
       "Icon URL                                  0           0.0\n",
       "User Rating Count                         0           0.0\n",
       "Price                                     0           0.0\n",
       "In-app Purchases                          0           0.0\n",
       "Description                               0           0.0\n",
       "Developer                                 0           0.0\n",
       "Age Rating                                0           0.0\n",
       "Languages                                 0           0.0\n",
       "Size                                      0           0.0\n",
       "Primary Genre                             0           0.0\n",
       "Genres                                    0           0.0\n",
       "Original Release Date                     0           0.0\n",
       "Current Version Release Date              0           0.0"
      ]
     },
     "execution_count": 43,
     "metadata": {},
     "output_type": "execute_result"
    }
   ],
   "source": [
    "GetColumnsNullsPerc(X_train)"
   ]
  },
  {
   "cell_type": "code",
   "execution_count": 44,
   "id": "4e2ffeb4",
   "metadata": {
    "ExecuteTime": {
     "end_time": "2023-04-26T21:29:01.833141Z",
     "start_time": "2023-04-26T21:29:01.821323Z"
    },
    "id": "4e2ffeb4"
   },
   "outputs": [],
   "source": [
    "X_train['Languages'] = X_train['Languages'].fillna('EN')"
   ]
  },
  {
   "cell_type": "code",
   "execution_count": 45,
   "id": "0de1441a",
   "metadata": {
    "ExecuteTime": {
     "end_time": "2023-04-26T21:29:02.341250Z",
     "start_time": "2023-04-26T21:29:02.301731Z"
    },
    "id": "0de1441a"
   },
   "outputs": [],
   "source": [
    "X_train = avarage_Purchases(X_train, 'In-app Purchases')"
   ]
  },
  {
   "cell_type": "code",
   "execution_count": 46,
   "id": "83b64ee6",
   "metadata": {
    "ExecuteTime": {
     "end_time": "2023-04-26T21:29:02.959935Z",
     "start_time": "2023-04-26T21:29:02.949345Z"
    },
    "id": "83b64ee6"
   },
   "outputs": [
    {
     "data": {
      "text/plain": [
       "dtype('float64')"
      ]
     },
     "execution_count": 46,
     "metadata": {},
     "output_type": "execute_result"
    }
   ],
   "source": [
    "X_train['In-app Purchases'].dtype"
   ]
  },
  {
   "cell_type": "markdown",
   "id": "QKcDq0XBIlrJ",
   "metadata": {
    "id": "QKcDq0XBIlrJ"
   },
   "source": [
    "<br>\n",
    "\n",
    "## `3. Price Encoding`"
   ]
  },
  {
   "cell_type": "code",
   "execution_count": 47,
   "id": "086654ed",
   "metadata": {
    "ExecuteTime": {
     "end_time": "2023-04-26T21:29:06.020875Z",
     "start_time": "2023-04-26T21:29:06.009372Z"
    },
    "id": "086654ed"
   },
   "outputs": [],
   "source": [
    "X_train[\"Price\"] = X_train[\"Price\"].apply(lambda x: 1 if x > 0 else x)"
   ]
  },
  {
   "cell_type": "code",
   "execution_count": 48,
   "id": "2d6e1993",
   "metadata": {
    "ExecuteTime": {
     "end_time": "2023-04-26T21:29:06.469984Z",
     "start_time": "2023-04-26T21:29:06.455950Z"
    },
    "id": "2d6e1993"
   },
   "outputs": [
    {
     "data": {
      "text/plain": [
       "0.0    777\n",
       "1.0     83\n",
       "Name: Price, dtype: int64"
      ]
     },
     "execution_count": 48,
     "metadata": {},
     "output_type": "execute_result"
    }
   ],
   "source": [
    "X_train['Price'].value_counts()"
   ]
  },
  {
   "cell_type": "markdown",
   "id": "27fbfee8",
   "metadata": {
    "id": "27fbfee8"
   },
   "source": [
    "<br>\n",
    "\n",
    "## `4. Outlires Detection & Removal`"
   ]
  },
  {
   "cell_type": "code",
   "execution_count": 49,
   "id": "77f14177",
   "metadata": {
    "ExecuteTime": {
     "end_time": "2023-04-26T21:29:08.595589Z",
     "start_time": "2023-04-26T21:29:08.314827Z"
    },
    "id": "77f14177"
   },
   "outputs": [
    {
     "name": "stderr",
     "output_type": "stream",
     "text": [
      "/var/folders/_r/3sb29fjj12d916yfxyrhd_gc0000gn/T/ipykernel_2448/2188112770.py:11: UserWarning: Matplotlib is currently using module://matplotlib_inline.backend_inline, which is a non-GUI backend, so cannot show the figure.\n",
      "  fig.show()\n",
      "/var/folders/_r/3sb29fjj12d916yfxyrhd_gc0000gn/T/ipykernel_2448/2188112770.py:11: UserWarning: Matplotlib is currently using module://matplotlib_inline.backend_inline, which is a non-GUI backend, so cannot show the figure.\n",
      "  fig.show()\n"
     ]
    },
    {
     "data": {
      "image/png": "[encoded data removed]",
      "text/plain": [
       "<Figure size 640x480 with 2 Axes>"
      ]
     },
     "metadata": {},
     "output_type": "display_data"
    },
    {
     "data": {
      "image/png": "[encoded data removed]",
      "text/plain": [
       "<Figure size 640x480 with 2 Axes>"
      ]
     },
     "metadata": {},
     "output_type": "display_data"
    }
   ],
   "source": [
    "outliarlist=[\"User Rating Count\",\"Size\"]\n",
    "for i in outliarlist:\n",
    "    outliers(X_train,i)"
   ]
  },
  {
   "cell_type": "markdown",
   "id": "b8760f76",
   "metadata": {
    "id": "b8760f76"
   },
   "source": [
    "<br>\n",
    "\n",
    "## `5. Apply One Hot Encoding On Categories`"
   ]
  },
  {
   "cell_type": "code",
   "execution_count": 50,
   "id": "5373d5a6",
   "metadata": {
    "ExecuteTime": {
     "end_time": "2023-04-26T21:29:10.262781Z",
     "start_time": "2023-04-26T21:29:10.199080Z"
    },
    "id": "5373d5a6"
   },
   "outputs": [],
   "source": [
    "# replace tst with df\n",
    "X_train = PreprocessListCategories(X_train,['Primary Genre', 'Genres', 'Languages'])\n",
    "X_train = reduceOHEColumns(X_train)"
   ]
  },
  {
   "cell_type": "code",
   "execution_count": 51,
   "id": "2535a27b",
   "metadata": {
    "ExecuteTime": {
     "end_time": "2023-04-26T21:29:11.439592Z",
     "start_time": "2023-04-26T21:29:11.427098Z"
    },
    "id": "2535a27b"
   },
   "outputs": [
    {
     "data": {
      "text/plain": [
       "(860, 35)"
      ]
     },
     "execution_count": 51,
     "metadata": {},
     "output_type": "execute_result"
    }
   ],
   "source": [
    "X_train.shape"
   ]
  },
  {
   "cell_type": "markdown",
   "id": "PISShL9dI_Cw",
   "metadata": {
    "id": "PISShL9dI_Cw"
   },
   "source": [
    "<br>\n",
    "\n",
    "## `6. extracting usefull information from features`"
   ]
  },
  {
   "cell_type": "code",
   "execution_count": 52,
   "id": "KFpc5d69anyg",
   "metadata": {
    "ExecuteTime": {
     "end_time": "2023-04-26T21:29:13.780469Z",
     "start_time": "2023-04-26T21:29:13.386283Z"
    },
    "id": "KFpc5d69anyg"
   },
   "outputs": [
    {
     "name": "stdout",
     "output_type": "stream",
     "text": [
      "<bound method Series.unique of 5210    us\n",
      "1493    us\n",
      "2394    us\n",
      "1805    us\n",
      "1044    us\n",
      "        ..\n",
      "2392    us\n",
      "1245    us\n",
      "5039    us\n",
      "3580    us\n",
      "2584    us\n",
      "Name: Country, Length: 860, dtype: object>\n"
     ]
    },
    {
     "name": "stderr",
     "output_type": "stream",
     "text": [
      "[nltk_data] Downloading package stopwords to\n",
      "[nltk_data]     /Users/ahmedhafez/nltk_data...\n",
      "[nltk_data]   Package stopwords is already up-to-date!\n",
      "[nltk_data] Downloading package punkt to\n",
      "[nltk_data]     /Users/ahmedhafez/nltk_data...\n",
      "[nltk_data]   Package punkt is already up-to-date!\n"
     ]
    }
   ],
   "source": [
    "X_train = feature_transformation(X_train)\n",
    "print(X_train['Country'].unique)\n",
    "#country column should be dropped because unique count is 0\n",
    "dropColumns(X_train,['Country'])\n",
    "X_train = frequent_words_in_name(X_train)\n",
    "X_train.rename(columns = {'Name':'frequent words in Name'}, inplace = True)"
   ]
  },
  {
   "cell_type": "code",
   "execution_count": 53,
   "id": "o-7AtdnezKdS",
   "metadata": {
    "ExecuteTime": {
     "end_time": "2023-04-26T21:29:14.058076Z",
     "start_time": "2023-04-26T21:29:14.029086Z"
    },
    "id": "o-7AtdnezKdS"
   },
   "outputs": [
    {
     "data": {
      "text/html": [
       "<div>\n",
       "<style scoped>\n",
       "    .dataframe tbody tr th:only-of-type {\n",
       "        vertical-align: middle;\n",
       "    }\n",
       "\n",
       "    .dataframe tbody tr th {\n",
       "        vertical-align: top;\n",
       "    }\n",
       "\n",
       "    .dataframe thead th {\n",
       "        text-align: right;\n",
       "    }\n",
       "</style>\n",
       "<table border=\"1\" class=\"dataframe\">\n",
       "  <thead>\n",
       "    <tr style=\"text-align: right;\">\n",
       "      <th></th>\n",
       "      <th>frequent words in Name</th>\n",
       "      <th>Color</th>\n",
       "      <th>User Rating Count</th>\n",
       "      <th>Price</th>\n",
       "      <th>In-app Purchases</th>\n",
       "      <th>Description</th>\n",
       "      <th>Other by developer</th>\n",
       "      <th>Age Rating</th>\n",
       "      <th>Size</th>\n",
       "      <th>Original Release Date</th>\n",
       "      <th>...</th>\n",
       "      <th>FR</th>\n",
       "      <th>IT</th>\n",
       "      <th>JA</th>\n",
       "      <th>KO</th>\n",
       "      <th>NL</th>\n",
       "      <th>PL</th>\n",
       "      <th>PT</th>\n",
       "      <th>RU</th>\n",
       "      <th>TR</th>\n",
       "      <th>ZH</th>\n",
       "    </tr>\n",
       "  </thead>\n",
       "  <tbody>\n",
       "    <tr>\n",
       "      <th>5210</th>\n",
       "      <td>1</td>\n",
       "      <td>is1</td>\n",
       "      <td>0.052112</td>\n",
       "      <td>0.0</td>\n",
       "      <td>7.615000</td>\n",
       "      <td>\"Jean start new business, managing club after ...</td>\n",
       "      <td>3</td>\n",
       "      <td>1</td>\n",
       "      <td>0.154565</td>\n",
       "      <td>1446336000000000000</td>\n",
       "      <td>...</td>\n",
       "      <td>0</td>\n",
       "      <td>0</td>\n",
       "      <td>1</td>\n",
       "      <td>1</td>\n",
       "      <td>0</td>\n",
       "      <td>0</td>\n",
       "      <td>0</td>\n",
       "      <td>0</td>\n",
       "      <td>0</td>\n",
       "      <td>0</td>\n",
       "    </tr>\n",
       "    <tr>\n",
       "      <th>1493</th>\n",
       "      <td>3</td>\n",
       "      <td>is1</td>\n",
       "      <td>0.008861</td>\n",
       "      <td>0.0</td>\n",
       "      <td>1.990000</td>\n",
       "      <td>If you are dreaming of space from childhood, t...</td>\n",
       "      <td>1</td>\n",
       "      <td>1</td>\n",
       "      <td>0.197224</td>\n",
       "      <td>1521331200000000000</td>\n",
       "      <td>...</td>\n",
       "      <td>0</td>\n",
       "      <td>0</td>\n",
       "      <td>0</td>\n",
       "      <td>0</td>\n",
       "      <td>0</td>\n",
       "      <td>0</td>\n",
       "      <td>0</td>\n",
       "      <td>1</td>\n",
       "      <td>0</td>\n",
       "      <td>0</td>\n",
       "    </tr>\n",
       "    <tr>\n",
       "      <th>2394</th>\n",
       "      <td>3</td>\n",
       "      <td>is4</td>\n",
       "      <td>0.071312</td>\n",
       "      <td>0.0</td>\n",
       "      <td>8.656667</td>\n",
       "      <td>\"That zombie apocalypse you\\u2019ve always wan...</td>\n",
       "      <td>17</td>\n",
       "      <td>1</td>\n",
       "      <td>0.160754</td>\n",
       "      <td>1499644800000000000</td>\n",
       "      <td>...</td>\n",
       "      <td>0</td>\n",
       "      <td>0</td>\n",
       "      <td>0</td>\n",
       "      <td>0</td>\n",
       "      <td>0</td>\n",
       "      <td>0</td>\n",
       "      <td>0</td>\n",
       "      <td>0</td>\n",
       "      <td>0</td>\n",
       "      <td>0</td>\n",
       "    </tr>\n",
       "    <tr>\n",
       "      <th>1805</th>\n",
       "      <td>2</td>\n",
       "      <td>is1</td>\n",
       "      <td>1.000000</td>\n",
       "      <td>0.0</td>\n",
       "      <td>7.590000</td>\n",
       "      <td>Classic board gameplay spiced up with card sup...</td>\n",
       "      <td>2</td>\n",
       "      <td>3</td>\n",
       "      <td>0.410242</td>\n",
       "      <td>1268092800000000000</td>\n",
       "      <td>...</td>\n",
       "      <td>1</td>\n",
       "      <td>1</td>\n",
       "      <td>0</td>\n",
       "      <td>0</td>\n",
       "      <td>0</td>\n",
       "      <td>0</td>\n",
       "      <td>0</td>\n",
       "      <td>0</td>\n",
       "      <td>0</td>\n",
       "      <td>0</td>\n",
       "    </tr>\n",
       "    <tr>\n",
       "      <th>1044</th>\n",
       "      <td>1</td>\n",
       "      <td>is1</td>\n",
       "      <td>0.209927</td>\n",
       "      <td>0.0</td>\n",
       "      <td>30.561429</td>\n",
       "      <td>Battleplans infuses unique squad tactics into ...</td>\n",
       "      <td>1</td>\n",
       "      <td>2</td>\n",
       "      <td>0.621163</td>\n",
       "      <td>1464048000000000000</td>\n",
       "      <td>...</td>\n",
       "      <td>1</td>\n",
       "      <td>0</td>\n",
       "      <td>0</td>\n",
       "      <td>0</td>\n",
       "      <td>0</td>\n",
       "      <td>0</td>\n",
       "      <td>0</td>\n",
       "      <td>0</td>\n",
       "      <td>0</td>\n",
       "      <td>0</td>\n",
       "    </tr>\n",
       "  </tbody>\n",
       "</table>\n",
       "<p>5 rows × 34 columns</p>\n",
       "</div>"
      ],
      "text/plain": [
       "      frequent words in Name Color  User Rating Count  Price  \\\n",
       "5210                       1   is1           0.052112    0.0   \n",
       "1493                       3   is1           0.008861    0.0   \n",
       "2394                       3   is4           0.071312    0.0   \n",
       "1805                       2   is1           1.000000    0.0   \n",
       "1044                       1   is1           0.209927    0.0   \n",
       "\n",
       "      In-app Purchases                                        Description  \\\n",
       "5210          7.615000  \"Jean start new business, managing club after ...   \n",
       "1493          1.990000  If you are dreaming of space from childhood, t...   \n",
       "2394          8.656667  \"That zombie apocalypse you\\u2019ve always wan...   \n",
       "1805          7.590000  Classic board gameplay spiced up with card sup...   \n",
       "1044         30.561429  Battleplans infuses unique squad tactics into ...   \n",
       "\n",
       "      Other by developer  Age Rating      Size  Original Release Date  ...  \\\n",
       "5210                   3           1  0.154565    1446336000000000000  ...   \n",
       "1493                   1           1  0.197224    1521331200000000000  ...   \n",
       "2394                  17           1  0.160754    1499644800000000000  ...   \n",
       "1805                   2           3  0.410242    1268092800000000000  ...   \n",
       "1044                   1           2  0.621163    1464048000000000000  ...   \n",
       "\n",
       "      FR  IT  JA  KO  NL  PL  PT  RU  TR  ZH  \n",
       "5210   0   0   1   1   0   0   0   0   0   0  \n",
       "1493   0   0   0   0   0   0   0   1   0   0  \n",
       "2394   0   0   0   0   0   0   0   0   0   0  \n",
       "1805   1   1   0   0   0   0   0   0   0   0  \n",
       "1044   1   0   0   0   0   0   0   0   0   0  \n",
       "\n",
       "[5 rows x 34 columns]"
      ]
     },
     "execution_count": 53,
     "metadata": {},
     "output_type": "execute_result"
    }
   ],
   "source": [
    "X_train.head()"
   ]
  },
  {
   "cell_type": "markdown",
   "id": "dd9fe79e",
   "metadata": {
    "id": "dd9fe79e"
   },
   "source": [
    "## Description Feature"
   ]
  },
  {
   "cell_type": "code",
   "execution_count": 54,
   "id": "3ea0451e",
   "metadata": {
    "ExecuteTime": {
     "end_time": "2023-04-26T21:29:15.873631Z",
     "start_time": "2023-04-26T21:29:15.705848Z"
    },
    "id": "3ea0451e"
   },
   "outputs": [
    {
     "data": {
      "text/html": [
       "<div>\n",
       "<style scoped>\n",
       "    .dataframe tbody tr th:only-of-type {\n",
       "        vertical-align: middle;\n",
       "    }\n",
       "\n",
       "    .dataframe tbody tr th {\n",
       "        vertical-align: top;\n",
       "    }\n",
       "\n",
       "    .dataframe thead th {\n",
       "        text-align: right;\n",
       "    }\n",
       "</style>\n",
       "<table border=\"1\" class=\"dataframe\">\n",
       "  <thead>\n",
       "    <tr style=\"text-align: right;\">\n",
       "      <th></th>\n",
       "      <th>frequent words in Name</th>\n",
       "      <th>Color</th>\n",
       "      <th>User Rating Count</th>\n",
       "      <th>Price</th>\n",
       "      <th>In-app Purchases</th>\n",
       "      <th>Other by developer</th>\n",
       "      <th>Age Rating</th>\n",
       "      <th>Size</th>\n",
       "      <th>Original Release Date</th>\n",
       "      <th>Current Version Release Date</th>\n",
       "      <th>...</th>\n",
       "      <th>IT</th>\n",
       "      <th>JA</th>\n",
       "      <th>KO</th>\n",
       "      <th>NL</th>\n",
       "      <th>PL</th>\n",
       "      <th>PT</th>\n",
       "      <th>RU</th>\n",
       "      <th>TR</th>\n",
       "      <th>ZH</th>\n",
       "      <th>Game Difficulty</th>\n",
       "    </tr>\n",
       "  </thead>\n",
       "  <tbody>\n",
       "    <tr>\n",
       "      <th>5210</th>\n",
       "      <td>1</td>\n",
       "      <td>is1</td>\n",
       "      <td>0.052112</td>\n",
       "      <td>0.0</td>\n",
       "      <td>7.615000</td>\n",
       "      <td>3</td>\n",
       "      <td>1</td>\n",
       "      <td>0.154565</td>\n",
       "      <td>1446336000000000000</td>\n",
       "      <td>1523836800000000000</td>\n",
       "      <td>...</td>\n",
       "      <td>0</td>\n",
       "      <td>1</td>\n",
       "      <td>1</td>\n",
       "      <td>0</td>\n",
       "      <td>0</td>\n",
       "      <td>0</td>\n",
       "      <td>0</td>\n",
       "      <td>0</td>\n",
       "      <td>0</td>\n",
       "      <td>Easy</td>\n",
       "    </tr>\n",
       "    <tr>\n",
       "      <th>1493</th>\n",
       "      <td>3</td>\n",
       "      <td>is1</td>\n",
       "      <td>0.008861</td>\n",
       "      <td>0.0</td>\n",
       "      <td>1.990000</td>\n",
       "      <td>1</td>\n",
       "      <td>1</td>\n",
       "      <td>0.197224</td>\n",
       "      <td>1521331200000000000</td>\n",
       "      <td>1524528000000000000</td>\n",
       "      <td>...</td>\n",
       "      <td>0</td>\n",
       "      <td>0</td>\n",
       "      <td>0</td>\n",
       "      <td>0</td>\n",
       "      <td>0</td>\n",
       "      <td>0</td>\n",
       "      <td>1</td>\n",
       "      <td>0</td>\n",
       "      <td>0</td>\n",
       "      <td>Easy</td>\n",
       "    </tr>\n",
       "    <tr>\n",
       "      <th>2394</th>\n",
       "      <td>3</td>\n",
       "      <td>is4</td>\n",
       "      <td>0.071312</td>\n",
       "      <td>0.0</td>\n",
       "      <td>8.656667</td>\n",
       "      <td>17</td>\n",
       "      <td>1</td>\n",
       "      <td>0.160754</td>\n",
       "      <td>1499644800000000000</td>\n",
       "      <td>1521158400000000000</td>\n",
       "      <td>...</td>\n",
       "      <td>0</td>\n",
       "      <td>0</td>\n",
       "      <td>0</td>\n",
       "      <td>0</td>\n",
       "      <td>0</td>\n",
       "      <td>0</td>\n",
       "      <td>0</td>\n",
       "      <td>0</td>\n",
       "      <td>0</td>\n",
       "      <td>Easy</td>\n",
       "    </tr>\n",
       "    <tr>\n",
       "      <th>1805</th>\n",
       "      <td>2</td>\n",
       "      <td>is1</td>\n",
       "      <td>1.000000</td>\n",
       "      <td>0.0</td>\n",
       "      <td>7.590000</td>\n",
       "      <td>2</td>\n",
       "      <td>3</td>\n",
       "      <td>0.410242</td>\n",
       "      <td>1268092800000000000</td>\n",
       "      <td>1570320000000000000</td>\n",
       "      <td>...</td>\n",
       "      <td>1</td>\n",
       "      <td>0</td>\n",
       "      <td>0</td>\n",
       "      <td>0</td>\n",
       "      <td>0</td>\n",
       "      <td>0</td>\n",
       "      <td>0</td>\n",
       "      <td>0</td>\n",
       "      <td>0</td>\n",
       "      <td>Easy</td>\n",
       "    </tr>\n",
       "    <tr>\n",
       "      <th>1044</th>\n",
       "      <td>1</td>\n",
       "      <td>is1</td>\n",
       "      <td>0.209927</td>\n",
       "      <td>0.0</td>\n",
       "      <td>30.561429</td>\n",
       "      <td>1</td>\n",
       "      <td>2</td>\n",
       "      <td>0.621163</td>\n",
       "      <td>1464048000000000000</td>\n",
       "      <td>1555891200000000000</td>\n",
       "      <td>...</td>\n",
       "      <td>0</td>\n",
       "      <td>0</td>\n",
       "      <td>0</td>\n",
       "      <td>0</td>\n",
       "      <td>0</td>\n",
       "      <td>0</td>\n",
       "      <td>0</td>\n",
       "      <td>0</td>\n",
       "      <td>0</td>\n",
       "      <td>Easy</td>\n",
       "    </tr>\n",
       "  </tbody>\n",
       "</table>\n",
       "<p>5 rows × 34 columns</p>\n",
       "</div>"
      ],
      "text/plain": [
       "      frequent words in Name Color  User Rating Count  Price  \\\n",
       "5210                       1   is1           0.052112    0.0   \n",
       "1493                       3   is1           0.008861    0.0   \n",
       "2394                       3   is4           0.071312    0.0   \n",
       "1805                       2   is1           1.000000    0.0   \n",
       "1044                       1   is1           0.209927    0.0   \n",
       "\n",
       "      In-app Purchases  Other by developer  Age Rating      Size  \\\n",
       "5210          7.615000                   3           1  0.154565   \n",
       "1493          1.990000                   1           1  0.197224   \n",
       "2394          8.656667                  17           1  0.160754   \n",
       "1805          7.590000                   2           3  0.410242   \n",
       "1044         30.561429                   1           2  0.621163   \n",
       "\n",
       "      Original Release Date  Current Version Release Date  ...  IT  JA  KO  \\\n",
       "5210    1446336000000000000           1523836800000000000  ...   0   1   1   \n",
       "1493    1521331200000000000           1524528000000000000  ...   0   0   0   \n",
       "2394    1499644800000000000           1521158400000000000  ...   0   0   0   \n",
       "1805    1268092800000000000           1570320000000000000  ...   1   0   0   \n",
       "1044    1464048000000000000           1555891200000000000  ...   0   0   0   \n",
       "\n",
       "      NL  PL  PT  RU  TR  ZH  Game Difficulty  \n",
       "5210   0   0   0   0   0   0             Easy  \n",
       "1493   0   0   0   1   0   0             Easy  \n",
       "2394   0   0   0   0   0   0             Easy  \n",
       "1805   0   0   0   0   0   0             Easy  \n",
       "1044   0   0   0   0   0   0             Easy  \n",
       "\n",
       "[5 rows x 34 columns]"
      ]
     },
     "execution_count": 54,
     "metadata": {},
     "output_type": "execute_result"
    }
   ],
   "source": [
    "# convert text to lowercase\n",
    "X_train['Description'] = X_train['Description'].str.lower()\n",
    "X_train['Game Difficulty'] = X_train['Description'].apply(extract_difficulty)\n",
    "X_train.drop(columns='Description', inplace=True)\n",
    "# Print the first 5 rows of the dataframe to verify the new columns have been added\n",
    "X_train.head()"
   ]
  },
  {
   "cell_type": "code",
   "execution_count": 55,
   "id": "881a6b8b",
   "metadata": {
    "ExecuteTime": {
     "end_time": "2023-04-26T21:29:16.251405Z",
     "start_time": "2023-04-26T21:29:16.235680Z"
    },
    "id": "881a6b8b"
   },
   "outputs": [
    {
     "data": {
      "text/plain": [
       "Easy      590\n",
       "Hard      269\n",
       "Medium      1\n",
       "Name: Game Difficulty, dtype: int64"
      ]
     },
     "execution_count": 55,
     "metadata": {},
     "output_type": "execute_result"
    }
   ],
   "source": [
    "X_train['Game Difficulty'].value_counts()"
   ]
  },
  {
   "cell_type": "markdown",
   "id": "r_7O3cd2PeDH",
   "metadata": {
    "id": "r_7O3cd2PeDH"
   },
   "source": [
    "## correlations"
   ]
  },
  {
   "cell_type": "code",
   "execution_count": 56,
   "id": "2GtSTUtmPeDI",
   "metadata": {
    "ExecuteTime": {
     "end_time": "2023-04-26T21:29:17.683093Z",
     "start_time": "2023-04-26T21:29:17.674502Z"
    },
    "id": "2GtSTUtmPeDI"
   },
   "outputs": [],
   "source": [
    "corrdf = pd.concat([X_train,Y_train] ,axis=1)"
   ]
  },
  {
   "cell_type": "code",
   "execution_count": 57,
   "id": "gPsMPlCAPeDJ",
   "metadata": {
    "ExecuteTime": {
     "end_time": "2023-04-26T21:29:18.244158Z",
     "start_time": "2023-04-26T21:29:18.228388Z"
    },
    "id": "gPsMPlCAPeDJ"
   },
   "outputs": [
    {
     "name": "stdout",
     "output_type": "stream",
     "text": [
      "The correlation between User Rating Count and Average User Rating is -0.03\n"
     ]
    }
   ],
   "source": [
    "correlation_matrix = corrdf.corr()\n",
    "\n",
    "# Get the correlation value between feature_1 and feature_2\n",
    "correlation_value = correlation_matrix.loc['Size', 'Average User Rating']\n",
    "\n",
    "print(f\"The correlation between User Rating Count and Average User Rating is {correlation_value:.2f}\")"
   ]
  },
  {
   "cell_type": "code",
   "execution_count": 58,
   "id": "Msys9j7zPeDJ",
   "metadata": {
    "ExecuteTime": {
     "end_time": "2023-04-26T21:29:18.709951Z",
     "start_time": "2023-04-26T21:29:18.696576Z"
    },
    "id": "Msys9j7zPeDJ"
   },
   "outputs": [
    {
     "name": "stdout",
     "output_type": "stream",
     "text": [
      "The correlation between User Rating Count and Average User Rating is -0.01\n"
     ]
    }
   ],
   "source": [
    "correlation_matrix = corrdf.corr()\n",
    "\n",
    "# Get the correlation value between feature_1 and feature_2\n",
    "correlation_value = correlation_matrix.loc['Age Rating', 'Average User Rating']\n",
    "\n",
    "print(f\"The correlation between User Rating Count and Average User Rating is {correlation_value:.2f}\")"
   ]
  },
  {
   "cell_type": "code",
   "execution_count": 59,
   "id": "tJidTeuIPeDJ",
   "metadata": {
    "ExecuteTime": {
     "end_time": "2023-04-26T21:29:20.019500Z",
     "start_time": "2023-04-26T21:29:20.006016Z"
    },
    "id": "tJidTeuIPeDJ"
   },
   "outputs": [
    {
     "name": "stdout",
     "output_type": "stream",
     "text": [
      "The correlation between User Rating Count and Average User Rating is -0.02\n"
     ]
    }
   ],
   "source": [
    "correlation_matrix = corrdf.corr()\n",
    "\n",
    "# Get the correlation value between feature_1 and feature_2\n",
    "correlation_value = correlation_matrix.loc['In-app Purchases', 'Average User Rating']\n",
    "\n",
    "print(f\"The correlation between User Rating Count and Average User Rating is {correlation_value:.2f}\")"
   ]
  },
  {
   "cell_type": "code",
   "execution_count": 60,
   "id": "9f0VVpDpPeDJ",
   "metadata": {
    "ExecuteTime": {
     "end_time": "2023-04-26T21:29:20.631355Z",
     "start_time": "2023-04-26T21:29:20.615322Z"
    },
    "id": "9f0VVpDpPeDJ"
   },
   "outputs": [
    {
     "name": "stdout",
     "output_type": "stream",
     "text": [
      "The correlation between User Rating Count and Average User Rating is -0.06\n"
     ]
    }
   ],
   "source": [
    "correlation_matrix = corrdf.corr()\n",
    "\n",
    "# Get the correlation value between feature_1 and feature_2\n",
    "correlation_value = correlation_matrix.loc['Price', 'Average User Rating']\n",
    "\n",
    "print(f\"The correlation between User Rating Count and Average User Rating is {correlation_value:.2f}\")"
   ]
  },
  {
   "cell_type": "markdown",
   "id": "80bdaed4",
   "metadata": {
    "id": "80bdaed4"
   },
   "source": [
    "## Feature Selection"
   ]
  },
  {
   "cell_type": "code",
   "execution_count": 61,
   "id": "be026d73",
   "metadata": {
    "ExecuteTime": {
     "end_time": "2023-04-26T21:29:22.354175Z",
     "start_time": "2023-04-26T21:29:22.331392Z"
    },
    "id": "be026d73"
   },
   "outputs": [
    {
     "name": "stdout",
     "output_type": "stream",
     "text": [
      "Index(['User Rating Count', 'Original Release Date'], dtype='object')\n"
     ]
    }
   ],
   "source": [
    "top_f = selection(X_train,Y_train)\n",
    "print(top_f)\n",
    "X_train = X_train[top_f]"
   ]
  },
  {
   "cell_type": "markdown",
   "id": "cwdaRnczAHIT",
   "metadata": {
    "id": "cwdaRnczAHIT"
   },
   "source": [
    "# Preprocess Test data"
   ]
  },
  {
   "cell_type": "code",
   "execution_count": 62,
   "id": "qOaeB27ENDkZ",
   "metadata": {
    "ExecuteTime": {
     "end_time": "2023-04-26T21:29:24.097645Z",
     "start_time": "2023-04-26T21:29:24.042851Z"
    },
    "id": "qOaeB27ENDkZ"
   },
   "outputs": [
    {
     "name": "stdout",
     "output_type": "stream",
     "text": [
      "Data type of Age Rating is,  object\n",
      "Data type of Age Rating after processing is  int64\n",
      "4178    3\n",
      "1757    1\n",
      "371     1\n",
      "3056    1\n",
      "2078    2\n",
      "Name: Age Rating, dtype: int64\n"
     ]
    },
    {
     "name": "stderr",
     "output_type": "stream",
     "text": [
      "/Users/ahmedhafez/opt/anaconda3/lib/python3.9/site-packages/pandas/core/dtypes/cast.py:1163: UserWarning: Parsing '27/04/2016' in DD/MM/YYYY format. Provide format or specify infer_datetime_format=True for consistent parsing.\n",
      "  to_datetime(arr).values,\n",
      "/Users/ahmedhafez/opt/anaconda3/lib/python3.9/site-packages/pandas/core/dtypes/cast.py:1163: UserWarning: Parsing '19/10/2010' in DD/MM/YYYY format. Provide format or specify infer_datetime_format=True for consistent parsing.\n",
      "  to_datetime(arr).values,\n",
      "/Users/ahmedhafez/opt/anaconda3/lib/python3.9/site-packages/pandas/core/dtypes/cast.py:1163: UserWarning: Parsing '16/09/2015' in DD/MM/YYYY format. Provide format or specify infer_datetime_format=True for consistent parsing.\n",
      "  to_datetime(arr).values,\n",
      "/Users/ahmedhafez/opt/anaconda3/lib/python3.9/site-packages/pandas/core/dtypes/cast.py:1163: UserWarning: Parsing '31/01/2018' in DD/MM/YYYY format. Provide format or specify infer_datetime_format=True for consistent parsing.\n",
      "  to_datetime(arr).values,\n",
      "/Users/ahmedhafez/opt/anaconda3/lib/python3.9/site-packages/pandas/core/dtypes/cast.py:1163: UserWarning: Parsing '30/12/2014' in DD/MM/YYYY format. Provide format or specify infer_datetime_format=True for consistent parsing.\n",
      "  to_datetime(arr).values,\n",
      "/Users/ahmedhafez/opt/anaconda3/lib/python3.9/site-packages/pandas/core/dtypes/cast.py:1163: UserWarning: Parsing '26/04/2012' in DD/MM/YYYY format. Provide format or specify infer_datetime_format=True for consistent parsing.\n",
      "  to_datetime(arr).values,\n",
      "/Users/ahmedhafez/opt/anaconda3/lib/python3.9/site-packages/pandas/core/dtypes/cast.py:1163: UserWarning: Parsing '13/09/2017' in DD/MM/YYYY format. Provide format or specify infer_datetime_format=True for consistent parsing.\n",
      "  to_datetime(arr).values,\n",
      "/Users/ahmedhafez/opt/anaconda3/lib/python3.9/site-packages/pandas/core/dtypes/cast.py:1163: UserWarning: Parsing '26/03/2018' in DD/MM/YYYY format. Provide format or specify infer_datetime_format=True for consistent parsing.\n",
      "  to_datetime(arr).values,\n",
      "/Users/ahmedhafez/opt/anaconda3/lib/python3.9/site-packages/pandas/core/dtypes/cast.py:1163: UserWarning: Parsing '16/02/2018' in DD/MM/YYYY format. Provide format or specify infer_datetime_format=True for consistent parsing.\n",
      "  to_datetime(arr).values,\n",
      "/Users/ahmedhafez/opt/anaconda3/lib/python3.9/site-packages/pandas/core/dtypes/cast.py:1163: UserWarning: Parsing '14/07/2017' in DD/MM/YYYY format. Provide format or specify infer_datetime_format=True for consistent parsing.\n",
      "  to_datetime(arr).values,\n",
      "/Users/ahmedhafez/opt/anaconda3/lib/python3.9/site-packages/pandas/core/dtypes/cast.py:1163: UserWarning: Parsing '25/11/2013' in DD/MM/YYYY format. Provide format or specify infer_datetime_format=True for consistent parsing.\n",
      "  to_datetime(arr).values,\n",
      "/Users/ahmedhafez/opt/anaconda3/lib/python3.9/site-packages/pandas/core/dtypes/cast.py:1163: UserWarning: Parsing '29/09/2016' in DD/MM/YYYY format. Provide format or specify infer_datetime_format=True for consistent parsing.\n",
      "  to_datetime(arr).values,\n",
      "/Users/ahmedhafez/opt/anaconda3/lib/python3.9/site-packages/pandas/core/dtypes/cast.py:1163: UserWarning: Parsing '15/08/2015' in DD/MM/YYYY format. Provide format or specify infer_datetime_format=True for consistent parsing.\n",
      "  to_datetime(arr).values,\n",
      "/Users/ahmedhafez/opt/anaconda3/lib/python3.9/site-packages/pandas/core/dtypes/cast.py:1163: UserWarning: Parsing '26/05/2018' in DD/MM/YYYY format. Provide format or specify infer_datetime_format=True for consistent parsing.\n",
      "  to_datetime(arr).values,\n",
      "/Users/ahmedhafez/opt/anaconda3/lib/python3.9/site-packages/pandas/core/dtypes/cast.py:1163: UserWarning: Parsing '23/04/2017' in DD/MM/YYYY format. Provide format or specify infer_datetime_format=True for consistent parsing.\n",
      "  to_datetime(arr).values,\n",
      "/Users/ahmedhafez/opt/anaconda3/lib/python3.9/site-packages/pandas/core/dtypes/cast.py:1163: UserWarning: Parsing '13/07/2014' in DD/MM/YYYY format. Provide format or specify infer_datetime_format=True for consistent parsing.\n",
      "  to_datetime(arr).values,\n",
      "/Users/ahmedhafez/opt/anaconda3/lib/python3.9/site-packages/pandas/core/dtypes/cast.py:1163: UserWarning: Parsing '26/06/2019' in DD/MM/YYYY format. Provide format or specify infer_datetime_format=True for consistent parsing.\n",
      "  to_datetime(arr).values,\n",
      "/Users/ahmedhafez/opt/anaconda3/lib/python3.9/site-packages/pandas/core/dtypes/cast.py:1163: UserWarning: Parsing '23/08/2017' in DD/MM/YYYY format. Provide format or specify infer_datetime_format=True for consistent parsing.\n",
      "  to_datetime(arr).values,\n",
      "/Users/ahmedhafez/opt/anaconda3/lib/python3.9/site-packages/pandas/core/dtypes/cast.py:1163: UserWarning: Parsing '28/10/2017' in DD/MM/YYYY format. Provide format or specify infer_datetime_format=True for consistent parsing.\n",
      "  to_datetime(arr).values,\n",
      "/Users/ahmedhafez/opt/anaconda3/lib/python3.9/site-packages/pandas/core/dtypes/cast.py:1163: UserWarning: Parsing '13/10/2017' in DD/MM/YYYY format. Provide format or specify infer_datetime_format=True for consistent parsing.\n",
      "  to_datetime(arr).values,\n",
      "/Users/ahmedhafez/opt/anaconda3/lib/python3.9/site-packages/pandas/core/dtypes/cast.py:1163: UserWarning: Parsing '25/06/2010' in DD/MM/YYYY format. Provide format or specify infer_datetime_format=True for consistent parsing.\n",
      "  to_datetime(arr).values,\n",
      "/Users/ahmedhafez/opt/anaconda3/lib/python3.9/site-packages/pandas/core/dtypes/cast.py:1163: UserWarning: Parsing '15/09/2016' in DD/MM/YYYY format. Provide format or specify infer_datetime_format=True for consistent parsing.\n",
      "  to_datetime(arr).values,\n",
      "/Users/ahmedhafez/opt/anaconda3/lib/python3.9/site-packages/pandas/core/dtypes/cast.py:1163: UserWarning: Parsing '14/01/2016' in DD/MM/YYYY format. Provide format or specify infer_datetime_format=True for consistent parsing.\n",
      "  to_datetime(arr).values,\n",
      "/Users/ahmedhafez/opt/anaconda3/lib/python3.9/site-packages/pandas/core/dtypes/cast.py:1163: UserWarning: Parsing '20/10/2016' in DD/MM/YYYY format. Provide format or specify infer_datetime_format=True for consistent parsing.\n",
      "  to_datetime(arr).values,\n",
      "/Users/ahmedhafez/opt/anaconda3/lib/python3.9/site-packages/pandas/core/dtypes/cast.py:1163: UserWarning: Parsing '28/11/2017' in DD/MM/YYYY format. Provide format or specify infer_datetime_format=True for consistent parsing.\n",
      "  to_datetime(arr).values,\n",
      "/Users/ahmedhafez/opt/anaconda3/lib/python3.9/site-packages/pandas/core/dtypes/cast.py:1163: UserWarning: Parsing '31/01/2014' in DD/MM/YYYY format. Provide format or specify infer_datetime_format=True for consistent parsing.\n",
      "  to_datetime(arr).values,\n",
      "/Users/ahmedhafez/opt/anaconda3/lib/python3.9/site-packages/pandas/core/dtypes/cast.py:1163: UserWarning: Parsing '24/10/2016' in DD/MM/YYYY format. Provide format or specify infer_datetime_format=True for consistent parsing.\n",
      "  to_datetime(arr).values,\n",
      "/Users/ahmedhafez/opt/anaconda3/lib/python3.9/site-packages/pandas/core/dtypes/cast.py:1163: UserWarning: Parsing '16/08/2012' in DD/MM/YYYY format. Provide format or specify infer_datetime_format=True for consistent parsing.\n",
      "  to_datetime(arr).values,\n",
      "/Users/ahmedhafez/opt/anaconda3/lib/python3.9/site-packages/pandas/core/dtypes/cast.py:1163: UserWarning: Parsing '25/07/2014' in DD/MM/YYYY format. Provide format or specify infer_datetime_format=True for consistent parsing.\n",
      "  to_datetime(arr).values,\n",
      "/Users/ahmedhafez/opt/anaconda3/lib/python3.9/site-packages/pandas/core/dtypes/cast.py:1163: UserWarning: Parsing '30/08/2017' in DD/MM/YYYY format. Provide format or specify infer_datetime_format=True for consistent parsing.\n",
      "  to_datetime(arr).values,\n",
      "/Users/ahmedhafez/opt/anaconda3/lib/python3.9/site-packages/pandas/core/dtypes/cast.py:1163: UserWarning: Parsing '13/05/2017' in DD/MM/YYYY format. Provide format or specify infer_datetime_format=True for consistent parsing.\n",
      "  to_datetime(arr).values,\n",
      "/Users/ahmedhafez/opt/anaconda3/lib/python3.9/site-packages/pandas/core/dtypes/cast.py:1163: UserWarning: Parsing '27/08/2014' in DD/MM/YYYY format. Provide format or specify infer_datetime_format=True for consistent parsing.\n",
      "  to_datetime(arr).values,\n",
      "/Users/ahmedhafez/opt/anaconda3/lib/python3.9/site-packages/pandas/core/dtypes/cast.py:1163: UserWarning: Parsing '16/10/2015' in DD/MM/YYYY format. Provide format or specify infer_datetime_format=True for consistent parsing.\n",
      "  to_datetime(arr).values,\n",
      "/Users/ahmedhafez/opt/anaconda3/lib/python3.9/site-packages/pandas/core/dtypes/cast.py:1163: UserWarning: Parsing '16/12/2017' in DD/MM/YYYY format. Provide format or specify infer_datetime_format=True for consistent parsing.\n",
      "  to_datetime(arr).values,\n",
      "/Users/ahmedhafez/opt/anaconda3/lib/python3.9/site-packages/pandas/core/dtypes/cast.py:1163: UserWarning: Parsing '26/07/2017' in DD/MM/YYYY format. Provide format or specify infer_datetime_format=True for consistent parsing.\n",
      "  to_datetime(arr).values,\n",
      "/Users/ahmedhafez/opt/anaconda3/lib/python3.9/site-packages/pandas/core/dtypes/cast.py:1163: UserWarning: Parsing '16/11/2016' in DD/MM/YYYY format. Provide format or specify infer_datetime_format=True for consistent parsing.\n",
      "  to_datetime(arr).values,\n",
      "/Users/ahmedhafez/opt/anaconda3/lib/python3.9/site-packages/pandas/core/dtypes/cast.py:1163: UserWarning: Parsing '19/10/2017' in DD/MM/YYYY format. Provide format or specify infer_datetime_format=True for consistent parsing.\n",
      "  to_datetime(arr).values,\n",
      "/Users/ahmedhafez/opt/anaconda3/lib/python3.9/site-packages/pandas/core/dtypes/cast.py:1163: UserWarning: Parsing '15/08/2017' in DD/MM/YYYY format. Provide format or specify infer_datetime_format=True for consistent parsing.\n",
      "  to_datetime(arr).values,\n",
      "/Users/ahmedhafez/opt/anaconda3/lib/python3.9/site-packages/pandas/core/dtypes/cast.py:1163: UserWarning: Parsing '16/08/2017' in DD/MM/YYYY format. Provide format or specify infer_datetime_format=True for consistent parsing.\n",
      "  to_datetime(arr).values,\n",
      "/Users/ahmedhafez/opt/anaconda3/lib/python3.9/site-packages/pandas/core/dtypes/cast.py:1163: UserWarning: Parsing '15/05/2018' in DD/MM/YYYY format. Provide format or specify infer_datetime_format=True for consistent parsing.\n",
      "  to_datetime(arr).values,\n",
      "/Users/ahmedhafez/opt/anaconda3/lib/python3.9/site-packages/pandas/core/dtypes/cast.py:1163: UserWarning: Parsing '17/05/2018' in DD/MM/YYYY format. Provide format or specify infer_datetime_format=True for consistent parsing.\n",
      "  to_datetime(arr).values,\n",
      "/Users/ahmedhafez/opt/anaconda3/lib/python3.9/site-packages/pandas/core/dtypes/cast.py:1163: UserWarning: Parsing '16/03/2014' in DD/MM/YYYY format. Provide format or specify infer_datetime_format=True for consistent parsing.\n",
      "  to_datetime(arr).values,\n",
      "/Users/ahmedhafez/opt/anaconda3/lib/python3.9/site-packages/pandas/core/dtypes/cast.py:1163: UserWarning: Parsing '15/01/2011' in DD/MM/YYYY format. Provide format or specify infer_datetime_format=True for consistent parsing.\n",
      "  to_datetime(arr).values,\n",
      "/Users/ahmedhafez/opt/anaconda3/lib/python3.9/site-packages/pandas/core/dtypes/cast.py:1163: UserWarning: Parsing '25/07/2017' in DD/MM/YYYY format. Provide format or specify infer_datetime_format=True for consistent parsing.\n",
      "  to_datetime(arr).values,\n",
      "/Users/ahmedhafez/opt/anaconda3/lib/python3.9/site-packages/pandas/core/dtypes/cast.py:1163: UserWarning: Parsing '31/05/2018' in DD/MM/YYYY format. Provide format or specify infer_datetime_format=True for consistent parsing.\n",
      "  to_datetime(arr).values,\n",
      "/Users/ahmedhafez/opt/anaconda3/lib/python3.9/site-packages/pandas/core/dtypes/cast.py:1163: UserWarning: Parsing '27/06/2010' in DD/MM/YYYY format. Provide format or specify infer_datetime_format=True for consistent parsing.\n",
      "  to_datetime(arr).values,\n",
      "/Users/ahmedhafez/opt/anaconda3/lib/python3.9/site-packages/pandas/core/dtypes/cast.py:1163: UserWarning: Parsing '23/01/2014' in DD/MM/YYYY format. Provide format or specify infer_datetime_format=True for consistent parsing.\n",
      "  to_datetime(arr).values,\n",
      "/Users/ahmedhafez/opt/anaconda3/lib/python3.9/site-packages/pandas/core/dtypes/cast.py:1163: UserWarning: Parsing '15/01/2017' in DD/MM/YYYY format. Provide format or specify infer_datetime_format=True for consistent parsing.\n",
      "  to_datetime(arr).values,\n",
      "/Users/ahmedhafez/opt/anaconda3/lib/python3.9/site-packages/pandas/core/dtypes/cast.py:1163: UserWarning: Parsing '28/08/2014' in DD/MM/YYYY format. Provide format or specify infer_datetime_format=True for consistent parsing.\n",
      "  to_datetime(arr).values,\n",
      "/Users/ahmedhafez/opt/anaconda3/lib/python3.9/site-packages/pandas/core/dtypes/cast.py:1163: UserWarning: Parsing '19/10/2014' in DD/MM/YYYY format. Provide format or specify infer_datetime_format=True for consistent parsing.\n",
      "  to_datetime(arr).values,\n",
      "/Users/ahmedhafez/opt/anaconda3/lib/python3.9/site-packages/pandas/core/dtypes/cast.py:1163: UserWarning: Parsing '22/04/2018' in DD/MM/YYYY format. Provide format or specify infer_datetime_format=True for consistent parsing.\n",
      "  to_datetime(arr).values,\n",
      "/Users/ahmedhafez/opt/anaconda3/lib/python3.9/site-packages/pandas/core/dtypes/cast.py:1163: UserWarning: Parsing '29/04/2018' in DD/MM/YYYY format. Provide format or specify infer_datetime_format=True for consistent parsing.\n",
      "  to_datetime(arr).values,\n",
      "/Users/ahmedhafez/opt/anaconda3/lib/python3.9/site-packages/pandas/core/dtypes/cast.py:1163: UserWarning: Parsing '21/08/2017' in DD/MM/YYYY format. Provide format or specify infer_datetime_format=True for consistent parsing.\n",
      "  to_datetime(arr).values,\n",
      "/Users/ahmedhafez/opt/anaconda3/lib/python3.9/site-packages/pandas/core/dtypes/cast.py:1163: UserWarning: Parsing '18/12/2013' in DD/MM/YYYY format. Provide format or specify infer_datetime_format=True for consistent parsing.\n",
      "  to_datetime(arr).values,\n",
      "/Users/ahmedhafez/opt/anaconda3/lib/python3.9/site-packages/pandas/core/dtypes/cast.py:1163: UserWarning: Parsing '26/09/2016' in DD/MM/YYYY format. Provide format or specify infer_datetime_format=True for consistent parsing.\n",
      "  to_datetime(arr).values,\n",
      "/Users/ahmedhafez/opt/anaconda3/lib/python3.9/site-packages/pandas/core/dtypes/cast.py:1163: UserWarning: Parsing '17/12/2018' in DD/MM/YYYY format. Provide format or specify infer_datetime_format=True for consistent parsing.\n",
      "  to_datetime(arr).values,\n",
      "/Users/ahmedhafez/opt/anaconda3/lib/python3.9/site-packages/pandas/core/dtypes/cast.py:1163: UserWarning: Parsing '24/06/2017' in DD/MM/YYYY format. Provide format or specify infer_datetime_format=True for consistent parsing.\n",
      "  to_datetime(arr).values,\n",
      "/Users/ahmedhafez/opt/anaconda3/lib/python3.9/site-packages/pandas/core/dtypes/cast.py:1163: UserWarning: Parsing '25/05/2017' in DD/MM/YYYY format. Provide format or specify infer_datetime_format=True for consistent parsing.\n",
      "  to_datetime(arr).values,\n",
      "/Users/ahmedhafez/opt/anaconda3/lib/python3.9/site-packages/pandas/core/dtypes/cast.py:1163: UserWarning: Parsing '22/10/2015' in DD/MM/YYYY format. Provide format or specify infer_datetime_format=True for consistent parsing.\n",
      "  to_datetime(arr).values,\n",
      "/Users/ahmedhafez/opt/anaconda3/lib/python3.9/site-packages/pandas/core/dtypes/cast.py:1163: UserWarning: Parsing '18/11/2014' in DD/MM/YYYY format. Provide format or specify infer_datetime_format=True for consistent parsing.\n",
      "  to_datetime(arr).values,\n",
      "/Users/ahmedhafez/opt/anaconda3/lib/python3.9/site-packages/pandas/core/dtypes/cast.py:1163: UserWarning: Parsing '20/10/2017' in DD/MM/YYYY format. Provide format or specify infer_datetime_format=True for consistent parsing.\n",
      "  to_datetime(arr).values,\n",
      "/Users/ahmedhafez/opt/anaconda3/lib/python3.9/site-packages/pandas/core/dtypes/cast.py:1163: UserWarning: Parsing '22/02/2017' in DD/MM/YYYY format. Provide format or specify infer_datetime_format=True for consistent parsing.\n",
      "  to_datetime(arr).values,\n",
      "/Users/ahmedhafez/opt/anaconda3/lib/python3.9/site-packages/pandas/core/dtypes/cast.py:1163: UserWarning: Parsing '29/01/2018' in DD/MM/YYYY format. Provide format or specify infer_datetime_format=True for consistent parsing.\n",
      "  to_datetime(arr).values,\n",
      "/Users/ahmedhafez/opt/anaconda3/lib/python3.9/site-packages/pandas/core/dtypes/cast.py:1163: UserWarning: Parsing '19/12/2016' in DD/MM/YYYY format. Provide format or specify infer_datetime_format=True for consistent parsing.\n",
      "  to_datetime(arr).values,\n",
      "/Users/ahmedhafez/opt/anaconda3/lib/python3.9/site-packages/pandas/core/dtypes/cast.py:1163: UserWarning: Parsing '16/06/2017' in DD/MM/YYYY format. Provide format or specify infer_datetime_format=True for consistent parsing.\n",
      "  to_datetime(arr).values,\n",
      "/Users/ahmedhafez/opt/anaconda3/lib/python3.9/site-packages/pandas/core/dtypes/cast.py:1163: UserWarning: Parsing '14/01/2013' in DD/MM/YYYY format. Provide format or specify infer_datetime_format=True for consistent parsing.\n",
      "  to_datetime(arr).values,\n",
      "/Users/ahmedhafez/opt/anaconda3/lib/python3.9/site-packages/pandas/core/dtypes/cast.py:1163: UserWarning: Parsing '14/07/2014' in DD/MM/YYYY format. Provide format or specify infer_datetime_format=True for consistent parsing.\n",
      "  to_datetime(arr).values,\n",
      "/Users/ahmedhafez/opt/anaconda3/lib/python3.9/site-packages/pandas/core/dtypes/cast.py:1163: UserWarning: Parsing '14/09/2017' in DD/MM/YYYY format. Provide format or specify infer_datetime_format=True for consistent parsing.\n",
      "  to_datetime(arr).values,\n",
      "/Users/ahmedhafez/opt/anaconda3/lib/python3.9/site-packages/pandas/core/dtypes/cast.py:1163: UserWarning: Parsing '25/10/2017' in DD/MM/YYYY format. Provide format or specify infer_datetime_format=True for consistent parsing.\n",
      "  to_datetime(arr).values,\n",
      "/Users/ahmedhafez/opt/anaconda3/lib/python3.9/site-packages/pandas/core/dtypes/cast.py:1163: UserWarning: Parsing '15/07/2017' in DD/MM/YYYY format. Provide format or specify infer_datetime_format=True for consistent parsing.\n",
      "  to_datetime(arr).values,\n",
      "/Users/ahmedhafez/opt/anaconda3/lib/python3.9/site-packages/pandas/core/dtypes/cast.py:1163: UserWarning: Parsing '28/12/2017' in DD/MM/YYYY format. Provide format or specify infer_datetime_format=True for consistent parsing.\n",
      "  to_datetime(arr).values,\n",
      "/Users/ahmedhafez/opt/anaconda3/lib/python3.9/site-packages/pandas/core/dtypes/cast.py:1163: UserWarning: Parsing '29/08/2015' in DD/MM/YYYY format. Provide format or specify infer_datetime_format=True for consistent parsing.\n",
      "  to_datetime(arr).values,\n",
      "/Users/ahmedhafez/opt/anaconda3/lib/python3.9/site-packages/pandas/core/dtypes/cast.py:1163: UserWarning: Parsing '27/12/2017' in DD/MM/YYYY format. Provide format or specify infer_datetime_format=True for consistent parsing.\n",
      "  to_datetime(arr).values,\n",
      "/Users/ahmedhafez/opt/anaconda3/lib/python3.9/site-packages/pandas/core/dtypes/cast.py:1163: UserWarning: Parsing '15/07/2016' in DD/MM/YYYY format. Provide format or specify infer_datetime_format=True for consistent parsing.\n",
      "  to_datetime(arr).values,\n",
      "/Users/ahmedhafez/opt/anaconda3/lib/python3.9/site-packages/pandas/core/dtypes/cast.py:1163: UserWarning: Parsing '19/09/2017' in DD/MM/YYYY format. Provide format or specify infer_datetime_format=True for consistent parsing.\n",
      "  to_datetime(arr).values,\n",
      "/Users/ahmedhafez/opt/anaconda3/lib/python3.9/site-packages/pandas/core/dtypes/cast.py:1163: UserWarning: Parsing '19/02/2016' in DD/MM/YYYY format. Provide format or specify infer_datetime_format=True for consistent parsing.\n",
      "  to_datetime(arr).values,\n",
      "/Users/ahmedhafez/opt/anaconda3/lib/python3.9/site-packages/pandas/core/dtypes/cast.py:1163: UserWarning: Parsing '27/11/2015' in DD/MM/YYYY format. Provide format or specify infer_datetime_format=True for consistent parsing.\n",
      "  to_datetime(arr).values,\n",
      "/Users/ahmedhafez/opt/anaconda3/lib/python3.9/site-packages/pandas/core/dtypes/cast.py:1163: UserWarning: Parsing '16/02/2017' in DD/MM/YYYY format. Provide format or specify infer_datetime_format=True for consistent parsing.\n",
      "  to_datetime(arr).values,\n",
      "/Users/ahmedhafez/opt/anaconda3/lib/python3.9/site-packages/pandas/core/dtypes/cast.py:1163: UserWarning: Parsing '13/01/2016' in DD/MM/YYYY format. Provide format or specify infer_datetime_format=True for consistent parsing.\n",
      "  to_datetime(arr).values,\n",
      "/Users/ahmedhafez/opt/anaconda3/lib/python3.9/site-packages/pandas/core/dtypes/cast.py:1163: UserWarning: Parsing '27/09/2012' in DD/MM/YYYY format. Provide format or specify infer_datetime_format=True for consistent parsing.\n",
      "  to_datetime(arr).values,\n",
      "/Users/ahmedhafez/opt/anaconda3/lib/python3.9/site-packages/pandas/core/dtypes/cast.py:1163: UserWarning: Parsing '14/03/2017' in DD/MM/YYYY format. Provide format or specify infer_datetime_format=True for consistent parsing.\n",
      "  to_datetime(arr).values,\n",
      "/Users/ahmedhafez/opt/anaconda3/lib/python3.9/site-packages/pandas/core/dtypes/cast.py:1163: UserWarning: Parsing '15/08/2018' in DD/MM/YYYY format. Provide format or specify infer_datetime_format=True for consistent parsing.\n",
      "  to_datetime(arr).values,\n",
      "/Users/ahmedhafez/opt/anaconda3/lib/python3.9/site-packages/pandas/core/dtypes/cast.py:1163: UserWarning: Parsing '22/12/2012' in DD/MM/YYYY format. Provide format or specify infer_datetime_format=True for consistent parsing.\n",
      "  to_datetime(arr).values,\n",
      "/Users/ahmedhafez/opt/anaconda3/lib/python3.9/site-packages/pandas/core/dtypes/cast.py:1163: UserWarning: Parsing '19/10/2011' in DD/MM/YYYY format. Provide format or specify infer_datetime_format=True for consistent parsing.\n",
      "  to_datetime(arr).values,\n",
      "/Users/ahmedhafez/opt/anaconda3/lib/python3.9/site-packages/pandas/core/dtypes/cast.py:1163: UserWarning: Parsing '23/05/2010' in DD/MM/YYYY format. Provide format or specify infer_datetime_format=True for consistent parsing.\n",
      "  to_datetime(arr).values,\n",
      "/Users/ahmedhafez/opt/anaconda3/lib/python3.9/site-packages/pandas/core/dtypes/cast.py:1163: UserWarning: Parsing '18/09/2012' in DD/MM/YYYY format. Provide format or specify infer_datetime_format=True for consistent parsing.\n",
      "  to_datetime(arr).values,\n",
      "/Users/ahmedhafez/opt/anaconda3/lib/python3.9/site-packages/pandas/core/dtypes/cast.py:1163: UserWarning: Parsing '24/05/2009' in DD/MM/YYYY format. Provide format or specify infer_datetime_format=True for consistent parsing.\n",
      "  to_datetime(arr).values,\n",
      "/Users/ahmedhafez/opt/anaconda3/lib/python3.9/site-packages/pandas/core/dtypes/cast.py:1163: UserWarning: Parsing '29/03/2015' in DD/MM/YYYY format. Provide format or specify infer_datetime_format=True for consistent parsing.\n",
      "  to_datetime(arr).values,\n",
      "/Users/ahmedhafez/opt/anaconda3/lib/python3.9/site-packages/pandas/core/dtypes/cast.py:1163: UserWarning: Parsing '29/05/2018' in DD/MM/YYYY format. Provide format or specify infer_datetime_format=True for consistent parsing.\n",
      "  to_datetime(arr).values,\n",
      "/Users/ahmedhafez/opt/anaconda3/lib/python3.9/site-packages/pandas/core/dtypes/cast.py:1163: UserWarning: Parsing '15/11/2017' in DD/MM/YYYY format. Provide format or specify infer_datetime_format=True for consistent parsing.\n",
      "  to_datetime(arr).values,\n",
      "/Users/ahmedhafez/opt/anaconda3/lib/python3.9/site-packages/pandas/core/dtypes/cast.py:1163: UserWarning: Parsing '22/08/2012' in DD/MM/YYYY format. Provide format or specify infer_datetime_format=True for consistent parsing.\n",
      "  to_datetime(arr).values,\n",
      "/Users/ahmedhafez/opt/anaconda3/lib/python3.9/site-packages/pandas/core/dtypes/cast.py:1163: UserWarning: Parsing '23/10/2017' in DD/MM/YYYY format. Provide format or specify infer_datetime_format=True for consistent parsing.\n",
      "  to_datetime(arr).values,\n",
      "/Users/ahmedhafez/opt/anaconda3/lib/python3.9/site-packages/pandas/core/dtypes/cast.py:1163: UserWarning: Parsing '24/07/2017' in DD/MM/YYYY format. Provide format or specify infer_datetime_format=True for consistent parsing.\n",
      "  to_datetime(arr).values,\n",
      "/Users/ahmedhafez/opt/anaconda3/lib/python3.9/site-packages/pandas/core/dtypes/cast.py:1163: UserWarning: Parsing '28/08/2017' in DD/MM/YYYY format. Provide format or specify infer_datetime_format=True for consistent parsing.\n",
      "  to_datetime(arr).values,\n",
      "/Users/ahmedhafez/opt/anaconda3/lib/python3.9/site-packages/pandas/core/dtypes/cast.py:1163: UserWarning: Parsing '24/06/2015' in DD/MM/YYYY format. Provide format or specify infer_datetime_format=True for consistent parsing.\n",
      "  to_datetime(arr).values,\n",
      "/Users/ahmedhafez/opt/anaconda3/lib/python3.9/site-packages/pandas/core/dtypes/cast.py:1163: UserWarning: Parsing '21/11/2017' in DD/MM/YYYY format. Provide format or specify infer_datetime_format=True for consistent parsing.\n",
      "  to_datetime(arr).values,\n",
      "/Users/ahmedhafez/opt/anaconda3/lib/python3.9/site-packages/pandas/core/dtypes/cast.py:1163: UserWarning: Parsing '22/05/2016' in DD/MM/YYYY format. Provide format or specify infer_datetime_format=True for consistent parsing.\n",
      "  to_datetime(arr).values,\n",
      "/Users/ahmedhafez/opt/anaconda3/lib/python3.9/site-packages/pandas/core/dtypes/cast.py:1163: UserWarning: Parsing '21/02/2019' in DD/MM/YYYY format. Provide format or specify infer_datetime_format=True for consistent parsing.\n",
      "  to_datetime(arr).values,\n",
      "/Users/ahmedhafez/opt/anaconda3/lib/python3.9/site-packages/pandas/core/dtypes/cast.py:1163: UserWarning: Parsing '15/05/2013' in DD/MM/YYYY format. Provide format or specify infer_datetime_format=True for consistent parsing.\n",
      "  to_datetime(arr).values,\n",
      "/Users/ahmedhafez/opt/anaconda3/lib/python3.9/site-packages/pandas/core/dtypes/cast.py:1163: UserWarning: Parsing '23/10/2013' in DD/MM/YYYY format. Provide format or specify infer_datetime_format=True for consistent parsing.\n",
      "  to_datetime(arr).values,\n",
      "/Users/ahmedhafez/opt/anaconda3/lib/python3.9/site-packages/pandas/core/dtypes/cast.py:1163: UserWarning: Parsing '17/08/2014' in DD/MM/YYYY format. Provide format or specify infer_datetime_format=True for consistent parsing.\n",
      "  to_datetime(arr).values,\n",
      "/Users/ahmedhafez/opt/anaconda3/lib/python3.9/site-packages/pandas/core/dtypes/cast.py:1163: UserWarning: Parsing '18/01/2013' in DD/MM/YYYY format. Provide format or specify infer_datetime_format=True for consistent parsing.\n",
      "  to_datetime(arr).values,\n",
      "/Users/ahmedhafez/opt/anaconda3/lib/python3.9/site-packages/pandas/core/dtypes/cast.py:1163: UserWarning: Parsing '24/09/2013' in DD/MM/YYYY format. Provide format or specify infer_datetime_format=True for consistent parsing.\n",
      "  to_datetime(arr).values,\n",
      "/Users/ahmedhafez/opt/anaconda3/lib/python3.9/site-packages/pandas/core/dtypes/cast.py:1163: UserWarning: Parsing '23/03/2016' in DD/MM/YYYY format. Provide format or specify infer_datetime_format=True for consistent parsing.\n",
      "  to_datetime(arr).values,\n",
      "/Users/ahmedhafez/opt/anaconda3/lib/python3.9/site-packages/pandas/core/dtypes/cast.py:1163: UserWarning: Parsing '28/10/2010' in DD/MM/YYYY format. Provide format or specify infer_datetime_format=True for consistent parsing.\n",
      "  to_datetime(arr).values,\n",
      "/Users/ahmedhafez/opt/anaconda3/lib/python3.9/site-packages/pandas/core/dtypes/cast.py:1163: UserWarning: Parsing '16/07/2017' in DD/MM/YYYY format. Provide format or specify infer_datetime_format=True for consistent parsing.\n",
      "  to_datetime(arr).values,\n",
      "/Users/ahmedhafez/opt/anaconda3/lib/python3.9/site-packages/pandas/core/dtypes/cast.py:1163: UserWarning: Parsing '20/07/2015' in DD/MM/YYYY format. Provide format or specify infer_datetime_format=True for consistent parsing.\n",
      "  to_datetime(arr).values,\n",
      "/Users/ahmedhafez/opt/anaconda3/lib/python3.9/site-packages/pandas/core/dtypes/cast.py:1163: UserWarning: Parsing '31/07/2017' in DD/MM/YYYY format. Provide format or specify infer_datetime_format=True for consistent parsing.\n",
      "  to_datetime(arr).values,\n",
      "/Users/ahmedhafez/opt/anaconda3/lib/python3.9/site-packages/pandas/core/dtypes/cast.py:1163: UserWarning: Parsing '23/10/2012' in DD/MM/YYYY format. Provide format or specify infer_datetime_format=True for consistent parsing.\n",
      "  to_datetime(arr).values,\n",
      "/Users/ahmedhafez/opt/anaconda3/lib/python3.9/site-packages/pandas/core/dtypes/cast.py:1163: UserWarning: Parsing '18/07/2015' in DD/MM/YYYY format. Provide format or specify infer_datetime_format=True for consistent parsing.\n",
      "  to_datetime(arr).values,\n",
      "/Users/ahmedhafez/opt/anaconda3/lib/python3.9/site-packages/pandas/core/dtypes/cast.py:1163: UserWarning: Parsing '22/12/2016' in DD/MM/YYYY format. Provide format or specify infer_datetime_format=True for consistent parsing.\n",
      "  to_datetime(arr).values,\n",
      "/Users/ahmedhafez/opt/anaconda3/lib/python3.9/site-packages/pandas/core/dtypes/cast.py:1163: UserWarning: Parsing '18/10/2017' in DD/MM/YYYY format. Provide format or specify infer_datetime_format=True for consistent parsing.\n",
      "  to_datetime(arr).values,\n",
      "/Users/ahmedhafez/opt/anaconda3/lib/python3.9/site-packages/pandas/core/dtypes/cast.py:1163: UserWarning: Parsing '14/08/2017' in DD/MM/YYYY format. Provide format or specify infer_datetime_format=True for consistent parsing.\n",
      "  to_datetime(arr).values,\n",
      "/Users/ahmedhafez/opt/anaconda3/lib/python3.9/site-packages/pandas/core/dtypes/cast.py:1163: UserWarning: Parsing '20/02/2018' in DD/MM/YYYY format. Provide format or specify infer_datetime_format=True for consistent parsing.\n",
      "  to_datetime(arr).values,\n",
      "/Users/ahmedhafez/opt/anaconda3/lib/python3.9/site-packages/pandas/core/dtypes/cast.py:1163: UserWarning: Parsing '20/09/2012' in DD/MM/YYYY format. Provide format or specify infer_datetime_format=True for consistent parsing.\n",
      "  to_datetime(arr).values,\n",
      "/Users/ahmedhafez/opt/anaconda3/lib/python3.9/site-packages/pandas/core/dtypes/cast.py:1163: UserWarning: Parsing '14/02/2018' in DD/MM/YYYY format. Provide format or specify infer_datetime_format=True for consistent parsing.\n",
      "  to_datetime(arr).values,\n",
      "/Users/ahmedhafez/opt/anaconda3/lib/python3.9/site-packages/pandas/core/dtypes/cast.py:1163: UserWarning: Parsing '18/01/2017' in DD/MM/YYYY format. Provide format or specify infer_datetime_format=True for consistent parsing.\n",
      "  to_datetime(arr).values,\n",
      "/Users/ahmedhafez/opt/anaconda3/lib/python3.9/site-packages/pandas/core/dtypes/cast.py:1163: UserWarning: Parsing '17/05/2016' in DD/MM/YYYY format. Provide format or specify infer_datetime_format=True for consistent parsing.\n",
      "  to_datetime(arr).values,\n",
      "/Users/ahmedhafez/opt/anaconda3/lib/python3.9/site-packages/pandas/core/dtypes/cast.py:1163: UserWarning: Parsing '19/11/2018' in DD/MM/YYYY format. Provide format or specify infer_datetime_format=True for consistent parsing.\n",
      "  to_datetime(arr).values,\n",
      "/Users/ahmedhafez/opt/anaconda3/lib/python3.9/site-packages/pandas/core/dtypes/cast.py:1163: UserWarning: Parsing '26/10/2018' in DD/MM/YYYY format. Provide format or specify infer_datetime_format=True for consistent parsing.\n",
      "  to_datetime(arr).values,\n",
      "/Users/ahmedhafez/opt/anaconda3/lib/python3.9/site-packages/pandas/core/dtypes/cast.py:1163: UserWarning: Parsing '22/05/2013' in DD/MM/YYYY format. Provide format or specify infer_datetime_format=True for consistent parsing.\n",
      "  to_datetime(arr).values,\n",
      "/Users/ahmedhafez/opt/anaconda3/lib/python3.9/site-packages/pandas/core/dtypes/cast.py:1163: UserWarning: Parsing '30/06/2015' in DD/MM/YYYY format. Provide format or specify infer_datetime_format=True for consistent parsing.\n",
      "  to_datetime(arr).values,\n",
      "/Users/ahmedhafez/opt/anaconda3/lib/python3.9/site-packages/pandas/core/dtypes/cast.py:1163: UserWarning: Parsing '27/02/2018' in DD/MM/YYYY format. Provide format or specify infer_datetime_format=True for consistent parsing.\n",
      "  to_datetime(arr).values,\n",
      "/Users/ahmedhafez/opt/anaconda3/lib/python3.9/site-packages/pandas/core/dtypes/cast.py:1163: UserWarning: Parsing '19/08/2017' in DD/MM/YYYY format. Provide format or specify infer_datetime_format=True for consistent parsing.\n",
      "  to_datetime(arr).values,\n",
      "/Users/ahmedhafez/opt/anaconda3/lib/python3.9/site-packages/pandas/core/dtypes/cast.py:1163: UserWarning: Parsing '19/06/2018' in DD/MM/YYYY format. Provide format or specify infer_datetime_format=True for consistent parsing.\n",
      "  to_datetime(arr).values,\n",
      "/Users/ahmedhafez/opt/anaconda3/lib/python3.9/site-packages/pandas/core/dtypes/cast.py:1163: UserWarning: Parsing '25/05/2018' in DD/MM/YYYY format. Provide format or specify infer_datetime_format=True for consistent parsing.\n",
      "  to_datetime(arr).values,\n",
      "/Users/ahmedhafez/opt/anaconda3/lib/python3.9/site-packages/pandas/core/dtypes/cast.py:1163: UserWarning: Parsing '24/07/2018' in DD/MM/YYYY format. Provide format or specify infer_datetime_format=True for consistent parsing.\n",
      "  to_datetime(arr).values,\n",
      "/Users/ahmedhafez/opt/anaconda3/lib/python3.9/site-packages/pandas/core/dtypes/cast.py:1163: UserWarning: Parsing '22/02/2018' in DD/MM/YYYY format. Provide format or specify infer_datetime_format=True for consistent parsing.\n",
      "  to_datetime(arr).values,\n",
      "/Users/ahmedhafez/opt/anaconda3/lib/python3.9/site-packages/pandas/core/dtypes/cast.py:1163: UserWarning: Parsing '28/05/2018' in DD/MM/YYYY format. Provide format or specify infer_datetime_format=True for consistent parsing.\n",
      "  to_datetime(arr).values,\n",
      "/Users/ahmedhafez/opt/anaconda3/lib/python3.9/site-packages/pandas/core/dtypes/cast.py:1163: UserWarning: Parsing '23/05/2018' in DD/MM/YYYY format. Provide format or specify infer_datetime_format=True for consistent parsing.\n",
      "  to_datetime(arr).values,\n",
      "/Users/ahmedhafez/opt/anaconda3/lib/python3.9/site-packages/pandas/core/dtypes/cast.py:1163: UserWarning: Parsing '29/01/2019' in DD/MM/YYYY format. Provide format or specify infer_datetime_format=True for consistent parsing.\n",
      "  to_datetime(arr).values,\n",
      "/Users/ahmedhafez/opt/anaconda3/lib/python3.9/site-packages/pandas/core/dtypes/cast.py:1163: UserWarning: Parsing '21/09/2018' in DD/MM/YYYY format. Provide format or specify infer_datetime_format=True for consistent parsing.\n",
      "  to_datetime(arr).values,\n",
      "/Users/ahmedhafez/opt/anaconda3/lib/python3.9/site-packages/pandas/core/dtypes/cast.py:1163: UserWarning: Parsing '13/09/2017' in DD/MM/YYYY format. Provide format or specify infer_datetime_format=True for consistent parsing.\n",
      "  to_datetime(arr).values,\n",
      "/Users/ahmedhafez/opt/anaconda3/lib/python3.9/site-packages/pandas/core/dtypes/cast.py:1163: UserWarning: Parsing '14/07/2017' in DD/MM/YYYY format. Provide format or specify infer_datetime_format=True for consistent parsing.\n",
      "  to_datetime(arr).values,\n",
      "/Users/ahmedhafez/opt/anaconda3/lib/python3.9/site-packages/pandas/core/dtypes/cast.py:1163: UserWarning: Parsing '13/06/2019' in DD/MM/YYYY format. Provide format or specify infer_datetime_format=True for consistent parsing.\n",
      "  to_datetime(arr).values,\n",
      "/Users/ahmedhafez/opt/anaconda3/lib/python3.9/site-packages/pandas/core/dtypes/cast.py:1163: UserWarning: Parsing '19/07/2019' in DD/MM/YYYY format. Provide format or specify infer_datetime_format=True for consistent parsing.\n",
      "  to_datetime(arr).values,\n",
      "/Users/ahmedhafez/opt/anaconda3/lib/python3.9/site-packages/pandas/core/dtypes/cast.py:1163: UserWarning: Parsing '29/12/2018' in DD/MM/YYYY format. Provide format or specify infer_datetime_format=True for consistent parsing.\n",
      "  to_datetime(arr).values,\n",
      "/Users/ahmedhafez/opt/anaconda3/lib/python3.9/site-packages/pandas/core/dtypes/cast.py:1163: UserWarning: Parsing '26/07/2019' in DD/MM/YYYY format. Provide format or specify infer_datetime_format=True for consistent parsing.\n",
      "  to_datetime(arr).values,\n",
      "/Users/ahmedhafez/opt/anaconda3/lib/python3.9/site-packages/pandas/core/dtypes/cast.py:1163: UserWarning: Parsing '17/11/2017' in DD/MM/YYYY format. Provide format or specify infer_datetime_format=True for consistent parsing.\n",
      "  to_datetime(arr).values,\n",
      "/Users/ahmedhafez/opt/anaconda3/lib/python3.9/site-packages/pandas/core/dtypes/cast.py:1163: UserWarning: Parsing '20/11/2017' in DD/MM/YYYY format. Provide format or specify infer_datetime_format=True for consistent parsing.\n",
      "  to_datetime(arr).values,\n",
      "/Users/ahmedhafez/opt/anaconda3/lib/python3.9/site-packages/pandas/core/dtypes/cast.py:1163: UserWarning: Parsing '28/06/2019' in DD/MM/YYYY format. Provide format or specify infer_datetime_format=True for consistent parsing.\n",
      "  to_datetime(arr).values,\n",
      "/Users/ahmedhafez/opt/anaconda3/lib/python3.9/site-packages/pandas/core/dtypes/cast.py:1163: UserWarning: Parsing '27/06/2019' in DD/MM/YYYY format. Provide format or specify infer_datetime_format=True for consistent parsing.\n",
      "  to_datetime(arr).values,\n",
      "/Users/ahmedhafez/opt/anaconda3/lib/python3.9/site-packages/pandas/core/dtypes/cast.py:1163: UserWarning: Parsing '16/04/2019' in DD/MM/YYYY format. Provide format or specify infer_datetime_format=True for consistent parsing.\n",
      "  to_datetime(arr).values,\n",
      "/Users/ahmedhafez/opt/anaconda3/lib/python3.9/site-packages/pandas/core/dtypes/cast.py:1163: UserWarning: Parsing '14/05/2018' in DD/MM/YYYY format. Provide format or specify infer_datetime_format=True for consistent parsing.\n",
      "  to_datetime(arr).values,\n",
      "/Users/ahmedhafez/opt/anaconda3/lib/python3.9/site-packages/pandas/core/dtypes/cast.py:1163: UserWarning: Parsing '18/11/2018' in DD/MM/YYYY format. Provide format or specify infer_datetime_format=True for consistent parsing.\n",
      "  to_datetime(arr).values,\n",
      "/Users/ahmedhafez/opt/anaconda3/lib/python3.9/site-packages/pandas/core/dtypes/cast.py:1163: UserWarning: Parsing '21/06/2018' in DD/MM/YYYY format. Provide format or specify infer_datetime_format=True for consistent parsing.\n",
      "  to_datetime(arr).values,\n",
      "/Users/ahmedhafez/opt/anaconda3/lib/python3.9/site-packages/pandas/core/dtypes/cast.py:1163: UserWarning: Parsing '31/05/2018' in DD/MM/YYYY format. Provide format or specify infer_datetime_format=True for consistent parsing.\n",
      "  to_datetime(arr).values,\n",
      "/Users/ahmedhafez/opt/anaconda3/lib/python3.9/site-packages/pandas/core/dtypes/cast.py:1163: UserWarning: Parsing '31/03/2019' in DD/MM/YYYY format. Provide format or specify infer_datetime_format=True for consistent parsing.\n",
      "  to_datetime(arr).values,\n",
      "/Users/ahmedhafez/opt/anaconda3/lib/python3.9/site-packages/pandas/core/dtypes/cast.py:1163: UserWarning: Parsing '17/01/2018' in DD/MM/YYYY format. Provide format or specify infer_datetime_format=True for consistent parsing.\n",
      "  to_datetime(arr).values,\n",
      "/Users/ahmedhafez/opt/anaconda3/lib/python3.9/site-packages/pandas/core/dtypes/cast.py:1163: UserWarning: Parsing '20/04/2019' in DD/MM/YYYY format. Provide format or specify infer_datetime_format=True for consistent parsing.\n",
      "  to_datetime(arr).values,\n",
      "/Users/ahmedhafez/opt/anaconda3/lib/python3.9/site-packages/pandas/core/dtypes/cast.py:1163: UserWarning: Parsing '13/05/2019' in DD/MM/YYYY format. Provide format or specify infer_datetime_format=True for consistent parsing.\n",
      "  to_datetime(arr).values,\n",
      "/Users/ahmedhafez/opt/anaconda3/lib/python3.9/site-packages/pandas/core/dtypes/cast.py:1163: UserWarning: Parsing '13/07/2018' in DD/MM/YYYY format. Provide format or specify infer_datetime_format=True for consistent parsing.\n",
      "  to_datetime(arr).values,\n",
      "/Users/ahmedhafez/opt/anaconda3/lib/python3.9/site-packages/pandas/core/dtypes/cast.py:1163: UserWarning: Parsing '29/07/2019' in DD/MM/YYYY format. Provide format or specify infer_datetime_format=True for consistent parsing.\n",
      "  to_datetime(arr).values,\n",
      "/Users/ahmedhafez/opt/anaconda3/lib/python3.9/site-packages/pandas/core/dtypes/cast.py:1163: UserWarning: Parsing '25/08/2017' in DD/MM/YYYY format. Provide format or specify infer_datetime_format=True for consistent parsing.\n",
      "  to_datetime(arr).values,\n",
      "/Users/ahmedhafez/opt/anaconda3/lib/python3.9/site-packages/pandas/core/dtypes/cast.py:1163: UserWarning: Parsing '22/07/2019' in DD/MM/YYYY format. Provide format or specify infer_datetime_format=True for consistent parsing.\n",
      "  to_datetime(arr).values,\n",
      "/Users/ahmedhafez/opt/anaconda3/lib/python3.9/site-packages/pandas/core/dtypes/cast.py:1163: UserWarning: Parsing '27/10/2017' in DD/MM/YYYY format. Provide format or specify infer_datetime_format=True for consistent parsing.\n",
      "  to_datetime(arr).values,\n",
      "/Users/ahmedhafez/opt/anaconda3/lib/python3.9/site-packages/pandas/core/dtypes/cast.py:1163: UserWarning: Parsing '25/09/2017' in DD/MM/YYYY format. Provide format or specify infer_datetime_format=True for consistent parsing.\n",
      "  to_datetime(arr).values,\n",
      "/Users/ahmedhafez/opt/anaconda3/lib/python3.9/site-packages/pandas/core/dtypes/cast.py:1163: UserWarning: Parsing '30/03/2018' in DD/MM/YYYY format. Provide format or specify infer_datetime_format=True for consistent parsing.\n",
      "  to_datetime(arr).values,\n",
      "/Users/ahmedhafez/opt/anaconda3/lib/python3.9/site-packages/pandas/core/dtypes/cast.py:1163: UserWarning: Parsing '28/11/2017' in DD/MM/YYYY format. Provide format or specify infer_datetime_format=True for consistent parsing.\n",
      "  to_datetime(arr).values,\n",
      "/Users/ahmedhafez/opt/anaconda3/lib/python3.9/site-packages/pandas/core/dtypes/cast.py:1163: UserWarning: Parsing '14/06/2019' in DD/MM/YYYY format. Provide format or specify infer_datetime_format=True for consistent parsing.\n",
      "  to_datetime(arr).values,\n",
      "/Users/ahmedhafez/opt/anaconda3/lib/python3.9/site-packages/pandas/core/dtypes/cast.py:1163: UserWarning: Parsing '22/03/2018' in DD/MM/YYYY format. Provide format or specify infer_datetime_format=True for consistent parsing.\n",
      "  to_datetime(arr).values,\n",
      "/Users/ahmedhafez/opt/anaconda3/lib/python3.9/site-packages/pandas/core/dtypes/cast.py:1163: UserWarning: Parsing '18/07/2019' in DD/MM/YYYY format. Provide format or specify infer_datetime_format=True for consistent parsing.\n",
      "  to_datetime(arr).values,\n",
      "/Users/ahmedhafez/opt/anaconda3/lib/python3.9/site-packages/pandas/core/dtypes/cast.py:1163: UserWarning: Parsing '31/07/2019' in DD/MM/YYYY format. Provide format or specify infer_datetime_format=True for consistent parsing.\n",
      "  to_datetime(arr).values,\n",
      "/Users/ahmedhafez/opt/anaconda3/lib/python3.9/site-packages/pandas/core/dtypes/cast.py:1163: UserWarning: Parsing '28/11/2018' in DD/MM/YYYY format. Provide format or specify infer_datetime_format=True for consistent parsing.\n",
      "  to_datetime(arr).values,\n",
      "/Users/ahmedhafez/opt/anaconda3/lib/python3.9/site-packages/pandas/core/dtypes/cast.py:1163: UserWarning: Parsing '30/07/2019' in DD/MM/YYYY format. Provide format or specify infer_datetime_format=True for consistent parsing.\n",
      "  to_datetime(arr).values,\n",
      "/Users/ahmedhafez/opt/anaconda3/lib/python3.9/site-packages/pandas/core/dtypes/cast.py:1163: UserWarning: Parsing '17/01/2019' in DD/MM/YYYY format. Provide format or specify infer_datetime_format=True for consistent parsing.\n",
      "  to_datetime(arr).values,\n",
      "/Users/ahmedhafez/opt/anaconda3/lib/python3.9/site-packages/pandas/core/dtypes/cast.py:1163: UserWarning: Parsing '30/04/2019' in DD/MM/YYYY format. Provide format or specify infer_datetime_format=True for consistent parsing.\n",
      "  to_datetime(arr).values,\n",
      "/Users/ahmedhafez/opt/anaconda3/lib/python3.9/site-packages/pandas/core/dtypes/cast.py:1163: UserWarning: Parsing '25/07/2017' in DD/MM/YYYY format. Provide format or specify infer_datetime_format=True for consistent parsing.\n",
      "  to_datetime(arr).values,\n",
      "/Users/ahmedhafez/opt/anaconda3/lib/python3.9/site-packages/pandas/core/dtypes/cast.py:1163: UserWarning: Parsing '17/10/2018' in DD/MM/YYYY format. Provide format or specify infer_datetime_format=True for consistent parsing.\n",
      "  to_datetime(arr).values,\n",
      "/Users/ahmedhafez/opt/anaconda3/lib/python3.9/site-packages/pandas/core/dtypes/cast.py:1163: UserWarning: Parsing '21/02/2019' in DD/MM/YYYY format. Provide format or specify infer_datetime_format=True for consistent parsing.\n",
      "  to_datetime(arr).values,\n",
      "/Users/ahmedhafez/opt/anaconda3/lib/python3.9/site-packages/pandas/core/dtypes/cast.py:1163: UserWarning: Parsing '18/06/2019' in DD/MM/YYYY format. Provide format or specify infer_datetime_format=True for consistent parsing.\n",
      "  to_datetime(arr).values,\n",
      "/Users/ahmedhafez/opt/anaconda3/lib/python3.9/site-packages/pandas/core/dtypes/cast.py:1163: UserWarning: Parsing '19/12/2018' in DD/MM/YYYY format. Provide format or specify infer_datetime_format=True for consistent parsing.\n",
      "  to_datetime(arr).values,\n",
      "/Users/ahmedhafez/opt/anaconda3/lib/python3.9/site-packages/pandas/core/dtypes/cast.py:1163: UserWarning: Parsing '17/07/2019' in DD/MM/YYYY format. Provide format or specify infer_datetime_format=True for consistent parsing.\n",
      "  to_datetime(arr).values,\n",
      "/Users/ahmedhafez/opt/anaconda3/lib/python3.9/site-packages/pandas/core/dtypes/cast.py:1163: UserWarning: Parsing '18/05/2019' in DD/MM/YYYY format. Provide format or specify infer_datetime_format=True for consistent parsing.\n",
      "  to_datetime(arr).values,\n",
      "/Users/ahmedhafez/opt/anaconda3/lib/python3.9/site-packages/pandas/core/dtypes/cast.py:1163: UserWarning: Parsing '17/07/2017' in DD/MM/YYYY format. Provide format or specify infer_datetime_format=True for consistent parsing.\n",
      "  to_datetime(arr).values,\n",
      "/Users/ahmedhafez/opt/anaconda3/lib/python3.9/site-packages/pandas/core/dtypes/cast.py:1163: UserWarning: Parsing '14/05/2019' in DD/MM/YYYY format. Provide format or specify infer_datetime_format=True for consistent parsing.\n",
      "  to_datetime(arr).values,\n",
      "/Users/ahmedhafez/opt/anaconda3/lib/python3.9/site-packages/pandas/core/dtypes/cast.py:1163: UserWarning: Parsing '16/07/2019' in DD/MM/YYYY format. Provide format or specify infer_datetime_format=True for consistent parsing.\n",
      "  to_datetime(arr).values,\n",
      "/Users/ahmedhafez/opt/anaconda3/lib/python3.9/site-packages/pandas/core/dtypes/cast.py:1163: UserWarning: Parsing '16/09/2017' in DD/MM/YYYY format. Provide format or specify infer_datetime_format=True for consistent parsing.\n",
      "  to_datetime(arr).values,\n",
      "/Users/ahmedhafez/opt/anaconda3/lib/python3.9/site-packages/pandas/core/dtypes/cast.py:1163: UserWarning: Parsing '24/07/2019' in DD/MM/YYYY format. Provide format or specify infer_datetime_format=True for consistent parsing.\n",
      "  to_datetime(arr).values,\n",
      "/Users/ahmedhafez/opt/anaconda3/lib/python3.9/site-packages/pandas/core/dtypes/cast.py:1163: UserWarning: Parsing '20/10/2017' in DD/MM/YYYY format. Provide format or specify infer_datetime_format=True for consistent parsing.\n",
      "  to_datetime(arr).values,\n",
      "/Users/ahmedhafez/opt/anaconda3/lib/python3.9/site-packages/pandas/core/dtypes/cast.py:1163: UserWarning: Parsing '23/07/2019' in DD/MM/YYYY format. Provide format or specify infer_datetime_format=True for consistent parsing.\n",
      "  to_datetime(arr).values,\n",
      "/Users/ahmedhafez/opt/anaconda3/lib/python3.9/site-packages/pandas/core/dtypes/cast.py:1163: UserWarning: Parsing '17/12/2018' in DD/MM/YYYY format. Provide format or specify infer_datetime_format=True for consistent parsing.\n",
      "  to_datetime(arr).values,\n",
      "/Users/ahmedhafez/opt/anaconda3/lib/python3.9/site-packages/pandas/core/dtypes/cast.py:1163: UserWarning: Parsing '26/02/2019' in DD/MM/YYYY format. Provide format or specify infer_datetime_format=True for consistent parsing.\n",
      "  to_datetime(arr).values,\n",
      "/Users/ahmedhafez/opt/anaconda3/lib/python3.9/site-packages/pandas/core/dtypes/cast.py:1163: UserWarning: Parsing '25/07/2019' in DD/MM/YYYY format. Provide format or specify infer_datetime_format=True for consistent parsing.\n",
      "  to_datetime(arr).values,\n",
      "/Users/ahmedhafez/opt/anaconda3/lib/python3.9/site-packages/pandas/core/dtypes/cast.py:1163: UserWarning: Parsing '27/07/2018' in DD/MM/YYYY format. Provide format or specify infer_datetime_format=True for consistent parsing.\n",
      "  to_datetime(arr).values,\n",
      "/Users/ahmedhafez/opt/anaconda3/lib/python3.9/site-packages/pandas/core/dtypes/cast.py:1163: UserWarning: Parsing '25/01/2019' in DD/MM/YYYY format. Provide format or specify infer_datetime_format=True for consistent parsing.\n",
      "  to_datetime(arr).values,\n",
      "/Users/ahmedhafez/opt/anaconda3/lib/python3.9/site-packages/pandas/core/dtypes/cast.py:1163: UserWarning: Parsing '14/03/2019' in DD/MM/YYYY format. Provide format or specify infer_datetime_format=True for consistent parsing.\n",
      "  to_datetime(arr).values,\n",
      "/Users/ahmedhafez/opt/anaconda3/lib/python3.9/site-packages/pandas/core/dtypes/cast.py:1163: UserWarning: Parsing '14/07/2018' in DD/MM/YYYY format. Provide format or specify infer_datetime_format=True for consistent parsing.\n",
      "  to_datetime(arr).values,\n",
      "/Users/ahmedhafez/opt/anaconda3/lib/python3.9/site-packages/pandas/core/dtypes/cast.py:1163: UserWarning: Parsing '19/09/2017' in DD/MM/YYYY format. Provide format or specify infer_datetime_format=True for consistent parsing.\n",
      "  to_datetime(arr).values,\n",
      "/Users/ahmedhafez/opt/anaconda3/lib/python3.9/site-packages/pandas/core/dtypes/cast.py:1163: UserWarning: Parsing '15/06/2017' in DD/MM/YYYY format. Provide format or specify infer_datetime_format=True for consistent parsing.\n",
      "  to_datetime(arr).values,\n",
      "/Users/ahmedhafez/opt/anaconda3/lib/python3.9/site-packages/pandas/core/dtypes/cast.py:1163: UserWarning: Parsing '31/08/2018' in DD/MM/YYYY format. Provide format or specify infer_datetime_format=True for consistent parsing.\n",
      "  to_datetime(arr).values,\n",
      "/Users/ahmedhafez/opt/anaconda3/lib/python3.9/site-packages/pandas/core/dtypes/cast.py:1163: UserWarning: Parsing '18/08/2017' in DD/MM/YYYY format. Provide format or specify infer_datetime_format=True for consistent parsing.\n",
      "  to_datetime(arr).values,\n",
      "/Users/ahmedhafez/opt/anaconda3/lib/python3.9/site-packages/pandas/core/dtypes/cast.py:1163: UserWarning: Parsing '14/06/2018' in DD/MM/YYYY format. Provide format or specify infer_datetime_format=True for consistent parsing.\n",
      "  to_datetime(arr).values,\n",
      "/Users/ahmedhafez/opt/anaconda3/lib/python3.9/site-packages/pandas/core/dtypes/cast.py:1163: UserWarning: Parsing '23/02/2018' in DD/MM/YYYY format. Provide format or specify infer_datetime_format=True for consistent parsing.\n",
      "  to_datetime(arr).values,\n",
      "/Users/ahmedhafez/opt/anaconda3/lib/python3.9/site-packages/pandas/core/dtypes/cast.py:1163: UserWarning: Parsing '20/05/2018' in DD/MM/YYYY format. Provide format or specify infer_datetime_format=True for consistent parsing.\n",
      "  to_datetime(arr).values,\n",
      "/Users/ahmedhafez/opt/anaconda3/lib/python3.9/site-packages/pandas/core/dtypes/cast.py:1163: UserWarning: Parsing '15/07/2019' in DD/MM/YYYY format. Provide format or specify infer_datetime_format=True for consistent parsing.\n",
      "  to_datetime(arr).values,\n",
      "/Users/ahmedhafez/opt/anaconda3/lib/python3.9/site-packages/pandas/core/dtypes/cast.py:1163: UserWarning: Parsing '26/01/2018' in DD/MM/YYYY format. Provide format or specify infer_datetime_format=True for consistent parsing.\n",
      "  to_datetime(arr).values,\n",
      "/Users/ahmedhafez/opt/anaconda3/lib/python3.9/site-packages/pandas/core/dtypes/cast.py:1163: UserWarning: Parsing '30/09/2017' in DD/MM/YYYY format. Provide format or specify infer_datetime_format=True for consistent parsing.\n",
      "  to_datetime(arr).values,\n",
      "/Users/ahmedhafez/opt/anaconda3/lib/python3.9/site-packages/pandas/core/dtypes/cast.py:1163: UserWarning: Parsing '29/05/2019' in DD/MM/YYYY format. Provide format or specify infer_datetime_format=True for consistent parsing.\n",
      "  to_datetime(arr).values,\n",
      "/Users/ahmedhafez/opt/anaconda3/lib/python3.9/site-packages/pandas/core/dtypes/cast.py:1163: UserWarning: Parsing '14/02/2019' in DD/MM/YYYY format. Provide format or specify infer_datetime_format=True for consistent parsing.\n",
      "  to_datetime(arr).values,\n",
      "/Users/ahmedhafez/opt/anaconda3/lib/python3.9/site-packages/pandas/core/dtypes/cast.py:1163: UserWarning: Parsing '13/02/2018' in DD/MM/YYYY format. Provide format or specify infer_datetime_format=True for consistent parsing.\n",
      "  to_datetime(arr).values,\n",
      "/Users/ahmedhafez/opt/anaconda3/lib/python3.9/site-packages/pandas/core/dtypes/cast.py:1163: UserWarning: Parsing '18/04/2018' in DD/MM/YYYY format. Provide format or specify infer_datetime_format=True for consistent parsing.\n",
      "  to_datetime(arr).values,\n",
      "/Users/ahmedhafez/opt/anaconda3/lib/python3.9/site-packages/pandas/core/dtypes/cast.py:1163: UserWarning: Parsing '17/11/2018' in DD/MM/YYYY format. Provide format or specify infer_datetime_format=True for consistent parsing.\n",
      "  to_datetime(arr).values,\n",
      "/Users/ahmedhafez/opt/anaconda3/lib/python3.9/site-packages/pandas/core/dtypes/cast.py:1163: UserWarning: Parsing '27/11/2018' in DD/MM/YYYY format. Provide format or specify infer_datetime_format=True for consistent parsing.\n",
      "  to_datetime(arr).values,\n",
      "/Users/ahmedhafez/opt/anaconda3/lib/python3.9/site-packages/pandas/core/dtypes/cast.py:1163: UserWarning: Parsing '24/09/2018' in DD/MM/YYYY format. Provide format or specify infer_datetime_format=True for consistent parsing.\n",
      "  to_datetime(arr).values,\n",
      "/Users/ahmedhafez/opt/anaconda3/lib/python3.9/site-packages/pandas/core/dtypes/cast.py:1163: UserWarning: Parsing '20/06/2019' in DD/MM/YYYY format. Provide format or specify infer_datetime_format=True for consistent parsing.\n",
      "  to_datetime(arr).values,\n",
      "/Users/ahmedhafez/opt/anaconda3/lib/python3.9/site-packages/pandas/core/dtypes/cast.py:1163: UserWarning: Parsing '29/09/2017' in DD/MM/YYYY format. Provide format or specify infer_datetime_format=True for consistent parsing.\n",
      "  to_datetime(arr).values,\n",
      "/Users/ahmedhafez/opt/anaconda3/lib/python3.9/site-packages/pandas/core/dtypes/cast.py:1163: UserWarning: Parsing '22/11/2017' in DD/MM/YYYY format. Provide format or specify infer_datetime_format=True for consistent parsing.\n",
      "  to_datetime(arr).values,\n",
      "/Users/ahmedhafez/opt/anaconda3/lib/python3.9/site-packages/pandas/core/dtypes/cast.py:1163: UserWarning: Parsing '28/03/2019' in DD/MM/YYYY format. Provide format or specify infer_datetime_format=True for consistent parsing.\n",
      "  to_datetime(arr).values,\n",
      "/Users/ahmedhafez/opt/anaconda3/lib/python3.9/site-packages/pandas/core/dtypes/cast.py:1163: UserWarning: Parsing '15/07/2017' in DD/MM/YYYY format. Provide format or specify infer_datetime_format=True for consistent parsing.\n",
      "  to_datetime(arr).values,\n",
      "/Users/ahmedhafez/opt/anaconda3/lib/python3.9/site-packages/pandas/core/dtypes/cast.py:1163: UserWarning: Parsing '21/06/2017' in DD/MM/YYYY format. Provide format or specify infer_datetime_format=True for consistent parsing.\n",
      "  to_datetime(arr).values,\n",
      "/Users/ahmedhafez/opt/anaconda3/lib/python3.9/site-packages/pandas/core/dtypes/cast.py:1163: UserWarning: Parsing '17/06/2019' in DD/MM/YYYY format. Provide format or specify infer_datetime_format=True for consistent parsing.\n",
      "  to_datetime(arr).values,\n",
      "/Users/ahmedhafez/opt/anaconda3/lib/python3.9/site-packages/pandas/core/dtypes/cast.py:1163: UserWarning: Parsing '19/05/2019' in DD/MM/YYYY format. Provide format or specify infer_datetime_format=True for consistent parsing.\n",
      "  to_datetime(arr).values,\n",
      "/Users/ahmedhafez/opt/anaconda3/lib/python3.9/site-packages/pandas/core/dtypes/cast.py:1163: UserWarning: Parsing '24/06/2018' in DD/MM/YYYY format. Provide format or specify infer_datetime_format=True for consistent parsing.\n",
      "  to_datetime(arr).values,\n",
      "/Users/ahmedhafez/opt/anaconda3/lib/python3.9/site-packages/pandas/core/dtypes/cast.py:1163: UserWarning: Parsing '24/10/2017' in DD/MM/YYYY format. Provide format or specify infer_datetime_format=True for consistent parsing.\n",
      "  to_datetime(arr).values,\n",
      "/Users/ahmedhafez/opt/anaconda3/lib/python3.9/site-packages/pandas/core/dtypes/cast.py:1163: UserWarning: Parsing '25/06/2019' in DD/MM/YYYY format. Provide format or specify infer_datetime_format=True for consistent parsing.\n",
      "  to_datetime(arr).values,\n",
      "/Users/ahmedhafez/opt/anaconda3/lib/python3.9/site-packages/pandas/core/dtypes/cast.py:1163: UserWarning: Parsing '28/01/2019' in DD/MM/YYYY format. Provide format or specify infer_datetime_format=True for consistent parsing.\n",
      "  to_datetime(arr).values,\n",
      "/Users/ahmedhafez/opt/anaconda3/lib/python3.9/site-packages/pandas/core/dtypes/cast.py:1163: UserWarning: Parsing '28/05/2019' in DD/MM/YYYY format. Provide format or specify infer_datetime_format=True for consistent parsing.\n",
      "  to_datetime(arr).values,\n",
      "/Users/ahmedhafez/opt/anaconda3/lib/python3.9/site-packages/pandas/core/dtypes/cast.py:1163: UserWarning: Parsing '13/08/2018' in DD/MM/YYYY format. Provide format or specify infer_datetime_format=True for consistent parsing.\n",
      "  to_datetime(arr).values,\n",
      "/Users/ahmedhafez/opt/anaconda3/lib/python3.9/site-packages/pandas/core/dtypes/cast.py:1163: UserWarning: Parsing '16/01/2019' in DD/MM/YYYY format. Provide format or specify infer_datetime_format=True for consistent parsing.\n",
      "  to_datetime(arr).values,\n",
      "/Users/ahmedhafez/opt/anaconda3/lib/python3.9/site-packages/pandas/core/dtypes/cast.py:1163: UserWarning: Parsing '20/07/2019' in DD/MM/YYYY format. Provide format or specify infer_datetime_format=True for consistent parsing.\n",
      "  to_datetime(arr).values,\n",
      "/Users/ahmedhafez/opt/anaconda3/lib/python3.9/site-packages/pandas/core/dtypes/cast.py:1163: UserWarning: Parsing '19/01/2019' in DD/MM/YYYY format. Provide format or specify infer_datetime_format=True for consistent parsing.\n",
      "  to_datetime(arr).values,\n",
      "/Users/ahmedhafez/opt/anaconda3/lib/python3.9/site-packages/pandas/core/dtypes/cast.py:1163: UserWarning: Parsing '17/10/2017' in DD/MM/YYYY format. Provide format or specify infer_datetime_format=True for consistent parsing.\n",
      "  to_datetime(arr).values,\n",
      "/Users/ahmedhafez/opt/anaconda3/lib/python3.9/site-packages/pandas/core/dtypes/cast.py:1163: UserWarning: Parsing '26/01/2019' in DD/MM/YYYY format. Provide format or specify infer_datetime_format=True for consistent parsing.\n",
      "  to_datetime(arr).values,\n",
      "/Users/ahmedhafez/opt/anaconda3/lib/python3.9/site-packages/pandas/core/dtypes/cast.py:1163: UserWarning: Parsing '14/08/2017' in DD/MM/YYYY format. Provide format or specify infer_datetime_format=True for consistent parsing.\n",
      "  to_datetime(arr).values,\n",
      "/Users/ahmedhafez/opt/anaconda3/lib/python3.9/site-packages/pandas/core/dtypes/cast.py:1163: UserWarning: Parsing '27/02/2018' in DD/MM/YYYY format. Provide format or specify infer_datetime_format=True for consistent parsing.\n",
      "  to_datetime(arr).values,\n",
      "/Users/ahmedhafez/opt/anaconda3/lib/python3.9/site-packages/pandas/core/dtypes/cast.py:1163: UserWarning: Parsing '24/01/2019' in DD/MM/YYYY format. Provide format or specify infer_datetime_format=True for consistent parsing.\n",
      "  to_datetime(arr).values,\n",
      "/Users/ahmedhafez/opt/anaconda3/lib/python3.9/site-packages/pandas/core/dtypes/cast.py:1163: UserWarning: Parsing '31/05/2019' in DD/MM/YYYY format. Provide format or specify infer_datetime_format=True for consistent parsing.\n",
      "  to_datetime(arr).values,\n",
      "/Users/ahmedhafez/opt/anaconda3/lib/python3.9/site-packages/pandas/core/dtypes/cast.py:1163: UserWarning: Parsing '22/05/2018' in DD/MM/YYYY format. Provide format or specify infer_datetime_format=True for consistent parsing.\n",
      "  to_datetime(arr).values,\n",
      "/Users/ahmedhafez/opt/anaconda3/lib/python3.9/site-packages/pandas/core/dtypes/cast.py:1163: UserWarning: Parsing '26/03/2018' in DD/MM/YYYY format. Provide format or specify infer_datetime_format=True for consistent parsing.\n",
      "  to_datetime(arr).values,\n",
      "/Users/ahmedhafez/opt/anaconda3/lib/python3.9/site-packages/pandas/core/dtypes/cast.py:1163: UserWarning: Parsing '19/08/2017' in DD/MM/YYYY format. Provide format or specify infer_datetime_format=True for consistent parsing.\n",
      "  to_datetime(arr).values,\n",
      "/Users/ahmedhafez/opt/anaconda3/lib/python3.9/site-packages/pandas/core/dtypes/cast.py:1163: UserWarning: Parsing '23/04/2019' in DD/MM/YYYY format. Provide format or specify infer_datetime_format=True for consistent parsing.\n",
      "  to_datetime(arr).values,\n"
     ]
    }
   ],
   "source": [
    "PreProcessAgrRating(X_test)\n",
    "ConvertToDateTime(X_test, ['Original Release Date', 'Current Version Release Date'])\n",
    "X_test.drop(columns=['Subtitle'], inplace=True)\n",
    "FillColumnNulls(X_test, 'In-app Purchases')\n",
    "FillColumnNulls(X_test, 'Price')\n",
    "X_test['Languages'] = X_test['Languages'].fillna('EN')\n",
    "X_test = avarage_Purchases(X_test, 'In-app Purchases')\n",
    "X_test[\"Price\"] = X_test[\"Price\"].apply(lambda x: 1 if x > 0 else x)\n",
    "X_test = PreprocessListCategories(X_test,['Primary Genre', 'Genres', 'Languages'])\n",
    "X_test = reduceOHEColumns(X_test)\n",
    "apply_scaling(X_test)"
   ]
  },
  {
   "cell_type": "markdown",
   "id": "ADWeC6vjM5XK",
   "metadata": {
    "id": "ADWeC6vjM5XK"
   },
   "source": [
    "# Train and test Models"
   ]
  },
  {
   "cell_type": "markdown",
   "id": "ppr7IaQ8AbFd",
   "metadata": {
    "id": "ppr7IaQ8AbFd"
   },
   "source": [
    "Linear Regression Model"
   ]
  },
  {
   "cell_type": "code",
   "execution_count": 63,
   "id": "LDZaK5vNAS-V",
   "metadata": {
    "ExecuteTime": {
     "end_time": "2023-04-26T21:29:27.477181Z",
     "start_time": "2023-04-26T21:29:27.450094Z"
    },
    "id": "LDZaK5vNAS-V"
   },
   "outputs": [
    {
     "name": "stdout",
     "output_type": "stream",
     "text": [
      "Model A accurecy Train 0.01004593665625586\n",
      "Mean Square Error Train 0.3157934723076702\n"
     ]
    }
   ],
   "source": [
    "ModelA = linear_model.LinearRegression()\n",
    "ModelA.fit(X_train, Y_train)\n",
    "p = ModelA.predict(X_train)\n",
    "print(\"Model A accurecy Train\",r2_score(Y_train, p))\n",
    "print('Mean Square Error Train', metrics.mean_squared_error(Y_train, p))\n",
    "saved_modelA = pickle.dumps(ModelA)"
   ]
  },
  {
   "cell_type": "code",
   "execution_count": 64,
   "id": "8bGF0dfUAWr2",
   "metadata": {
    "ExecuteTime": {
     "end_time": "2023-04-26T21:29:30.288091Z",
     "start_time": "2023-04-26T21:29:30.272315Z"
    },
    "id": "8bGF0dfUAWr2"
   },
   "outputs": [
    {
     "name": "stdout",
     "output_type": "stream",
     "text": [
      "Model A accurecy Test 0.01559168182251447\n",
      "Mean Square Error Test 0.26445318411259133\n"
     ]
    }
   ],
   "source": [
    "ModelA = pickle.loads(saved_modelA)\n",
    "Y_pred = ModelA.predict(X_test[top_f])\n",
    "accuracy = r2_score(Y_test, Y_pred)\n",
    "print(\"Model A accurecy Test\",accuracy)\n",
    "print('Mean Square Error Test', metrics.mean_squared_error(Y_test, Y_pred))"
   ]
  },
  {
   "cell_type": "markdown",
   "id": "dd_eFL5jAqYd",
   "metadata": {
    "id": "dd_eFL5jAqYd"
   },
   "source": [
    "SVR Model"
   ]
  },
  {
   "cell_type": "code",
   "execution_count": 65,
   "id": "aLaed-BjAqJh",
   "metadata": {
    "ExecuteTime": {
     "end_time": "2023-04-26T21:29:31.142759Z",
     "start_time": "2023-04-26T21:29:31.029760Z"
    },
    "id": "aLaed-BjAqJh"
   },
   "outputs": [
    {
     "name": "stdout",
     "output_type": "stream",
     "text": [
      "Model B accurecy Train -0.04104988263111897\n",
      "Mean Square Error Train 0.3320929419402954\n"
     ]
    }
   ],
   "source": [
    "from sklearn.svm import SVR\n",
    "ModelB = SVR()\n",
    "ModelB.fit(X_train, Y_train)\n",
    "p = ModelB.predict(X_train)\n",
    "print(\"Model B accurecy Train\",r2_score(Y_train, p))\n",
    "print('Mean Square Error Train', metrics.mean_squared_error(Y_train, p))\n",
    "saved_modelB = pickle.dumps(ModelB)"
   ]
  },
  {
   "cell_type": "code",
   "execution_count": 66,
   "id": "gowriXQnA8Re",
   "metadata": {
    "ExecuteTime": {
     "end_time": "2023-04-26T21:29:31.572108Z",
     "start_time": "2023-04-26T21:29:31.542449Z"
    },
    "id": "gowriXQnA8Re"
   },
   "outputs": [
    {
     "name": "stdout",
     "output_type": "stream",
     "text": [
      "Model B accurecy Test -0.024177903497312192\n",
      "Mean Square Error Test 0.2751369555461128\n"
     ]
    }
   ],
   "source": [
    "ModelB = pickle.loads(saved_modelB)\n",
    "Y_pred = ModelB.predict(X_test[top_f])\n",
    "accuracy = r2_score(Y_test, Y_pred)\n",
    "print(\"Model B accurecy Test\",accuracy)\n",
    "print('Mean Square Error Test', metrics.mean_squared_error(Y_test, Y_pred))"
   ]
  },
  {
   "cell_type": "markdown",
   "id": "LsQM44BMBHH_",
   "metadata": {
    "id": "LsQM44BMBHH_"
   },
   "source": [
    "Decision Tree Model"
   ]
  },
  {
   "cell_type": "code",
   "execution_count": 67,
   "id": "J63YH9m3BGva",
   "metadata": {
    "ExecuteTime": {
     "end_time": "2023-04-26T21:29:32.478086Z",
     "start_time": "2023-04-26T21:29:32.234086Z"
    },
    "id": "J63YH9m3BGva"
   },
   "outputs": [
    {
     "name": "stdout",
     "output_type": "stream",
     "text": [
      "Model C accurecy Train 0.9995443583081494\n",
      "Mean Square Error Train 0.00014534883720930232\n"
     ]
    }
   ],
   "source": [
    "from sklearn.tree import DecisionTreeRegressor\n",
    "ModelC = DecisionTreeRegressor()\n",
    "ModelC.fit(X_train, Y_train)\n",
    "p = ModelC.predict(X_train)\n",
    "print(\"Model C accurecy Train\",r2_score(Y_train, p))\n",
    "print('Mean Square Error Train', metrics.mean_squared_error(Y_train, p))\n",
    "saved_modelC = pickle.dumps(ModelC)"
   ]
  },
  {
   "cell_type": "code",
   "execution_count": null,
   "id": "0a1386f8",
   "metadata": {},
   "outputs": [],
   "source": []
  },
  {
   "cell_type": "code",
   "execution_count": 68,
   "id": "dzMmgHaABNzf",
   "metadata": {
    "ExecuteTime": {
     "end_time": "2023-04-26T21:29:34.409012Z",
     "start_time": "2023-04-26T21:29:34.392312Z"
    },
    "id": "dzMmgHaABNzf"
   },
   "outputs": [
    {
     "name": "stdout",
     "output_type": "stream",
     "text": [
      "Model C accurecy Test -0.5897875735514111\n",
      "Mean Square Error Test 0.4270833333333333\n"
     ]
    }
   ],
   "source": [
    "ModelC = pickle.loads(saved_modelC)\n",
    "Y_pred = ModelC.predict(X_test[top_f])\n",
    "accuracy = r2_score(Y_test, Y_pred)\n",
    "print(\"Model C accurecy Test\",accuracy)\n",
    "print('Mean Square Error Test', metrics.mean_squared_error(Y_test, Y_pred))\n"
   ]
  },
  {
   "cell_type": "code",
   "execution_count": 69,
   "id": "5876dcc7",
   "metadata": {
    "ExecuteTime": {
     "end_time": "2023-04-26T21:29:53.657595Z",
     "start_time": "2023-04-26T21:29:34.771255Z"
    }
   },
   "outputs": [
    {
     "data": {
      "image/png": "[encoded data removed]",
      "text/plain": [
       "<Figure size 1000x600 with 1 Axes>"
      ]
     },
     "metadata": {},
     "output_type": "display_data"
    }
   ],
   "source": [
    "import matplotlib.pyplot as plt\n",
    "from sklearn.tree import DecisionTreeRegressor, plot_tree\n",
    "from sklearn.metrics import r2_score, mean_squared_error\n",
    "import pickle\n",
    "# plot the decision tree\n",
    "plt.figure(figsize=(10, 6))\n",
    "plot_tree(ModelC, feature_names=['X1', 'X2'], filled=True)\n",
    "plt.show()\n",
    "\n"
   ]
  },
  {
   "cell_type": "markdown",
   "id": "dRFSN_NkBlal",
   "metadata": {
    "id": "dRFSN_NkBlal"
   },
   "source": [
    "Random Forest Model"
   ]
  },
  {
   "cell_type": "code",
   "execution_count": 70,
   "id": "c7wHCdigBQGX",
   "metadata": {
    "ExecuteTime": {
     "end_time": "2023-04-26T21:29:56.712871Z",
     "start_time": "2023-04-26T21:29:56.358868Z"
    },
    "id": "c7wHCdigBQGX"
   },
   "outputs": [
    {
     "name": "stdout",
     "output_type": "stream",
     "text": [
      "Model D accurecy Train 0.8599778299787744\n",
      "Mean Square Error Train 0.0446668071866925\n"
     ]
    }
   ],
   "source": [
    "from sklearn.ensemble import RandomForestRegressor\n",
    "ModelD = RandomForestRegressor()\n",
    "ModelD.fit(X_train, Y_train)\n",
    "p = ModelD.predict(X_train)\n",
    "print(\"Model D accurecy Train\",r2_score(Y_train, p))\n",
    "print('Mean Square Error Train', metrics.mean_squared_error(Y_train, p))\n",
    "saved_modelD = pickle.dumps(ModelD)"
   ]
  },
  {
   "cell_type": "code",
   "execution_count": 71,
   "id": "ClF3meRnBoWq",
   "metadata": {
    "ExecuteTime": {
     "end_time": "2023-04-26T21:29:57.546596Z",
     "start_time": "2023-04-26T21:29:57.506395Z"
    },
    "id": "ClF3meRnBoWq"
   },
   "outputs": [
    {
     "name": "stdout",
     "output_type": "stream",
     "text": [
      "Model D accurecy Test 0.0878344341079087\n",
      "Mean Square Error Test 0.2450457639210391\n"
     ]
    }
   ],
   "source": [
    "ModelD = pickle.loads(saved_modelD)\n",
    "Y_pred = ModelD.predict(X_test[top_f])\n",
    "accuracy = r2_score(Y_test, Y_pred)\n",
    "print(\"Model D accurecy Test\",accuracy)\n",
    "print('Mean Square Error Test', metrics.mean_squared_error(Y_test, Y_pred))"
   ]
  },
  {
   "cell_type": "markdown",
   "id": "T3VcqJ3OBtm2",
   "metadata": {
    "id": "T3VcqJ3OBtm2"
   },
   "source": [
    "K Neighbors Regressor Model"
   ]
  },
  {
   "cell_type": "code",
   "execution_count": 72,
   "id": "RU5HlGGPBw7V",
   "metadata": {
    "ExecuteTime": {
     "end_time": "2023-04-26T21:29:58.309394Z",
     "start_time": "2023-04-26T21:29:58.279592Z"
    },
    "id": "RU5HlGGPBw7V"
   },
   "outputs": [
    {
     "name": "stdout",
     "output_type": "stream",
     "text": [
      "Model E accurecy Train 0.28158063162534797\n",
      "Mean Square Error Train 0.22917441860465115\n"
     ]
    }
   ],
   "source": [
    "from sklearn.neighbors import KNeighborsRegressor\n",
    "ModelE = KNeighborsRegressor()\n",
    "ModelE.fit(X_train, Y_train)\n",
    "p = ModelE.predict(X_train)\n",
    "print(\"Model E accurecy Train\",r2_score(Y_train, p))\n",
    "print('Mean Square Error Train', metrics.mean_squared_error(Y_train, p))\n",
    "saved_modelE = pickle.dumps(ModelE)"
   ]
  },
  {
   "cell_type": "code",
   "execution_count": 73,
   "id": "5xDaT_VIB1DM",
   "metadata": {
    "ExecuteTime": {
     "end_time": "2023-04-26T21:29:58.819258Z",
     "start_time": "2023-04-26T21:29:58.801016Z"
    },
    "id": "5xDaT_VIB1DM"
   },
   "outputs": [
    {
     "name": "stdout",
     "output_type": "stream",
     "text": [
      "Model E accurecy Test -0.21478727435922984\n",
      "Mean Square Error Test 0.3263425925925926\n"
     ]
    }
   ],
   "source": [
    "ModelE = pickle.loads(saved_modelE)\n",
    "Y_pred = ModelE.predict(X_test[top_f])\n",
    "accuracy = r2_score(Y_test, Y_pred)\n",
    "print(\"Model E accurecy Test\",accuracy)\n",
    "print('Mean Square Error Test', metrics.mean_squared_error(Y_test, Y_pred))"
   ]
  },
  {
   "cell_type": "markdown",
   "id": "WVl2PTIbCcSM",
   "metadata": {
    "id": "WVl2PTIbCcSM"
   },
   "source": [
    "XGBoost Regressor Model"
   ]
  },
  {
   "cell_type": "code",
   "execution_count": 74,
   "id": "YLdriN9hCeNQ",
   "metadata": {
    "ExecuteTime": {
     "end_time": "2023-04-26T21:30:00.519576Z",
     "start_time": "2023-04-26T21:29:59.652203Z"
    },
    "id": "YLdriN9hCeNQ"
   },
   "outputs": [
    {
     "name": "stdout",
     "output_type": "stream",
     "text": [
      "[23:29:59] WARNING: /Users/runner/work/xgboost/xgboost/python-package/build/temp.macosx-10.9-x86_64-cpython-38/xgboost/src/objective/regression_obj.cu:213: reg:linear is now deprecated in favor of reg:squarederror.\n",
      "Model F accurecy Test 0.9617653333154766\n",
      "Mean Square Error Test 0.012196786297385437\n"
     ]
    }
   ],
   "source": [
    "ModelF = xgb.XGBRegressor(objective=\"reg:linear\", random_state=42)\n",
    "ModelF.fit(X_train, Y_train)\n",
    "p = ModelF.predict(X_train)\n",
    "print(\"Model F accurecy Test\",r2_score(Y_train, p))\n",
    "print('Mean Square Error Test', metrics.mean_squared_error(Y_train, p))\n",
    "saved_modelF = pickle.dumps(ModelF)"
   ]
  },
  {
   "cell_type": "code",
   "execution_count": 75,
   "id": "oamFofD-CpCX",
   "metadata": {
    "ExecuteTime": {
     "end_time": "2023-04-26T21:30:00.531462Z",
     "start_time": "2023-04-26T21:30:00.521197Z"
    },
    "id": "oamFofD-CpCX"
   },
   "outputs": [
    {
     "name": "stdout",
     "output_type": "stream",
     "text": [
      "Model F accurecy Test -0.20037442461150134\n",
      "Mean Square Error Test 0.32247069925571\n"
     ]
    }
   ],
   "source": [
    "ModelF = pickle.loads(saved_modelF)\n",
    "Y_pred = ModelF.predict(X_test[top_f])\n",
    "accuracy = r2_score(Y_test, Y_pred)\n",
    "print(\"Model F accurecy Test\",accuracy)\n",
    "print('Mean Square Error Test', metrics.mean_squared_error(Y_test, Y_pred))"
   ]
  },
  {
   "cell_type": "markdown",
   "id": "x7239zSyn-cR",
   "metadata": {
    "id": "x7239zSyn-cR"
   },
   "source": [
    "Lasso Regression Model"
   ]
  },
  {
   "cell_type": "code",
   "execution_count": 76,
   "id": "BJJHWMhwoCvk",
   "metadata": {
    "ExecuteTime": {
     "end_time": "2023-04-26T21:30:01.505899Z",
     "start_time": "2023-04-26T21:30:01.478788Z"
    },
    "id": "BJJHWMhwoCvk"
   },
   "outputs": [
    {
     "name": "stdout",
     "output_type": "stream",
     "text": [
      "Model G accurecy Train 0.01004593665625586\n",
      "Mean Square Error Train 0.3157934723076702\n"
     ]
    }
   ],
   "source": [
    "ModelG = Lasso(alpha = 10)\n",
    "ModelG.fit(X_train, Y_train)\n",
    "p = ModelG.predict(X_train)\n",
    "print(\"Model G accurecy Train\",r2_score(Y_train, p))\n",
    "print('Mean Square Error Train', metrics.mean_squared_error(Y_train, p))\n",
    "saved_modelG = pickle.dumps(ModelG)"
   ]
  },
  {
   "cell_type": "code",
   "execution_count": 93,
   "id": "cfe437dd",
   "metadata": {
    "ExecuteTime": {
     "end_time": "2023-04-26T21:33:06.660395Z",
     "start_time": "2023-04-26T21:33:06.650267Z"
    },
    "scrolled": true
   },
   "outputs": [],
   "source": [
    "a = X_train[\"User Rating Count\"]"
   ]
  },
  {
   "cell_type": "code",
   "execution_count": 94,
   "id": "914838b7",
   "metadata": {
    "ExecuteTime": {
     "end_time": "2023-04-26T21:33:09.634646Z",
     "start_time": "2023-04-26T21:33:09.622615Z"
    }
   },
   "outputs": [],
   "source": [
    "b = X_train[\"Original Release Date\"]"
   ]
  },
  {
   "cell_type": "code",
   "execution_count": 97,
   "id": "77e6440f",
   "metadata": {
    "ExecuteTime": {
     "end_time": "2023-04-26T21:34:14.283596Z",
     "start_time": "2023-04-26T21:34:14.186851Z"
    }
   },
   "outputs": [
    {
     "name": "stdout",
     "output_type": "stream",
     "text": [
      "(860, 2)\n"
     ]
    },
    {
     "data": {
      "text/plain": [
       "<matplotlib.collections.PathCollection at 0x7feb5d982670>"
      ]
     },
     "execution_count": 97,
     "metadata": {},
     "output_type": "execute_result"
    },
    {
     "data": {
      "image/png": "[encoded data removed]",
      "text/plain": [
       "<Figure size 640x480 with 1 Axes>"
      ]
     },
     "metadata": {},
     "output_type": "display_data"
    }
   ],
   "source": [
    "import matplotlib.pyplot as plt\n",
    "\n",
    "# check the dimensions of X_train\n",
    "print(X_train.shape) # output: (n_samples, n_features)\n",
    "\n",
    "# plot the data points\n",
    "plt.scatter(a, Y_train, color='blue')"
   ]
  },
  {
   "cell_type": "code",
   "execution_count": 98,
   "id": "574a6b12",
   "metadata": {
    "ExecuteTime": {
     "end_time": "2023-04-26T21:34:24.916482Z",
     "start_time": "2023-04-26T21:34:24.806095Z"
    }
   },
   "outputs": [
    {
     "data": {
      "text/plain": [
       "<matplotlib.collections.PathCollection at 0x7feb5d7c3550>"
      ]
     },
     "execution_count": 98,
     "metadata": {},
     "output_type": "execute_result"
    },
    {
     "data": {
      "image/png": "[encoded data removed]",
      "text/plain": [
       "<Figure size 640x480 with 1 Axes>"
      ]
     },
     "metadata": {},
     "output_type": "display_data"
    }
   ],
   "source": [
    "plt.scatter(b, Y_train, color='red')"
   ]
  },
  {
   "cell_type": "code",
   "execution_count": 99,
   "id": "f8b1c641",
   "metadata": {
    "ExecuteTime": {
     "end_time": "2023-04-26T21:34:35.946582Z",
     "start_time": "2023-04-26T21:34:35.829707Z"
    },
    "scrolled": true
   },
   "outputs": [
    {
     "data": {
      "text/plain": [
       "[<matplotlib.lines.Line2D at 0x7feb48d70070>]"
      ]
     },
     "execution_count": 99,
     "metadata": {},
     "output_type": "execute_result"
    },
    {
     "data": {
      "image/png": "[encoded data removed]",
      "text/plain": [
       "<Figure size 640x480 with 1 Axes>"
      ]
     },
     "metadata": {},
     "output_type": "display_data"
    }
   ],
   "source": [
    "# plot the regression line\n",
    "plt.plot(a, ModelG.predict(X_train), color='green')"
   ]
  },
  {
   "cell_type": "code",
   "execution_count": 100,
   "id": "d0ada5f2",
   "metadata": {
    "ExecuteTime": {
     "end_time": "2023-04-26T21:34:44.913581Z",
     "start_time": "2023-04-26T21:34:44.810384Z"
    },
    "scrolled": true
   },
   "outputs": [
    {
     "data": {
      "text/plain": [
       "[<matplotlib.lines.Line2D at 0x7feb5c8c0970>]"
      ]
     },
     "execution_count": 100,
     "metadata": {},
     "output_type": "execute_result"
    },
    {
     "data": {
      "image/png": "[encoded data removed]",
      "text/plain": [
       "<Figure size 640x480 with 1 Axes>"
      ]
     },
     "metadata": {},
     "output_type": "display_data"
    }
   ],
   "source": [
    "\n",
    "plt.plot(b, ModelG.predict(X_train), color='orange')"
   ]
  },
  {
   "cell_type": "code",
   "execution_count": null,
   "id": "899524cd",
   "metadata": {},
   "outputs": [],
   "source": [
    "\n",
    "# set the axis labels and title\n",
    "plt.xlabel('X features')\n",
    "plt.ylabel('Y')\n",
    "plt.title('Lasso Regression')\n",
    "\n",
    "# show the plot\n",
    "plt.show()"
   ]
  },
  {
   "cell_type": "code",
   "execution_count": 78,
   "id": "BgSw_qYPoKtD",
   "metadata": {
    "ExecuteTime": {
     "end_time": "2023-04-26T21:30:06.606810Z",
     "start_time": "2023-04-26T21:30:06.589404Z"
    },
    "id": "BgSw_qYPoKtD"
   },
   "outputs": [
    {
     "name": "stdout",
     "output_type": "stream",
     "text": [
      "Model G accurecy Test 0.01559168182251447\n",
      "Mean Square Error Test 0.26445318411259133\n"
     ]
    }
   ],
   "source": [
    "ModelG = pickle.loads(saved_modelG)\n",
    "Y_pred = ModelG.predict(X_test[top_f])\n",
    "accuracy = r2_score(Y_test, Y_pred)\n",
    "print(\"Model G accurecy Test\",accuracy)\n",
    "print('Mean Square Error Test', metrics.mean_squared_error(Y_test, Y_pred))"
   ]
  },
  {
   "cell_type": "markdown",
   "id": "xqB5Z1XkoS-2",
   "metadata": {
    "id": "xqB5Z1XkoS-2"
   },
   "source": [
    "Ridge Regression Model"
   ]
  },
  {
   "cell_type": "code",
   "execution_count": 79,
   "id": "mDMqQoY6oWMF",
   "metadata": {
    "ExecuteTime": {
     "end_time": "2023-04-26T21:30:07.499905Z",
     "start_time": "2023-04-26T21:30:07.471011Z"
    },
    "id": "mDMqQoY6oWMF"
   },
   "outputs": [
    {
     "name": "stdout",
     "output_type": "stream",
     "text": [
      "Model H accurecy Train 0.054883638922244016\n",
      "Mean Square Error Train 0.3014903301587832\n"
     ]
    },
    {
     "name": "stderr",
     "output_type": "stream",
     "text": [
      "/Users/ahmedhafez/opt/anaconda3/lib/python3.9/site-packages/sklearn/linear_model/_ridge.py:157: LinAlgWarning: Ill-conditioned matrix (rcond=2.86485e-35): result may not be accurate.\n",
      "  return linalg.solve(A, Xy, sym_pos=True, overwrite_a=True).T\n"
     ]
    }
   ],
   "source": [
    "ModelH = Ridge(alpha=10)\n",
    "ModelH.fit(X_train, Y_train)\n",
    "p = ModelH.predict(X_train)\n",
    "print(\"Model H accurecy Train\",r2_score(Y_train, p))\n",
    "print('Mean Square Error Train', metrics.mean_squared_error(Y_train, p))\n",
    "saved_modelH = pickle.dumps(ModelH)"
   ]
  },
  {
   "cell_type": "code",
   "execution_count": 80,
   "id": "iKcC46gGocj-",
   "metadata": {
    "ExecuteTime": {
     "end_time": "2023-04-26T21:30:07.987746Z",
     "start_time": "2023-04-26T21:30:07.971964Z"
    },
    "id": "iKcC46gGocj-"
   },
   "outputs": [
    {
     "name": "stdout",
     "output_type": "stream",
     "text": [
      "Model C accurecy Test -1.5560100755943678\n",
      "Mean Square Error Test 0.6866510477747966\n"
     ]
    }
   ],
   "source": [
    "ModelH = pickle.loads(saved_modelH)\n",
    "Y_pred = ModelH.predict(X_test[top_f])\n",
    "accuracy = r2_score(Y_test, Y_pred)\n",
    "print(\"Model C accurecy Test\",accuracy)\n",
    "print('Mean Square Error Test', metrics.mean_squared_error(Y_test, Y_pred))"
   ]
  },
  {
   "cell_type": "code",
   "execution_count": null,
   "id": "f9bd7883",
   "metadata": {},
   "outputs": [],
   "source": []
  },
  {
   "cell_type": "code",
   "execution_count": null,
   "id": "c1a9745a",
   "metadata": {},
   "outputs": [],
   "source": []
  }
 ],
 "metadata": {
  "colab": {
   "collapsed_sections": [
    "4619c63c",
    "7c21accf",
    "75b1c51f",
    "21e961d4",
    "12304ad1",
    "27fbfee8",
    "b8760f76",
    "dd9fe79e",
    "13925290"
   ],
   "history_visible": true,
   "provenance": []
  },
  "kernelspec": {
   "display_name": "Python 3 (ipykernel)",
   "language": "python",
   "name": "python3"
  },
  "language_info": {
   "codemirror_mode": {
    "name": "ipython",
    "version": 3
   },
   "file_extension": ".py",
   "mimetype": "text/x-python",
   "name": "python",
   "nbconvert_exporter": "python",
   "pygments_lexer": "ipython3",
   "version": "3.9.13"
  }
 },
 "nbformat": 4,
 "nbformat_minor": 5
}
