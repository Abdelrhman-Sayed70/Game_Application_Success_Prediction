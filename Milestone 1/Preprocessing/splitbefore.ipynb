{
  "nbformat": 4,
  "nbformat_minor": 0,
  "metadata": {
    "colab": {
      "provenance": [],
      "collapsed_sections": [
        "6goE1bIPGcj5",
        "NPGu-TWwHpPi",
        "a1r20lwRIE8f",
        "5rxfgpLML5Rz",
        "lHxHtqroMExd",
        "qdU5_5U2PBDm",
        "BvilxYbuP_xi",
        "mgWxFHbqQg7j"
      ]
    },
    "kernelspec": {
      "name": "python3",
      "display_name": "Python 3"
    },
    "language_info": {
      "name": "python"
    }
  },
  "cells": [
    {
      "cell_type": "markdown",
      "source": [
        "# **Import Libraries**"
      ],
      "metadata": {
        "id": "6goE1bIPGcj5"
      }
    },
    {
      "cell_type": "code",
      "source": [
        "import pandas as pd\n",
        "import numpy as np\n",
        "import matplotlib.pyplot as plt\n",
        "import seaborn as sns\n",
        "from urllib.parse import urlparse\n",
        "import re\n",
        "import nltk\n",
        "from nltk.corpus import stopwords\n",
        "from nltk.tokenize import word_tokenize\n",
        "from collections import Counter\n",
        "nltk.download('stopwords')\n",
        "nltk.download('punkt')\n",
        "nltk.download('averaged_perceptron_tagger')\n",
        "from sklearn.preprocessing import MinMaxScaler\n",
        "from statistics import mean\n",
        "import pickle\n",
        "from sklearn.model_selection import train_test_split\n",
        "from sklearn import linear_model\n",
        "from sklearn import metrics\n",
        "from sklearn.metrics import r2_score"
      ],
      "metadata": {
        "colab": {
          "base_uri": "https://localhost:8080/"
        },
        "id": "_1SLq3lbGj6E",
        "outputId": "6d27110e-8078-4394-9fee-a4b86a8fbce0"
      },
      "execution_count": 2094,
      "outputs": [
        {
          "output_type": "stream",
          "name": "stderr",
          "text": [
            "[nltk_data] Downloading package stopwords to /root/nltk_data...\n",
            "[nltk_data]   Package stopwords is already up-to-date!\n",
            "[nltk_data] Downloading package punkt to /root/nltk_data...\n",
            "[nltk_data]   Package punkt is already up-to-date!\n",
            "[nltk_data] Downloading package averaged_perceptron_tagger to\n",
            "[nltk_data]     /root/nltk_data...\n",
            "[nltk_data]   Package averaged_perceptron_tagger is already up-to-\n",
            "[nltk_data]       date!\n"
          ]
        }
      ]
    },
    {
      "cell_type": "markdown",
      "source": [
        "# preprocessing Functions"
      ],
      "metadata": {
        "id": "QsQ5efS7GmF-"
      }
    },
    {
      "cell_type": "markdown",
      "source": [
        "# Cleaning\n"
      ],
      "metadata": {
        "id": "NPGu-TWwHpPi"
      }
    },
    {
      "cell_type": "code",
      "source": [
        "def dropColumns(df, lst):\n",
        "    for col in lst:\n",
        "        if col in df.columns:\n",
        "            df.drop(columns=[col], inplace=True)"
      ],
      "metadata": {
        "id": "-G04mS94IPDz"
      },
      "execution_count": 2095,
      "outputs": []
    },
    {
      "cell_type": "code",
      "source": [
        "def PreprocessListCategories(df, lst):\n",
        "    for col in lst:\n",
        "      # Apply one-hot encoding to the \"col\" column in list and put the output in newdf\n",
        "      newdf = df[col].str.get_dummies(sep=', ')\n",
        "      df.drop(columns=[col], inplace=True)\n",
        "      # Concatenate the one-hot encoded columns with the original DataFrame\n",
        "      df = pd.concat([df, newdf], axis=1)     \n",
        "    return df"
      ],
      "metadata": {
        "id": "qvbjPlQeGvy_"
      },
      "execution_count": 2096,
      "outputs": []
    },
    {
      "cell_type": "code",
      "source": [
        "def CheckNullRows(df):\n",
        "    missing_rows = df.isnull().any(axis=1).sum()\n",
        "    print('Number of rows that have null values: ', missing_rows)"
      ],
      "metadata": {
        "id": "BBsW8VX3G3tV"
      },
      "execution_count": 2097,
      "outputs": []
    },
    {
      "cell_type": "code",
      "source": [
        "def DropNullRows(df):\n",
        "    df.dropna(inplace=True)\n",
        "    "
      ],
      "metadata": {
        "id": "uyJr0XyDG4dU"
      },
      "execution_count": 2098,
      "outputs": []
    },
    {
      "cell_type": "code",
      "source": [
        "def PreProcessAgrRating(df):\n",
        "    # Age Rating \n",
        "    # Print current data type\n",
        "    print('Data type of Age Rating is, ', df['Age Rating'].dtype)\n",
        "    # Remove the + sign\n",
        "    df['Age Rating'] = df['Age Rating'].str.replace('+', '', regex=False)\n",
        "    # Convert Column datatype to int\n",
        "    df['Age Rating'] = df['Age Rating'].astype(int)\n",
        "    print('Data type of Age Rating after processing is ', df['Age Rating'].dtype)\n",
        "    # Create a dictionary to map the age ratings to integers\n",
        "    age_rating_map = {4: 1, 9: 2, 12: 3, 17: 4}\n",
        "    # Replace each value with its category\n",
        "    df['Age Rating'] = df['Age Rating'].replace(age_rating_map)\n",
        "    # Print Age Rating\n",
        "    print(df['Age Rating'].head())\n",
        "    "
      ],
      "metadata": {
        "id": "lr_QsqMMG6BW"
      },
      "execution_count": 2099,
      "outputs": []
    },
    {
      "cell_type": "code",
      "source": [
        "def ConvertToDateTime(df, lst):\n",
        "    for col in lst:\n",
        "        df[col] = pd.to_datetime(df[col].astype('datetime64'),dayfirst=True).astype('int64')"
      ],
      "metadata": {
        "id": "IO9crP4FG9PX"
      },
      "execution_count": 2100,
      "outputs": []
    },
    {
      "cell_type": "code",
      "source": [
        "def GetColumnsNullsPerc(df):\n",
        "    # print count of nulls for each column and percentage of them\n",
        "    missing_data = pd.DataFrame({'total_missing': df.isnull().sum(), 'perc_missing': (df.isnull().mean())*100})\n",
        "    return missing_data"
      ],
      "metadata": {
        "id": "iPS3-MaCG_wU"
      },
      "execution_count": 2101,
      "outputs": []
    },
    {
      "cell_type": "code",
      "source": [
        "def CheckListOfCategoriesColumn(df, col):\n",
        "    print(\"Data type of \", col, \"column is: \", df[col].dtype)\n",
        "    all_languages = list(set(','.join(df['Languages'].fillna('').unique()).split(',')))\n",
        "    print(col, \"column has \", len(all_languages), \"unique\", col)"
      ],
      "metadata": {
        "id": "BXLOUxf-HAet"
      },
      "execution_count": 2102,
      "outputs": []
    },
    {
      "cell_type": "code",
      "source": [
        "def PrintDfColumns(df):\n",
        "    columns_list = df.columns.tolist()\n",
        "    print(columns_list)"
      ],
      "metadata": {
        "id": "99WrFacdHCQD"
      },
      "execution_count": 2103,
      "outputs": []
    },
    {
      "cell_type": "code",
      "source": [
        "def FillColumnNulls(df, col):\n",
        "    df[col] = df[col].fillna(0)\n",
        "    "
      ],
      "metadata": {
        "id": "I782HwjlHE9E"
      },
      "execution_count": 2104,
      "outputs": []
    },
    {
      "cell_type": "code",
      "source": [
        "def DuplicatesDetectionAndRemoval(df):\n",
        "    print(\"Number of duplicates rows: \", df.duplicated().sum())\n",
        "    df.drop_duplicates(inplace = True, keep=\"first\")\n",
        "    "
      ],
      "metadata": {
        "id": "pUwIFiUpHFdw"
      },
      "execution_count": 2105,
      "outputs": []
    },
    {
      "cell_type": "code",
      "source": [
        "def outliers(dataset,col):\n",
        "    fig, ax =plt.subplots(1,2)\n",
        "    sns.boxplot( y=col, data=dataset,color=\"red\", ax=ax[0])\n",
        "    Q1 = dataset[col].quantile(0.25)\n",
        "    Q3 = dataset[col].quantile(0.75)\n",
        "    IQR = Q3-Q1\n",
        "    lower_bound = Q1-1.5*IQR\n",
        "    upper_bound = Q3+1.5*IQR\n",
        "    dataset[col]=dataset[col].apply(lambda x: upper_bound if x> upper_bound else( lower_bound if x< lower_bound  else x))        \n",
        "    sns.boxplot( y=col, data=dataset,color=\"blue\", ax=ax[1])\n",
        "    fig.show()\n",
        "    "
      ],
      "metadata": {
        "id": "FbSScAtpHIOR"
      },
      "execution_count": 2106,
      "outputs": []
    },
    {
      "cell_type": "code",
      "source": [
        "def avarage_Purchases(data,col):\n",
        "    data[col]=data[col].fillna(\"0\")\n",
        "    data[col]=data[col].astype(str)\n",
        "    data[col]=data[col].str.split(\",\")\n",
        "    data[col]=[np.float64(x) for x in data[col]]\n",
        "    data[col]=data[col].apply(lambda x: mean(x))\n",
        "    data[col]=data[col].astype(float)\n",
        "    return data"
      ],
      "metadata": {
        "id": "3LXbHdt2HKCD"
      },
      "execution_count": 2107,
      "outputs": []
    },
    {
      "cell_type": "code",
      "source": [
        "def reduceOHEColumns(df):\n",
        "    X = df.iloc[:,7:] #columns of categories [languages, generes, ]\n",
        "    zero_percentage = pd.DataFrame({'total_zeros': (X == 0).sum(), 'perc_zeros': (X == 0).mean() * 100})\n",
        "    to_keep = zero_percentage['perc_zeros'] < 90\n",
        "    \n",
        "    updatedX = X.loc[:, to_keep]\n",
        "    df = df.drop(df.columns[18:], axis=1)\n",
        "    \n",
        "    result = pd.concat([df, updatedX], axis=1)\n",
        "    return result"
      ],
      "metadata": {
        "id": "uiAO2BSXYDo5"
      },
      "execution_count": 2108,
      "outputs": []
    },
    {
      "cell_type": "code",
      "source": [
        "def cleaning(df):\n",
        "  PreProcessAgrRating(df)\n",
        "  ConvertToDateTime(df, ['Original Release Date', 'Current Version Release Date'])\n",
        "  df.drop(columns=['Subtitle'], inplace=True)\n",
        "  FillColumnNulls(df, 'In-app Purchases')\n",
        "  df = avarage_Purchases(df, 'In-app Purchases')\n",
        "  outliarlist=[\"User Rating Count\",\"Size\"]\n",
        "  for i in outliarlist:\n",
        "    outliers(df,i)\n",
        "  df = PreprocessListCategories(df,['Primary Genre', 'Genres','Languages'])\n",
        "  return df"
      ],
      "metadata": {
        "id": "Pzs-u7IbIv_C"
      },
      "execution_count": 2109,
      "outputs": []
    },
    {
      "cell_type": "markdown",
      "source": [
        "# Feature Transformation"
      ],
      "metadata": {
        "id": "a1r20lwRIE8f"
      }
    },
    {
      "cell_type": "code",
      "source": [
        "def extract_country(links):\n",
        "    us_words = []\n",
        "    for link in links:\n",
        "        parsed_url = urlparse(link)\n",
        "        try:\n",
        "            us_word = parsed_url.path.split('/')[1]\n",
        "            us_words.append(us_word)\n",
        "        except IndexError:\n",
        "            print(f\"Malformed link: {link}\")\n",
        "    return us_words"
      ],
      "metadata": {
        "id": "aaEKvCcVHMJj"
      },
      "execution_count": 2110,
      "outputs": []
    },
    {
      "cell_type": "code",
      "source": [
        "def extract_color(links):\n",
        "    is_color_list = []\n",
        "    for link in links:\n",
        "        parsed_url = urlparse(link)\n",
        "        netloc = parsed_url.netloc.lower()\n",
        "        is_color_match = re.search(r\"is\\d\", netloc)\n",
        "        if is_color_match:\n",
        "            is_color = is_color_match.group()\n",
        "        else:\n",
        "            is_color = None\n",
        "        is_color_list.append(is_color)\n",
        "    return is_color_list"
      ],
      "metadata": {
        "id": "Tx_lo89mHOHU"
      },
      "execution_count": 2111,
      "outputs": []
    },
    {
      "cell_type": "code",
      "source": [
        "def frequent_words_in_name(df):\n",
        "    # Define the stop words list\n",
        "    stop_words = set(stopwords.words('english'))\n",
        "    # Create an empty Counter object to store the word frequencies\n",
        "    word_freq = Counter()\n",
        "    # Iterate over each row in the 'Name' column\n",
        "    for name in df['Name']:\n",
        "        # Check if the value is a string before tokenizing it\n",
        "        if isinstance(name, str):\n",
        "            # Tokenize the name string into words\n",
        "            words = word_tokenize(name)\n",
        "\n",
        "            # Filter out stop words and iterate over each word\n",
        "            for word, pos in nltk.pos_tag(words):\n",
        "                # Filter out stop words and check if the word is a noun or verb\n",
        "                if word not in stop_words and (pos.startswith('N') or pos.startswith('V')):\n",
        "                    # Add the word to the counter\n",
        "                    word_freq[word.lower()] += 1\n",
        "\n",
        "    # Get the 50 most frequent words\n",
        "    most_common_words = [word[0] for word in word_freq.most_common(50)]\n",
        "    with open('file.pkl', 'wb') as file:\n",
        "      pickle.dump(most_common_words,file)"
      ],
      "metadata": {
        "id": "GYarXwXDIOgM"
      },
      "execution_count": 2112,
      "outputs": []
    },
    {
      "cell_type": "code",
      "source": [
        "def set_freq_words(df):\n",
        "  with open('file.pkl', 'rb') as file:\n",
        "    most_common_words = pickle.load(file)\n",
        "  df['Name'] = df['Name'].apply(\n",
        "        lambda x: sum(1 for word in word_tokenize(str(x).lower()) if word in most_common_words) + 1)\n",
        "  return df"
      ],
      "metadata": {
        "id": "Rz4f_YrtLxzB"
      },
      "execution_count": 2113,
      "outputs": []
    },
    {
      "cell_type": "code",
      "source": [
        "def count_dev_games(df):\n",
        "  # Create a dictionary to store the frequency of each developer\n",
        "  developer_freq = df['Developer'].value_counts().to_dict()\n",
        "  with open('dev.pkl', 'wb') as file:\n",
        "      pickle.dump(developer_freq,file)"
      ],
      "metadata": {
        "id": "0tavBDd0ISen"
      },
      "execution_count": 2114,
      "outputs": []
    },
    {
      "cell_type": "code",
      "source": [
        "def replace_dev_games(df):\n",
        "  with open('dev.pkl', 'rb') as file:\n",
        "    developer_freq = pickle.load(file)\n",
        "  # Replace each developer name with its frequency in the dataset\n",
        "  df['Developer'] = df['Developer'].map(developer_freq)\n",
        "  return df"
      ],
      "metadata": {
        "id": "3RYakxWvK--r"
      },
      "execution_count": 2115,
      "outputs": []
    },
    {
      "cell_type": "code",
      "source": [
        "def calc_duration(df):\n",
        "  # Calculate the difference in years and add 1\n",
        "  df['Years Since Release'] = (df['Current Version Release Date'].dt.year - df['Original Release Date'].dt.year) + 1 # add 1 for each row because if Years Since Release =0 make it 1 to avoid multipy by 0 in training model"
      ],
      "metadata": {
        "id": "yYiKZAKuIUmq"
      },
      "execution_count": 2116,
      "outputs": []
    },
    {
      "cell_type": "code",
      "source": [
        "def price_range(df):\n",
        "  df[\"Price\"] = df[\"Price\"].dropna().map(lambda x: \"Free\" if x == 0.00 else(\"Low Price\" if 0.99 <= x <= 4.99 else(\"Medium Price\" if 5.99 <= x <= 19.99 else \"High Price\")))\n",
        "  return df"
      ],
      "metadata": {
        "id": "-uwd4DvPIWOM"
      },
      "execution_count": 2117,
      "outputs": []
    },
    {
      "cell_type": "code",
      "source": [
        "def scaling(df):\n",
        "  #use Min-Max scaling, which scales the data to a range between 0 and 1.\n",
        "  # Initialize the MinMaxScaler object\n",
        "  scalerA = MinMaxScaler()\n",
        "  scalerB = MinMaxScaler()\n",
        "  # Fit and transform the features\n",
        "  df['User Rating Count'] = scalerA.fit_transform(df[['User Rating Count']])\n",
        "  df['Size'] = scalerB.fit_transform(df[['Size']])\n",
        "  with open('sA.pkl', 'wb') as file:\n",
        "      pickle.dump(scalerA,file)\n",
        "  with open('sB.pkl', 'wb') as file:\n",
        "      pickle.dump(scalerB,file)  \n",
        "  return df"
      ],
      "metadata": {
        "id": "ZnJJu4chIYRq"
      },
      "execution_count": 2118,
      "outputs": []
    },
    {
      "cell_type": "code",
      "source": [
        "def apply_scaling(df):\n",
        "    with open('sA.pkl', 'rb') as file:\n",
        "      scaler_A = pickle.load(file)\n",
        "    with open('sB.pkl', 'rb') as file:\n",
        "      scaler_B = pickle.load(file)\n",
        "    df['User Rating Count'] = scaler_A.transform(df[['User Rating Count']])\n",
        "    df['Size'] = scaler_B.transform(df[['Size']])"
      ],
      "metadata": {
        "id": "aXxDpU5nWgPd"
      },
      "execution_count": 2119,
      "outputs": []
    },
    {
      "cell_type": "code",
      "source": [
        "def endcode_price(df):\n",
        "  age_rating_map = {'Free': 0, 'Low Price': 1,'Medium Price': 2,'High Price': 3}\n",
        "  df['Price'] = df['Price'].replace(age_rating_map)\n",
        "  return df"
      ],
      "metadata": {
        "id": "xQDFOKvYIcfN"
      },
      "execution_count": 2120,
      "outputs": []
    },
    {
      "cell_type": "code",
      "source": [
        "def feature_transformation(df):\n",
        "    df['Price'] = df['Price'].fillna(\"0\")\n",
        "    #df['Languages'] = df['Languages'].str.count(',') + 1\n",
        "    # country name extraction\n",
        "    #df['URL'] = extract_country(df['URL'])\n",
        "    #df.rename(columns = {'URL':'Country'}, inplace = True)\n",
        "    # color extraction\n",
        "    #df['Icon URL'] = extract_color(df['Icon URL'])\n",
        "    #df.rename(columns = {'Icon URL':'Color'}, inplace = True)\n",
        "    # price\n",
        "    #df = price_range(df)\n",
        "    #df = endcode_price(df)\n",
        "    # frequent words in name\n",
        "    #df = frequent_words_in_name(df)\n",
        "    #df = set_freq_words(df)\n",
        "    #df.rename(columns = {'Name':'frequent words in Name'}, inplace = True)\n",
        "    # number of other games by dev\n",
        "    #count_dev_games(df)\n",
        "    #df = replace_dev_games(df)\n",
        "    #df.rename(columns = {'Developer':'Other by developer'}, inplace = True)\n",
        "    # duration between orignal and current releases in years\n",
        "    #calc_duration(df)\n",
        "    df = scaling(df)\n",
        "    return df"
      ],
      "metadata": {
        "id": "b2SRKPwSIr-h"
      },
      "execution_count": 2121,
      "outputs": []
    },
    {
      "cell_type": "markdown",
      "source": [
        "# Feature Selection"
      ],
      "metadata": {
        "id": "CyuWIzbsaQZS"
      }
    },
    {
      "cell_type": "code",
      "source": [
        "def selection(df,df2):\n",
        "  df = pd.concat([df, df2], axis=1)\n",
        "  corr = df.corr()\n",
        "  top_features = corr.index[abs(corr['Average User Rating'])>0.1]\n",
        "  top_features = top_features.delete(-1)\n",
        "  return top_features"
      ],
      "metadata": {
        "id": "b1BumGYEcRH9"
      },
      "execution_count": 2122,
      "outputs": []
    },
    {
      "cell_type": "markdown",
      "source": [
        "# Read Data"
      ],
      "metadata": {
        "id": "5rxfgpLML5Rz"
      }
    },
    {
      "cell_type": "code",
      "source": [
        "df = pd.read_csv('games-regression-dataset.csv')\n",
        "DropNullRows(df)\n",
        "DuplicatesDetectionAndRemoval(df)\n",
        "X = df.iloc[:,:17]\n",
        "dropColumns(X, ['URL','ID', 'Name', 'Icon URL', 'Description', 'Developer'])\n",
        "Y = df['Average User Rating']"
      ],
      "metadata": {
        "id": "gqgBSxzJL8zo",
        "colab": {
          "base_uri": "https://localhost:8080/"
        },
        "outputId": "dbaba0e8-34fa-4c61-e492-fa4b350ac137"
      },
      "execution_count": 2123,
      "outputs": [
        {
          "output_type": "stream",
          "name": "stdout",
          "text": [
            "Number of duplicates rows:  8\n"
          ]
        }
      ]
    },
    {
      "cell_type": "markdown",
      "source": [
        "# Split Train and Test"
      ],
      "metadata": {
        "id": "lHxHtqroMExd"
      }
    },
    {
      "cell_type": "code",
      "source": [
        "X_train, X_test, Y_train, Y_test = train_test_split(X, Y, test_size = 0.20, shuffle=True, random_state=10)"
      ],
      "metadata": {
        "id": "m7IW5P_7Mo3T"
      },
      "execution_count": 2124,
      "outputs": []
    },
    {
      "cell_type": "markdown",
      "source": [
        "# Preprocess Train Data"
      ],
      "metadata": {
        "id": "6gTG1kJpNlYy"
      }
    },
    {
      "cell_type": "code",
      "source": [
        "X_train = cleaning(X_train)\n",
        "X_train = reduceOHEColumns(X_train)"
      ],
      "metadata": {
        "colab": {
          "base_uri": "https://localhost:8080/",
          "height": 1000
        },
        "id": "Xxgksu0FXF1Z",
        "outputId": "24ec1d09-1508-423d-e1c9-c080d24d414b"
      },
      "execution_count": 2125,
      "outputs": [
        {
          "output_type": "stream",
          "name": "stdout",
          "text": [
            "Data type of Age Rating is,  object\n",
            "Data type of Age Rating after processing is  int64\n",
            "2584    1\n",
            "1493    1\n",
            "4050    1\n",
            "1805    3\n",
            "1044    2\n",
            "Name: Age Rating, dtype: int64\n"
          ]
        },
        {
          "output_type": "stream",
          "name": "stderr",
          "text": [
            "<ipython-input-2100-ba488bdeb83e>:3: UserWarning: Parsing dates in DD/MM/YYYY format when dayfirst=False (the default) was specified. This may lead to inconsistently parsed dates! Specify a format to ensure consistent parsing.\n",
            "  df[col] = pd.to_datetime(df[col].astype('datetime64'),dayfirst=True).astype('int64')\n",
            "<ipython-input-2100-ba488bdeb83e>:3: UserWarning: Parsing dates in DD/MM/YYYY format when dayfirst=False (the default) was specified. This may lead to inconsistently parsed dates! Specify a format to ensure consistent parsing.\n",
            "  df[col] = pd.to_datetime(df[col].astype('datetime64'),dayfirst=True).astype('int64')\n"
          ]
        },
        {
          "output_type": "display_data",
          "data": {
            "text/plain": [
              "<Figure size 640x480 with 2 Axes>"
            ],
            "image/png": "[encoded data removed]"
          },
          "metadata": {}
        },
        {
          "output_type": "display_data",
          "data": {
            "text/plain": [
              "<Figure size 640x480 with 2 Axes>"
            ],
            "image/png": "[encoded data removed]"
          },
          "metadata": {}
        }
      ]
    },
    {
      "cell_type": "code",
      "source": [
        "X_train = feature_transformation(X_train)"
      ],
      "metadata": {
        "id": "S5ZZZF7jXR1K"
      },
      "execution_count": 2126,
      "outputs": []
    },
    {
      "cell_type": "code",
      "source": [
        "PrintDfColumns(X_train)\n",
        "top_f = selection(X_train,Y_train)\n",
        "print(top_f)\n",
        "X_train = X_train[top_f]"
      ],
      "metadata": {
        "id": "OG3lOnTPN13Q",
        "colab": {
          "base_uri": "https://localhost:8080/"
        },
        "outputId": "b16e5dcd-0fd6-452b-9c94-caf1dcf2d832"
      },
      "execution_count": 2127,
      "outputs": [
        {
          "output_type": "stream",
          "name": "stdout",
          "text": [
            "['User Rating Count', 'Price', 'In-app Purchases', 'Age Rating', 'Size', 'Original Release Date', 'Current Version Release Date', 'Book', 'Games', 'Action', 'Board', 'Entertainment', 'Games', 'Puzzle', 'Role Playing', 'Simulation', 'Strategy', 'DE', 'EN', 'ES', 'FR', 'IT', 'JA', 'KO', 'NL', 'PL', 'PT', 'RU', 'TH', 'TR', 'ZH']\n",
            "Index(['User Rating Count', 'Original Release Date'], dtype='object')\n"
          ]
        }
      ]
    },
    {
      "cell_type": "markdown",
      "source": [
        "# Train Models"
      ],
      "metadata": {
        "id": "qdU5_5U2PBDm"
      }
    },
    {
      "cell_type": "code",
      "source": [
        "ModelA = linear_model.LinearRegression()\n",
        "ModelA.fit(X_train, Y_train)\n",
        "p = ModelA.predict(X_train)\n",
        "print(\"Model A accurecy Test\",r2_score(Y_train, p))\n",
        "print('Mean Square Error Test', metrics.mean_squared_error(Y_train, p))\n",
        "saved_modelA = pickle.dumps(ModelA)"
      ],
      "metadata": {
        "id": "xiILRX2WPI1u",
        "colab": {
          "base_uri": "https://localhost:8080/"
        },
        "outputId": "97317345-f24d-4745-8e41-0c94ba376187"
      },
      "execution_count": 2128,
      "outputs": [
        {
          "output_type": "stream",
          "name": "stdout",
          "text": [
            "Model A accurecy Test 0.011568518878795842\n",
            "Mean Square Error Test 0.29740971410321826\n"
          ]
        }
      ]
    },
    {
      "cell_type": "markdown",
      "source": [
        "# Preprocess Test Data"
      ],
      "metadata": {
        "id": "BvilxYbuP_xi"
      }
    },
    {
      "cell_type": "code",
      "source": [
        "X_test = cleaning(X_test)\n",
        "X_test = feature_transformation(X_test)\n",
        "apply_scaling(X_test)\n",
        "X_test = X_test[top_f]"
      ],
      "metadata": {
        "id": "aO7K7PrqQFkm",
        "colab": {
          "base_uri": "https://localhost:8080/",
          "height": 0
        },
        "outputId": "bd02f705-a273-409c-db50-a768ee62b84c"
      },
      "execution_count": 2129,
      "outputs": [
        {
          "output_type": "stream",
          "name": "stdout",
          "text": [
            "Data type of Age Rating is,  object\n",
            "Data type of Age Rating after processing is  int64\n",
            "4178    3\n",
            "1757    1\n",
            "371     1\n",
            "3056    1\n",
            "2078    2\n",
            "Name: Age Rating, dtype: int64\n"
          ]
        },
        {
          "output_type": "stream",
          "name": "stderr",
          "text": [
            "<ipython-input-2100-ba488bdeb83e>:3: UserWarning: Parsing dates in DD/MM/YYYY format when dayfirst=False (the default) was specified. This may lead to inconsistently parsed dates! Specify a format to ensure consistent parsing.\n",
            "  df[col] = pd.to_datetime(df[col].astype('datetime64'),dayfirst=True).astype('int64')\n",
            "<ipython-input-2100-ba488bdeb83e>:3: UserWarning: Parsing dates in DD/MM/YYYY format when dayfirst=False (the default) was specified. This may lead to inconsistently parsed dates! Specify a format to ensure consistent parsing.\n",
            "  df[col] = pd.to_datetime(df[col].astype('datetime64'),dayfirst=True).astype('int64')\n"
          ]
        },
        {
          "output_type": "display_data",
          "data": {
            "text/plain": [
              "<Figure size 640x480 with 2 Axes>"
            ],
            "image/png": "[encoded data removed]"
          },
          "metadata": {}
        },
        {
          "output_type": "display_data",
          "data": {
            "text/plain": [
              "<Figure size 640x480 with 2 Axes>"
            ],
            "image/png": "[encoded data removed]"
          },
          "metadata": {}
        }
      ]
    },
    {
      "cell_type": "markdown",
      "source": [
        "# Evaluate Models"
      ],
      "metadata": {
        "id": "mgWxFHbqQg7j"
      }
    },
    {
      "cell_type": "code",
      "source": [
        "ModelA = pickle.loads(saved_modelA)\n",
        "Y_pred = ModelA.predict(X_test)\n",
        "accuracy = r2_score(Y_test, Y_pred)\n",
        "print(\"Model A accurecy Test\",accuracy)\n",
        "print('Mean Square Error Test', metrics.mean_squared_error(Y_test, Y_pred))"
      ],
      "metadata": {
        "id": "7WIUknfiQmUc",
        "colab": {
          "base_uri": "https://localhost:8080/"
        },
        "outputId": "c02dca40-8913-4cde-ee13-d5b46ac22bb8"
      },
      "execution_count": 2130,
      "outputs": [
        {
          "output_type": "stream",
          "name": "stdout",
          "text": [
            "Model A accurecy Test 0.014374589812016114\n",
            "Mean Square Error Test 0.3382383496767792\n"
          ]
        }
      ]
    },
    {
      "cell_type": "markdown",
      "source": [
        "# Train Models with the whole data set"
      ],
      "metadata": {
        "id": "XQ0GYsrkRiP3"
      }
    },
    {
      "cell_type": "code",
      "source": [
        "X = cleaning(X)\n",
        "X = reduceOHEColumns(X)\n",
        "X = feature_transformation(X)\n",
        "top_f = selection(X,Y)\n",
        "X = X[top_f]\n",
        "ModelA.fit(X, Y)\n",
        "pFinal = ModelA.predict(X)\n",
        "print(\"Model A accurecy Test\",r2_score(Y, pFinal))\n",
        "print('Mean Square Error Test', metrics.mean_squared_error(Y, pFinal))\n",
        "saved_modelA = pickle.dumps(ModelA)"
      ],
      "metadata": {
        "colab": {
          "base_uri": "https://localhost:8080/",
          "height": 1000
        },
        "id": "O9dO5MDugPUp",
        "outputId": "6ffd194f-590d-450d-fadf-1e74155ac9c7"
      },
      "execution_count": 2131,
      "outputs": [
        {
          "output_type": "stream",
          "name": "stdout",
          "text": [
            "Data type of Age Rating is,  object\n",
            "Data type of Age Rating after processing is  int64\n",
            "0     3\n",
            "15    1\n",
            "16    3\n",
            "22    3\n",
            "24    1\n",
            "Name: Age Rating, dtype: int64\n"
          ]
        },
        {
          "output_type": "stream",
          "name": "stderr",
          "text": [
            "<ipython-input-2100-ba488bdeb83e>:3: UserWarning: Parsing dates in DD/MM/YYYY format when dayfirst=False (the default) was specified. This may lead to inconsistently parsed dates! Specify a format to ensure consistent parsing.\n",
            "  df[col] = pd.to_datetime(df[col].astype('datetime64'),dayfirst=True).astype('int64')\n",
            "<ipython-input-2100-ba488bdeb83e>:3: UserWarning: Parsing dates in DD/MM/YYYY format when dayfirst=False (the default) was specified. This may lead to inconsistently parsed dates! Specify a format to ensure consistent parsing.\n",
            "  df[col] = pd.to_datetime(df[col].astype('datetime64'),dayfirst=True).astype('int64')\n"
          ]
        },
        {
          "output_type": "stream",
          "name": "stdout",
          "text": [
            "Model A accurecy Test 0.012221505034291757\n",
            "Mean Square Error Test 0.30559138785084644\n"
          ]
        },
        {
          "output_type": "display_data",
          "data": {
            "text/plain": [
              "<Figure size 640x480 with 2 Axes>"
            ],
            "image/png": "[encoded data removed]"
          },
          "metadata": {}
        },
        {
          "output_type": "display_data",
          "data": {
            "text/plain": [
              "<Figure size 640x480 with 2 Axes>"
            ],
            "image/png": "[encoded data removed]"
          },
          "metadata": {}
        }
      ]
    }
  ]
}