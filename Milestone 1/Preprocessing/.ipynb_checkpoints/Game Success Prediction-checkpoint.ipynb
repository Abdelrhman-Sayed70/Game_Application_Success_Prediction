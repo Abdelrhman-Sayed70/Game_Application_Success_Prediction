{
 "cells": [
  {
   "cell_type": "markdown",
   "id": "4619c63c",
   "metadata": {},
   "source": [
    "# Import Libraries"
   ]
  },
  {
   "cell_type": "code",
   "execution_count": 1,
   "id": "9075564a",
   "metadata": {},
   "outputs": [],
   "source": [
    "import pandas as pd\n",
    "import numpy as np"
   ]
  },
  {
   "cell_type": "markdown",
   "id": "7c21accf",
   "metadata": {},
   "source": [
    "# \n",
    "# Read Data"
   ]
  },
  {
   "cell_type": "code",
   "execution_count": 2,
   "id": "8332daac",
   "metadata": {},
   "outputs": [],
   "source": [
    "df = pd.read_csv('games-regression-dataset.csv')"
   ]
  },
  {
   "cell_type": "code",
   "execution_count": 3,
   "id": "e5078395",
   "metadata": {},
   "outputs": [
    {
     "data": {
      "text/html": [
       "<div>\n",
       "<style scoped>\n",
       "    .dataframe tbody tr th:only-of-type {\n",
       "        vertical-align: middle;\n",
       "    }\n",
       "\n",
       "    .dataframe tbody tr th {\n",
       "        vertical-align: top;\n",
       "    }\n",
       "\n",
       "    .dataframe thead th {\n",
       "        text-align: right;\n",
       "    }\n",
       "</style>\n",
       "<table border=\"1\" class=\"dataframe\">\n",
       "  <thead>\n",
       "    <tr style=\"text-align: right;\">\n",
       "      <th></th>\n",
       "      <th>URL</th>\n",
       "      <th>ID</th>\n",
       "      <th>Name</th>\n",
       "      <th>Subtitle</th>\n",
       "      <th>Icon URL</th>\n",
       "      <th>User Rating Count</th>\n",
       "      <th>Price</th>\n",
       "      <th>In-app Purchases</th>\n",
       "      <th>Description</th>\n",
       "      <th>Developer</th>\n",
       "      <th>Age Rating</th>\n",
       "      <th>Languages</th>\n",
       "      <th>Size</th>\n",
       "      <th>Primary Genre</th>\n",
       "      <th>Genres</th>\n",
       "      <th>Original Release Date</th>\n",
       "      <th>Current Version Release Date</th>\n",
       "      <th>Average User Rating</th>\n",
       "    </tr>\n",
       "  </thead>\n",
       "  <tbody>\n",
       "    <tr>\n",
       "      <th>0</th>\n",
       "      <td>https://apps.apple.com/us/app/heir-of-light/id...</td>\n",
       "      <td>1264483706</td>\n",
       "      <td>HEIR OF LIGHT</td>\n",
       "      <td>Dark Fantasy RPG</td>\n",
       "      <td>https://is3-ssl.mzstatic.com/image/thumb/Purpl...</td>\n",
       "      <td>982</td>\n",
       "      <td>0.00</td>\n",
       "      <td>29.99, 19.99, 9.99, 29.99, 29.99, 8.99, 4.99, ...</td>\n",
       "      <td>A Dark Fantasy, Collectible RPG\\n\\nDarkness ha...</td>\n",
       "      <td>GAMEVIL Inc.</td>\n",
       "      <td>12+</td>\n",
       "      <td>EN, FR, DE, JA, KO, ZH, ES, TH, ZH, VI</td>\n",
       "      <td>894489600</td>\n",
       "      <td>Games</td>\n",
       "      <td>Games, Role Playing, Strategy</td>\n",
       "      <td>6/3/2018</td>\n",
       "      <td>31/07/2019</td>\n",
       "      <td>4.0</td>\n",
       "    </tr>\n",
       "    <tr>\n",
       "      <th>1</th>\n",
       "      <td>https://apps.apple.com/us/app/endgame-eurasia/...</td>\n",
       "      <td>607705356</td>\n",
       "      <td>Endgame:Eurasia</td>\n",
       "      <td>NaN</td>\n",
       "      <td>https://is4-ssl.mzstatic.com/image/thumb/Purpl...</td>\n",
       "      <td>19</td>\n",
       "      <td>0.00</td>\n",
       "      <td>NaN</td>\n",
       "      <td>\"This interactive experience is an exploration...</td>\n",
       "      <td>Auroch Digital Ltd</td>\n",
       "      <td>12+</td>\n",
       "      <td>EN</td>\n",
       "      <td>116407296</td>\n",
       "      <td>Games</td>\n",
       "      <td>Games, Simulation, Strategy, News</td>\n",
       "      <td>21/03/2013</td>\n",
       "      <td>28/06/2017</td>\n",
       "      <td>3.5</td>\n",
       "    </tr>\n",
       "    <tr>\n",
       "      <th>2</th>\n",
       "      <td>https://apps.apple.com/us/app/free-solitaire/i...</td>\n",
       "      <td>627491527</td>\n",
       "      <td>Free Solitaire+</td>\n",
       "      <td>NaN</td>\n",
       "      <td>https://is5-ssl.mzstatic.com/image/thumb/Purpl...</td>\n",
       "      <td>14</td>\n",
       "      <td>0.00</td>\n",
       "      <td>NaN</td>\n",
       "      <td>Same Solitaire game with classic Solitaire run...</td>\n",
       "      <td>Chen Zhong Yuan</td>\n",
       "      <td>4+</td>\n",
       "      <td>EN, ZH</td>\n",
       "      <td>50647040</td>\n",
       "      <td>Games</td>\n",
       "      <td>Games, Strategy, Entertainment, Card</td>\n",
       "      <td>4/4/2013</td>\n",
       "      <td>21/04/2015</td>\n",
       "      <td>4.5</td>\n",
       "    </tr>\n",
       "    <tr>\n",
       "      <th>3</th>\n",
       "      <td>https://apps.apple.com/us/app/draft-trainer/id...</td>\n",
       "      <td>430252596</td>\n",
       "      <td>Draft Trainer</td>\n",
       "      <td>NaN</td>\n",
       "      <td>https://is1-ssl.mzstatic.com/image/thumb/Purpl...</td>\n",
       "      <td>88</td>\n",
       "      <td>1.99</td>\n",
       "      <td>NaN</td>\n",
       "      <td>** Discounted for a limited time **\\n\\nEver wo...</td>\n",
       "      <td>GG Wizards, LLC</td>\n",
       "      <td>9+</td>\n",
       "      <td>EN</td>\n",
       "      <td>28120064</td>\n",
       "      <td>Games</td>\n",
       "      <td>Games, Utilities, Card, Strategy</td>\n",
       "      <td>26/05/2011</td>\n",
       "      <td>23/07/2019</td>\n",
       "      <td>3.5</td>\n",
       "    </tr>\n",
       "    <tr>\n",
       "      <th>4</th>\n",
       "      <td>https://apps.apple.com/us/app/rogue-knight-inf...</td>\n",
       "      <td>1115082819</td>\n",
       "      <td>Rogue Knight: Infested Lands</td>\n",
       "      <td>Tactical roguelike w/ stealth</td>\n",
       "      <td>https://is2-ssl.mzstatic.com/image/thumb/Purpl...</td>\n",
       "      <td>13</td>\n",
       "      <td>3.99</td>\n",
       "      <td>NaN</td>\n",
       "      <td>Fight or sneak your way through hordes of mons...</td>\n",
       "      <td>Luis Regueira</td>\n",
       "      <td>12+</td>\n",
       "      <td>EN</td>\n",
       "      <td>39915520</td>\n",
       "      <td>Games</td>\n",
       "      <td>Games, Role Playing, Strategy</td>\n",
       "      <td>19/05/2017</td>\n",
       "      <td>6/2/2019</td>\n",
       "      <td>4.5</td>\n",
       "    </tr>\n",
       "  </tbody>\n",
       "</table>\n",
       "</div>"
      ],
      "text/plain": [
       "                                                 URL          ID  \\\n",
       "0  https://apps.apple.com/us/app/heir-of-light/id...  1264483706   \n",
       "1  https://apps.apple.com/us/app/endgame-eurasia/...   607705356   \n",
       "2  https://apps.apple.com/us/app/free-solitaire/i...   627491527   \n",
       "3  https://apps.apple.com/us/app/draft-trainer/id...   430252596   \n",
       "4  https://apps.apple.com/us/app/rogue-knight-inf...  1115082819   \n",
       "\n",
       "                           Name                       Subtitle  \\\n",
       "0                 HEIR OF LIGHT               Dark Fantasy RPG   \n",
       "1               Endgame:Eurasia                            NaN   \n",
       "2               Free Solitaire+                            NaN   \n",
       "3                 Draft Trainer                            NaN   \n",
       "4  Rogue Knight: Infested Lands  Tactical roguelike w/ stealth   \n",
       "\n",
       "                                            Icon URL  User Rating Count  \\\n",
       "0  https://is3-ssl.mzstatic.com/image/thumb/Purpl...                982   \n",
       "1  https://is4-ssl.mzstatic.com/image/thumb/Purpl...                 19   \n",
       "2  https://is5-ssl.mzstatic.com/image/thumb/Purpl...                 14   \n",
       "3  https://is1-ssl.mzstatic.com/image/thumb/Purpl...                 88   \n",
       "4  https://is2-ssl.mzstatic.com/image/thumb/Purpl...                 13   \n",
       "\n",
       "   Price                                   In-app Purchases  \\\n",
       "0   0.00  29.99, 19.99, 9.99, 29.99, 29.99, 8.99, 4.99, ...   \n",
       "1   0.00                                                NaN   \n",
       "2   0.00                                                NaN   \n",
       "3   1.99                                                NaN   \n",
       "4   3.99                                                NaN   \n",
       "\n",
       "                                         Description           Developer  \\\n",
       "0  A Dark Fantasy, Collectible RPG\\n\\nDarkness ha...        GAMEVIL Inc.   \n",
       "1  \"This interactive experience is an exploration...  Auroch Digital Ltd   \n",
       "2  Same Solitaire game with classic Solitaire run...     Chen Zhong Yuan   \n",
       "3  ** Discounted for a limited time **\\n\\nEver wo...     GG Wizards, LLC   \n",
       "4  Fight or sneak your way through hordes of mons...       Luis Regueira   \n",
       "\n",
       "  Age Rating                               Languages       Size Primary Genre  \\\n",
       "0        12+  EN, FR, DE, JA, KO, ZH, ES, TH, ZH, VI  894489600         Games   \n",
       "1        12+                                      EN  116407296         Games   \n",
       "2         4+                                  EN, ZH   50647040         Games   \n",
       "3         9+                                      EN   28120064         Games   \n",
       "4        12+                                      EN   39915520         Games   \n",
       "\n",
       "                                 Genres Original Release Date  \\\n",
       "0         Games, Role Playing, Strategy              6/3/2018   \n",
       "1     Games, Simulation, Strategy, News            21/03/2013   \n",
       "2  Games, Strategy, Entertainment, Card              4/4/2013   \n",
       "3      Games, Utilities, Card, Strategy            26/05/2011   \n",
       "4         Games, Role Playing, Strategy            19/05/2017   \n",
       "\n",
       "  Current Version Release Date  Average User Rating  \n",
       "0                   31/07/2019                  4.0  \n",
       "1                   28/06/2017                  3.5  \n",
       "2                   21/04/2015                  4.5  \n",
       "3                   23/07/2019                  3.5  \n",
       "4                     6/2/2019                  4.5  "
      ]
     },
     "execution_count": 3,
     "metadata": {},
     "output_type": "execute_result"
    }
   ],
   "source": [
    "df.head()"
   ]
  },
  {
   "cell_type": "code",
   "execution_count": 57,
   "id": "86f7d50c",
   "metadata": {},
   "outputs": [
    {
     "data": {
      "text/plain": [
       "(5214, 18)"
      ]
     },
     "execution_count": 57,
     "metadata": {},
     "output_type": "execute_result"
    }
   ],
   "source": [
    "df.shape"
   ]
  },
  {
   "cell_type": "markdown",
   "id": "a2649036",
   "metadata": {},
   "source": [
    "# \n",
    "# Preprocessing Pipeline\n",
    "- **`1. Analysis Columns Data Type`**\n",
    "- **`2. Columns Nulls`**\n",
    "- **`3. Rows Nulls`**\n",
    "- **`4. Duplicates`**\n",
    "- **`5. Outlires Detection & Removal`**"
   ]
  },
  {
   "cell_type": "markdown",
   "id": "21e961d4",
   "metadata": {},
   "source": [
    "## \n",
    "### `1. Analysis Columns Data Type`"
   ]
  },
  {
   "cell_type": "code",
   "execution_count": 4,
   "id": "9fef4bff",
   "metadata": {},
   "outputs": [
    {
     "data": {
      "text/plain": [
       "URL                              object\n",
       "ID                                int64\n",
       "Name                             object\n",
       "Subtitle                         object\n",
       "Icon URL                         object\n",
       "User Rating Count                 int64\n",
       "Price                           float64\n",
       "In-app Purchases                 object\n",
       "Description                      object\n",
       "Developer                        object\n",
       "Age Rating                       object\n",
       "Languages                        object\n",
       "Size                              int64\n",
       "Primary Genre                    object\n",
       "Genres                           object\n",
       "Original Release Date            object\n",
       "Current Version Release Date     object\n",
       "Average User Rating             float64\n",
       "dtype: object"
      ]
     },
     "execution_count": 4,
     "metadata": {},
     "output_type": "execute_result"
    }
   ],
   "source": [
    "df.dtypes"
   ]
  },
  {
   "cell_type": "markdown",
   "id": "2f52b732",
   "metadata": {},
   "source": [
    "> <br> \n",
    "> \n",
    "> **Age Rating**\n",
    "> - Remove + sign \n",
    "> - Convert to int\n",
    "> - Notice that the column has only 4 ages so we can categorize them"
   ]
  },
  {
   "cell_type": "code",
   "execution_count": 7,
   "id": "81884ab4",
   "metadata": {},
   "outputs": [],
   "source": [
    "df['Age Rating'] = df['Age Rating'].str.replace('+', '', regex=False)"
   ]
  },
  {
   "cell_type": "code",
   "execution_count": 9,
   "id": "36b07242",
   "metadata": {},
   "outputs": [
    {
     "name": "stdout",
     "output_type": "stream",
     "text": [
      "object\n"
     ]
    }
   ],
   "source": [
    "print(df['Age Rating'].dtype)"
   ]
  },
  {
   "cell_type": "code",
   "execution_count": 10,
   "id": "82c692c6",
   "metadata": {},
   "outputs": [],
   "source": [
    "df['Age Rating'] = df['Age Rating'].astype(int)"
   ]
  },
  {
   "cell_type": "code",
   "execution_count": 11,
   "id": "fdfbbacf",
   "metadata": {},
   "outputs": [
    {
     "name": "stdout",
     "output_type": "stream",
     "text": [
      "int32\n"
     ]
    }
   ],
   "source": [
    "print(df['Age Rating'].dtype)"
   ]
  },
  {
   "cell_type": "code",
   "execution_count": 14,
   "id": "a4fde049",
   "metadata": {},
   "outputs": [
    {
     "data": {
      "text/plain": [
       "array([12,  4,  9, 17])"
      ]
     },
     "execution_count": 14,
     "metadata": {},
     "output_type": "execute_result"
    }
   ],
   "source": [
    "df['Age Rating'].unique()"
   ]
  },
  {
   "cell_type": "code",
   "execution_count": 18,
   "id": "e717fd9e",
   "metadata": {},
   "outputs": [],
   "source": [
    "# Create a dictionary to map the age ratings to integers\n",
    "age_rating_map = {4: 1, 9: 2, 12: 3, 17: 4}"
   ]
  },
  {
   "cell_type": "code",
   "execution_count": 19,
   "id": "bd487259",
   "metadata": {},
   "outputs": [],
   "source": [
    "# Replace the age rating column with its corresponding integer value\n",
    "df['Age Rating'] = df['Age Rating'].replace(age_rating_map)"
   ]
  },
  {
   "cell_type": "code",
   "execution_count": 23,
   "id": "a078f1b0",
   "metadata": {},
   "outputs": [
    {
     "data": {
      "text/plain": [
       "0    3\n",
       "1    3\n",
       "2    1\n",
       "3    2\n",
       "4    3\n",
       "Name: Age Rating, dtype: int32"
      ]
     },
     "execution_count": 23,
     "metadata": {},
     "output_type": "execute_result"
    }
   ],
   "source": [
    "df['Age Rating'].head()"
   ]
  },
  {
   "cell_type": "code",
   "execution_count": 25,
   "id": "f28db0ff",
   "metadata": {},
   "outputs": [
    {
     "data": {
      "text/plain": [
       "dtype('int32')"
      ]
     },
     "execution_count": 25,
     "metadata": {},
     "output_type": "execute_result"
    }
   ],
   "source": [
    "df['Age Rating'].dtype"
   ]
  },
  {
   "cell_type": "markdown",
   "id": "4f0b3f76",
   "metadata": {},
   "source": [
    "> <br>\n",
    "> \n",
    "> **Languages**"
   ]
  },
  {
   "cell_type": "code",
   "execution_count": 37,
   "id": "a871ee57",
   "metadata": {},
   "outputs": [
    {
     "data": {
      "text/plain": [
       "0    EN, FR, DE, JA, KO, ZH, ES, TH, ZH, VI\n",
       "1                                        EN\n",
       "2                                    EN, ZH\n",
       "3                                        EN\n",
       "4                                        EN\n",
       "Name: Languages, dtype: object"
      ]
     },
     "execution_count": 37,
     "metadata": {},
     "output_type": "execute_result"
    }
   ],
   "source": [
    "df['Languages'].head()"
   ]
  },
  {
   "cell_type": "code",
   "execution_count": 34,
   "id": "a5a446ce",
   "metadata": {},
   "outputs": [
    {
     "name": "stdout",
     "output_type": "stream",
     "text": [
      "object\n"
     ]
    }
   ],
   "source": [
    "print(df['Languages'].dtype)"
   ]
  },
  {
   "cell_type": "code",
   "execution_count": 38,
   "id": "bcc459b0",
   "metadata": {},
   "outputs": [],
   "source": [
    "all_languages = list(set(','.join(df['Languages'].fillna('').unique()).split(',')))"
   ]
  },
  {
   "cell_type": "code",
   "execution_count": 43,
   "id": "4741fb45",
   "metadata": {},
   "outputs": [
    {
     "data": {
      "text/plain": [
       "130"
      ]
     },
     "execution_count": 43,
     "metadata": {},
     "output_type": "execute_result"
    }
   ],
   "source": [
    "len(all_languages)"
   ]
  },
  {
   "cell_type": "markdown",
   "id": "c94d419d",
   "metadata": {},
   "source": [
    "> <br>\n",
    "> \n",
    "> **Genre**"
   ]
  },
  {
   "cell_type": "code",
   "execution_count": 49,
   "id": "049673d2",
   "metadata": {},
   "outputs": [
    {
     "data": {
      "text/plain": [
       "507"
      ]
     },
     "execution_count": 49,
     "metadata": {},
     "output_type": "execute_result"
    }
   ],
   "source": [
    "df['Genres'].nunique()"
   ]
  },
  {
   "cell_type": "markdown",
   "id": "59ed3894",
   "metadata": {},
   "source": [
    "> ## \n",
    "> **Dates**\n",
    "> - Convert to date time data type"
   ]
  },
  {
   "cell_type": "code",
   "execution_count": 55,
   "id": "e0d78383",
   "metadata": {},
   "outputs": [
    {
     "name": "stdout",
     "output_type": "stream",
     "text": [
      "datetime64[ns]\n"
     ]
    }
   ],
   "source": [
    "df['Original Release Date'] = pd.to_datetime(df['Original Release Date'])\n",
    "print(df['Original Release Date'].dtype)"
   ]
  },
  {
   "cell_type": "code",
   "execution_count": 56,
   "id": "6fe17b50",
   "metadata": {},
   "outputs": [
    {
     "name": "stdout",
     "output_type": "stream",
     "text": [
      "datetime64[ns]\n"
     ]
    }
   ],
   "source": [
    "df['Current Version Release Date'] = pd.to_datetime(df['Current Version Release Date'])\n",
    "print(df['Current Version Release Date'].dtype)"
   ]
  },
  {
   "cell_type": "code",
   "execution_count": 59,
   "id": "f82e30f1",
   "metadata": {},
   "outputs": [
    {
     "data": {
      "text/plain": [
       "0   2018-06-03\n",
       "1   2013-03-21\n",
       "2   2013-04-04\n",
       "3   2011-05-26\n",
       "4   2017-05-19\n",
       "Name: Original Release Date, dtype: datetime64[ns]"
      ]
     },
     "execution_count": 59,
     "metadata": {},
     "output_type": "execute_result"
    }
   ],
   "source": [
    "df['Original Release Date'].head()"
   ]
  },
  {
   "cell_type": "markdown",
   "id": "12304ad1",
   "metadata": {},
   "source": [
    "## \n",
    "### `2. Columns Nulls`"
   ]
  },
  {
   "cell_type": "code",
   "execution_count": 62,
   "id": "acd75d56",
   "metadata": {},
   "outputs": [
    {
     "data": {
      "text/html": [
       "<div>\n",
       "<style scoped>\n",
       "    .dataframe tbody tr th:only-of-type {\n",
       "        vertical-align: middle;\n",
       "    }\n",
       "\n",
       "    .dataframe tbody tr th {\n",
       "        vertical-align: top;\n",
       "    }\n",
       "\n",
       "    .dataframe thead th {\n",
       "        text-align: right;\n",
       "    }\n",
       "</style>\n",
       "<table border=\"1\" class=\"dataframe\">\n",
       "  <thead>\n",
       "    <tr style=\"text-align: right;\">\n",
       "      <th></th>\n",
       "      <th>total_missing</th>\n",
       "      <th>perc_missing</th>\n",
       "    </tr>\n",
       "  </thead>\n",
       "  <tbody>\n",
       "    <tr>\n",
       "      <th>URL</th>\n",
       "      <td>0</td>\n",
       "      <td>0.000000</td>\n",
       "    </tr>\n",
       "    <tr>\n",
       "      <th>ID</th>\n",
       "      <td>0</td>\n",
       "      <td>0.000000</td>\n",
       "    </tr>\n",
       "    <tr>\n",
       "      <th>Name</th>\n",
       "      <td>0</td>\n",
       "      <td>0.000000</td>\n",
       "    </tr>\n",
       "    <tr>\n",
       "      <th>Subtitle</th>\n",
       "      <td>3749</td>\n",
       "      <td>71.902570</td>\n",
       "    </tr>\n",
       "    <tr>\n",
       "      <th>Icon URL</th>\n",
       "      <td>0</td>\n",
       "      <td>0.000000</td>\n",
       "    </tr>\n",
       "    <tr>\n",
       "      <th>User Rating Count</th>\n",
       "      <td>0</td>\n",
       "      <td>0.000000</td>\n",
       "    </tr>\n",
       "    <tr>\n",
       "      <th>Price</th>\n",
       "      <td>0</td>\n",
       "      <td>0.000000</td>\n",
       "    </tr>\n",
       "    <tr>\n",
       "      <th>In-app Purchases</th>\n",
       "      <td>2039</td>\n",
       "      <td>39.106252</td>\n",
       "    </tr>\n",
       "    <tr>\n",
       "      <th>Description</th>\n",
       "      <td>0</td>\n",
       "      <td>0.000000</td>\n",
       "    </tr>\n",
       "    <tr>\n",
       "      <th>Developer</th>\n",
       "      <td>0</td>\n",
       "      <td>0.000000</td>\n",
       "    </tr>\n",
       "    <tr>\n",
       "      <th>Age Rating</th>\n",
       "      <td>0</td>\n",
       "      <td>0.000000</td>\n",
       "    </tr>\n",
       "    <tr>\n",
       "      <th>Languages</th>\n",
       "      <td>11</td>\n",
       "      <td>0.210970</td>\n",
       "    </tr>\n",
       "    <tr>\n",
       "      <th>Size</th>\n",
       "      <td>0</td>\n",
       "      <td>0.000000</td>\n",
       "    </tr>\n",
       "    <tr>\n",
       "      <th>Primary Genre</th>\n",
       "      <td>0</td>\n",
       "      <td>0.000000</td>\n",
       "    </tr>\n",
       "    <tr>\n",
       "      <th>Genres</th>\n",
       "      <td>0</td>\n",
       "      <td>0.000000</td>\n",
       "    </tr>\n",
       "    <tr>\n",
       "      <th>Original Release Date</th>\n",
       "      <td>0</td>\n",
       "      <td>0.000000</td>\n",
       "    </tr>\n",
       "    <tr>\n",
       "      <th>Current Version Release Date</th>\n",
       "      <td>0</td>\n",
       "      <td>0.000000</td>\n",
       "    </tr>\n",
       "    <tr>\n",
       "      <th>Average User Rating</th>\n",
       "      <td>0</td>\n",
       "      <td>0.000000</td>\n",
       "    </tr>\n",
       "  </tbody>\n",
       "</table>\n",
       "</div>"
      ],
      "text/plain": [
       "                              total_missing  perc_missing\n",
       "URL                                       0      0.000000\n",
       "ID                                        0      0.000000\n",
       "Name                                      0      0.000000\n",
       "Subtitle                               3749     71.902570\n",
       "Icon URL                                  0      0.000000\n",
       "User Rating Count                         0      0.000000\n",
       "Price                                     0      0.000000\n",
       "In-app Purchases                       2039     39.106252\n",
       "Description                               0      0.000000\n",
       "Developer                                 0      0.000000\n",
       "Age Rating                                0      0.000000\n",
       "Languages                                11      0.210970\n",
       "Size                                      0      0.000000\n",
       "Primary Genre                             0      0.000000\n",
       "Genres                                    0      0.000000\n",
       "Original Release Date                     0      0.000000\n",
       "Current Version Release Date              0      0.000000\n",
       "Average User Rating                       0      0.000000"
      ]
     },
     "execution_count": 62,
     "metadata": {},
     "output_type": "execute_result"
    }
   ],
   "source": [
    "# print count of nulls for each column and percentage of them\n",
    "missing_data = pd.DataFrame({'total_missing': df.isnull().sum(), 'perc_missing': (df.isnull().mean())*100})\n",
    "missing_data"
   ]
  },
  {
   "cell_type": "code",
   "execution_count": 65,
   "id": "a522fff3",
   "metadata": {},
   "outputs": [],
   "source": [
    "df.drop(columns=['Subtitle'], inplace=True)"
   ]
  },
  {
   "cell_type": "code",
   "execution_count": 67,
   "id": "6d81625b",
   "metadata": {},
   "outputs": [
    {
     "data": {
      "text/html": [
       "<div>\n",
       "<style scoped>\n",
       "    .dataframe tbody tr th:only-of-type {\n",
       "        vertical-align: middle;\n",
       "    }\n",
       "\n",
       "    .dataframe tbody tr th {\n",
       "        vertical-align: top;\n",
       "    }\n",
       "\n",
       "    .dataframe thead th {\n",
       "        text-align: right;\n",
       "    }\n",
       "</style>\n",
       "<table border=\"1\" class=\"dataframe\">\n",
       "  <thead>\n",
       "    <tr style=\"text-align: right;\">\n",
       "      <th></th>\n",
       "      <th>total_missing</th>\n",
       "      <th>perc_missing</th>\n",
       "    </tr>\n",
       "  </thead>\n",
       "  <tbody>\n",
       "    <tr>\n",
       "      <th>URL</th>\n",
       "      <td>0</td>\n",
       "      <td>0.000000</td>\n",
       "    </tr>\n",
       "    <tr>\n",
       "      <th>ID</th>\n",
       "      <td>0</td>\n",
       "      <td>0.000000</td>\n",
       "    </tr>\n",
       "    <tr>\n",
       "      <th>Name</th>\n",
       "      <td>0</td>\n",
       "      <td>0.000000</td>\n",
       "    </tr>\n",
       "    <tr>\n",
       "      <th>Icon URL</th>\n",
       "      <td>0</td>\n",
       "      <td>0.000000</td>\n",
       "    </tr>\n",
       "    <tr>\n",
       "      <th>User Rating Count</th>\n",
       "      <td>0</td>\n",
       "      <td>0.000000</td>\n",
       "    </tr>\n",
       "    <tr>\n",
       "      <th>Price</th>\n",
       "      <td>0</td>\n",
       "      <td>0.000000</td>\n",
       "    </tr>\n",
       "    <tr>\n",
       "      <th>In-app Purchases</th>\n",
       "      <td>2039</td>\n",
       "      <td>39.106252</td>\n",
       "    </tr>\n",
       "    <tr>\n",
       "      <th>Description</th>\n",
       "      <td>0</td>\n",
       "      <td>0.000000</td>\n",
       "    </tr>\n",
       "    <tr>\n",
       "      <th>Developer</th>\n",
       "      <td>0</td>\n",
       "      <td>0.000000</td>\n",
       "    </tr>\n",
       "    <tr>\n",
       "      <th>Age Rating</th>\n",
       "      <td>0</td>\n",
       "      <td>0.000000</td>\n",
       "    </tr>\n",
       "    <tr>\n",
       "      <th>Languages</th>\n",
       "      <td>11</td>\n",
       "      <td>0.210970</td>\n",
       "    </tr>\n",
       "    <tr>\n",
       "      <th>Size</th>\n",
       "      <td>0</td>\n",
       "      <td>0.000000</td>\n",
       "    </tr>\n",
       "    <tr>\n",
       "      <th>Primary Genre</th>\n",
       "      <td>0</td>\n",
       "      <td>0.000000</td>\n",
       "    </tr>\n",
       "    <tr>\n",
       "      <th>Genres</th>\n",
       "      <td>0</td>\n",
       "      <td>0.000000</td>\n",
       "    </tr>\n",
       "    <tr>\n",
       "      <th>Original Release Date</th>\n",
       "      <td>0</td>\n",
       "      <td>0.000000</td>\n",
       "    </tr>\n",
       "    <tr>\n",
       "      <th>Current Version Release Date</th>\n",
       "      <td>0</td>\n",
       "      <td>0.000000</td>\n",
       "    </tr>\n",
       "    <tr>\n",
       "      <th>Average User Rating</th>\n",
       "      <td>0</td>\n",
       "      <td>0.000000</td>\n",
       "    </tr>\n",
       "  </tbody>\n",
       "</table>\n",
       "</div>"
      ],
      "text/plain": [
       "                              total_missing  perc_missing\n",
       "URL                                       0      0.000000\n",
       "ID                                        0      0.000000\n",
       "Name                                      0      0.000000\n",
       "Icon URL                                  0      0.000000\n",
       "User Rating Count                         0      0.000000\n",
       "Price                                     0      0.000000\n",
       "In-app Purchases                       2039     39.106252\n",
       "Description                               0      0.000000\n",
       "Developer                                 0      0.000000\n",
       "Age Rating                                0      0.000000\n",
       "Languages                                11      0.210970\n",
       "Size                                      0      0.000000\n",
       "Primary Genre                             0      0.000000\n",
       "Genres                                    0      0.000000\n",
       "Original Release Date                     0      0.000000\n",
       "Current Version Release Date              0      0.000000\n",
       "Average User Rating                       0      0.000000"
      ]
     },
     "execution_count": 67,
     "metadata": {},
     "output_type": "execute_result"
    }
   ],
   "source": [
    "# print count of nulls for each column and percentage of them\n",
    "missing_data = pd.DataFrame({'total_missing': df.isnull().sum(), 'perc_missing': (df.isnull().mean())*100})\n",
    "missing_data"
   ]
  },
  {
   "cell_type": "markdown",
   "id": "128d4610",
   "metadata": {},
   "source": [
    "\n",
    "> <br> \n",
    "> \n",
    "> **In-app Purchases**\n",
    "> - We can assum that any cell with null value, does not has any purshases. So replace all nulls with 0"
   ]
  },
  {
   "cell_type": "code",
   "execution_count": 68,
   "id": "ef1eb79c",
   "metadata": {},
   "outputs": [],
   "source": [
    "df['In-app Purchases'] = df['In-app Purchases'].fillna(0)"
   ]
  },
  {
   "cell_type": "code",
   "execution_count": 69,
   "id": "f04121c3",
   "metadata": {},
   "outputs": [
    {
     "data": {
      "text/html": [
       "<div>\n",
       "<style scoped>\n",
       "    .dataframe tbody tr th:only-of-type {\n",
       "        vertical-align: middle;\n",
       "    }\n",
       "\n",
       "    .dataframe tbody tr th {\n",
       "        vertical-align: top;\n",
       "    }\n",
       "\n",
       "    .dataframe thead th {\n",
       "        text-align: right;\n",
       "    }\n",
       "</style>\n",
       "<table border=\"1\" class=\"dataframe\">\n",
       "  <thead>\n",
       "    <tr style=\"text-align: right;\">\n",
       "      <th></th>\n",
       "      <th>total_missing</th>\n",
       "      <th>perc_missing</th>\n",
       "    </tr>\n",
       "  </thead>\n",
       "  <tbody>\n",
       "    <tr>\n",
       "      <th>URL</th>\n",
       "      <td>0</td>\n",
       "      <td>0.00000</td>\n",
       "    </tr>\n",
       "    <tr>\n",
       "      <th>ID</th>\n",
       "      <td>0</td>\n",
       "      <td>0.00000</td>\n",
       "    </tr>\n",
       "    <tr>\n",
       "      <th>Name</th>\n",
       "      <td>0</td>\n",
       "      <td>0.00000</td>\n",
       "    </tr>\n",
       "    <tr>\n",
       "      <th>Icon URL</th>\n",
       "      <td>0</td>\n",
       "      <td>0.00000</td>\n",
       "    </tr>\n",
       "    <tr>\n",
       "      <th>User Rating Count</th>\n",
       "      <td>0</td>\n",
       "      <td>0.00000</td>\n",
       "    </tr>\n",
       "    <tr>\n",
       "      <th>Price</th>\n",
       "      <td>0</td>\n",
       "      <td>0.00000</td>\n",
       "    </tr>\n",
       "    <tr>\n",
       "      <th>In-app Purchases</th>\n",
       "      <td>0</td>\n",
       "      <td>0.00000</td>\n",
       "    </tr>\n",
       "    <tr>\n",
       "      <th>Description</th>\n",
       "      <td>0</td>\n",
       "      <td>0.00000</td>\n",
       "    </tr>\n",
       "    <tr>\n",
       "      <th>Developer</th>\n",
       "      <td>0</td>\n",
       "      <td>0.00000</td>\n",
       "    </tr>\n",
       "    <tr>\n",
       "      <th>Age Rating</th>\n",
       "      <td>0</td>\n",
       "      <td>0.00000</td>\n",
       "    </tr>\n",
       "    <tr>\n",
       "      <th>Languages</th>\n",
       "      <td>11</td>\n",
       "      <td>0.21097</td>\n",
       "    </tr>\n",
       "    <tr>\n",
       "      <th>Size</th>\n",
       "      <td>0</td>\n",
       "      <td>0.00000</td>\n",
       "    </tr>\n",
       "    <tr>\n",
       "      <th>Primary Genre</th>\n",
       "      <td>0</td>\n",
       "      <td>0.00000</td>\n",
       "    </tr>\n",
       "    <tr>\n",
       "      <th>Genres</th>\n",
       "      <td>0</td>\n",
       "      <td>0.00000</td>\n",
       "    </tr>\n",
       "    <tr>\n",
       "      <th>Original Release Date</th>\n",
       "      <td>0</td>\n",
       "      <td>0.00000</td>\n",
       "    </tr>\n",
       "    <tr>\n",
       "      <th>Current Version Release Date</th>\n",
       "      <td>0</td>\n",
       "      <td>0.00000</td>\n",
       "    </tr>\n",
       "    <tr>\n",
       "      <th>Average User Rating</th>\n",
       "      <td>0</td>\n",
       "      <td>0.00000</td>\n",
       "    </tr>\n",
       "  </tbody>\n",
       "</table>\n",
       "</div>"
      ],
      "text/plain": [
       "                              total_missing  perc_missing\n",
       "URL                                       0       0.00000\n",
       "ID                                        0       0.00000\n",
       "Name                                      0       0.00000\n",
       "Icon URL                                  0       0.00000\n",
       "User Rating Count                         0       0.00000\n",
       "Price                                     0       0.00000\n",
       "In-app Purchases                          0       0.00000\n",
       "Description                               0       0.00000\n",
       "Developer                                 0       0.00000\n",
       "Age Rating                                0       0.00000\n",
       "Languages                                11       0.21097\n",
       "Size                                      0       0.00000\n",
       "Primary Genre                             0       0.00000\n",
       "Genres                                    0       0.00000\n",
       "Original Release Date                     0       0.00000\n",
       "Current Version Release Date              0       0.00000\n",
       "Average User Rating                       0       0.00000"
      ]
     },
     "execution_count": 69,
     "metadata": {},
     "output_type": "execute_result"
    }
   ],
   "source": [
    "# print count of nulls for each column and percentage of them\n",
    "missing_data = pd.DataFrame({'total_missing': df.isnull().sum(), 'perc_missing': (df.isnull().mean())*100})\n",
    "missing_data"
   ]
  },
  {
   "cell_type": "markdown",
   "id": "967eee32",
   "metadata": {},
   "source": [
    "<br>\n",
    "\n",
    "### `3. Rows Nulls`"
   ]
  },
  {
   "cell_type": "code",
   "execution_count": 74,
   "id": "963fafb3",
   "metadata": {},
   "outputs": [
    {
     "data": {
      "text/plain": [
       "(5214, 17)"
      ]
     },
     "execution_count": 74,
     "metadata": {},
     "output_type": "execute_result"
    }
   ],
   "source": [
    "df.shape"
   ]
  },
  {
   "cell_type": "code",
   "execution_count": 71,
   "id": "9907d5a4",
   "metadata": {},
   "outputs": [
    {
     "data": {
      "text/plain": [
       "11"
      ]
     },
     "execution_count": 71,
     "metadata": {},
     "output_type": "execute_result"
    }
   ],
   "source": [
    "missing_rows = df.isnull().any(axis=1).sum()\n",
    "missing_rows"
   ]
  },
  {
   "cell_type": "code",
   "execution_count": 75,
   "id": "239d0ec8",
   "metadata": {},
   "outputs": [],
   "source": [
    "df.dropna(inplace=True)"
   ]
  },
  {
   "cell_type": "code",
   "execution_count": 76,
   "id": "89cc5ccc",
   "metadata": {},
   "outputs": [
    {
     "data": {
      "text/plain": [
       "(5203, 17)"
      ]
     },
     "execution_count": 76,
     "metadata": {},
     "output_type": "execute_result"
    }
   ],
   "source": [
    "df.shape"
   ]
  },
  {
   "cell_type": "code",
   "execution_count": 77,
   "id": "43dc57d4",
   "metadata": {},
   "outputs": [
    {
     "data": {
      "text/plain": [
       "0"
      ]
     },
     "execution_count": 77,
     "metadata": {},
     "output_type": "execute_result"
    }
   ],
   "source": [
    "missing_rows = df.isnull().any(axis=1).sum()\n",
    "missing_rows"
   ]
  },
  {
   "cell_type": "markdown",
   "id": "43836b96",
   "metadata": {},
   "source": [
    "<br>\n",
    "\n",
    "## `4. Duplicates`"
   ]
  },
  {
   "cell_type": "code",
   "execution_count": 81,
   "id": "a1b8142a",
   "metadata": {},
   "outputs": [
    {
     "name": "stdout",
     "output_type": "stream",
     "text": [
      "43\n"
     ]
    }
   ],
   "source": [
    "print(df.duplicated().sum())"
   ]
  },
  {
   "cell_type": "code",
   "execution_count": 82,
   "id": "b1ca9302",
   "metadata": {},
   "outputs": [],
   "source": [
    "df.drop_duplicates(inplace = True)"
   ]
  },
  {
   "cell_type": "code",
   "execution_count": 83,
   "id": "64d6aa4e",
   "metadata": {},
   "outputs": [
    {
     "data": {
      "text/plain": [
       "(5160, 17)"
      ]
     },
     "execution_count": 83,
     "metadata": {},
     "output_type": "execute_result"
    }
   ],
   "source": [
    "df.shape"
   ]
  },
  {
   "cell_type": "markdown",
   "id": "27fbfee8",
   "metadata": {},
   "source": [
    "<br>\n",
    "\n",
    "## `5. Outlires Detection & Removal`"
   ]
  },
  {
   "cell_type": "code",
   "execution_count": 97,
   "id": "2ae73b08",
   "metadata": {},
   "outputs": [
    {
     "data": {
      "text/html": [
       "<div>\n",
       "<style scoped>\n",
       "    .dataframe tbody tr th:only-of-type {\n",
       "        vertical-align: middle;\n",
       "    }\n",
       "\n",
       "    .dataframe tbody tr th {\n",
       "        vertical-align: top;\n",
       "    }\n",
       "\n",
       "    .dataframe thead th {\n",
       "        text-align: right;\n",
       "    }\n",
       "</style>\n",
       "<table border=\"1\" class=\"dataframe\">\n",
       "  <thead>\n",
       "    <tr style=\"text-align: right;\">\n",
       "      <th></th>\n",
       "      <th>ID</th>\n",
       "      <th>User Rating Count</th>\n",
       "      <th>Price</th>\n",
       "      <th>Age Rating</th>\n",
       "      <th>Size</th>\n",
       "      <th>Average User Rating</th>\n",
       "    </tr>\n",
       "  </thead>\n",
       "  <tbody>\n",
       "    <tr>\n",
       "      <th>count</th>\n",
       "      <td>5.160000e+03</td>\n",
       "      <td>5.160000e+03</td>\n",
       "      <td>5160.000000</td>\n",
       "      <td>5160.000000</td>\n",
       "      <td>5.160000e+03</td>\n",
       "      <td>5160.000000</td>\n",
       "    </tr>\n",
       "    <tr>\n",
       "      <th>mean</th>\n",
       "      <td>8.680292e+08</td>\n",
       "      <td>3.686172e+03</td>\n",
       "      <td>0.604031</td>\n",
       "      <td>1.639147</td>\n",
       "      <td>1.380728e+08</td>\n",
       "      <td>4.035271</td>\n",
       "    </tr>\n",
       "    <tr>\n",
       "      <th>std</th>\n",
       "      <td>2.941968e+08</td>\n",
       "      <td>5.003215e+04</td>\n",
       "      <td>2.562607</td>\n",
       "      <td>0.883842</td>\n",
       "      <td>2.536697e+08</td>\n",
       "      <td>0.749178</td>\n",
       "    </tr>\n",
       "    <tr>\n",
       "      <th>min</th>\n",
       "      <td>2.849214e+08</td>\n",
       "      <td>5.000000e+00</td>\n",
       "      <td>0.000000</td>\n",
       "      <td>1.000000</td>\n",
       "      <td>2.158400e+05</td>\n",
       "      <td>1.000000</td>\n",
       "    </tr>\n",
       "    <tr>\n",
       "      <th>25%</th>\n",
       "      <td>5.952883e+08</td>\n",
       "      <td>1.300000e+01</td>\n",
       "      <td>0.000000</td>\n",
       "      <td>1.000000</td>\n",
       "      <td>2.747392e+07</td>\n",
       "      <td>3.500000</td>\n",
       "    </tr>\n",
       "    <tr>\n",
       "      <th>50%</th>\n",
       "      <td>9.193830e+08</td>\n",
       "      <td>4.900000e+01</td>\n",
       "      <td>0.000000</td>\n",
       "      <td>1.000000</td>\n",
       "      <td>6.705971e+07</td>\n",
       "      <td>4.000000</td>\n",
       "    </tr>\n",
       "    <tr>\n",
       "      <th>75%</th>\n",
       "      <td>1.115590e+09</td>\n",
       "      <td>3.320000e+02</td>\n",
       "      <td>0.000000</td>\n",
       "      <td>2.000000</td>\n",
       "      <td>1.584366e+08</td>\n",
       "      <td>4.500000</td>\n",
       "    </tr>\n",
       "    <tr>\n",
       "      <th>max</th>\n",
       "      <td>1.341837e+09</td>\n",
       "      <td>3.032734e+06</td>\n",
       "      <td>139.990000</td>\n",
       "      <td>4.000000</td>\n",
       "      <td>4.005591e+09</td>\n",
       "      <td>5.000000</td>\n",
       "    </tr>\n",
       "  </tbody>\n",
       "</table>\n",
       "</div>"
      ],
      "text/plain": [
       "                 ID  User Rating Count        Price   Age Rating  \\\n",
       "count  5.160000e+03       5.160000e+03  5160.000000  5160.000000   \n",
       "mean   8.680292e+08       3.686172e+03     0.604031     1.639147   \n",
       "std    2.941968e+08       5.003215e+04     2.562607     0.883842   \n",
       "min    2.849214e+08       5.000000e+00     0.000000     1.000000   \n",
       "25%    5.952883e+08       1.300000e+01     0.000000     1.000000   \n",
       "50%    9.193830e+08       4.900000e+01     0.000000     1.000000   \n",
       "75%    1.115590e+09       3.320000e+02     0.000000     2.000000   \n",
       "max    1.341837e+09       3.032734e+06   139.990000     4.000000   \n",
       "\n",
       "               Size  Average User Rating  \n",
       "count  5.160000e+03          5160.000000  \n",
       "mean   1.380728e+08             4.035271  \n",
       "std    2.536697e+08             0.749178  \n",
       "min    2.158400e+05             1.000000  \n",
       "25%    2.747392e+07             3.500000  \n",
       "50%    6.705971e+07             4.000000  \n",
       "75%    1.584366e+08             4.500000  \n",
       "max    4.005591e+09             5.000000  "
      ]
     },
     "execution_count": 97,
     "metadata": {},
     "output_type": "execute_result"
    }
   ],
   "source": [
    "df.describe()"
   ]
  },
  {
   "cell_type": "code",
   "execution_count": 93,
   "id": "e419633c",
   "metadata": {},
   "outputs": [
    {
     "name": "stdout",
     "output_type": "stream",
     "text": [
      "Outliers in User Rating Count column:\n",
      "3    1.99\n",
      "4    3.99\n",
      "5    0.99\n",
      "7    9.99\n",
      "8    0.99\n",
      "Name: Price, dtype: float64\n"
     ]
    }
   ],
   "source": [
    "# calculate the interquartile range (IQR)\n",
    "col = 'Price'\n",
    "q1 = df[col].quantile(0.25)\n",
    "q3 = df[col].quantile(0.75)\n",
    "iqr = q3 - q1\n",
    "\n",
    "# identify the outliers\n",
    "lower_bound = q1 - (1.5 * iqr)\n",
    "upper_bound = q3 + (1.5 * iqr)\n",
    "outliers = df[(df[col] < lower_bound) | (df[col] > upper_bound)]\n",
    "\n",
    "# print the outliers\n",
    "print(\"Outliers in User Rating Count column:\")\n",
    "print(outliers[col].head())"
   ]
  }
 ],
 "metadata": {
  "kernelspec": {
   "display_name": "Python 3 (ipykernel)",
   "language": "python",
   "name": "python3"
  },
  "language_info": {
   "codemirror_mode": {
    "name": "ipython",
    "version": 3
   },
   "file_extension": ".py",
   "mimetype": "text/x-python",
   "name": "python",
   "nbconvert_exporter": "python",
   "pygments_lexer": "ipython3",
   "version": "3.9.13"
  }
 },
 "nbformat": 4,
 "nbformat_minor": 5
}
