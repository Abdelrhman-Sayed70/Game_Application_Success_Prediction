{
  "cells": [
    {
      "cell_type": "markdown",
      "id": "4619c63c",
      "metadata": {
        "id": "4619c63c"
      },
      "source": [
        "# Import Libraries"
      ]
    },
    {
      "cell_type": "code",
      "execution_count": 783,
      "id": "9075564a",
      "metadata": {
        "id": "9075564a"
      },
      "outputs": [],
      "source": [
        "import pandas as pd\n",
        "import numpy as np\n",
        "import matplotlib.pyplot as plt\n",
        "import seaborn as sns"
      ]
    },
    {
      "cell_type": "markdown",
      "id": "7c21accf",
      "metadata": {
        "id": "7c21accf"
      },
      "source": [
        "# \n",
        "# Read Data"
      ]
    },
    {
      "cell_type": "code",
      "execution_count": 784,
      "id": "8332daac",
      "metadata": {
        "id": "8332daac"
      },
      "outputs": [],
      "source": [
        "df = pd.read_excel('games-regression-dataset.xlsx')"
      ]
    },
    {
      "cell_type": "code",
      "execution_count": 785,
      "id": "e5078395",
      "metadata": {
        "colab": {
          "base_uri": "https://localhost:8080/",
          "height": 600
        },
        "id": "e5078395",
        "outputId": "daf6d828-7d27-4f2a-eacd-22ebeeeeb9ed"
      },
      "outputs": [
        {
          "output_type": "execute_result",
          "data": {
            "text/plain": [
              "                                                 URL          ID  \\\n",
              "0  https://apps.apple.com/us/app/heir-of-light/id...  1264483706   \n",
              "1  https://apps.apple.com/us/app/endgame-eurasia/...   607705356   \n",
              "2  https://apps.apple.com/us/app/free-solitaire/i...   627491527   \n",
              "3  https://apps.apple.com/us/app/draft-trainer/id...   430252596   \n",
              "4  https://apps.apple.com/us/app/rogue-knight-inf...  1115082819   \n",
              "\n",
              "                           Name                       Subtitle  \\\n",
              "0                 HEIR OF LIGHT               Dark Fantasy RPG   \n",
              "1               Endgame:Eurasia                            NaN   \n",
              "2               Free Solitaire+                            NaN   \n",
              "3                 Draft Trainer                            NaN   \n",
              "4  Rogue Knight: Infested Lands  Tactical roguelike w/ stealth   \n",
              "\n",
              "                                            Icon URL  User Rating Count  \\\n",
              "0  https://is3-ssl.mzstatic.com/image/thumb/Purpl...                982   \n",
              "1  https://is4-ssl.mzstatic.com/image/thumb/Purpl...                 19   \n",
              "2  https://is5-ssl.mzstatic.com/image/thumb/Purpl...                 14   \n",
              "3  https://is1-ssl.mzstatic.com/image/thumb/Purpl...                 88   \n",
              "4  https://is2-ssl.mzstatic.com/image/thumb/Purpl...                 13   \n",
              "\n",
              "   Price                                   In-app Purchases  \\\n",
              "0   0.00  29.99, 19.99, 9.99, 29.99, 29.99, 8.99, 4.99, ...   \n",
              "1   0.00                                                NaN   \n",
              "2   0.00                                                NaN   \n",
              "3   1.99                                                NaN   \n",
              "4   3.99                                                NaN   \n",
              "\n",
              "                                         Description           Developer  \\\n",
              "0  A Dark Fantasy, Collectible RPG\\n\\nDarkness ha...        GAMEVIL Inc.   \n",
              "1  \"This interactive experience is an exploration...  Auroch Digital Ltd   \n",
              "2  Same Solitaire game with classic Solitaire run...     Chen Zhong Yuan   \n",
              "3  ** Discounted for a limited time **\\n\\nEver wo...     GG Wizards, LLC   \n",
              "4  Fight or sneak your way through hordes of mons...       Luis Regueira   \n",
              "\n",
              "  Age Rating                               Languages       Size Primary Genre  \\\n",
              "0        12+  EN, FR, DE, JA, KO, ZH, ES, TH, ZH, VI  894489600         Games   \n",
              "1        12+                                      EN  116407296         Games   \n",
              "2         4+                                  EN, ZH   50647040         Games   \n",
              "3         9+                                      EN   28120064         Games   \n",
              "4        12+                                      EN   39915520         Games   \n",
              "\n",
              "                                 Genres Original Release Date  \\\n",
              "0         Games, Role Playing, Strategy   2018-06-03 00:00:00   \n",
              "1     Games, Simulation, Strategy, News            21/03/2013   \n",
              "2  Games, Strategy, Entertainment, Card   2013-04-04 00:00:00   \n",
              "3      Games, Utilities, Card, Strategy            26/05/2011   \n",
              "4         Games, Role Playing, Strategy            19/05/2017   \n",
              "\n",
              "  Current Version Release Date  Average User Rating  \n",
              "0                   31/07/2019                  4.0  \n",
              "1                   28/06/2017                  3.5  \n",
              "2                   21/04/2015                  4.5  \n",
              "3                   23/07/2019                  3.5  \n",
              "4          2019-06-02 00:00:00                  4.5  "
            ],
            "text/html": [
              "\n",
              "  <div id=\"df-3ca8b32c-7f1b-4fad-80eb-ca958f800c23\">\n",
              "    <div class=\"colab-df-container\">\n",
              "      <div>\n",
              "<style scoped>\n",
              "    .dataframe tbody tr th:only-of-type {\n",
              "        vertical-align: middle;\n",
              "    }\n",
              "\n",
              "    .dataframe tbody tr th {\n",
              "        vertical-align: top;\n",
              "    }\n",
              "\n",
              "    .dataframe thead th {\n",
              "        text-align: right;\n",
              "    }\n",
              "</style>\n",
              "<table border=\"1\" class=\"dataframe\">\n",
              "  <thead>\n",
              "    <tr style=\"text-align: right;\">\n",
              "      <th></th>\n",
              "      <th>URL</th>\n",
              "      <th>ID</th>\n",
              "      <th>Name</th>\n",
              "      <th>Subtitle</th>\n",
              "      <th>Icon URL</th>\n",
              "      <th>User Rating Count</th>\n",
              "      <th>Price</th>\n",
              "      <th>In-app Purchases</th>\n",
              "      <th>Description</th>\n",
              "      <th>Developer</th>\n",
              "      <th>Age Rating</th>\n",
              "      <th>Languages</th>\n",
              "      <th>Size</th>\n",
              "      <th>Primary Genre</th>\n",
              "      <th>Genres</th>\n",
              "      <th>Original Release Date</th>\n",
              "      <th>Current Version Release Date</th>\n",
              "      <th>Average User Rating</th>\n",
              "    </tr>\n",
              "  </thead>\n",
              "  <tbody>\n",
              "    <tr>\n",
              "      <th>0</th>\n",
              "      <td>https://apps.apple.com/us/app/heir-of-light/id...</td>\n",
              "      <td>1264483706</td>\n",
              "      <td>HEIR OF LIGHT</td>\n",
              "      <td>Dark Fantasy RPG</td>\n",
              "      <td>https://is3-ssl.mzstatic.com/image/thumb/Purpl...</td>\n",
              "      <td>982</td>\n",
              "      <td>0.00</td>\n",
              "      <td>29.99, 19.99, 9.99, 29.99, 29.99, 8.99, 4.99, ...</td>\n",
              "      <td>A Dark Fantasy, Collectible RPG\\n\\nDarkness ha...</td>\n",
              "      <td>GAMEVIL Inc.</td>\n",
              "      <td>12+</td>\n",
              "      <td>EN, FR, DE, JA, KO, ZH, ES, TH, ZH, VI</td>\n",
              "      <td>894489600</td>\n",
              "      <td>Games</td>\n",
              "      <td>Games, Role Playing, Strategy</td>\n",
              "      <td>2018-06-03 00:00:00</td>\n",
              "      <td>31/07/2019</td>\n",
              "      <td>4.0</td>\n",
              "    </tr>\n",
              "    <tr>\n",
              "      <th>1</th>\n",
              "      <td>https://apps.apple.com/us/app/endgame-eurasia/...</td>\n",
              "      <td>607705356</td>\n",
              "      <td>Endgame:Eurasia</td>\n",
              "      <td>NaN</td>\n",
              "      <td>https://is4-ssl.mzstatic.com/image/thumb/Purpl...</td>\n",
              "      <td>19</td>\n",
              "      <td>0.00</td>\n",
              "      <td>NaN</td>\n",
              "      <td>\"This interactive experience is an exploration...</td>\n",
              "      <td>Auroch Digital Ltd</td>\n",
              "      <td>12+</td>\n",
              "      <td>EN</td>\n",
              "      <td>116407296</td>\n",
              "      <td>Games</td>\n",
              "      <td>Games, Simulation, Strategy, News</td>\n",
              "      <td>21/03/2013</td>\n",
              "      <td>28/06/2017</td>\n",
              "      <td>3.5</td>\n",
              "    </tr>\n",
              "    <tr>\n",
              "      <th>2</th>\n",
              "      <td>https://apps.apple.com/us/app/free-solitaire/i...</td>\n",
              "      <td>627491527</td>\n",
              "      <td>Free Solitaire+</td>\n",
              "      <td>NaN</td>\n",
              "      <td>https://is5-ssl.mzstatic.com/image/thumb/Purpl...</td>\n",
              "      <td>14</td>\n",
              "      <td>0.00</td>\n",
              "      <td>NaN</td>\n",
              "      <td>Same Solitaire game with classic Solitaire run...</td>\n",
              "      <td>Chen Zhong Yuan</td>\n",
              "      <td>4+</td>\n",
              "      <td>EN, ZH</td>\n",
              "      <td>50647040</td>\n",
              "      <td>Games</td>\n",
              "      <td>Games, Strategy, Entertainment, Card</td>\n",
              "      <td>2013-04-04 00:00:00</td>\n",
              "      <td>21/04/2015</td>\n",
              "      <td>4.5</td>\n",
              "    </tr>\n",
              "    <tr>\n",
              "      <th>3</th>\n",
              "      <td>https://apps.apple.com/us/app/draft-trainer/id...</td>\n",
              "      <td>430252596</td>\n",
              "      <td>Draft Trainer</td>\n",
              "      <td>NaN</td>\n",
              "      <td>https://is1-ssl.mzstatic.com/image/thumb/Purpl...</td>\n",
              "      <td>88</td>\n",
              "      <td>1.99</td>\n",
              "      <td>NaN</td>\n",
              "      <td>** Discounted for a limited time **\\n\\nEver wo...</td>\n",
              "      <td>GG Wizards, LLC</td>\n",
              "      <td>9+</td>\n",
              "      <td>EN</td>\n",
              "      <td>28120064</td>\n",
              "      <td>Games</td>\n",
              "      <td>Games, Utilities, Card, Strategy</td>\n",
              "      <td>26/05/2011</td>\n",
              "      <td>23/07/2019</td>\n",
              "      <td>3.5</td>\n",
              "    </tr>\n",
              "    <tr>\n",
              "      <th>4</th>\n",
              "      <td>https://apps.apple.com/us/app/rogue-knight-inf...</td>\n",
              "      <td>1115082819</td>\n",
              "      <td>Rogue Knight: Infested Lands</td>\n",
              "      <td>Tactical roguelike w/ stealth</td>\n",
              "      <td>https://is2-ssl.mzstatic.com/image/thumb/Purpl...</td>\n",
              "      <td>13</td>\n",
              "      <td>3.99</td>\n",
              "      <td>NaN</td>\n",
              "      <td>Fight or sneak your way through hordes of mons...</td>\n",
              "      <td>Luis Regueira</td>\n",
              "      <td>12+</td>\n",
              "      <td>EN</td>\n",
              "      <td>39915520</td>\n",
              "      <td>Games</td>\n",
              "      <td>Games, Role Playing, Strategy</td>\n",
              "      <td>19/05/2017</td>\n",
              "      <td>2019-06-02 00:00:00</td>\n",
              "      <td>4.5</td>\n",
              "    </tr>\n",
              "  </tbody>\n",
              "</table>\n",
              "</div>\n",
              "      <button class=\"colab-df-convert\" onclick=\"convertToInteractive('df-3ca8b32c-7f1b-4fad-80eb-ca958f800c23')\"\n",
              "              title=\"Convert this dataframe to an interactive table.\"\n",
              "              style=\"display:none;\">\n",
              "        \n",
              "  <svg xmlns=\"http://www.w3.org/2000/svg\" height=\"24px\"viewBox=\"0 0 24 24\"\n",
              "       width=\"24px\">\n",
              "    <path d=\"M0 0h24v24H0V0z\" fill=\"none\"/>\n",
              "    <path d=\"M18.56 5.44l.94 2.06.94-2.06 2.06-.94-2.06-.94-.94-2.06-.94 2.06-2.06.94zm-11 1L8.5 8.5l.94-2.06 2.06-.94-2.06-.94L8.5 2.5l-.94 2.06-2.06.94zm10 10l.94 2.06.94-2.06 2.06-.94-2.06-.94-.94-2.06-.94 2.06-2.06.94z\"/><path d=\"M17.41 7.96l-1.37-1.37c-.4-.4-.92-.59-1.43-.59-.52 0-1.04.2-1.43.59L10.3 9.45l-7.72 7.72c-.78.78-.78 2.05 0 2.83L4 21.41c.39.39.9.59 1.41.59.51 0 1.02-.2 1.41-.59l7.78-7.78 2.81-2.81c.8-.78.8-2.07 0-2.86zM5.41 20L4 18.59l7.72-7.72 1.47 1.35L5.41 20z\"/>\n",
              "  </svg>\n",
              "      </button>\n",
              "      \n",
              "  <style>\n",
              "    .colab-df-container {\n",
              "      display:flex;\n",
              "      flex-wrap:wrap;\n",
              "      gap: 12px;\n",
              "    }\n",
              "\n",
              "    .colab-df-convert {\n",
              "      background-color: #E8F0FE;\n",
              "      border: none;\n",
              "      border-radius: 50%;\n",
              "      cursor: pointer;\n",
              "      display: none;\n",
              "      fill: #1967D2;\n",
              "      height: 32px;\n",
              "      padding: 0 0 0 0;\n",
              "      width: 32px;\n",
              "    }\n",
              "\n",
              "    .colab-df-convert:hover {\n",
              "      background-color: #E2EBFA;\n",
              "      box-shadow: 0px 1px 2px rgba(60, 64, 67, 0.3), 0px 1px 3px 1px rgba(60, 64, 67, 0.15);\n",
              "      fill: #174EA6;\n",
              "    }\n",
              "\n",
              "    [theme=dark] .colab-df-convert {\n",
              "      background-color: #3B4455;\n",
              "      fill: #D2E3FC;\n",
              "    }\n",
              "\n",
              "    [theme=dark] .colab-df-convert:hover {\n",
              "      background-color: #434B5C;\n",
              "      box-shadow: 0px 1px 3px 1px rgba(0, 0, 0, 0.15);\n",
              "      filter: drop-shadow(0px 1px 2px rgba(0, 0, 0, 0.3));\n",
              "      fill: #FFFFFF;\n",
              "    }\n",
              "  </style>\n",
              "\n",
              "      <script>\n",
              "        const buttonEl =\n",
              "          document.querySelector('#df-3ca8b32c-7f1b-4fad-80eb-ca958f800c23 button.colab-df-convert');\n",
              "        buttonEl.style.display =\n",
              "          google.colab.kernel.accessAllowed ? 'block' : 'none';\n",
              "\n",
              "        async function convertToInteractive(key) {\n",
              "          const element = document.querySelector('#df-3ca8b32c-7f1b-4fad-80eb-ca958f800c23');\n",
              "          const dataTable =\n",
              "            await google.colab.kernel.invokeFunction('convertToInteractive',\n",
              "                                                     [key], {});\n",
              "          if (!dataTable) return;\n",
              "\n",
              "          const docLinkHtml = 'Like what you see? Visit the ' +\n",
              "            '<a target=\"_blank\" href=https://colab.research.google.com/notebooks/data_table.ipynb>data table notebook</a>'\n",
              "            + ' to learn more about interactive tables.';\n",
              "          element.innerHTML = '';\n",
              "          dataTable['output_type'] = 'display_data';\n",
              "          await google.colab.output.renderOutput(dataTable, element);\n",
              "          const docLink = document.createElement('div');\n",
              "          docLink.innerHTML = docLinkHtml;\n",
              "          element.appendChild(docLink);\n",
              "        }\n",
              "      </script>\n",
              "    </div>\n",
              "  </div>\n",
              "  "
            ]
          },
          "metadata": {},
          "execution_count": 785
        }
      ],
      "source": [
        "df.head()"
      ]
    },
    {
      "cell_type": "code",
      "execution_count": 786,
      "id": "86f7d50c",
      "metadata": {
        "colab": {
          "base_uri": "https://localhost:8080/"
        },
        "id": "86f7d50c",
        "outputId": "70bc5fe1-7925-45c9-9b07-218b6975c0c7"
      },
      "outputs": [
        {
          "output_type": "execute_result",
          "data": {
            "text/plain": [
              "(5214, 18)"
            ]
          },
          "metadata": {},
          "execution_count": 786
        }
      ],
      "source": [
        "df.shape"
      ]
    },
    {
      "cell_type": "markdown",
      "id": "a2649036",
      "metadata": {
        "id": "a2649036"
      },
      "source": [
        "# \n",
        "# Preprocessing Pipeline\n",
        "- **`1. Analysis Columns Data Type`**\n",
        "- **`2. Columns Nulls`**\n",
        "- **`3. Rows Nulls`**\n",
        "- **`4. Duplicates`**\n",
        "- **`5. Outlires Detection & Removal`**"
      ]
    },
    {
      "cell_type": "markdown",
      "id": "21e961d4",
      "metadata": {
        "id": "21e961d4"
      },
      "source": [
        "## \n",
        "### `1. Analysis Columns Data Type`"
      ]
    },
    {
      "cell_type": "code",
      "execution_count": 787,
      "id": "9fef4bff",
      "metadata": {
        "colab": {
          "base_uri": "https://localhost:8080/"
        },
        "id": "9fef4bff",
        "outputId": "677d61dc-792b-48b8-c935-47e708d87223"
      },
      "outputs": [
        {
          "output_type": "execute_result",
          "data": {
            "text/plain": [
              "URL                              object\n",
              "ID                                int64\n",
              "Name                             object\n",
              "Subtitle                         object\n",
              "Icon URL                         object\n",
              "User Rating Count                 int64\n",
              "Price                           float64\n",
              "In-app Purchases                 object\n",
              "Description                      object\n",
              "Developer                        object\n",
              "Age Rating                       object\n",
              "Languages                        object\n",
              "Size                              int64\n",
              "Primary Genre                    object\n",
              "Genres                           object\n",
              "Original Release Date            object\n",
              "Current Version Release Date     object\n",
              "Average User Rating             float64\n",
              "dtype: object"
            ]
          },
          "metadata": {},
          "execution_count": 787
        }
      ],
      "source": [
        "df.dtypes"
      ]
    },
    {
      "cell_type": "markdown",
      "id": "2f52b732",
      "metadata": {
        "id": "2f52b732"
      },
      "source": [
        "> <br> \n",
        "> \n",
        "> **Age Rating**\n",
        "> - Remove + sign \n",
        "> - Convert to int\n",
        "> - Notice that the column has only 4 ages so we can categorize them"
      ]
    },
    {
      "cell_type": "code",
      "execution_count": 788,
      "id": "81884ab4",
      "metadata": {
        "id": "81884ab4"
      },
      "outputs": [],
      "source": [
        "df['Age Rating'] = df['Age Rating'].str.replace('+', '', regex=False)"
      ]
    },
    {
      "cell_type": "code",
      "execution_count": 789,
      "id": "36b07242",
      "metadata": {
        "colab": {
          "base_uri": "https://localhost:8080/"
        },
        "id": "36b07242",
        "outputId": "41d3c299-365c-4d4f-b2ea-e8ad80438be6"
      },
      "outputs": [
        {
          "output_type": "stream",
          "name": "stdout",
          "text": [
            "object\n"
          ]
        }
      ],
      "source": [
        "print(df['Age Rating'].dtype)"
      ]
    },
    {
      "cell_type": "code",
      "execution_count": 790,
      "id": "82c692c6",
      "metadata": {
        "id": "82c692c6"
      },
      "outputs": [],
      "source": [
        "df['Age Rating'] = df['Age Rating'].astype(int)"
      ]
    },
    {
      "cell_type": "code",
      "execution_count": 791,
      "id": "fdfbbacf",
      "metadata": {
        "colab": {
          "base_uri": "https://localhost:8080/"
        },
        "id": "fdfbbacf",
        "outputId": "02e1e9d6-1f1a-4aab-8c6e-fe8fd469da05"
      },
      "outputs": [
        {
          "output_type": "stream",
          "name": "stdout",
          "text": [
            "int64\n"
          ]
        }
      ],
      "source": [
        "print(df['Age Rating'].dtype)"
      ]
    },
    {
      "cell_type": "code",
      "execution_count": 792,
      "id": "a4fde049",
      "metadata": {
        "colab": {
          "base_uri": "https://localhost:8080/"
        },
        "id": "a4fde049",
        "outputId": "99ba213d-6401-45f7-e3e0-9268c51d56e1"
      },
      "outputs": [
        {
          "output_type": "execute_result",
          "data": {
            "text/plain": [
              "array([12,  4,  9, 17])"
            ]
          },
          "metadata": {},
          "execution_count": 792
        }
      ],
      "source": [
        "df['Age Rating'].unique()"
      ]
    },
    {
      "cell_type": "code",
      "execution_count": 793,
      "id": "e717fd9e",
      "metadata": {
        "id": "e717fd9e"
      },
      "outputs": [],
      "source": [
        "# Create a dictionary to map the age ratings to integers\n",
        "age_rating_map = {4: 1, 9: 2, 12: 3, 17: 4}"
      ]
    },
    {
      "cell_type": "code",
      "execution_count": 794,
      "id": "bd487259",
      "metadata": {
        "id": "bd487259"
      },
      "outputs": [],
      "source": [
        "# Replace the age rating column with its corresponding integer value\n",
        "df['Age Rating'] = df['Age Rating'].replace(age_rating_map)"
      ]
    },
    {
      "cell_type": "code",
      "execution_count": 795,
      "id": "a078f1b0",
      "metadata": {
        "colab": {
          "base_uri": "https://localhost:8080/"
        },
        "id": "a078f1b0",
        "outputId": "2cb1ea3e-1722-4096-d1f9-fc4b484c380d"
      },
      "outputs": [
        {
          "output_type": "execute_result",
          "data": {
            "text/plain": [
              "0    3\n",
              "1    3\n",
              "2    1\n",
              "3    2\n",
              "4    3\n",
              "Name: Age Rating, dtype: int64"
            ]
          },
          "metadata": {},
          "execution_count": 795
        }
      ],
      "source": [
        "df['Age Rating'].head()"
      ]
    },
    {
      "cell_type": "code",
      "execution_count": 796,
      "id": "f28db0ff",
      "metadata": {
        "colab": {
          "base_uri": "https://localhost:8080/"
        },
        "id": "f28db0ff",
        "outputId": "69408922-e209-49b9-e7c1-4e22c05c2d7f"
      },
      "outputs": [
        {
          "output_type": "execute_result",
          "data": {
            "text/plain": [
              "dtype('int64')"
            ]
          },
          "metadata": {},
          "execution_count": 796
        }
      ],
      "source": [
        "df['Age Rating'].dtype"
      ]
    },
    {
      "cell_type": "markdown",
      "id": "4f0b3f76",
      "metadata": {
        "id": "4f0b3f76"
      },
      "source": [
        "> <br>\n",
        "> \n",
        "> **Languages**"
      ]
    },
    {
      "cell_type": "code",
      "execution_count": 797,
      "id": "a871ee57",
      "metadata": {
        "colab": {
          "base_uri": "https://localhost:8080/"
        },
        "id": "a871ee57",
        "outputId": "5f6f4a69-f702-409d-fa3a-9794bf50739a"
      },
      "outputs": [
        {
          "output_type": "execute_result",
          "data": {
            "text/plain": [
              "0    EN, FR, DE, JA, KO, ZH, ES, TH, ZH, VI\n",
              "1                                        EN\n",
              "2                                    EN, ZH\n",
              "3                                        EN\n",
              "4                                        EN\n",
              "Name: Languages, dtype: object"
            ]
          },
          "metadata": {},
          "execution_count": 797
        }
      ],
      "source": [
        "df['Languages'].head()"
      ]
    },
    {
      "cell_type": "code",
      "execution_count": 798,
      "id": "a5a446ce",
      "metadata": {
        "colab": {
          "base_uri": "https://localhost:8080/"
        },
        "id": "a5a446ce",
        "outputId": "7a013a61-e434-407f-8444-71ceb00617c1"
      },
      "outputs": [
        {
          "output_type": "stream",
          "name": "stdout",
          "text": [
            "object\n"
          ]
        }
      ],
      "source": [
        "print(df['Languages'].dtype)"
      ]
    },
    {
      "cell_type": "code",
      "execution_count": 799,
      "id": "bcc459b0",
      "metadata": {
        "id": "bcc459b0"
      },
      "outputs": [],
      "source": [
        "all_languages = list(set(','.join(df['Languages'].fillna('').unique()).split(',')))"
      ]
    },
    {
      "cell_type": "code",
      "execution_count": 800,
      "id": "4741fb45",
      "metadata": {
        "colab": {
          "base_uri": "https://localhost:8080/"
        },
        "id": "4741fb45",
        "outputId": "bd2f1188-d798-4866-eb84-d60ebc32b2d9"
      },
      "outputs": [
        {
          "output_type": "execute_result",
          "data": {
            "text/plain": [
              "130"
            ]
          },
          "metadata": {},
          "execution_count": 800
        }
      ],
      "source": [
        "len(all_languages)"
      ]
    },
    {
      "cell_type": "markdown",
      "id": "c94d419d",
      "metadata": {
        "id": "c94d419d"
      },
      "source": [
        "> <br>\n",
        "> \n",
        "> **Genre**"
      ]
    },
    {
      "cell_type": "code",
      "execution_count": 801,
      "id": "049673d2",
      "metadata": {
        "colab": {
          "base_uri": "https://localhost:8080/"
        },
        "id": "049673d2",
        "outputId": "cc58d84e-bc62-4af6-a675-72b578edd2a1"
      },
      "outputs": [
        {
          "output_type": "execute_result",
          "data": {
            "text/plain": [
              "507"
            ]
          },
          "metadata": {},
          "execution_count": 801
        }
      ],
      "source": [
        "df['Genres'].nunique()"
      ]
    },
    {
      "cell_type": "markdown",
      "id": "59ed3894",
      "metadata": {
        "id": "59ed3894"
      },
      "source": [
        "> ## \n",
        "> **Dates**\n",
        "> - Convert to date time data type"
      ]
    },
    {
      "cell_type": "code",
      "execution_count": 802,
      "id": "e0d78383",
      "metadata": {
        "colab": {
          "base_uri": "https://localhost:8080/"
        },
        "id": "e0d78383",
        "outputId": "859fe68e-214c-4376-a101-c6d12b77ba3e"
      },
      "outputs": [
        {
          "output_type": "stream",
          "name": "stdout",
          "text": [
            "datetime64[ns]\n"
          ]
        },
        {
          "output_type": "stream",
          "name": "stderr",
          "text": [
            "<ipython-input-802-a485047d5374>:1: UserWarning: Parsing dates in DD/MM/YYYY format when dayfirst=False (the default) was specified. This may lead to inconsistently parsed dates! Specify a format to ensure consistent parsing.\n",
            "  df['Original Release Date'] = pd.to_datetime(df['Original Release Date'])\n"
          ]
        }
      ],
      "source": [
        "df['Original Release Date'] = pd.to_datetime(df['Original Release Date'])\n",
        "print(df['Original Release Date'].dtype)"
      ]
    },
    {
      "cell_type": "code",
      "execution_count": 803,
      "id": "6fe17b50",
      "metadata": {
        "colab": {
          "base_uri": "https://localhost:8080/"
        },
        "id": "6fe17b50",
        "outputId": "08935df7-50dd-4ae6-e87a-298cd3b9f80a"
      },
      "outputs": [
        {
          "output_type": "stream",
          "name": "stdout",
          "text": [
            "datetime64[ns]\n"
          ]
        },
        {
          "output_type": "stream",
          "name": "stderr",
          "text": [
            "<ipython-input-803-4ddc8edb4d6a>:1: UserWarning: Parsing dates in DD/MM/YYYY format when dayfirst=False (the default) was specified. This may lead to inconsistently parsed dates! Specify a format to ensure consistent parsing.\n",
            "  df['Current Version Release Date'] = pd.to_datetime(df['Current Version Release Date'])\n"
          ]
        }
      ],
      "source": [
        "df['Current Version Release Date'] = pd.to_datetime(df['Current Version Release Date'])\n",
        "print(df['Current Version Release Date'].dtype)"
      ]
    },
    {
      "cell_type": "code",
      "execution_count": 804,
      "id": "f82e30f1",
      "metadata": {
        "colab": {
          "base_uri": "https://localhost:8080/"
        },
        "id": "f82e30f1",
        "outputId": "a3bd2468-fe08-40c1-d119-337f3115478d"
      },
      "outputs": [
        {
          "output_type": "execute_result",
          "data": {
            "text/plain": [
              "0   2018-06-03\n",
              "1   2013-03-21\n",
              "2   2013-04-04\n",
              "3   2011-05-26\n",
              "4   2017-05-19\n",
              "Name: Original Release Date, dtype: datetime64[ns]"
            ]
          },
          "metadata": {},
          "execution_count": 804
        }
      ],
      "source": [
        "df['Original Release Date'].head()"
      ]
    },
    {
      "cell_type": "markdown",
      "id": "12304ad1",
      "metadata": {
        "id": "12304ad1"
      },
      "source": [
        "## \n",
        "### `2. Columns Nulls`"
      ]
    },
    {
      "cell_type": "code",
      "execution_count": 805,
      "id": "acd75d56",
      "metadata": {
        "colab": {
          "base_uri": "https://localhost:8080/",
          "height": 613
        },
        "id": "acd75d56",
        "outputId": "30fa619c-95a4-4ffb-8f68-b4c5acfa79d9"
      },
      "outputs": [
        {
          "output_type": "execute_result",
          "data": {
            "text/plain": [
              "                              total_missing  perc_missing\n",
              "URL                                       0      0.000000\n",
              "ID                                        0      0.000000\n",
              "Name                                      0      0.000000\n",
              "Subtitle                               3749     71.902570\n",
              "Icon URL                                  0      0.000000\n",
              "User Rating Count                         0      0.000000\n",
              "Price                                     0      0.000000\n",
              "In-app Purchases                       2039     39.106252\n",
              "Description                               5      0.095896\n",
              "Developer                                 0      0.000000\n",
              "Age Rating                                0      0.000000\n",
              "Languages                                11      0.210970\n",
              "Size                                      0      0.000000\n",
              "Primary Genre                             0      0.000000\n",
              "Genres                                    0      0.000000\n",
              "Original Release Date                     0      0.000000\n",
              "Current Version Release Date              0      0.000000\n",
              "Average User Rating                       0      0.000000"
            ],
            "text/html": [
              "\n",
              "  <div id=\"df-9ce8be3a-323a-4fd7-be86-8e07f88ecb31\">\n",
              "    <div class=\"colab-df-container\">\n",
              "      <div>\n",
              "<style scoped>\n",
              "    .dataframe tbody tr th:only-of-type {\n",
              "        vertical-align: middle;\n",
              "    }\n",
              "\n",
              "    .dataframe tbody tr th {\n",
              "        vertical-align: top;\n",
              "    }\n",
              "\n",
              "    .dataframe thead th {\n",
              "        text-align: right;\n",
              "    }\n",
              "</style>\n",
              "<table border=\"1\" class=\"dataframe\">\n",
              "  <thead>\n",
              "    <tr style=\"text-align: right;\">\n",
              "      <th></th>\n",
              "      <th>total_missing</th>\n",
              "      <th>perc_missing</th>\n",
              "    </tr>\n",
              "  </thead>\n",
              "  <tbody>\n",
              "    <tr>\n",
              "      <th>URL</th>\n",
              "      <td>0</td>\n",
              "      <td>0.000000</td>\n",
              "    </tr>\n",
              "    <tr>\n",
              "      <th>ID</th>\n",
              "      <td>0</td>\n",
              "      <td>0.000000</td>\n",
              "    </tr>\n",
              "    <tr>\n",
              "      <th>Name</th>\n",
              "      <td>0</td>\n",
              "      <td>0.000000</td>\n",
              "    </tr>\n",
              "    <tr>\n",
              "      <th>Subtitle</th>\n",
              "      <td>3749</td>\n",
              "      <td>71.902570</td>\n",
              "    </tr>\n",
              "    <tr>\n",
              "      <th>Icon URL</th>\n",
              "      <td>0</td>\n",
              "      <td>0.000000</td>\n",
              "    </tr>\n",
              "    <tr>\n",
              "      <th>User Rating Count</th>\n",
              "      <td>0</td>\n",
              "      <td>0.000000</td>\n",
              "    </tr>\n",
              "    <tr>\n",
              "      <th>Price</th>\n",
              "      <td>0</td>\n",
              "      <td>0.000000</td>\n",
              "    </tr>\n",
              "    <tr>\n",
              "      <th>In-app Purchases</th>\n",
              "      <td>2039</td>\n",
              "      <td>39.106252</td>\n",
              "    </tr>\n",
              "    <tr>\n",
              "      <th>Description</th>\n",
              "      <td>5</td>\n",
              "      <td>0.095896</td>\n",
              "    </tr>\n",
              "    <tr>\n",
              "      <th>Developer</th>\n",
              "      <td>0</td>\n",
              "      <td>0.000000</td>\n",
              "    </tr>\n",
              "    <tr>\n",
              "      <th>Age Rating</th>\n",
              "      <td>0</td>\n",
              "      <td>0.000000</td>\n",
              "    </tr>\n",
              "    <tr>\n",
              "      <th>Languages</th>\n",
              "      <td>11</td>\n",
              "      <td>0.210970</td>\n",
              "    </tr>\n",
              "    <tr>\n",
              "      <th>Size</th>\n",
              "      <td>0</td>\n",
              "      <td>0.000000</td>\n",
              "    </tr>\n",
              "    <tr>\n",
              "      <th>Primary Genre</th>\n",
              "      <td>0</td>\n",
              "      <td>0.000000</td>\n",
              "    </tr>\n",
              "    <tr>\n",
              "      <th>Genres</th>\n",
              "      <td>0</td>\n",
              "      <td>0.000000</td>\n",
              "    </tr>\n",
              "    <tr>\n",
              "      <th>Original Release Date</th>\n",
              "      <td>0</td>\n",
              "      <td>0.000000</td>\n",
              "    </tr>\n",
              "    <tr>\n",
              "      <th>Current Version Release Date</th>\n",
              "      <td>0</td>\n",
              "      <td>0.000000</td>\n",
              "    </tr>\n",
              "    <tr>\n",
              "      <th>Average User Rating</th>\n",
              "      <td>0</td>\n",
              "      <td>0.000000</td>\n",
              "    </tr>\n",
              "  </tbody>\n",
              "</table>\n",
              "</div>\n",
              "      <button class=\"colab-df-convert\" onclick=\"convertToInteractive('df-9ce8be3a-323a-4fd7-be86-8e07f88ecb31')\"\n",
              "              title=\"Convert this dataframe to an interactive table.\"\n",
              "              style=\"display:none;\">\n",
              "        \n",
              "  <svg xmlns=\"http://www.w3.org/2000/svg\" height=\"24px\"viewBox=\"0 0 24 24\"\n",
              "       width=\"24px\">\n",
              "    <path d=\"M0 0h24v24H0V0z\" fill=\"none\"/>\n",
              "    <path d=\"M18.56 5.44l.94 2.06.94-2.06 2.06-.94-2.06-.94-.94-2.06-.94 2.06-2.06.94zm-11 1L8.5 8.5l.94-2.06 2.06-.94-2.06-.94L8.5 2.5l-.94 2.06-2.06.94zm10 10l.94 2.06.94-2.06 2.06-.94-2.06-.94-.94-2.06-.94 2.06-2.06.94z\"/><path d=\"M17.41 7.96l-1.37-1.37c-.4-.4-.92-.59-1.43-.59-.52 0-1.04.2-1.43.59L10.3 9.45l-7.72 7.72c-.78.78-.78 2.05 0 2.83L4 21.41c.39.39.9.59 1.41.59.51 0 1.02-.2 1.41-.59l7.78-7.78 2.81-2.81c.8-.78.8-2.07 0-2.86zM5.41 20L4 18.59l7.72-7.72 1.47 1.35L5.41 20z\"/>\n",
              "  </svg>\n",
              "      </button>\n",
              "      \n",
              "  <style>\n",
              "    .colab-df-container {\n",
              "      display:flex;\n",
              "      flex-wrap:wrap;\n",
              "      gap: 12px;\n",
              "    }\n",
              "\n",
              "    .colab-df-convert {\n",
              "      background-color: #E8F0FE;\n",
              "      border: none;\n",
              "      border-radius: 50%;\n",
              "      cursor: pointer;\n",
              "      display: none;\n",
              "      fill: #1967D2;\n",
              "      height: 32px;\n",
              "      padding: 0 0 0 0;\n",
              "      width: 32px;\n",
              "    }\n",
              "\n",
              "    .colab-df-convert:hover {\n",
              "      background-color: #E2EBFA;\n",
              "      box-shadow: 0px 1px 2px rgba(60, 64, 67, 0.3), 0px 1px 3px 1px rgba(60, 64, 67, 0.15);\n",
              "      fill: #174EA6;\n",
              "    }\n",
              "\n",
              "    [theme=dark] .colab-df-convert {\n",
              "      background-color: #3B4455;\n",
              "      fill: #D2E3FC;\n",
              "    }\n",
              "\n",
              "    [theme=dark] .colab-df-convert:hover {\n",
              "      background-color: #434B5C;\n",
              "      box-shadow: 0px 1px 3px 1px rgba(0, 0, 0, 0.15);\n",
              "      filter: drop-shadow(0px 1px 2px rgba(0, 0, 0, 0.3));\n",
              "      fill: #FFFFFF;\n",
              "    }\n",
              "  </style>\n",
              "\n",
              "      <script>\n",
              "        const buttonEl =\n",
              "          document.querySelector('#df-9ce8be3a-323a-4fd7-be86-8e07f88ecb31 button.colab-df-convert');\n",
              "        buttonEl.style.display =\n",
              "          google.colab.kernel.accessAllowed ? 'block' : 'none';\n",
              "\n",
              "        async function convertToInteractive(key) {\n",
              "          const element = document.querySelector('#df-9ce8be3a-323a-4fd7-be86-8e07f88ecb31');\n",
              "          const dataTable =\n",
              "            await google.colab.kernel.invokeFunction('convertToInteractive',\n",
              "                                                     [key], {});\n",
              "          if (!dataTable) return;\n",
              "\n",
              "          const docLinkHtml = 'Like what you see? Visit the ' +\n",
              "            '<a target=\"_blank\" href=https://colab.research.google.com/notebooks/data_table.ipynb>data table notebook</a>'\n",
              "            + ' to learn more about interactive tables.';\n",
              "          element.innerHTML = '';\n",
              "          dataTable['output_type'] = 'display_data';\n",
              "          await google.colab.output.renderOutput(dataTable, element);\n",
              "          const docLink = document.createElement('div');\n",
              "          docLink.innerHTML = docLinkHtml;\n",
              "          element.appendChild(docLink);\n",
              "        }\n",
              "      </script>\n",
              "    </div>\n",
              "  </div>\n",
              "  "
            ]
          },
          "metadata": {},
          "execution_count": 805
        }
      ],
      "source": [
        "# print count of nulls for each column and percentage of them\n",
        "missing_data = pd.DataFrame({'total_missing': df.isnull().sum(), 'perc_missing': (df.isnull().mean())*100})\n",
        "missing_data"
      ]
    },
    {
      "cell_type": "code",
      "execution_count": 806,
      "id": "a522fff3",
      "metadata": {
        "id": "a522fff3"
      },
      "outputs": [],
      "source": [
        "df.drop(columns=['Subtitle'], inplace=True)"
      ]
    },
    {
      "cell_type": "code",
      "execution_count": 807,
      "id": "6d81625b",
      "metadata": {
        "colab": {
          "base_uri": "https://localhost:8080/",
          "height": 582
        },
        "id": "6d81625b",
        "outputId": "55a67373-73f9-44ca-fe52-42f67febedbd"
      },
      "outputs": [
        {
          "output_type": "execute_result",
          "data": {
            "text/plain": [
              "                              total_missing  perc_missing\n",
              "URL                                       0      0.000000\n",
              "ID                                        0      0.000000\n",
              "Name                                      0      0.000000\n",
              "Icon URL                                  0      0.000000\n",
              "User Rating Count                         0      0.000000\n",
              "Price                                     0      0.000000\n",
              "In-app Purchases                       2039     39.106252\n",
              "Description                               5      0.095896\n",
              "Developer                                 0      0.000000\n",
              "Age Rating                                0      0.000000\n",
              "Languages                                11      0.210970\n",
              "Size                                      0      0.000000\n",
              "Primary Genre                             0      0.000000\n",
              "Genres                                    0      0.000000\n",
              "Original Release Date                     0      0.000000\n",
              "Current Version Release Date              0      0.000000\n",
              "Average User Rating                       0      0.000000"
            ],
            "text/html": [
              "\n",
              "  <div id=\"df-eb15900a-3516-4b63-87b9-cf99feea7ef8\">\n",
              "    <div class=\"colab-df-container\">\n",
              "      <div>\n",
              "<style scoped>\n",
              "    .dataframe tbody tr th:only-of-type {\n",
              "        vertical-align: middle;\n",
              "    }\n",
              "\n",
              "    .dataframe tbody tr th {\n",
              "        vertical-align: top;\n",
              "    }\n",
              "\n",
              "    .dataframe thead th {\n",
              "        text-align: right;\n",
              "    }\n",
              "</style>\n",
              "<table border=\"1\" class=\"dataframe\">\n",
              "  <thead>\n",
              "    <tr style=\"text-align: right;\">\n",
              "      <th></th>\n",
              "      <th>total_missing</th>\n",
              "      <th>perc_missing</th>\n",
              "    </tr>\n",
              "  </thead>\n",
              "  <tbody>\n",
              "    <tr>\n",
              "      <th>URL</th>\n",
              "      <td>0</td>\n",
              "      <td>0.000000</td>\n",
              "    </tr>\n",
              "    <tr>\n",
              "      <th>ID</th>\n",
              "      <td>0</td>\n",
              "      <td>0.000000</td>\n",
              "    </tr>\n",
              "    <tr>\n",
              "      <th>Name</th>\n",
              "      <td>0</td>\n",
              "      <td>0.000000</td>\n",
              "    </tr>\n",
              "    <tr>\n",
              "      <th>Icon URL</th>\n",
              "      <td>0</td>\n",
              "      <td>0.000000</td>\n",
              "    </tr>\n",
              "    <tr>\n",
              "      <th>User Rating Count</th>\n",
              "      <td>0</td>\n",
              "      <td>0.000000</td>\n",
              "    </tr>\n",
              "    <tr>\n",
              "      <th>Price</th>\n",
              "      <td>0</td>\n",
              "      <td>0.000000</td>\n",
              "    </tr>\n",
              "    <tr>\n",
              "      <th>In-app Purchases</th>\n",
              "      <td>2039</td>\n",
              "      <td>39.106252</td>\n",
              "    </tr>\n",
              "    <tr>\n",
              "      <th>Description</th>\n",
              "      <td>5</td>\n",
              "      <td>0.095896</td>\n",
              "    </tr>\n",
              "    <tr>\n",
              "      <th>Developer</th>\n",
              "      <td>0</td>\n",
              "      <td>0.000000</td>\n",
              "    </tr>\n",
              "    <tr>\n",
              "      <th>Age Rating</th>\n",
              "      <td>0</td>\n",
              "      <td>0.000000</td>\n",
              "    </tr>\n",
              "    <tr>\n",
              "      <th>Languages</th>\n",
              "      <td>11</td>\n",
              "      <td>0.210970</td>\n",
              "    </tr>\n",
              "    <tr>\n",
              "      <th>Size</th>\n",
              "      <td>0</td>\n",
              "      <td>0.000000</td>\n",
              "    </tr>\n",
              "    <tr>\n",
              "      <th>Primary Genre</th>\n",
              "      <td>0</td>\n",
              "      <td>0.000000</td>\n",
              "    </tr>\n",
              "    <tr>\n",
              "      <th>Genres</th>\n",
              "      <td>0</td>\n",
              "      <td>0.000000</td>\n",
              "    </tr>\n",
              "    <tr>\n",
              "      <th>Original Release Date</th>\n",
              "      <td>0</td>\n",
              "      <td>0.000000</td>\n",
              "    </tr>\n",
              "    <tr>\n",
              "      <th>Current Version Release Date</th>\n",
              "      <td>0</td>\n",
              "      <td>0.000000</td>\n",
              "    </tr>\n",
              "    <tr>\n",
              "      <th>Average User Rating</th>\n",
              "      <td>0</td>\n",
              "      <td>0.000000</td>\n",
              "    </tr>\n",
              "  </tbody>\n",
              "</table>\n",
              "</div>\n",
              "      <button class=\"colab-df-convert\" onclick=\"convertToInteractive('df-eb15900a-3516-4b63-87b9-cf99feea7ef8')\"\n",
              "              title=\"Convert this dataframe to an interactive table.\"\n",
              "              style=\"display:none;\">\n",
              "        \n",
              "  <svg xmlns=\"http://www.w3.org/2000/svg\" height=\"24px\"viewBox=\"0 0 24 24\"\n",
              "       width=\"24px\">\n",
              "    <path d=\"M0 0h24v24H0V0z\" fill=\"none\"/>\n",
              "    <path d=\"M18.56 5.44l.94 2.06.94-2.06 2.06-.94-2.06-.94-.94-2.06-.94 2.06-2.06.94zm-11 1L8.5 8.5l.94-2.06 2.06-.94-2.06-.94L8.5 2.5l-.94 2.06-2.06.94zm10 10l.94 2.06.94-2.06 2.06-.94-2.06-.94-.94-2.06-.94 2.06-2.06.94z\"/><path d=\"M17.41 7.96l-1.37-1.37c-.4-.4-.92-.59-1.43-.59-.52 0-1.04.2-1.43.59L10.3 9.45l-7.72 7.72c-.78.78-.78 2.05 0 2.83L4 21.41c.39.39.9.59 1.41.59.51 0 1.02-.2 1.41-.59l7.78-7.78 2.81-2.81c.8-.78.8-2.07 0-2.86zM5.41 20L4 18.59l7.72-7.72 1.47 1.35L5.41 20z\"/>\n",
              "  </svg>\n",
              "      </button>\n",
              "      \n",
              "  <style>\n",
              "    .colab-df-container {\n",
              "      display:flex;\n",
              "      flex-wrap:wrap;\n",
              "      gap: 12px;\n",
              "    }\n",
              "\n",
              "    .colab-df-convert {\n",
              "      background-color: #E8F0FE;\n",
              "      border: none;\n",
              "      border-radius: 50%;\n",
              "      cursor: pointer;\n",
              "      display: none;\n",
              "      fill: #1967D2;\n",
              "      height: 32px;\n",
              "      padding: 0 0 0 0;\n",
              "      width: 32px;\n",
              "    }\n",
              "\n",
              "    .colab-df-convert:hover {\n",
              "      background-color: #E2EBFA;\n",
              "      box-shadow: 0px 1px 2px rgba(60, 64, 67, 0.3), 0px 1px 3px 1px rgba(60, 64, 67, 0.15);\n",
              "      fill: #174EA6;\n",
              "    }\n",
              "\n",
              "    [theme=dark] .colab-df-convert {\n",
              "      background-color: #3B4455;\n",
              "      fill: #D2E3FC;\n",
              "    }\n",
              "\n",
              "    [theme=dark] .colab-df-convert:hover {\n",
              "      background-color: #434B5C;\n",
              "      box-shadow: 0px 1px 3px 1px rgba(0, 0, 0, 0.15);\n",
              "      filter: drop-shadow(0px 1px 2px rgba(0, 0, 0, 0.3));\n",
              "      fill: #FFFFFF;\n",
              "    }\n",
              "  </style>\n",
              "\n",
              "      <script>\n",
              "        const buttonEl =\n",
              "          document.querySelector('#df-eb15900a-3516-4b63-87b9-cf99feea7ef8 button.colab-df-convert');\n",
              "        buttonEl.style.display =\n",
              "          google.colab.kernel.accessAllowed ? 'block' : 'none';\n",
              "\n",
              "        async function convertToInteractive(key) {\n",
              "          const element = document.querySelector('#df-eb15900a-3516-4b63-87b9-cf99feea7ef8');\n",
              "          const dataTable =\n",
              "            await google.colab.kernel.invokeFunction('convertToInteractive',\n",
              "                                                     [key], {});\n",
              "          if (!dataTable) return;\n",
              "\n",
              "          const docLinkHtml = 'Like what you see? Visit the ' +\n",
              "            '<a target=\"_blank\" href=https://colab.research.google.com/notebooks/data_table.ipynb>data table notebook</a>'\n",
              "            + ' to learn more about interactive tables.';\n",
              "          element.innerHTML = '';\n",
              "          dataTable['output_type'] = 'display_data';\n",
              "          await google.colab.output.renderOutput(dataTable, element);\n",
              "          const docLink = document.createElement('div');\n",
              "          docLink.innerHTML = docLinkHtml;\n",
              "          element.appendChild(docLink);\n",
              "        }\n",
              "      </script>\n",
              "    </div>\n",
              "  </div>\n",
              "  "
            ]
          },
          "metadata": {},
          "execution_count": 807
        }
      ],
      "source": [
        "# print count of nulls for each column and percentage of them\n",
        "missing_data = pd.DataFrame({'total_missing': df.isnull().sum(), 'perc_missing': (df.isnull().mean())*100})\n",
        "missing_data"
      ]
    },
    {
      "cell_type": "markdown",
      "id": "128d4610",
      "metadata": {
        "id": "128d4610"
      },
      "source": [
        "\n",
        "> <br> \n",
        "> \n",
        "> **In-app Purchases**\n",
        "> - We can assum that any cell with null value, does not has any purshases. So replace all nulls with 0"
      ]
    },
    {
      "cell_type": "code",
      "execution_count": 808,
      "id": "ef1eb79c",
      "metadata": {
        "id": "ef1eb79c"
      },
      "outputs": [],
      "source": [
        "df['In-app Purchases'] = df['In-app Purchases'].fillna(0)"
      ]
    },
    {
      "cell_type": "code",
      "execution_count": 809,
      "id": "f04121c3",
      "metadata": {
        "colab": {
          "base_uri": "https://localhost:8080/",
          "height": 582
        },
        "id": "f04121c3",
        "outputId": "5e623c5b-7aa5-4c64-c669-4b1c7c8c9b4d"
      },
      "outputs": [
        {
          "output_type": "execute_result",
          "data": {
            "text/plain": [
              "                              total_missing  perc_missing\n",
              "URL                                       0      0.000000\n",
              "ID                                        0      0.000000\n",
              "Name                                      0      0.000000\n",
              "Icon URL                                  0      0.000000\n",
              "User Rating Count                         0      0.000000\n",
              "Price                                     0      0.000000\n",
              "In-app Purchases                          0      0.000000\n",
              "Description                               5      0.095896\n",
              "Developer                                 0      0.000000\n",
              "Age Rating                                0      0.000000\n",
              "Languages                                11      0.210970\n",
              "Size                                      0      0.000000\n",
              "Primary Genre                             0      0.000000\n",
              "Genres                                    0      0.000000\n",
              "Original Release Date                     0      0.000000\n",
              "Current Version Release Date              0      0.000000\n",
              "Average User Rating                       0      0.000000"
            ],
            "text/html": [
              "\n",
              "  <div id=\"df-c4a7e73b-266c-411c-b6e8-03376eaa87b2\">\n",
              "    <div class=\"colab-df-container\">\n",
              "      <div>\n",
              "<style scoped>\n",
              "    .dataframe tbody tr th:only-of-type {\n",
              "        vertical-align: middle;\n",
              "    }\n",
              "\n",
              "    .dataframe tbody tr th {\n",
              "        vertical-align: top;\n",
              "    }\n",
              "\n",
              "    .dataframe thead th {\n",
              "        text-align: right;\n",
              "    }\n",
              "</style>\n",
              "<table border=\"1\" class=\"dataframe\">\n",
              "  <thead>\n",
              "    <tr style=\"text-align: right;\">\n",
              "      <th></th>\n",
              "      <th>total_missing</th>\n",
              "      <th>perc_missing</th>\n",
              "    </tr>\n",
              "  </thead>\n",
              "  <tbody>\n",
              "    <tr>\n",
              "      <th>URL</th>\n",
              "      <td>0</td>\n",
              "      <td>0.000000</td>\n",
              "    </tr>\n",
              "    <tr>\n",
              "      <th>ID</th>\n",
              "      <td>0</td>\n",
              "      <td>0.000000</td>\n",
              "    </tr>\n",
              "    <tr>\n",
              "      <th>Name</th>\n",
              "      <td>0</td>\n",
              "      <td>0.000000</td>\n",
              "    </tr>\n",
              "    <tr>\n",
              "      <th>Icon URL</th>\n",
              "      <td>0</td>\n",
              "      <td>0.000000</td>\n",
              "    </tr>\n",
              "    <tr>\n",
              "      <th>User Rating Count</th>\n",
              "      <td>0</td>\n",
              "      <td>0.000000</td>\n",
              "    </tr>\n",
              "    <tr>\n",
              "      <th>Price</th>\n",
              "      <td>0</td>\n",
              "      <td>0.000000</td>\n",
              "    </tr>\n",
              "    <tr>\n",
              "      <th>In-app Purchases</th>\n",
              "      <td>0</td>\n",
              "      <td>0.000000</td>\n",
              "    </tr>\n",
              "    <tr>\n",
              "      <th>Description</th>\n",
              "      <td>5</td>\n",
              "      <td>0.095896</td>\n",
              "    </tr>\n",
              "    <tr>\n",
              "      <th>Developer</th>\n",
              "      <td>0</td>\n",
              "      <td>0.000000</td>\n",
              "    </tr>\n",
              "    <tr>\n",
              "      <th>Age Rating</th>\n",
              "      <td>0</td>\n",
              "      <td>0.000000</td>\n",
              "    </tr>\n",
              "    <tr>\n",
              "      <th>Languages</th>\n",
              "      <td>11</td>\n",
              "      <td>0.210970</td>\n",
              "    </tr>\n",
              "    <tr>\n",
              "      <th>Size</th>\n",
              "      <td>0</td>\n",
              "      <td>0.000000</td>\n",
              "    </tr>\n",
              "    <tr>\n",
              "      <th>Primary Genre</th>\n",
              "      <td>0</td>\n",
              "      <td>0.000000</td>\n",
              "    </tr>\n",
              "    <tr>\n",
              "      <th>Genres</th>\n",
              "      <td>0</td>\n",
              "      <td>0.000000</td>\n",
              "    </tr>\n",
              "    <tr>\n",
              "      <th>Original Release Date</th>\n",
              "      <td>0</td>\n",
              "      <td>0.000000</td>\n",
              "    </tr>\n",
              "    <tr>\n",
              "      <th>Current Version Release Date</th>\n",
              "      <td>0</td>\n",
              "      <td>0.000000</td>\n",
              "    </tr>\n",
              "    <tr>\n",
              "      <th>Average User Rating</th>\n",
              "      <td>0</td>\n",
              "      <td>0.000000</td>\n",
              "    </tr>\n",
              "  </tbody>\n",
              "</table>\n",
              "</div>\n",
              "      <button class=\"colab-df-convert\" onclick=\"convertToInteractive('df-c4a7e73b-266c-411c-b6e8-03376eaa87b2')\"\n",
              "              title=\"Convert this dataframe to an interactive table.\"\n",
              "              style=\"display:none;\">\n",
              "        \n",
              "  <svg xmlns=\"http://www.w3.org/2000/svg\" height=\"24px\"viewBox=\"0 0 24 24\"\n",
              "       width=\"24px\">\n",
              "    <path d=\"M0 0h24v24H0V0z\" fill=\"none\"/>\n",
              "    <path d=\"M18.56 5.44l.94 2.06.94-2.06 2.06-.94-2.06-.94-.94-2.06-.94 2.06-2.06.94zm-11 1L8.5 8.5l.94-2.06 2.06-.94-2.06-.94L8.5 2.5l-.94 2.06-2.06.94zm10 10l.94 2.06.94-2.06 2.06-.94-2.06-.94-.94-2.06-.94 2.06-2.06.94z\"/><path d=\"M17.41 7.96l-1.37-1.37c-.4-.4-.92-.59-1.43-.59-.52 0-1.04.2-1.43.59L10.3 9.45l-7.72 7.72c-.78.78-.78 2.05 0 2.83L4 21.41c.39.39.9.59 1.41.59.51 0 1.02-.2 1.41-.59l7.78-7.78 2.81-2.81c.8-.78.8-2.07 0-2.86zM5.41 20L4 18.59l7.72-7.72 1.47 1.35L5.41 20z\"/>\n",
              "  </svg>\n",
              "      </button>\n",
              "      \n",
              "  <style>\n",
              "    .colab-df-container {\n",
              "      display:flex;\n",
              "      flex-wrap:wrap;\n",
              "      gap: 12px;\n",
              "    }\n",
              "\n",
              "    .colab-df-convert {\n",
              "      background-color: #E8F0FE;\n",
              "      border: none;\n",
              "      border-radius: 50%;\n",
              "      cursor: pointer;\n",
              "      display: none;\n",
              "      fill: #1967D2;\n",
              "      height: 32px;\n",
              "      padding: 0 0 0 0;\n",
              "      width: 32px;\n",
              "    }\n",
              "\n",
              "    .colab-df-convert:hover {\n",
              "      background-color: #E2EBFA;\n",
              "      box-shadow: 0px 1px 2px rgba(60, 64, 67, 0.3), 0px 1px 3px 1px rgba(60, 64, 67, 0.15);\n",
              "      fill: #174EA6;\n",
              "    }\n",
              "\n",
              "    [theme=dark] .colab-df-convert {\n",
              "      background-color: #3B4455;\n",
              "      fill: #D2E3FC;\n",
              "    }\n",
              "\n",
              "    [theme=dark] .colab-df-convert:hover {\n",
              "      background-color: #434B5C;\n",
              "      box-shadow: 0px 1px 3px 1px rgba(0, 0, 0, 0.15);\n",
              "      filter: drop-shadow(0px 1px 2px rgba(0, 0, 0, 0.3));\n",
              "      fill: #FFFFFF;\n",
              "    }\n",
              "  </style>\n",
              "\n",
              "      <script>\n",
              "        const buttonEl =\n",
              "          document.querySelector('#df-c4a7e73b-266c-411c-b6e8-03376eaa87b2 button.colab-df-convert');\n",
              "        buttonEl.style.display =\n",
              "          google.colab.kernel.accessAllowed ? 'block' : 'none';\n",
              "\n",
              "        async function convertToInteractive(key) {\n",
              "          const element = document.querySelector('#df-c4a7e73b-266c-411c-b6e8-03376eaa87b2');\n",
              "          const dataTable =\n",
              "            await google.colab.kernel.invokeFunction('convertToInteractive',\n",
              "                                                     [key], {});\n",
              "          if (!dataTable) return;\n",
              "\n",
              "          const docLinkHtml = 'Like what you see? Visit the ' +\n",
              "            '<a target=\"_blank\" href=https://colab.research.google.com/notebooks/data_table.ipynb>data table notebook</a>'\n",
              "            + ' to learn more about interactive tables.';\n",
              "          element.innerHTML = '';\n",
              "          dataTable['output_type'] = 'display_data';\n",
              "          await google.colab.output.renderOutput(dataTable, element);\n",
              "          const docLink = document.createElement('div');\n",
              "          docLink.innerHTML = docLinkHtml;\n",
              "          element.appendChild(docLink);\n",
              "        }\n",
              "      </script>\n",
              "    </div>\n",
              "  </div>\n",
              "  "
            ]
          },
          "metadata": {},
          "execution_count": 809
        }
      ],
      "source": [
        "# print count of nulls for each column and percentage of them\n",
        "missing_data = pd.DataFrame({'total_missing': df.isnull().sum(), 'perc_missing': (df.isnull().mean())*100})\n",
        "missing_data"
      ]
    },
    {
      "cell_type": "markdown",
      "id": "967eee32",
      "metadata": {
        "id": "967eee32"
      },
      "source": [
        "<br>\n",
        "\n",
        "### `3. Rows Nulls`"
      ]
    },
    {
      "cell_type": "code",
      "execution_count": 810,
      "id": "963fafb3",
      "metadata": {
        "colab": {
          "base_uri": "https://localhost:8080/"
        },
        "id": "963fafb3",
        "outputId": "cd521932-ea62-4159-d996-da1896b5fba9"
      },
      "outputs": [
        {
          "output_type": "execute_result",
          "data": {
            "text/plain": [
              "(5214, 17)"
            ]
          },
          "metadata": {},
          "execution_count": 810
        }
      ],
      "source": [
        "df.shape"
      ]
    },
    {
      "cell_type": "code",
      "execution_count": 811,
      "id": "9907d5a4",
      "metadata": {
        "colab": {
          "base_uri": "https://localhost:8080/"
        },
        "id": "9907d5a4",
        "outputId": "97b80075-69b9-4344-a82b-c4449927c56e"
      },
      "outputs": [
        {
          "output_type": "execute_result",
          "data": {
            "text/plain": [
              "16"
            ]
          },
          "metadata": {},
          "execution_count": 811
        }
      ],
      "source": [
        "missing_rows = df.isnull().any(axis=1).sum()\n",
        "missing_rows"
      ]
    },
    {
      "cell_type": "code",
      "execution_count": 812,
      "id": "239d0ec8",
      "metadata": {
        "id": "239d0ec8"
      },
      "outputs": [],
      "source": [
        "df.dropna(inplace=True)"
      ]
    },
    {
      "cell_type": "code",
      "execution_count": 813,
      "id": "89cc5ccc",
      "metadata": {
        "colab": {
          "base_uri": "https://localhost:8080/"
        },
        "id": "89cc5ccc",
        "outputId": "fde49502-d251-4bd4-923b-ff7597b22299"
      },
      "outputs": [
        {
          "output_type": "execute_result",
          "data": {
            "text/plain": [
              "(5198, 17)"
            ]
          },
          "metadata": {},
          "execution_count": 813
        }
      ],
      "source": [
        "df.shape"
      ]
    },
    {
      "cell_type": "code",
      "execution_count": 814,
      "id": "43dc57d4",
      "metadata": {
        "colab": {
          "base_uri": "https://localhost:8080/"
        },
        "id": "43dc57d4",
        "outputId": "6ddf7456-0e28-44ac-cfb6-1624bf2288fc"
      },
      "outputs": [
        {
          "output_type": "execute_result",
          "data": {
            "text/plain": [
              "0"
            ]
          },
          "metadata": {},
          "execution_count": 814
        }
      ],
      "source": [
        "missing_rows = df.isnull().any(axis=1).sum()\n",
        "missing_rows"
      ]
    },
    {
      "cell_type": "markdown",
      "id": "43836b96",
      "metadata": {
        "id": "43836b96"
      },
      "source": [
        "<br>\n",
        "\n",
        "## `4. Duplicates`"
      ]
    },
    {
      "cell_type": "code",
      "execution_count": 815,
      "id": "a1b8142a",
      "metadata": {
        "colab": {
          "base_uri": "https://localhost:8080/"
        },
        "id": "a1b8142a",
        "outputId": "eb384e60-5515-44dc-e555-2b5eb3b21521"
      },
      "outputs": [
        {
          "output_type": "stream",
          "name": "stdout",
          "text": [
            "43\n"
          ]
        }
      ],
      "source": [
        "print(df.duplicated().sum())"
      ]
    },
    {
      "cell_type": "code",
      "execution_count": 816,
      "id": "b1ca9302",
      "metadata": {
        "id": "b1ca9302"
      },
      "outputs": [],
      "source": [
        "df.drop_duplicates(inplace = True, keep=\"first\")"
      ]
    },
    {
      "cell_type": "code",
      "execution_count": 817,
      "id": "64d6aa4e",
      "metadata": {
        "colab": {
          "base_uri": "https://localhost:8080/"
        },
        "id": "64d6aa4e",
        "outputId": "0850ab7b-ad0c-4b50-8ea8-adc2da0e7894"
      },
      "outputs": [
        {
          "output_type": "execute_result",
          "data": {
            "text/plain": [
              "(5155, 17)"
            ]
          },
          "metadata": {},
          "execution_count": 817
        }
      ],
      "source": [
        "df.shape"
      ]
    },
    {
      "cell_type": "markdown",
      "id": "27fbfee8",
      "metadata": {
        "id": "27fbfee8"
      },
      "source": [
        "<br>\n",
        "\n",
        "## `5. Outlires Detection & Removal`"
      ]
    },
    {
      "cell_type": "code",
      "execution_count": 818,
      "id": "2ae73b08",
      "metadata": {
        "colab": {
          "base_uri": "https://localhost:8080/",
          "height": 300
        },
        "id": "2ae73b08",
        "outputId": "51cd7149-ec8e-467e-deb7-75e629500f12"
      },
      "outputs": [
        {
          "output_type": "execute_result",
          "data": {
            "text/plain": [
              "                 ID  User Rating Count        Price   Age Rating  \\\n",
              "count  5.155000e+03       5.155000e+03  5155.000000  5155.000000   \n",
              "mean   8.681007e+08       3.689626e+03     0.604425     1.639767   \n",
              "std    2.941689e+08       5.005629e+04     2.563789     0.884046   \n",
              "min    2.849214e+08       5.000000e+00     0.000000     1.000000   \n",
              "25%    5.953934e+08       1.300000e+01     0.000000     1.000000   \n",
              "50%    9.193940e+08       4.900000e+01     0.000000     1.000000   \n",
              "75%    1.115636e+09       3.320000e+02     0.000000     2.000000   \n",
              "max    1.341837e+09       3.032734e+06   139.990000     4.000000   \n",
              "\n",
              "               Size  Average User Rating  \n",
              "count  5.155000e+03          5155.000000  \n",
              "mean   1.381700e+08             4.035403  \n",
              "std    2.537722e+08             0.749439  \n",
              "min    2.158400e+05             1.000000  \n",
              "25%    2.750362e+07             3.500000  \n",
              "50%    6.706074e+07             4.000000  \n",
              "75%    1.588076e+08             4.500000  \n",
              "max    4.005591e+09             5.000000  "
            ],
            "text/html": [
              "\n",
              "  <div id=\"df-f791f501-a9e8-4b4f-8085-58e62d81d0fd\">\n",
              "    <div class=\"colab-df-container\">\n",
              "      <div>\n",
              "<style scoped>\n",
              "    .dataframe tbody tr th:only-of-type {\n",
              "        vertical-align: middle;\n",
              "    }\n",
              "\n",
              "    .dataframe tbody tr th {\n",
              "        vertical-align: top;\n",
              "    }\n",
              "\n",
              "    .dataframe thead th {\n",
              "        text-align: right;\n",
              "    }\n",
              "</style>\n",
              "<table border=\"1\" class=\"dataframe\">\n",
              "  <thead>\n",
              "    <tr style=\"text-align: right;\">\n",
              "      <th></th>\n",
              "      <th>ID</th>\n",
              "      <th>User Rating Count</th>\n",
              "      <th>Price</th>\n",
              "      <th>Age Rating</th>\n",
              "      <th>Size</th>\n",
              "      <th>Average User Rating</th>\n",
              "    </tr>\n",
              "  </thead>\n",
              "  <tbody>\n",
              "    <tr>\n",
              "      <th>count</th>\n",
              "      <td>5.155000e+03</td>\n",
              "      <td>5.155000e+03</td>\n",
              "      <td>5155.000000</td>\n",
              "      <td>5155.000000</td>\n",
              "      <td>5.155000e+03</td>\n",
              "      <td>5155.000000</td>\n",
              "    </tr>\n",
              "    <tr>\n",
              "      <th>mean</th>\n",
              "      <td>8.681007e+08</td>\n",
              "      <td>3.689626e+03</td>\n",
              "      <td>0.604425</td>\n",
              "      <td>1.639767</td>\n",
              "      <td>1.381700e+08</td>\n",
              "      <td>4.035403</td>\n",
              "    </tr>\n",
              "    <tr>\n",
              "      <th>std</th>\n",
              "      <td>2.941689e+08</td>\n",
              "      <td>5.005629e+04</td>\n",
              "      <td>2.563789</td>\n",
              "      <td>0.884046</td>\n",
              "      <td>2.537722e+08</td>\n",
              "      <td>0.749439</td>\n",
              "    </tr>\n",
              "    <tr>\n",
              "      <th>min</th>\n",
              "      <td>2.849214e+08</td>\n",
              "      <td>5.000000e+00</td>\n",
              "      <td>0.000000</td>\n",
              "      <td>1.000000</td>\n",
              "      <td>2.158400e+05</td>\n",
              "      <td>1.000000</td>\n",
              "    </tr>\n",
              "    <tr>\n",
              "      <th>25%</th>\n",
              "      <td>5.953934e+08</td>\n",
              "      <td>1.300000e+01</td>\n",
              "      <td>0.000000</td>\n",
              "      <td>1.000000</td>\n",
              "      <td>2.750362e+07</td>\n",
              "      <td>3.500000</td>\n",
              "    </tr>\n",
              "    <tr>\n",
              "      <th>50%</th>\n",
              "      <td>9.193940e+08</td>\n",
              "      <td>4.900000e+01</td>\n",
              "      <td>0.000000</td>\n",
              "      <td>1.000000</td>\n",
              "      <td>6.706074e+07</td>\n",
              "      <td>4.000000</td>\n",
              "    </tr>\n",
              "    <tr>\n",
              "      <th>75%</th>\n",
              "      <td>1.115636e+09</td>\n",
              "      <td>3.320000e+02</td>\n",
              "      <td>0.000000</td>\n",
              "      <td>2.000000</td>\n",
              "      <td>1.588076e+08</td>\n",
              "      <td>4.500000</td>\n",
              "    </tr>\n",
              "    <tr>\n",
              "      <th>max</th>\n",
              "      <td>1.341837e+09</td>\n",
              "      <td>3.032734e+06</td>\n",
              "      <td>139.990000</td>\n",
              "      <td>4.000000</td>\n",
              "      <td>4.005591e+09</td>\n",
              "      <td>5.000000</td>\n",
              "    </tr>\n",
              "  </tbody>\n",
              "</table>\n",
              "</div>\n",
              "      <button class=\"colab-df-convert\" onclick=\"convertToInteractive('df-f791f501-a9e8-4b4f-8085-58e62d81d0fd')\"\n",
              "              title=\"Convert this dataframe to an interactive table.\"\n",
              "              style=\"display:none;\">\n",
              "        \n",
              "  <svg xmlns=\"http://www.w3.org/2000/svg\" height=\"24px\"viewBox=\"0 0 24 24\"\n",
              "       width=\"24px\">\n",
              "    <path d=\"M0 0h24v24H0V0z\" fill=\"none\"/>\n",
              "    <path d=\"M18.56 5.44l.94 2.06.94-2.06 2.06-.94-2.06-.94-.94-2.06-.94 2.06-2.06.94zm-11 1L8.5 8.5l.94-2.06 2.06-.94-2.06-.94L8.5 2.5l-.94 2.06-2.06.94zm10 10l.94 2.06.94-2.06 2.06-.94-2.06-.94-.94-2.06-.94 2.06-2.06.94z\"/><path d=\"M17.41 7.96l-1.37-1.37c-.4-.4-.92-.59-1.43-.59-.52 0-1.04.2-1.43.59L10.3 9.45l-7.72 7.72c-.78.78-.78 2.05 0 2.83L4 21.41c.39.39.9.59 1.41.59.51 0 1.02-.2 1.41-.59l7.78-7.78 2.81-2.81c.8-.78.8-2.07 0-2.86zM5.41 20L4 18.59l7.72-7.72 1.47 1.35L5.41 20z\"/>\n",
              "  </svg>\n",
              "      </button>\n",
              "      \n",
              "  <style>\n",
              "    .colab-df-container {\n",
              "      display:flex;\n",
              "      flex-wrap:wrap;\n",
              "      gap: 12px;\n",
              "    }\n",
              "\n",
              "    .colab-df-convert {\n",
              "      background-color: #E8F0FE;\n",
              "      border: none;\n",
              "      border-radius: 50%;\n",
              "      cursor: pointer;\n",
              "      display: none;\n",
              "      fill: #1967D2;\n",
              "      height: 32px;\n",
              "      padding: 0 0 0 0;\n",
              "      width: 32px;\n",
              "    }\n",
              "\n",
              "    .colab-df-convert:hover {\n",
              "      background-color: #E2EBFA;\n",
              "      box-shadow: 0px 1px 2px rgba(60, 64, 67, 0.3), 0px 1px 3px 1px rgba(60, 64, 67, 0.15);\n",
              "      fill: #174EA6;\n",
              "    }\n",
              "\n",
              "    [theme=dark] .colab-df-convert {\n",
              "      background-color: #3B4455;\n",
              "      fill: #D2E3FC;\n",
              "    }\n",
              "\n",
              "    [theme=dark] .colab-df-convert:hover {\n",
              "      background-color: #434B5C;\n",
              "      box-shadow: 0px 1px 3px 1px rgba(0, 0, 0, 0.15);\n",
              "      filter: drop-shadow(0px 1px 2px rgba(0, 0, 0, 0.3));\n",
              "      fill: #FFFFFF;\n",
              "    }\n",
              "  </style>\n",
              "\n",
              "      <script>\n",
              "        const buttonEl =\n",
              "          document.querySelector('#df-f791f501-a9e8-4b4f-8085-58e62d81d0fd button.colab-df-convert');\n",
              "        buttonEl.style.display =\n",
              "          google.colab.kernel.accessAllowed ? 'block' : 'none';\n",
              "\n",
              "        async function convertToInteractive(key) {\n",
              "          const element = document.querySelector('#df-f791f501-a9e8-4b4f-8085-58e62d81d0fd');\n",
              "          const dataTable =\n",
              "            await google.colab.kernel.invokeFunction('convertToInteractive',\n",
              "                                                     [key], {});\n",
              "          if (!dataTable) return;\n",
              "\n",
              "          const docLinkHtml = 'Like what you see? Visit the ' +\n",
              "            '<a target=\"_blank\" href=https://colab.research.google.com/notebooks/data_table.ipynb>data table notebook</a>'\n",
              "            + ' to learn more about interactive tables.';\n",
              "          element.innerHTML = '';\n",
              "          dataTable['output_type'] = 'display_data';\n",
              "          await google.colab.output.renderOutput(dataTable, element);\n",
              "          const docLink = document.createElement('div');\n",
              "          docLink.innerHTML = docLinkHtml;\n",
              "          element.appendChild(docLink);\n",
              "        }\n",
              "      </script>\n",
              "    </div>\n",
              "  </div>\n",
              "  "
            ]
          },
          "metadata": {},
          "execution_count": 818
        }
      ],
      "source": [
        "df.describe()"
      ]
    },
    {
      "cell_type": "code",
      "execution_count": 819,
      "id": "e419633c",
      "metadata": {
        "colab": {
          "base_uri": "https://localhost:8080/"
        },
        "id": "e419633c",
        "outputId": "53c5fa4d-e8a8-4a18-a73d-2fbc275b2e0f"
      },
      "outputs": [
        {
          "output_type": "stream",
          "name": "stdout",
          "text": [
            "Outliers in User Rating Count column:\n",
            "3    1.99\n",
            "4    3.99\n",
            "5    0.99\n",
            "7    9.99\n",
            "8    0.99\n",
            "Name: Price, dtype: float64\n"
          ]
        }
      ],
      "source": [
        "# calculate the interquartile range (IQR)\n",
        "col = 'Price'\n",
        "q1 = df[col].quantile(0.25)\n",
        "q3 = df[col].quantile(0.75)\n",
        "iqr = q3 - q1\n",
        "\n",
        "# identify the outliers\n",
        "lower_bound = q1 - (1.5 * iqr)\n",
        "upper_bound = q3 + (1.5 * iqr)\n",
        "outliers = df[(df[col] < lower_bound) | (df[col] > upper_bound)]\n",
        "\n",
        "# print the outliers\n",
        "print(\"Outliers in User Rating Count column:\")\n",
        "print(outliers[col].head())"
      ]
    },
    {
      "cell_type": "code",
      "source": [
        "df[\"Languages\"]=df[\"Languages\"].str.split(\",\")\n",
        "df=df.explode('Languages')\n"
      ],
      "metadata": {
        "id": "0jejXH2lErvF"
      },
      "id": "0jejXH2lErvF",
      "execution_count": 820,
      "outputs": []
    },
    {
      "cell_type": "code",
      "source": [
        "df[\"In-app Purchases\"]=df[\"In-app Purchases\"].str.split(\",\")\n",
        "df=df.explode('In-app Purchases')\n",
        "df['In-app Purchases']=df['In-app Purchases'].astype(float)\n",
        "df['In-app Purchases'] = df['In-app Purchases'].fillna(0)"
      ],
      "metadata": {
        "id": "rtTfCzm-HlNj"
      },
      "id": "rtTfCzm-HlNj",
      "execution_count": 821,
      "outputs": []
    },
    {
      "cell_type": "code",
      "source": [
        "#convert size to gigabyte\n",
        "\n",
        "sns.boxplot( y='Size', data=df)\n"
      ],
      "metadata": {
        "colab": {
          "base_uri": "https://localhost:8080/",
          "height": 443
        },
        "id": "wkQzPspKI7Lx",
        "outputId": "c3b58f8c-40ec-491b-edeb-b197a5f5f0d6"
      },
      "id": "wkQzPspKI7Lx",
      "execution_count": 822,
      "outputs": [
        {
          "output_type": "execute_result",
          "data": {
            "text/plain": [
              "<Axes: ylabel='Size'>"
            ]
          },
          "metadata": {},
          "execution_count": 822
        },
        {
          "output_type": "display_data",
          "data": {
            "text/plain": [
              "<Figure size 640x480 with 1 Axes>"
            ],
            "image/png": "[encoded data removed]"
          },
          "metadata": {}
        }
      ]
    },
    {
      "cell_type": "code",
      "source": [
        "percentile25 = df[\"Size\"].quantile(0.25)\n",
        "percentile75 = df[\"Size\"].quantile(0.75)\n",
        "iqr=percentile75-percentile25"
      ],
      "metadata": {
        "id": "7DxhEvUHNMjv"
      },
      "id": "7DxhEvUHNMjv",
      "execution_count": 823,
      "outputs": []
    },
    {
      "cell_type": "code",
      "source": [
        "def outliers(dataset,col):\n",
        "  Q1 = dataset[col].quantile(0.25)\n",
        "  Q3 = dataset[col].quantile(0.75)\n",
        "  IQR = Q3-Q1\n",
        "  lower_bound = Q1-1.5*IQR\n",
        "  upper_bound = Q3+1.5*IQR\n",
        "\n",
        "  for i in range(len(dataset)):\n",
        "      if dataset[col].iloc[i] > upper_bound:\n",
        "          dataset[col].iloc[i] = upper_bound\n",
        "      if dataset[col].iloc[i] < lower_bound:\n",
        "          dataset[col].iloc[i] = lower_bound\n",
        "outliers(df,\"Size\")          "
      ],
      "metadata": {
        "colab": {
          "base_uri": "https://localhost:8080/"
        },
        "id": "j-BRMgieOxjl",
        "outputId": "db7c30e0-20ed-4c64-fd36-6fd9268c2c24"
      },
      "id": "j-BRMgieOxjl",
      "execution_count": 824,
      "outputs": [
        {
          "output_type": "stream",
          "name": "stderr",
          "text": [
            "<ipython-input-824-32f735cf3130>:10: SettingWithCopyWarning: \n",
            "A value is trying to be set on a copy of a slice from a DataFrame\n",
            "\n",
            "See the caveats in the documentation: https://pandas.pydata.org/pandas-docs/stable/user_guide/indexing.html#returning-a-view-versus-a-copy\n",
            "  dataset[col].iloc[i] = upper_bound\n"
          ]
        }
      ]
    },
    {
      "cell_type": "code",
      "source": [
        "sns.boxplot( y='Size', data=df)"
      ],
      "metadata": {
        "colab": {
          "base_uri": "https://localhost:8080/",
          "height": 443
        },
        "id": "QMlgzcXHihqO",
        "outputId": "a833f725-ba81-4f79-80d3-7454f83dde68"
      },
      "id": "QMlgzcXHihqO",
      "execution_count": 826,
      "outputs": [
        {
          "output_type": "execute_result",
          "data": {
            "text/plain": [
              "<Axes: ylabel='Size'>"
            ]
          },
          "metadata": {},
          "execution_count": 826
        },
        {
          "output_type": "display_data",
          "data": {
            "text/plain": [
              "<Figure size 640x480 with 1 Axes>"
            ],
            "image/png": "[encoded data removed]"
          },
          "metadata": {}
        }
      ]
    }
  ],
  "metadata": {
    "kernelspec": {
      "display_name": "Python 3 (ipykernel)",
      "language": "python",
      "name": "python3"
    },
    "language_info": {
      "codemirror_mode": {
        "name": "ipython",
        "version": 3
      },
      "file_extension": ".py",
      "mimetype": "text/x-python",
      "name": "python",
      "nbconvert_exporter": "python",
      "pygments_lexer": "ipython3",
      "version": "3.9.13"
    },
    "colab": {
      "provenance": []
    }
  },
  "nbformat": 4,
  "nbformat_minor": 5
}