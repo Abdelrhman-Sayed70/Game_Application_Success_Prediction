{
 "cells": [
  {
   "cell_type": "markdown",
   "id": "4619c63c",
   "metadata": {},
   "source": [
    "# Import Libraries"
   ]
  },
  {
   "cell_type": "code",
   "execution_count": 1,
   "id": "9075564a",
   "metadata": {},
   "outputs": [],
   "source": [
    "import pandas as pd\n",
    "import numpy as np\n",
    "import matplotlib.pyplot as plt\n",
    "import seaborn as sns"
   ]
  },
  {
   "cell_type": "markdown",
   "id": "7c21accf",
   "metadata": {},
   "source": [
    "# \n",
    "# Read Data"
   ]
  },
  {
   "cell_type": "code",
   "execution_count": 2,
   "id": "8332daac",
   "metadata": {},
   "outputs": [],
   "source": [
    "df = pd.read_csv('games-regression-dataset.csv')"
   ]
  },
  {
   "cell_type": "code",
   "execution_count": 3,
   "id": "86f7d50c",
   "metadata": {},
   "outputs": [
    {
     "data": {
      "text/plain": [
       "(5214, 18)"
      ]
     },
     "execution_count": 3,
     "metadata": {},
     "output_type": "execute_result"
    }
   ],
   "source": [
    "df.shape"
   ]
  },
  {
   "cell_type": "markdown",
   "id": "75b1c51f",
   "metadata": {},
   "source": [
    "# \n",
    "# Functions"
   ]
  },
  {
   "cell_type": "markdown",
   "id": "e47c492c",
   "metadata": {},
   "source": [
    "**`PreprocessListCategories`** <br>\n",
    "`Function take df, list of categories columns and apply OHE on them, then return the df after modifications`"
   ]
  },
  {
   "cell_type": "code",
   "execution_count": 4,
   "id": "ff7a35df",
   "metadata": {},
   "outputs": [],
   "source": [
    "def PreprocessListCategories(df, lst):\n",
    "    for col in lst:\n",
    "        # Apply one-hot encoding to the \"col\" column in list and put the output in newdf\n",
    "        newdf = df[col].str.get_dummies(sep=', ')\n",
    "        \n",
    "        # Concatenate the one-hot encoded columns with the original DataFrame\n",
    "        df = pd.concat([df, newdf], axis=1)\n",
    "        \n",
    "    return df"
   ]
  },
  {
   "cell_type": "markdown",
   "id": "3a725a2a",
   "metadata": {},
   "source": [
    "**`CheckNullRows`**<br>\n",
    "`Function take df and print number of null rows`"
   ]
  },
  {
   "cell_type": "code",
   "execution_count": 5,
   "id": "8789d72f",
   "metadata": {},
   "outputs": [],
   "source": [
    "def CheckNullRows(df):\n",
    "    missing_rows = df.isnull().any(axis=1).sum()\n",
    "    print('Number of rows that have null values: ', missing_rows)"
   ]
  },
  {
   "cell_type": "markdown",
   "id": "5bf1fa20",
   "metadata": {},
   "source": [
    "**`DropNullRows`**<br>\n",
    "`Function take df and drop all null rows`"
   ]
  },
  {
   "cell_type": "code",
   "execution_count": 6,
   "id": "43f58232",
   "metadata": {},
   "outputs": [],
   "source": [
    "def DropNullRows(df):\n",
    "    df.dropna(inplace=True)"
   ]
  },
  {
   "cell_type": "markdown",
   "id": "9934aee2",
   "metadata": {},
   "source": [
    "**`ChangeDataType`**<br>\n",
    "`Function take df and change data types of some columns to appropriate data type`"
   ]
  },
  {
   "cell_type": "code",
   "execution_count": 7,
   "id": "de536423",
   "metadata": {},
   "outputs": [],
   "source": [
    "def PreProcessAgrRating(df):\n",
    "    # Age Rating \n",
    "    # Print current data type\n",
    "    print('Data type of Age Rating is, ', df['Age Rating'].dtype)\n",
    "    # Remove the + sign\n",
    "    df['Age Rating'] = df['Age Rating'].str.replace('+', '', regex=False)\n",
    "    # Convert Column datatype to int\n",
    "    df['Age Rating'] = df['Age Rating'].astype(int)\n",
    "    print('Data type of Age Rating after processing is ', df['Age Rating'].dtype)\n",
    "    # Create a dictionary to map the age ratings to integers\n",
    "    age_rating_map = {4: 1, 9: 2, 12: 3, 17: 4}\n",
    "    # Replace each value with its category\n",
    "    df['Age Rating'] = df['Age Rating'].replace(age_rating_map)\n",
    "    # Print Age Rating\n",
    "    print(df['Age Rating'].head())"
   ]
  },
  {
   "cell_type": "code",
   "execution_count": 8,
   "id": "7b542980",
   "metadata": {},
   "outputs": [],
   "source": [
    "def ConvertToDateTime(df, lst):\n",
    "    for col in lst:\n",
    "        df[col] = pd.to_datetime(df[col])"
   ]
  },
  {
   "cell_type": "code",
   "execution_count": 9,
   "id": "9ba94a51",
   "metadata": {},
   "outputs": [],
   "source": [
    "def GetColumnsNullsPerc(df):\n",
    "    # print count of nulls for each column and percentage of them\n",
    "    missing_data = pd.DataFrame({'total_missing': df.isnull().sum(), 'perc_missing': (df.isnull().mean())*100})\n",
    "    return missing_data"
   ]
  },
  {
   "cell_type": "code",
   "execution_count": 10,
   "id": "afcb1bef",
   "metadata": {},
   "outputs": [],
   "source": [
    "def CheckListOfCategoriesColumn(df, col):\n",
    "    print(\"Data type of \", col, \"column is: \", df[col].dtype)\n",
    "    all_languages = list(set(','.join(df['Languages'].fillna('').unique()).split(',')))\n",
    "    print(col, \"column has \", len(all_languages), \"unique\", col)"
   ]
  },
  {
   "cell_type": "code",
   "execution_count": 11,
   "id": "b387bbde",
   "metadata": {},
   "outputs": [],
   "source": [
    "def PrintDfColumns(df):\n",
    "    columns_list = df.columns.tolist()\n",
    "    print(columns_list)"
   ]
  },
  {
   "cell_type": "code",
   "execution_count": 12,
   "id": "d1afb3ec",
   "metadata": {},
   "outputs": [],
   "source": [
    "def FillColumnNulls(df, col):\n",
    "    df[col] = df[col].fillna(0)"
   ]
  },
  {
   "cell_type": "code",
   "execution_count": 13,
   "id": "51974ec4",
   "metadata": {},
   "outputs": [],
   "source": [
    "def DuplicatesDetectionAndRemoval(df):\n",
    "    print(\"Number of duplicates rows: \", df.duplicated().sum())\n",
    "    df.drop_duplicates(inplace = True, keep=\"first\")"
   ]
  },
  {
   "cell_type": "code",
   "execution_count": 14,
   "id": "bdc047b7",
   "metadata": {},
   "outputs": [],
   "source": [
    "def outliers(dataset,col):\n",
    "    fig, ax =plt.subplots(1,2)\n",
    "    sns.boxplot( y=col, data=dataset,color=\"red\", ax=ax[0])\n",
    "    Q1 = dataset[col].quantile(0.25)\n",
    "    Q3 = dataset[col].quantile(0.75)\n",
    "    IQR = Q3-Q1\n",
    "    lower_bound = Q1-1.5*IQR\n",
    "    upper_bound = Q3+1.5*IQR\n",
    "    dataset[col]=dataset[col].apply(lambda x: upper_bound if x> upper_bound else( lower_bound if x< lower_bound  else x))        \n",
    "    sns.boxplot( y=col, data=dataset,color=\"blue\", ax=ax[1])\n",
    "    fig.show()"
   ]
  },
  {
   "cell_type": "code",
   "execution_count": 15,
   "id": "5946e13a",
   "metadata": {},
   "outputs": [],
   "source": [
    "def avarage_Purchases(data,col):\n",
    "    data[col]=data[col].fillna(\"0\")\n",
    "    data[col]=data[col].astype(str)\n",
    "    data[col]=data[col].str.split(\",\")\n",
    "    data[col]=[np.float64(x) for x in data[col]]\n",
    "    from statistics import mean\n",
    "    for i in range(data.shape[0]):\n",
    "        data[col][i]=mean(data[col][i])\n",
    "    data[col]=data[col].astype(float)\n",
    "    return data"
   ]
  },
  {
   "cell_type": "markdown",
   "id": "a2649036",
   "metadata": {},
   "source": [
    "# \n",
    "# Preprocessing Pipeline\n",
    "- **`1. Columns Analysis `**\n",
    "- **`2. Columns Nulls`**\n",
    "- **`3. Rows Nulls`**\n",
    "- **`4. Duplicates`**\n",
    "- **`5. Outlires Detection & Removal`**\n",
    "- **`6. Deal With Categories`**"
   ]
  },
  {
   "cell_type": "markdown",
   "id": "21e961d4",
   "metadata": {},
   "source": [
    "## \n",
    "### `1. Columns Analysis`"
   ]
  },
  {
   "cell_type": "code",
   "execution_count": 16,
   "id": "9fef4bff",
   "metadata": {},
   "outputs": [
    {
     "data": {
      "text/plain": [
       "URL                              object\n",
       "ID                                int64\n",
       "Name                             object\n",
       "Subtitle                         object\n",
       "Icon URL                         object\n",
       "User Rating Count                 int64\n",
       "Price                           float64\n",
       "In-app Purchases                 object\n",
       "Description                      object\n",
       "Developer                        object\n",
       "Age Rating                       object\n",
       "Languages                        object\n",
       "Size                              int64\n",
       "Primary Genre                    object\n",
       "Genres                           object\n",
       "Original Release Date            object\n",
       "Current Version Release Date     object\n",
       "Average User Rating             float64\n",
       "dtype: object"
      ]
     },
     "execution_count": 16,
     "metadata": {},
     "output_type": "execute_result"
    }
   ],
   "source": [
    "df.dtypes"
   ]
  },
  {
   "cell_type": "markdown",
   "id": "2f52b732",
   "metadata": {},
   "source": [
    "<br> \n",
    "\n",
    "**Age Rating**\n",
    "- Remove + sign \n",
    "- Convert to int\n",
    "- Notice that the column has only 4 ages so we can categorize them"
   ]
  },
  {
   "cell_type": "code",
   "execution_count": 17,
   "id": "b39f3b59",
   "metadata": {},
   "outputs": [
    {
     "name": "stdout",
     "output_type": "stream",
     "text": [
      "Data type of Age Rating is,  object\n",
      "Data type of Age Rating after processing is  int32\n",
      "0    3\n",
      "1    3\n",
      "2    1\n",
      "3    2\n",
      "4    3\n",
      "Name: Age Rating, dtype: int32\n"
     ]
    }
   ],
   "source": [
    "PreProcessAgrRating(df)"
   ]
  },
  {
   "cell_type": "markdown",
   "id": "4f0b3f76",
   "metadata": {},
   "source": [
    "<br>\n",
    "\n",
    "**Languages**"
   ]
  },
  {
   "cell_type": "code",
   "execution_count": 18,
   "id": "64670dea",
   "metadata": {},
   "outputs": [
    {
     "name": "stdout",
     "output_type": "stream",
     "text": [
      "Data type of  Languages column is:  object\n",
      "Languages column has  130 unique Languages\n"
     ]
    }
   ],
   "source": [
    "CheckListOfCategoriesColumn(df, 'Languages')"
   ]
  },
  {
   "cell_type": "markdown",
   "id": "c94d419d",
   "metadata": {},
   "source": [
    "<br>\n",
    "\n",
    "**Genres**"
   ]
  },
  {
   "cell_type": "code",
   "execution_count": 19,
   "id": "3b9ca29f",
   "metadata": {},
   "outputs": [
    {
     "name": "stdout",
     "output_type": "stream",
     "text": [
      "Data type of  Genres column is:  object\n",
      "Genres column has  130 unique Genres\n"
     ]
    }
   ],
   "source": [
    "CheckListOfCategoriesColumn(df, 'Genres')"
   ]
  },
  {
   "cell_type": "markdown",
   "id": "28ca22d0",
   "metadata": {},
   "source": [
    "<br>\n",
    "\n",
    "**Primary Genre**"
   ]
  },
  {
   "cell_type": "code",
   "execution_count": 20,
   "id": "b00a04d5",
   "metadata": {},
   "outputs": [
    {
     "name": "stdout",
     "output_type": "stream",
     "text": [
      "Data type of  Primary Genre column is:  object\n",
      "Primary Genre column has  130 unique Primary Genre\n"
     ]
    }
   ],
   "source": [
    "CheckListOfCategoriesColumn(df, 'Primary Genre')"
   ]
  },
  {
   "cell_type": "markdown",
   "id": "59ed3894",
   "metadata": {},
   "source": [
    "## \n",
    "**Dates**\n",
    "- Convert to date time data type"
   ]
  },
  {
   "cell_type": "code",
   "execution_count": 40,
   "id": "ecfdbd17",
   "metadata": {},
   "outputs": [],
   "source": [
    "ConvertToDateTime(df, ['Original Release Date', 'Current Version Release Date'])"
   ]
  },
  {
   "cell_type": "markdown",
   "id": "12304ad1",
   "metadata": {},
   "source": [
    "## \n",
    "### `2. Columns Nulls`"
   ]
  },
  {
   "cell_type": "code",
   "execution_count": 22,
   "id": "acd75d56",
   "metadata": {},
   "outputs": [
    {
     "data": {
      "text/html": [
       "<div>\n",
       "<style scoped>\n",
       "    .dataframe tbody tr th:only-of-type {\n",
       "        vertical-align: middle;\n",
       "    }\n",
       "\n",
       "    .dataframe tbody tr th {\n",
       "        vertical-align: top;\n",
       "    }\n",
       "\n",
       "    .dataframe thead th {\n",
       "        text-align: right;\n",
       "    }\n",
       "</style>\n",
       "<table border=\"1\" class=\"dataframe\">\n",
       "  <thead>\n",
       "    <tr style=\"text-align: right;\">\n",
       "      <th></th>\n",
       "      <th>total_missing</th>\n",
       "      <th>perc_missing</th>\n",
       "    </tr>\n",
       "  </thead>\n",
       "  <tbody>\n",
       "    <tr>\n",
       "      <th>URL</th>\n",
       "      <td>0</td>\n",
       "      <td>0.000000</td>\n",
       "    </tr>\n",
       "    <tr>\n",
       "      <th>ID</th>\n",
       "      <td>0</td>\n",
       "      <td>0.000000</td>\n",
       "    </tr>\n",
       "    <tr>\n",
       "      <th>Name</th>\n",
       "      <td>0</td>\n",
       "      <td>0.000000</td>\n",
       "    </tr>\n",
       "    <tr>\n",
       "      <th>Subtitle</th>\n",
       "      <td>3749</td>\n",
       "      <td>71.902570</td>\n",
       "    </tr>\n",
       "    <tr>\n",
       "      <th>Icon URL</th>\n",
       "      <td>0</td>\n",
       "      <td>0.000000</td>\n",
       "    </tr>\n",
       "    <tr>\n",
       "      <th>User Rating Count</th>\n",
       "      <td>0</td>\n",
       "      <td>0.000000</td>\n",
       "    </tr>\n",
       "    <tr>\n",
       "      <th>Price</th>\n",
       "      <td>0</td>\n",
       "      <td>0.000000</td>\n",
       "    </tr>\n",
       "    <tr>\n",
       "      <th>In-app Purchases</th>\n",
       "      <td>2039</td>\n",
       "      <td>39.106252</td>\n",
       "    </tr>\n",
       "    <tr>\n",
       "      <th>Description</th>\n",
       "      <td>0</td>\n",
       "      <td>0.000000</td>\n",
       "    </tr>\n",
       "    <tr>\n",
       "      <th>Developer</th>\n",
       "      <td>0</td>\n",
       "      <td>0.000000</td>\n",
       "    </tr>\n",
       "    <tr>\n",
       "      <th>Age Rating</th>\n",
       "      <td>0</td>\n",
       "      <td>0.000000</td>\n",
       "    </tr>\n",
       "    <tr>\n",
       "      <th>Languages</th>\n",
       "      <td>11</td>\n",
       "      <td>0.210970</td>\n",
       "    </tr>\n",
       "    <tr>\n",
       "      <th>Size</th>\n",
       "      <td>0</td>\n",
       "      <td>0.000000</td>\n",
       "    </tr>\n",
       "    <tr>\n",
       "      <th>Primary Genre</th>\n",
       "      <td>0</td>\n",
       "      <td>0.000000</td>\n",
       "    </tr>\n",
       "    <tr>\n",
       "      <th>Genres</th>\n",
       "      <td>0</td>\n",
       "      <td>0.000000</td>\n",
       "    </tr>\n",
       "    <tr>\n",
       "      <th>Original Release Date</th>\n",
       "      <td>0</td>\n",
       "      <td>0.000000</td>\n",
       "    </tr>\n",
       "    <tr>\n",
       "      <th>Current Version Release Date</th>\n",
       "      <td>0</td>\n",
       "      <td>0.000000</td>\n",
       "    </tr>\n",
       "    <tr>\n",
       "      <th>Average User Rating</th>\n",
       "      <td>0</td>\n",
       "      <td>0.000000</td>\n",
       "    </tr>\n",
       "  </tbody>\n",
       "</table>\n",
       "</div>"
      ],
      "text/plain": [
       "                              total_missing  perc_missing\n",
       "URL                                       0      0.000000\n",
       "ID                                        0      0.000000\n",
       "Name                                      0      0.000000\n",
       "Subtitle                               3749     71.902570\n",
       "Icon URL                                  0      0.000000\n",
       "User Rating Count                         0      0.000000\n",
       "Price                                     0      0.000000\n",
       "In-app Purchases                       2039     39.106252\n",
       "Description                               0      0.000000\n",
       "Developer                                 0      0.000000\n",
       "Age Rating                                0      0.000000\n",
       "Languages                                11      0.210970\n",
       "Size                                      0      0.000000\n",
       "Primary Genre                             0      0.000000\n",
       "Genres                                    0      0.000000\n",
       "Original Release Date                     0      0.000000\n",
       "Current Version Release Date              0      0.000000\n",
       "Average User Rating                       0      0.000000"
      ]
     },
     "execution_count": 22,
     "metadata": {},
     "output_type": "execute_result"
    }
   ],
   "source": [
    "GetColumnsNullsPerc(df)"
   ]
  },
  {
   "cell_type": "code",
   "execution_count": 23,
   "id": "a522fff3",
   "metadata": {},
   "outputs": [],
   "source": [
    "df.drop(columns=['Subtitle'], inplace=True)"
   ]
  },
  {
   "cell_type": "code",
   "execution_count": 24,
   "id": "6d81625b",
   "metadata": {},
   "outputs": [
    {
     "data": {
      "text/html": [
       "<div>\n",
       "<style scoped>\n",
       "    .dataframe tbody tr th:only-of-type {\n",
       "        vertical-align: middle;\n",
       "    }\n",
       "\n",
       "    .dataframe tbody tr th {\n",
       "        vertical-align: top;\n",
       "    }\n",
       "\n",
       "    .dataframe thead th {\n",
       "        text-align: right;\n",
       "    }\n",
       "</style>\n",
       "<table border=\"1\" class=\"dataframe\">\n",
       "  <thead>\n",
       "    <tr style=\"text-align: right;\">\n",
       "      <th></th>\n",
       "      <th>total_missing</th>\n",
       "      <th>perc_missing</th>\n",
       "    </tr>\n",
       "  </thead>\n",
       "  <tbody>\n",
       "    <tr>\n",
       "      <th>URL</th>\n",
       "      <td>0</td>\n",
       "      <td>0.000000</td>\n",
       "    </tr>\n",
       "    <tr>\n",
       "      <th>ID</th>\n",
       "      <td>0</td>\n",
       "      <td>0.000000</td>\n",
       "    </tr>\n",
       "    <tr>\n",
       "      <th>Name</th>\n",
       "      <td>0</td>\n",
       "      <td>0.000000</td>\n",
       "    </tr>\n",
       "    <tr>\n",
       "      <th>Icon URL</th>\n",
       "      <td>0</td>\n",
       "      <td>0.000000</td>\n",
       "    </tr>\n",
       "    <tr>\n",
       "      <th>User Rating Count</th>\n",
       "      <td>0</td>\n",
       "      <td>0.000000</td>\n",
       "    </tr>\n",
       "    <tr>\n",
       "      <th>Price</th>\n",
       "      <td>0</td>\n",
       "      <td>0.000000</td>\n",
       "    </tr>\n",
       "    <tr>\n",
       "      <th>In-app Purchases</th>\n",
       "      <td>2039</td>\n",
       "      <td>39.106252</td>\n",
       "    </tr>\n",
       "    <tr>\n",
       "      <th>Description</th>\n",
       "      <td>0</td>\n",
       "      <td>0.000000</td>\n",
       "    </tr>\n",
       "    <tr>\n",
       "      <th>Developer</th>\n",
       "      <td>0</td>\n",
       "      <td>0.000000</td>\n",
       "    </tr>\n",
       "    <tr>\n",
       "      <th>Age Rating</th>\n",
       "      <td>0</td>\n",
       "      <td>0.000000</td>\n",
       "    </tr>\n",
       "    <tr>\n",
       "      <th>Languages</th>\n",
       "      <td>11</td>\n",
       "      <td>0.210970</td>\n",
       "    </tr>\n",
       "    <tr>\n",
       "      <th>Size</th>\n",
       "      <td>0</td>\n",
       "      <td>0.000000</td>\n",
       "    </tr>\n",
       "    <tr>\n",
       "      <th>Primary Genre</th>\n",
       "      <td>0</td>\n",
       "      <td>0.000000</td>\n",
       "    </tr>\n",
       "    <tr>\n",
       "      <th>Genres</th>\n",
       "      <td>0</td>\n",
       "      <td>0.000000</td>\n",
       "    </tr>\n",
       "    <tr>\n",
       "      <th>Original Release Date</th>\n",
       "      <td>0</td>\n",
       "      <td>0.000000</td>\n",
       "    </tr>\n",
       "    <tr>\n",
       "      <th>Current Version Release Date</th>\n",
       "      <td>0</td>\n",
       "      <td>0.000000</td>\n",
       "    </tr>\n",
       "    <tr>\n",
       "      <th>Average User Rating</th>\n",
       "      <td>0</td>\n",
       "      <td>0.000000</td>\n",
       "    </tr>\n",
       "  </tbody>\n",
       "</table>\n",
       "</div>"
      ],
      "text/plain": [
       "                              total_missing  perc_missing\n",
       "URL                                       0      0.000000\n",
       "ID                                        0      0.000000\n",
       "Name                                      0      0.000000\n",
       "Icon URL                                  0      0.000000\n",
       "User Rating Count                         0      0.000000\n",
       "Price                                     0      0.000000\n",
       "In-app Purchases                       2039     39.106252\n",
       "Description                               0      0.000000\n",
       "Developer                                 0      0.000000\n",
       "Age Rating                                0      0.000000\n",
       "Languages                                11      0.210970\n",
       "Size                                      0      0.000000\n",
       "Primary Genre                             0      0.000000\n",
       "Genres                                    0      0.000000\n",
       "Original Release Date                     0      0.000000\n",
       "Current Version Release Date              0      0.000000\n",
       "Average User Rating                       0      0.000000"
      ]
     },
     "execution_count": 24,
     "metadata": {},
     "output_type": "execute_result"
    }
   ],
   "source": [
    "GetColumnsNullsPerc(df)"
   ]
  },
  {
   "cell_type": "markdown",
   "id": "128d4610",
   "metadata": {},
   "source": [
    "\n",
    "<br> \n",
    "\n",
    "**In-app Purchases**\n",
    "- We can assum that any cell with null value, does not has any purshases. So replace all nulls with 0\n",
    "- Replce each cell with the mean"
   ]
  },
  {
   "cell_type": "code",
   "execution_count": 25,
   "id": "ef1eb79c",
   "metadata": {},
   "outputs": [],
   "source": [
    "FillColumnNulls(df, 'In-app Purchases')"
   ]
  },
  {
   "cell_type": "code",
   "execution_count": 26,
   "id": "f04121c3",
   "metadata": {},
   "outputs": [
    {
     "data": {
      "text/html": [
       "<div>\n",
       "<style scoped>\n",
       "    .dataframe tbody tr th:only-of-type {\n",
       "        vertical-align: middle;\n",
       "    }\n",
       "\n",
       "    .dataframe tbody tr th {\n",
       "        vertical-align: top;\n",
       "    }\n",
       "\n",
       "    .dataframe thead th {\n",
       "        text-align: right;\n",
       "    }\n",
       "</style>\n",
       "<table border=\"1\" class=\"dataframe\">\n",
       "  <thead>\n",
       "    <tr style=\"text-align: right;\">\n",
       "      <th></th>\n",
       "      <th>total_missing</th>\n",
       "      <th>perc_missing</th>\n",
       "    </tr>\n",
       "  </thead>\n",
       "  <tbody>\n",
       "    <tr>\n",
       "      <th>URL</th>\n",
       "      <td>0</td>\n",
       "      <td>0.00000</td>\n",
       "    </tr>\n",
       "    <tr>\n",
       "      <th>ID</th>\n",
       "      <td>0</td>\n",
       "      <td>0.00000</td>\n",
       "    </tr>\n",
       "    <tr>\n",
       "      <th>Name</th>\n",
       "      <td>0</td>\n",
       "      <td>0.00000</td>\n",
       "    </tr>\n",
       "    <tr>\n",
       "      <th>Icon URL</th>\n",
       "      <td>0</td>\n",
       "      <td>0.00000</td>\n",
       "    </tr>\n",
       "    <tr>\n",
       "      <th>User Rating Count</th>\n",
       "      <td>0</td>\n",
       "      <td>0.00000</td>\n",
       "    </tr>\n",
       "    <tr>\n",
       "      <th>Price</th>\n",
       "      <td>0</td>\n",
       "      <td>0.00000</td>\n",
       "    </tr>\n",
       "    <tr>\n",
       "      <th>In-app Purchases</th>\n",
       "      <td>0</td>\n",
       "      <td>0.00000</td>\n",
       "    </tr>\n",
       "    <tr>\n",
       "      <th>Description</th>\n",
       "      <td>0</td>\n",
       "      <td>0.00000</td>\n",
       "    </tr>\n",
       "    <tr>\n",
       "      <th>Developer</th>\n",
       "      <td>0</td>\n",
       "      <td>0.00000</td>\n",
       "    </tr>\n",
       "    <tr>\n",
       "      <th>Age Rating</th>\n",
       "      <td>0</td>\n",
       "      <td>0.00000</td>\n",
       "    </tr>\n",
       "    <tr>\n",
       "      <th>Languages</th>\n",
       "      <td>11</td>\n",
       "      <td>0.21097</td>\n",
       "    </tr>\n",
       "    <tr>\n",
       "      <th>Size</th>\n",
       "      <td>0</td>\n",
       "      <td>0.00000</td>\n",
       "    </tr>\n",
       "    <tr>\n",
       "      <th>Primary Genre</th>\n",
       "      <td>0</td>\n",
       "      <td>0.00000</td>\n",
       "    </tr>\n",
       "    <tr>\n",
       "      <th>Genres</th>\n",
       "      <td>0</td>\n",
       "      <td>0.00000</td>\n",
       "    </tr>\n",
       "    <tr>\n",
       "      <th>Original Release Date</th>\n",
       "      <td>0</td>\n",
       "      <td>0.00000</td>\n",
       "    </tr>\n",
       "    <tr>\n",
       "      <th>Current Version Release Date</th>\n",
       "      <td>0</td>\n",
       "      <td>0.00000</td>\n",
       "    </tr>\n",
       "    <tr>\n",
       "      <th>Average User Rating</th>\n",
       "      <td>0</td>\n",
       "      <td>0.00000</td>\n",
       "    </tr>\n",
       "  </tbody>\n",
       "</table>\n",
       "</div>"
      ],
      "text/plain": [
       "                              total_missing  perc_missing\n",
       "URL                                       0       0.00000\n",
       "ID                                        0       0.00000\n",
       "Name                                      0       0.00000\n",
       "Icon URL                                  0       0.00000\n",
       "User Rating Count                         0       0.00000\n",
       "Price                                     0       0.00000\n",
       "In-app Purchases                          0       0.00000\n",
       "Description                               0       0.00000\n",
       "Developer                                 0       0.00000\n",
       "Age Rating                                0       0.00000\n",
       "Languages                                11       0.21097\n",
       "Size                                      0       0.00000\n",
       "Primary Genre                             0       0.00000\n",
       "Genres                                    0       0.00000\n",
       "Original Release Date                     0       0.00000\n",
       "Current Version Release Date              0       0.00000\n",
       "Average User Rating                       0       0.00000"
      ]
     },
     "execution_count": 26,
     "metadata": {},
     "output_type": "execute_result"
    }
   ],
   "source": [
    "GetColumnsNullsPerc(df)"
   ]
  },
  {
   "cell_type": "code",
   "execution_count": 27,
   "id": "4e2ffeb4",
   "metadata": {},
   "outputs": [],
   "source": [
    "# todo (replace with mean)"
   ]
  },
  {
   "cell_type": "code",
   "execution_count": 28,
   "id": "0de1441a",
   "metadata": {},
   "outputs": [
    {
     "name": "stderr",
     "output_type": "stream",
     "text": [
      "C:\\Users\\abdos\\AppData\\Local\\Temp\\ipykernel_20596\\3875886820.py:8: SettingWithCopyWarning: \n",
      "A value is trying to be set on a copy of a slice from a DataFrame\n",
      "\n",
      "See the caveats in the documentation: https://pandas.pydata.org/pandas-docs/stable/user_guide/indexing.html#returning-a-view-versus-a-copy\n",
      "  data[col][i]=mean(data[col][i])\n"
     ]
    }
   ],
   "source": [
    "df = avarage_Purchases(df, 'In-app Purchases')"
   ]
  },
  {
   "cell_type": "code",
   "execution_count": 29,
   "id": "83b64ee6",
   "metadata": {},
   "outputs": [
    {
     "data": {
      "text/plain": [
       "dtype('float64')"
      ]
     },
     "execution_count": 29,
     "metadata": {},
     "output_type": "execute_result"
    }
   ],
   "source": [
    "df['In-app Purchases'].dtype"
   ]
  },
  {
   "cell_type": "markdown",
   "id": "967eee32",
   "metadata": {},
   "source": [
    "## \n",
    "\n",
    "## `3. Rows Nulls`"
   ]
  },
  {
   "cell_type": "code",
   "execution_count": 30,
   "id": "963fafb3",
   "metadata": {},
   "outputs": [
    {
     "data": {
      "text/plain": [
       "(5214, 17)"
      ]
     },
     "execution_count": 30,
     "metadata": {},
     "output_type": "execute_result"
    }
   ],
   "source": [
    "df.shape"
   ]
  },
  {
   "cell_type": "code",
   "execution_count": 31,
   "id": "9907d5a4",
   "metadata": {},
   "outputs": [
    {
     "name": "stdout",
     "output_type": "stream",
     "text": [
      "Number of rows that have null values:  11\n"
     ]
    }
   ],
   "source": [
    "CheckNullRows(df)"
   ]
  },
  {
   "cell_type": "code",
   "execution_count": 32,
   "id": "239d0ec8",
   "metadata": {},
   "outputs": [],
   "source": [
    "DropNullRows(df)"
   ]
  },
  {
   "cell_type": "code",
   "execution_count": 33,
   "id": "df954e94",
   "metadata": {},
   "outputs": [
    {
     "name": "stdout",
     "output_type": "stream",
     "text": [
      "Number of rows that have null values:  0\n"
     ]
    }
   ],
   "source": [
    "CheckNullRows(df)"
   ]
  },
  {
   "cell_type": "code",
   "execution_count": 34,
   "id": "89cc5ccc",
   "metadata": {},
   "outputs": [
    {
     "data": {
      "text/plain": [
       "(5203, 17)"
      ]
     },
     "execution_count": 34,
     "metadata": {},
     "output_type": "execute_result"
    }
   ],
   "source": [
    "df.shape"
   ]
  },
  {
   "cell_type": "markdown",
   "id": "43836b96",
   "metadata": {},
   "source": [
    "<br>\n",
    "\n",
    "## `4. Duplicates`"
   ]
  },
  {
   "cell_type": "code",
   "execution_count": 35,
   "id": "a1b8142a",
   "metadata": {},
   "outputs": [
    {
     "name": "stdout",
     "output_type": "stream",
     "text": [
      "Number of duplicates rows:  43\n"
     ]
    }
   ],
   "source": [
    "DuplicatesDetectionAndRemoval(df)"
   ]
  },
  {
   "cell_type": "code",
   "execution_count": 36,
   "id": "64d6aa4e",
   "metadata": {},
   "outputs": [
    {
     "data": {
      "text/plain": [
       "(5160, 17)"
      ]
     },
     "execution_count": 36,
     "metadata": {},
     "output_type": "execute_result"
    }
   ],
   "source": [
    "df.shape"
   ]
  },
  {
   "cell_type": "markdown",
   "id": "27fbfee8",
   "metadata": {},
   "source": [
    "<br>\n",
    "\n",
    "## `5. Outlires Detection & Removal`"
   ]
  },
  {
   "cell_type": "code",
   "execution_count": 37,
   "id": "77f14177",
   "metadata": {},
   "outputs": [
    {
     "name": "stderr",
     "output_type": "stream",
     "text": [
      "C:\\Users\\abdos\\AppData\\Local\\Temp\\ipykernel_20596\\2188112770.py:11: UserWarning: Matplotlib is currently using module://matplotlib_inline.backend_inline, which is a non-GUI backend, so cannot show the figure.\n",
      "  fig.show()\n",
      "C:\\Users\\abdos\\AppData\\Local\\Temp\\ipykernel_20596\\2188112770.py:11: UserWarning: Matplotlib is currently using module://matplotlib_inline.backend_inline, which is a non-GUI backend, so cannot show the figure.\n",
      "  fig.show()\n"
     ]
    },
    {
     "data": {
      "image/png": "[encoded data removed]",
      "text/plain": [
       "<Figure size 640x480 with 2 Axes>"
      ]
     },
     "metadata": {},
     "output_type": "display_data"
    },
    {
     "data": {
      "image/png": "[encoded data removed]",
      "text/plain": [
       "<Figure size 640x480 with 2 Axes>"
      ]
     },
     "metadata": {},
     "output_type": "display_data"
    }
   ],
   "source": [
    "outliarlist=[\"User Rating Count\",\"Size\"]\n",
    "for i in outliarlist:\n",
    "    outliers(df,i)"
   ]
  },
  {
   "cell_type": "markdown",
   "id": "b8760f76",
   "metadata": {},
   "source": [
    "<br>\n",
    "\n",
    "## `6. Apply One Hot Encoding On Categories`"
   ]
  },
  {
   "cell_type": "code",
   "execution_count": 38,
   "id": "5373d5a6",
   "metadata": {},
   "outputs": [],
   "source": [
    "# replace tst with df\n",
    "df = PreprocessListCategories(df,['Primary Genre', 'Genres', 'Languages'])"
   ]
  },
  {
   "cell_type": "code",
   "execution_count": 39,
   "id": "2535a27b",
   "metadata": {},
   "outputs": [
    {
     "data": {
      "text/plain": [
       "(5160, 188)"
      ]
     },
     "execution_count": 39,
     "metadata": {},
     "output_type": "execute_result"
    }
   ],
   "source": [
    "df.shape"
   ]
  }
 ],
 "metadata": {
  "kernelspec": {
   "display_name": "Python 3 (ipykernel)",
   "language": "python",
   "name": "python3"
  },
  "language_info": {
   "codemirror_mode": {
    "name": "ipython",
    "version": 3
   },
   "file_extension": ".py",
   "mimetype": "text/x-python",
   "name": "python",
   "nbconvert_exporter": "python",
   "pygments_lexer": "ipython3",
   "version": "3.9.13"
  }
 },
 "nbformat": 4,
 "nbformat_minor": 5
}
