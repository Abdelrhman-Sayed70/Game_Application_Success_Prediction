{
  "cells": [
    {
      "cell_type": "markdown",
      "metadata": {
        "id": "view-in-github",
        "colab_type": "text"
      },
      "source": [
        "<a href=\"https://colab.research.google.com/github/Abdelrhman-Sayed70/Game_Application_Success_Prediction/blob/main/Game_Success_Prediction.ipynb\" target=\"_parent\"><img src=\"https://colab.research.google.com/assets/colab-badge.svg\" alt=\"Open In Colab\"/></a>"
      ]
    },
    {
      "cell_type": "markdown",
      "id": "4619c63c",
      "metadata": {
        "id": "4619c63c"
      },
      "source": [
        "# Import Libraries"
      ]
    },
    {
      "cell_type": "code",
      "execution_count": 43,
      "id": "9075564a",
      "metadata": {
        "id": "9075564a",
        "outputId": "5602d248-94c3-4186-ba17-e9241eb62525",
        "colab": {
          "base_uri": "https://localhost:8080/"
        }
      },
      "outputs": [
        {
          "output_type": "stream",
          "name": "stderr",
          "text": [
            "[nltk_data] Downloading package stopwords to /root/nltk_data...\n",
            "[nltk_data]   Package stopwords is already up-to-date!\n",
            "[nltk_data] Downloading package punkt to /root/nltk_data...\n",
            "[nltk_data]   Package punkt is already up-to-date!\n"
          ]
        }
      ],
      "source": [
        "import pandas as pd\n",
        "import numpy as np\n",
        "import matplotlib.pyplot as plt\n",
        "import seaborn as sns\n",
        "from urllib.parse import urlparse\n",
        "import re\n",
        "import nltk\n",
        "from nltk.corpus import stopwords\n",
        "from nltk.tokenize import word_tokenize\n",
        "from collections import Counter\n",
        "nltk.download('stopwords')\n",
        "nltk.download('punkt')\n",
        "from sklearn.preprocessing import MinMaxScaler\n",
        "from sklearn.preprocessing import LabelEncoder\n",
        "from statistics import mean"
      ]
    },
    {
      "cell_type": "markdown",
      "id": "7c21accf",
      "metadata": {
        "id": "7c21accf"
      },
      "source": [
        "# \n",
        "# Read Data"
      ]
    },
    {
      "cell_type": "code",
      "execution_count": 44,
      "id": "8332daac",
      "metadata": {
        "id": "8332daac"
      },
      "outputs": [],
      "source": [
        "df = pd.read_csv('games-regression-dataset.csv')"
      ]
    },
    {
      "cell_type": "code",
      "execution_count": 45,
      "id": "86f7d50c",
      "metadata": {
        "id": "86f7d50c",
        "outputId": "158f2cbe-35d3-46ae-d980-4448dcb6470c",
        "colab": {
          "base_uri": "https://localhost:8080/"
        }
      },
      "outputs": [
        {
          "output_type": "execute_result",
          "data": {
            "text/plain": [
              "(5214, 18)"
            ]
          },
          "metadata": {},
          "execution_count": 45
        }
      ],
      "source": [
        "df.shape"
      ]
    },
    {
      "cell_type": "markdown",
      "id": "75b1c51f",
      "metadata": {
        "id": "75b1c51f"
      },
      "source": [
        "# \n",
        "# Functions"
      ]
    },
    {
      "cell_type": "markdown",
      "id": "e47c492c",
      "metadata": {
        "id": "e47c492c"
      },
      "source": [
        "**`PreprocessListCategories`** <br>\n",
        "`Function take df, list of categories columns and apply OHE on them, then return the df after modifications`"
      ]
    },
    {
      "cell_type": "code",
      "execution_count": 46,
      "id": "ff7a35df",
      "metadata": {
        "id": "ff7a35df"
      },
      "outputs": [],
      "source": [
        "def PreprocessListCategories(df, lst):\n",
        "    for col in lst:\n",
        "        # Apply one-hot encoding to the \"col\" column in list and put the output in newdf\n",
        "        newdf = df[col].str.get_dummies(sep=', ')\n",
        "        \n",
        "        # Concatenate the one-hot encoded columns with the original DataFrame\n",
        "        df = pd.concat([df, newdf], axis=1)\n",
        "        \n",
        "    return df"
      ]
    },
    {
      "cell_type": "markdown",
      "id": "3a725a2a",
      "metadata": {
        "id": "3a725a2a"
      },
      "source": [
        "**`CheckNullRows`**<br>\n",
        "`Function take df and print number of null rows`"
      ]
    },
    {
      "cell_type": "code",
      "execution_count": 47,
      "id": "8789d72f",
      "metadata": {
        "id": "8789d72f"
      },
      "outputs": [],
      "source": [
        "def CheckNullRows(df):\n",
        "    missing_rows = df.isnull().any(axis=1).sum()\n",
        "    print('Number of rows that have null values: ', missing_rows)"
      ]
    },
    {
      "cell_type": "markdown",
      "id": "5bf1fa20",
      "metadata": {
        "id": "5bf1fa20"
      },
      "source": [
        "**`DropNullRows`**<br>\n",
        "`Function take df and drop all null rows`"
      ]
    },
    {
      "cell_type": "code",
      "execution_count": 48,
      "id": "43f58232",
      "metadata": {
        "id": "43f58232"
      },
      "outputs": [],
      "source": [
        "def DropNullRows(df):\n",
        "    df.dropna(inplace=True)"
      ]
    },
    {
      "cell_type": "markdown",
      "id": "9934aee2",
      "metadata": {
        "id": "9934aee2"
      },
      "source": [
        "**`ChangeDataType`**<br>\n",
        "`Function take df and change data types of some columns to appropriate data type`"
      ]
    },
    {
      "cell_type": "code",
      "execution_count": 49,
      "id": "de536423",
      "metadata": {
        "id": "de536423"
      },
      "outputs": [],
      "source": [
        "def PreProcessAgrRating(df):\n",
        "    # Age Rating \n",
        "    # Print current data type\n",
        "    print('Data type of Age Rating is, ', df['Age Rating'].dtype)\n",
        "    # Remove the + sign\n",
        "    df['Age Rating'] = df['Age Rating'].str.replace('+', '', regex=False)\n",
        "    # Convert Column datatype to int\n",
        "    df['Age Rating'] = df['Age Rating'].astype(int)\n",
        "    print('Data type of Age Rating after processing is ', df['Age Rating'].dtype)\n",
        "    # Create a dictionary to map the age ratings to integers\n",
        "    age_rating_map = {4: 1, 9: 2, 12: 3, 17: 4}\n",
        "    # Replace each value with its category\n",
        "    df['Age Rating'] = df['Age Rating'].replace(age_rating_map)\n",
        "    # Print Age Rating\n",
        "    print(df['Age Rating'].head())"
      ]
    },
    {
      "cell_type": "code",
      "execution_count": 50,
      "id": "7b542980",
      "metadata": {
        "id": "7b542980"
      },
      "outputs": [],
      "source": [
        "def ConvertToDateTime(df, lst):\n",
        "    for col in lst:\n",
        "        df[col] = pd.to_datetime(df[col],dayfirst=True)"
      ]
    },
    {
      "cell_type": "code",
      "execution_count": 51,
      "id": "9ba94a51",
      "metadata": {
        "id": "9ba94a51"
      },
      "outputs": [],
      "source": [
        "def GetColumnsNullsPerc(df):\n",
        "    # print count of nulls for each column and percentage of them\n",
        "    missing_data = pd.DataFrame({'total_missing': df.isnull().sum(), 'perc_missing': (df.isnull().mean())*100})\n",
        "    return missing_data"
      ]
    },
    {
      "cell_type": "code",
      "execution_count": 52,
      "id": "afcb1bef",
      "metadata": {
        "id": "afcb1bef"
      },
      "outputs": [],
      "source": [
        "def CheckListOfCategoriesColumn(df, col):\n",
        "    print(\"Data type of \", col, \"column is: \", df[col].dtype)\n",
        "    all_languages = list(set(','.join(df['Languages'].fillna('').unique()).split(',')))\n",
        "    print(col, \"column has \", len(all_languages), \"unique\", col)"
      ]
    },
    {
      "cell_type": "code",
      "execution_count": 53,
      "id": "b387bbde",
      "metadata": {
        "id": "b387bbde"
      },
      "outputs": [],
      "source": [
        "def PrintDfColumns(df):\n",
        "    columns_list = df.columns.tolist()\n",
        "    print(columns_list)"
      ]
    },
    {
      "cell_type": "code",
      "execution_count": 54,
      "id": "d1afb3ec",
      "metadata": {
        "id": "d1afb3ec"
      },
      "outputs": [],
      "source": [
        "def FillColumnNulls(df, col):\n",
        "    df[col] = df[col].fillna(0)"
      ]
    },
    {
      "cell_type": "code",
      "execution_count": 55,
      "id": "51974ec4",
      "metadata": {
        "id": "51974ec4"
      },
      "outputs": [],
      "source": [
        "def DuplicatesDetectionAndRemoval(df):\n",
        "    print(\"Number of duplicates rows: \", df.duplicated().sum())\n",
        "    df.drop_duplicates(inplace = True, keep=\"first\")"
      ]
    },
    {
      "cell_type": "code",
      "execution_count": 56,
      "id": "bdc047b7",
      "metadata": {
        "id": "bdc047b7"
      },
      "outputs": [],
      "source": [
        "def outliers(dataset,col):\n",
        "    fig, ax =plt.subplots(1,2)\n",
        "    sns.boxplot( y=col, data=dataset,color=\"red\", ax=ax[0])\n",
        "    Q1 = dataset[col].quantile(0.25)\n",
        "    Q3 = dataset[col].quantile(0.75)\n",
        "    IQR = Q3-Q1\n",
        "    lower_bound = Q1-1.5*IQR\n",
        "    upper_bound = Q3+1.5*IQR\n",
        "    dataset[col]=dataset[col].apply(lambda x: upper_bound if x> upper_bound else( lower_bound if x< lower_bound  else x))        \n",
        "    sns.boxplot( y=col, data=dataset,color=\"blue\", ax=ax[1])\n",
        "    fig.show()"
      ]
    },
    {
      "cell_type": "code",
      "execution_count": 57,
      "id": "5946e13a",
      "metadata": {
        "id": "5946e13a"
      },
      "outputs": [],
      "source": [
        "def avarage_Purchases(data,col):\n",
        "    data[col]=data[col].fillna(\"0\")\n",
        "    data[col]=data[col].astype(str)\n",
        "    data[col]=data[col].str.split(\",\")\n",
        "    data[col]=[np.float64(x) for x in data[col]]\n",
        "    data[col]=data[col].apply(lambda x: mean(x))\n",
        "    data[col]=data[col].astype(float)\n",
        "    return data"
      ]
    },
    {
      "cell_type": "code",
      "source": [
        "def extract_country(links):\n",
        "    us_words = []\n",
        "    for link in links:\n",
        "        parsed_url = urlparse(link)\n",
        "        try:\n",
        "            us_word = parsed_url.path.split('/')[1]\n",
        "            us_words.append(us_word)\n",
        "        except IndexError:\n",
        "            print(f\"Malformed link: {link}\")\n",
        "    return us_words"
      ],
      "metadata": {
        "id": "QER0HqSFZ1d9"
      },
      "id": "QER0HqSFZ1d9",
      "execution_count": 58,
      "outputs": []
    },
    {
      "cell_type": "code",
      "source": [
        "def extract_color(links):\n",
        "    is_color_list = []\n",
        "    for link in links:\n",
        "        parsed_url = urlparse(link)\n",
        "        netloc = parsed_url.netloc.lower()\n",
        "        is_color_match = re.search(r\"is\\d\", netloc)\n",
        "        if is_color_match:\n",
        "            is_color = is_color_match.group()\n",
        "        else:\n",
        "            is_color = None\n",
        "        is_color_list.append(is_color)\n",
        "    return is_color_list"
      ],
      "metadata": {
        "id": "PGeNGlyHZ680"
      },
      "id": "PGeNGlyHZ680",
      "execution_count": 59,
      "outputs": []
    },
    {
      "cell_type": "code",
      "source": [
        "def frequent_words_in_name(df):\n",
        "    # Define the stop words list\n",
        "    stop_words = set(stopwords.words('english'))\n",
        "    # Create an empty Counter object to store the word frequencies\n",
        "    word_freq = Counter()\n",
        "    # Iterate over each row in the 'Name' column\n",
        "    for name in df['Name']:\n",
        "        # Check if the value is a string before tokenizing it\n",
        "        if isinstance(name, str):\n",
        "            # Tokenize the name string into words\n",
        "            words = word_tokenize(name)\n",
        "\n",
        "            # Filter out stop words and iterate over each word\n",
        "            for word, pos in nltk.pos_tag(words):\n",
        "                # Filter out stop words and check if the word is a noun or verb\n",
        "                if word not in stop_words and (pos.startswith('N') or pos.startswith('V')):\n",
        "                    # Add the word to the counter\n",
        "                    word_freq[word.lower()] += 1\n",
        "\n",
        "    # Get the 50 most frequent words\n",
        "    most_common_words = [word[0] for word in word_freq.most_common(50)]\n",
        "\n",
        "    # Replace each word in the 'Name' column with 1 if it matches one of the 50 most frequent words\n",
        "    df['Name'] = df['Name'].apply(\n",
        "        lambda x: sum(1 for word in word_tokenize(str(x).lower()) if word in most_common_words) + 1)\n",
        "    return df"
      ],
      "metadata": {
        "id": "yeq2ZE5oZ-kJ"
      },
      "id": "yeq2ZE5oZ-kJ",
      "execution_count": 60,
      "outputs": []
    },
    {
      "cell_type": "code",
      "source": [
        "def count_dev_games(df):\n",
        "  # Create a dictionary to store the frequency of each developer\n",
        "  developer_freq = df['Developer'].value_counts().to_dict()\n",
        "\n",
        "  # Replace each developer name with its frequency in the dataset\n",
        "  df['Developer'] = df['Developer'].map(developer_freq)\n",
        "  return df"
      ],
      "metadata": {
        "id": "8JgQSJbmaHMB"
      },
      "id": "8JgQSJbmaHMB",
      "execution_count": 61,
      "outputs": []
    },
    {
      "cell_type": "code",
      "source": [
        "def calc_duration(df):\n",
        "  # Calculate the difference in years and add 1\n",
        "  df['Years Since Release'] = (df['Current Version Release Date'].dt.year - df['Original Release Date'].dt.year) + 1 # add 1 for each row because if Years Since Release =0 make it 1 to avoid multipy by 0 in training model\n",
        "  return df"
      ],
      "metadata": {
        "id": "mLtSc4gUaLN_"
      },
      "id": "mLtSc4gUaLN_",
      "execution_count": 62,
      "outputs": []
    },
    {
      "cell_type": "code",
      "source": [
        "def price_range(df):\n",
        "  df[\"Price\"] = df[\"Price\"].dropna().map(lambda x: \"Free\" if x == 0.00 else(\"Low Price\" if 0.99 <= x <= 4.99 else(\"Medium Price\" if 5.99 <= x <= 19.99 else \"High Price\")))\n",
        "  return df"
      ],
      "metadata": {
        "id": "VaA-BePzaPcF"
      },
      "id": "VaA-BePzaPcF",
      "execution_count": 63,
      "outputs": []
    },
    {
      "cell_type": "code",
      "source": [
        "def scaling(df):\n",
        "  #use Min-Max scaling, which scales the data to a range between 0 and 1.\n",
        "  # Initialize the MinMaxScaler object\n",
        "  scaler = MinMaxScaler()\n",
        "  # Fit and transform the features\n",
        "  df['User Rating Count'] = scaler.fit_transform(df[['User Rating Count']])\n",
        "  df['Size'] = scaler.fit_transform(df[['Size']])\n",
        "  return df"
      ],
      "metadata": {
        "id": "PIyj7_lxaSew"
      },
      "id": "PIyj7_lxaSew",
      "execution_count": 64,
      "outputs": []
    },
    {
      "cell_type": "code",
      "source": [
        "def endcode_price(df):\n",
        "  age_rating_map = {'Free': 0, 'Low Price': 1,'Medium Price': 2,'High Price': 3}\n",
        "  df['Price'] = df['Price'].replace(age_rating_map)\n",
        "  return df"
      ],
      "metadata": {
        "id": "JQF_7Rjjluv8"
      },
      "id": "JQF_7Rjjluv8",
      "execution_count": 65,
      "outputs": []
    },
    {
      "cell_type": "code",
      "source": [
        "def feature_transformation(df):\n",
        "    # country name extraction\n",
        "    df['URL'] = extract_country(df['URL'])\n",
        "    df.rename(columns = {'URL':'Country'}, inplace = True)\n",
        "    # color extraction\n",
        "    df['Icon URL'] = extract_color(df['Icon URL'])\n",
        "    df.rename(columns = {'Icon URL':'Color'}, inplace = True)\n",
        "    # price\n",
        "    df = price_range(df)\n",
        "    df = endcode_price(df)\n",
        "    # frequent words in name\n",
        "    #df = frequent_words_in_name(df)\n",
        "    #df.rename(columns = {'Name':'frequent words in Name'}, inplace = True)\n",
        "    # number of other games by dev\n",
        "    df = count_dev_games(df)\n",
        "    df.rename(columns = {'Developer':'Other by developer'}, inplace = True)\n",
        "    # number of languages\n",
        "    #df['Languages'] = languages_count(df)\n",
        "    #df.rename(columns = {'Languages':'Languages Count'}, inplace = True)\n",
        "    # duration between orignal and current releases in years\n",
        "    df = calc_duration(df)\n",
        "    df = scaling(df)\n",
        "    return df"
      ],
      "metadata": {
        "id": "dYxhxfDwaYye"
      },
      "id": "dYxhxfDwaYye",
      "execution_count": 66,
      "outputs": []
    },
    {
      "cell_type": "markdown",
      "id": "a2649036",
      "metadata": {
        "id": "a2649036"
      },
      "source": [
        "# \n",
        "# Preprocessing Pipeline\n",
        "- **`1. Columns Analysis `**\n",
        "- **`2. Columns Nulls`**\n",
        "- **`3. Rows Nulls`**\n",
        "- **`4. Duplicates`**\n",
        "- **`5. Outlires Detection & Removal`**\n",
        "- **`6. Deal With Categories`**"
      ]
    },
    {
      "cell_type": "markdown",
      "id": "21e961d4",
      "metadata": {
        "id": "21e961d4"
      },
      "source": [
        "## \n",
        "### `1. Columns Analysis`"
      ]
    },
    {
      "cell_type": "code",
      "execution_count": 67,
      "id": "9fef4bff",
      "metadata": {
        "id": "9fef4bff",
        "outputId": "32ff6084-a6f3-455e-ee24-bb29f7554b9d",
        "colab": {
          "base_uri": "https://localhost:8080/"
        }
      },
      "outputs": [
        {
          "output_type": "execute_result",
          "data": {
            "text/plain": [
              "URL                              object\n",
              "ID                                int64\n",
              "Name                             object\n",
              "Subtitle                         object\n",
              "Icon URL                         object\n",
              "User Rating Count                 int64\n",
              "Price                           float64\n",
              "In-app Purchases                 object\n",
              "Description                      object\n",
              "Developer                        object\n",
              "Age Rating                       object\n",
              "Languages                        object\n",
              "Size                              int64\n",
              "Primary Genre                    object\n",
              "Genres                           object\n",
              "Original Release Date            object\n",
              "Current Version Release Date     object\n",
              "Average User Rating             float64\n",
              "dtype: object"
            ]
          },
          "metadata": {},
          "execution_count": 67
        }
      ],
      "source": [
        "df.dtypes"
      ]
    },
    {
      "cell_type": "markdown",
      "id": "2f52b732",
      "metadata": {
        "id": "2f52b732"
      },
      "source": [
        "<br> \n",
        "\n",
        "**Age Rating**\n",
        "- Remove + sign \n",
        "- Convert to int\n",
        "- Notice that the column has only 4 ages so we can categorize them"
      ]
    },
    {
      "cell_type": "code",
      "execution_count": 68,
      "id": "b39f3b59",
      "metadata": {
        "id": "b39f3b59",
        "outputId": "cccbd902-b62e-4a06-b492-665474ab7df7",
        "colab": {
          "base_uri": "https://localhost:8080/"
        }
      },
      "outputs": [
        {
          "output_type": "stream",
          "name": "stdout",
          "text": [
            "Data type of Age Rating is,  object\n",
            "Data type of Age Rating after processing is  int64\n",
            "0    3\n",
            "1    3\n",
            "2    1\n",
            "3    2\n",
            "4    3\n",
            "Name: Age Rating, dtype: int64\n"
          ]
        }
      ],
      "source": [
        "PreProcessAgrRating(df)"
      ]
    },
    {
      "cell_type": "markdown",
      "id": "4f0b3f76",
      "metadata": {
        "id": "4f0b3f76"
      },
      "source": [
        "<br>\n",
        "\n",
        "**Languages**"
      ]
    },
    {
      "cell_type": "code",
      "execution_count": 69,
      "id": "64670dea",
      "metadata": {
        "id": "64670dea",
        "outputId": "2a7ca758-bb69-4564-e48b-51becca8c6b7",
        "colab": {
          "base_uri": "https://localhost:8080/"
        }
      },
      "outputs": [
        {
          "output_type": "stream",
          "name": "stdout",
          "text": [
            "Data type of  Languages column is:  object\n",
            "Languages column has  130 unique Languages\n"
          ]
        }
      ],
      "source": [
        "CheckListOfCategoriesColumn(df, 'Languages')"
      ]
    },
    {
      "cell_type": "markdown",
      "id": "c94d419d",
      "metadata": {
        "id": "c94d419d"
      },
      "source": [
        "<br>\n",
        "\n",
        "**Genres**"
      ]
    },
    {
      "cell_type": "code",
      "execution_count": 70,
      "id": "3b9ca29f",
      "metadata": {
        "id": "3b9ca29f",
        "outputId": "585d55b5-f4e8-426e-9b2d-d3062ea84225",
        "colab": {
          "base_uri": "https://localhost:8080/"
        }
      },
      "outputs": [
        {
          "output_type": "stream",
          "name": "stdout",
          "text": [
            "Data type of  Genres column is:  object\n",
            "Genres column has  130 unique Genres\n"
          ]
        }
      ],
      "source": [
        "CheckListOfCategoriesColumn(df, 'Genres')"
      ]
    },
    {
      "cell_type": "markdown",
      "id": "28ca22d0",
      "metadata": {
        "id": "28ca22d0"
      },
      "source": [
        "<br>\n",
        "\n",
        "**Primary Genre**"
      ]
    },
    {
      "cell_type": "code",
      "execution_count": 71,
      "id": "b00a04d5",
      "metadata": {
        "id": "b00a04d5",
        "outputId": "f65997eb-8139-472e-fb20-0077824a52a4",
        "colab": {
          "base_uri": "https://localhost:8080/"
        }
      },
      "outputs": [
        {
          "output_type": "stream",
          "name": "stdout",
          "text": [
            "Data type of  Primary Genre column is:  object\n",
            "Primary Genre column has  130 unique Primary Genre\n"
          ]
        }
      ],
      "source": [
        "CheckListOfCategoriesColumn(df, 'Primary Genre')"
      ]
    },
    {
      "cell_type": "markdown",
      "id": "59ed3894",
      "metadata": {
        "id": "59ed3894"
      },
      "source": [
        "## \n",
        "**Dates**\n",
        "- Convert to date time data type"
      ]
    },
    {
      "cell_type": "code",
      "execution_count": 72,
      "id": "ecfdbd17",
      "metadata": {
        "id": "ecfdbd17"
      },
      "outputs": [],
      "source": [
        "ConvertToDateTime(df, ['Original Release Date', 'Current Version Release Date'])"
      ]
    },
    {
      "cell_type": "markdown",
      "id": "12304ad1",
      "metadata": {
        "id": "12304ad1"
      },
      "source": [
        "## \n",
        "### `2. Columns Nulls`"
      ]
    },
    {
      "cell_type": "code",
      "execution_count": 73,
      "id": "acd75d56",
      "metadata": {
        "id": "acd75d56",
        "outputId": "6726946a-c7ad-48d5-ac54-82de5221dd9a",
        "colab": {
          "base_uri": "https://localhost:8080/",
          "height": 613
        }
      },
      "outputs": [
        {
          "output_type": "execute_result",
          "data": {
            "text/plain": [
              "                              total_missing  perc_missing\n",
              "URL                                       0      0.000000\n",
              "ID                                        0      0.000000\n",
              "Name                                      0      0.000000\n",
              "Subtitle                               3749     71.902570\n",
              "Icon URL                                  0      0.000000\n",
              "User Rating Count                         0      0.000000\n",
              "Price                                     0      0.000000\n",
              "In-app Purchases                       2039     39.106252\n",
              "Description                               0      0.000000\n",
              "Developer                                 0      0.000000\n",
              "Age Rating                                0      0.000000\n",
              "Languages                                11      0.210970\n",
              "Size                                      0      0.000000\n",
              "Primary Genre                             0      0.000000\n",
              "Genres                                    0      0.000000\n",
              "Original Release Date                     0      0.000000\n",
              "Current Version Release Date              0      0.000000\n",
              "Average User Rating                       0      0.000000"
            ],
            "text/html": [
              "\n",
              "  <div id=\"df-243bfeee-ce06-4ea1-85e5-b5865f1687c1\">\n",
              "    <div class=\"colab-df-container\">\n",
              "      <div>\n",
              "<style scoped>\n",
              "    .dataframe tbody tr th:only-of-type {\n",
              "        vertical-align: middle;\n",
              "    }\n",
              "\n",
              "    .dataframe tbody tr th {\n",
              "        vertical-align: top;\n",
              "    }\n",
              "\n",
              "    .dataframe thead th {\n",
              "        text-align: right;\n",
              "    }\n",
              "</style>\n",
              "<table border=\"1\" class=\"dataframe\">\n",
              "  <thead>\n",
              "    <tr style=\"text-align: right;\">\n",
              "      <th></th>\n",
              "      <th>total_missing</th>\n",
              "      <th>perc_missing</th>\n",
              "    </tr>\n",
              "  </thead>\n",
              "  <tbody>\n",
              "    <tr>\n",
              "      <th>URL</th>\n",
              "      <td>0</td>\n",
              "      <td>0.000000</td>\n",
              "    </tr>\n",
              "    <tr>\n",
              "      <th>ID</th>\n",
              "      <td>0</td>\n",
              "      <td>0.000000</td>\n",
              "    </tr>\n",
              "    <tr>\n",
              "      <th>Name</th>\n",
              "      <td>0</td>\n",
              "      <td>0.000000</td>\n",
              "    </tr>\n",
              "    <tr>\n",
              "      <th>Subtitle</th>\n",
              "      <td>3749</td>\n",
              "      <td>71.902570</td>\n",
              "    </tr>\n",
              "    <tr>\n",
              "      <th>Icon URL</th>\n",
              "      <td>0</td>\n",
              "      <td>0.000000</td>\n",
              "    </tr>\n",
              "    <tr>\n",
              "      <th>User Rating Count</th>\n",
              "      <td>0</td>\n",
              "      <td>0.000000</td>\n",
              "    </tr>\n",
              "    <tr>\n",
              "      <th>Price</th>\n",
              "      <td>0</td>\n",
              "      <td>0.000000</td>\n",
              "    </tr>\n",
              "    <tr>\n",
              "      <th>In-app Purchases</th>\n",
              "      <td>2039</td>\n",
              "      <td>39.106252</td>\n",
              "    </tr>\n",
              "    <tr>\n",
              "      <th>Description</th>\n",
              "      <td>0</td>\n",
              "      <td>0.000000</td>\n",
              "    </tr>\n",
              "    <tr>\n",
              "      <th>Developer</th>\n",
              "      <td>0</td>\n",
              "      <td>0.000000</td>\n",
              "    </tr>\n",
              "    <tr>\n",
              "      <th>Age Rating</th>\n",
              "      <td>0</td>\n",
              "      <td>0.000000</td>\n",
              "    </tr>\n",
              "    <tr>\n",
              "      <th>Languages</th>\n",
              "      <td>11</td>\n",
              "      <td>0.210970</td>\n",
              "    </tr>\n",
              "    <tr>\n",
              "      <th>Size</th>\n",
              "      <td>0</td>\n",
              "      <td>0.000000</td>\n",
              "    </tr>\n",
              "    <tr>\n",
              "      <th>Primary Genre</th>\n",
              "      <td>0</td>\n",
              "      <td>0.000000</td>\n",
              "    </tr>\n",
              "    <tr>\n",
              "      <th>Genres</th>\n",
              "      <td>0</td>\n",
              "      <td>0.000000</td>\n",
              "    </tr>\n",
              "    <tr>\n",
              "      <th>Original Release Date</th>\n",
              "      <td>0</td>\n",
              "      <td>0.000000</td>\n",
              "    </tr>\n",
              "    <tr>\n",
              "      <th>Current Version Release Date</th>\n",
              "      <td>0</td>\n",
              "      <td>0.000000</td>\n",
              "    </tr>\n",
              "    <tr>\n",
              "      <th>Average User Rating</th>\n",
              "      <td>0</td>\n",
              "      <td>0.000000</td>\n",
              "    </tr>\n",
              "  </tbody>\n",
              "</table>\n",
              "</div>\n",
              "      <button class=\"colab-df-convert\" onclick=\"convertToInteractive('df-243bfeee-ce06-4ea1-85e5-b5865f1687c1')\"\n",
              "              title=\"Convert this dataframe to an interactive table.\"\n",
              "              style=\"display:none;\">\n",
              "        \n",
              "  <svg xmlns=\"http://www.w3.org/2000/svg\" height=\"24px\"viewBox=\"0 0 24 24\"\n",
              "       width=\"24px\">\n",
              "    <path d=\"M0 0h24v24H0V0z\" fill=\"none\"/>\n",
              "    <path d=\"M18.56 5.44l.94 2.06.94-2.06 2.06-.94-2.06-.94-.94-2.06-.94 2.06-2.06.94zm-11 1L8.5 8.5l.94-2.06 2.06-.94-2.06-.94L8.5 2.5l-.94 2.06-2.06.94zm10 10l.94 2.06.94-2.06 2.06-.94-2.06-.94-.94-2.06-.94 2.06-2.06.94z\"/><path d=\"M17.41 7.96l-1.37-1.37c-.4-.4-.92-.59-1.43-.59-.52 0-1.04.2-1.43.59L10.3 9.45l-7.72 7.72c-.78.78-.78 2.05 0 2.83L4 21.41c.39.39.9.59 1.41.59.51 0 1.02-.2 1.41-.59l7.78-7.78 2.81-2.81c.8-.78.8-2.07 0-2.86zM5.41 20L4 18.59l7.72-7.72 1.47 1.35L5.41 20z\"/>\n",
              "  </svg>\n",
              "      </button>\n",
              "      \n",
              "  <style>\n",
              "    .colab-df-container {\n",
              "      display:flex;\n",
              "      flex-wrap:wrap;\n",
              "      gap: 12px;\n",
              "    }\n",
              "\n",
              "    .colab-df-convert {\n",
              "      background-color: #E8F0FE;\n",
              "      border: none;\n",
              "      border-radius: 50%;\n",
              "      cursor: pointer;\n",
              "      display: none;\n",
              "      fill: #1967D2;\n",
              "      height: 32px;\n",
              "      padding: 0 0 0 0;\n",
              "      width: 32px;\n",
              "    }\n",
              "\n",
              "    .colab-df-convert:hover {\n",
              "      background-color: #E2EBFA;\n",
              "      box-shadow: 0px 1px 2px rgba(60, 64, 67, 0.3), 0px 1px 3px 1px rgba(60, 64, 67, 0.15);\n",
              "      fill: #174EA6;\n",
              "    }\n",
              "\n",
              "    [theme=dark] .colab-df-convert {\n",
              "      background-color: #3B4455;\n",
              "      fill: #D2E3FC;\n",
              "    }\n",
              "\n",
              "    [theme=dark] .colab-df-convert:hover {\n",
              "      background-color: #434B5C;\n",
              "      box-shadow: 0px 1px 3px 1px rgba(0, 0, 0, 0.15);\n",
              "      filter: drop-shadow(0px 1px 2px rgba(0, 0, 0, 0.3));\n",
              "      fill: #FFFFFF;\n",
              "    }\n",
              "  </style>\n",
              "\n",
              "      <script>\n",
              "        const buttonEl =\n",
              "          document.querySelector('#df-243bfeee-ce06-4ea1-85e5-b5865f1687c1 button.colab-df-convert');\n",
              "        buttonEl.style.display =\n",
              "          google.colab.kernel.accessAllowed ? 'block' : 'none';\n",
              "\n",
              "        async function convertToInteractive(key) {\n",
              "          const element = document.querySelector('#df-243bfeee-ce06-4ea1-85e5-b5865f1687c1');\n",
              "          const dataTable =\n",
              "            await google.colab.kernel.invokeFunction('convertToInteractive',\n",
              "                                                     [key], {});\n",
              "          if (!dataTable) return;\n",
              "\n",
              "          const docLinkHtml = 'Like what you see? Visit the ' +\n",
              "            '<a target=\"_blank\" href=https://colab.research.google.com/notebooks/data_table.ipynb>data table notebook</a>'\n",
              "            + ' to learn more about interactive tables.';\n",
              "          element.innerHTML = '';\n",
              "          dataTable['output_type'] = 'display_data';\n",
              "          await google.colab.output.renderOutput(dataTable, element);\n",
              "          const docLink = document.createElement('div');\n",
              "          docLink.innerHTML = docLinkHtml;\n",
              "          element.appendChild(docLink);\n",
              "        }\n",
              "      </script>\n",
              "    </div>\n",
              "  </div>\n",
              "  "
            ]
          },
          "metadata": {},
          "execution_count": 73
        }
      ],
      "source": [
        "GetColumnsNullsPerc(df)"
      ]
    },
    {
      "cell_type": "code",
      "execution_count": 74,
      "id": "a522fff3",
      "metadata": {
        "id": "a522fff3"
      },
      "outputs": [],
      "source": [
        "df.drop(columns=['Subtitle'], inplace=True)"
      ]
    },
    {
      "cell_type": "code",
      "execution_count": 75,
      "id": "6d81625b",
      "metadata": {
        "id": "6d81625b",
        "outputId": "0910421c-8cac-4dd1-8d8a-e087bbe0515f",
        "colab": {
          "base_uri": "https://localhost:8080/",
          "height": 582
        }
      },
      "outputs": [
        {
          "output_type": "execute_result",
          "data": {
            "text/plain": [
              "                              total_missing  perc_missing\n",
              "URL                                       0      0.000000\n",
              "ID                                        0      0.000000\n",
              "Name                                      0      0.000000\n",
              "Icon URL                                  0      0.000000\n",
              "User Rating Count                         0      0.000000\n",
              "Price                                     0      0.000000\n",
              "In-app Purchases                       2039     39.106252\n",
              "Description                               0      0.000000\n",
              "Developer                                 0      0.000000\n",
              "Age Rating                                0      0.000000\n",
              "Languages                                11      0.210970\n",
              "Size                                      0      0.000000\n",
              "Primary Genre                             0      0.000000\n",
              "Genres                                    0      0.000000\n",
              "Original Release Date                     0      0.000000\n",
              "Current Version Release Date              0      0.000000\n",
              "Average User Rating                       0      0.000000"
            ],
            "text/html": [
              "\n",
              "  <div id=\"df-b919f103-47ea-4e90-ba9d-9285b7f26a05\">\n",
              "    <div class=\"colab-df-container\">\n",
              "      <div>\n",
              "<style scoped>\n",
              "    .dataframe tbody tr th:only-of-type {\n",
              "        vertical-align: middle;\n",
              "    }\n",
              "\n",
              "    .dataframe tbody tr th {\n",
              "        vertical-align: top;\n",
              "    }\n",
              "\n",
              "    .dataframe thead th {\n",
              "        text-align: right;\n",
              "    }\n",
              "</style>\n",
              "<table border=\"1\" class=\"dataframe\">\n",
              "  <thead>\n",
              "    <tr style=\"text-align: right;\">\n",
              "      <th></th>\n",
              "      <th>total_missing</th>\n",
              "      <th>perc_missing</th>\n",
              "    </tr>\n",
              "  </thead>\n",
              "  <tbody>\n",
              "    <tr>\n",
              "      <th>URL</th>\n",
              "      <td>0</td>\n",
              "      <td>0.000000</td>\n",
              "    </tr>\n",
              "    <tr>\n",
              "      <th>ID</th>\n",
              "      <td>0</td>\n",
              "      <td>0.000000</td>\n",
              "    </tr>\n",
              "    <tr>\n",
              "      <th>Name</th>\n",
              "      <td>0</td>\n",
              "      <td>0.000000</td>\n",
              "    </tr>\n",
              "    <tr>\n",
              "      <th>Icon URL</th>\n",
              "      <td>0</td>\n",
              "      <td>0.000000</td>\n",
              "    </tr>\n",
              "    <tr>\n",
              "      <th>User Rating Count</th>\n",
              "      <td>0</td>\n",
              "      <td>0.000000</td>\n",
              "    </tr>\n",
              "    <tr>\n",
              "      <th>Price</th>\n",
              "      <td>0</td>\n",
              "      <td>0.000000</td>\n",
              "    </tr>\n",
              "    <tr>\n",
              "      <th>In-app Purchases</th>\n",
              "      <td>2039</td>\n",
              "      <td>39.106252</td>\n",
              "    </tr>\n",
              "    <tr>\n",
              "      <th>Description</th>\n",
              "      <td>0</td>\n",
              "      <td>0.000000</td>\n",
              "    </tr>\n",
              "    <tr>\n",
              "      <th>Developer</th>\n",
              "      <td>0</td>\n",
              "      <td>0.000000</td>\n",
              "    </tr>\n",
              "    <tr>\n",
              "      <th>Age Rating</th>\n",
              "      <td>0</td>\n",
              "      <td>0.000000</td>\n",
              "    </tr>\n",
              "    <tr>\n",
              "      <th>Languages</th>\n",
              "      <td>11</td>\n",
              "      <td>0.210970</td>\n",
              "    </tr>\n",
              "    <tr>\n",
              "      <th>Size</th>\n",
              "      <td>0</td>\n",
              "      <td>0.000000</td>\n",
              "    </tr>\n",
              "    <tr>\n",
              "      <th>Primary Genre</th>\n",
              "      <td>0</td>\n",
              "      <td>0.000000</td>\n",
              "    </tr>\n",
              "    <tr>\n",
              "      <th>Genres</th>\n",
              "      <td>0</td>\n",
              "      <td>0.000000</td>\n",
              "    </tr>\n",
              "    <tr>\n",
              "      <th>Original Release Date</th>\n",
              "      <td>0</td>\n",
              "      <td>0.000000</td>\n",
              "    </tr>\n",
              "    <tr>\n",
              "      <th>Current Version Release Date</th>\n",
              "      <td>0</td>\n",
              "      <td>0.000000</td>\n",
              "    </tr>\n",
              "    <tr>\n",
              "      <th>Average User Rating</th>\n",
              "      <td>0</td>\n",
              "      <td>0.000000</td>\n",
              "    </tr>\n",
              "  </tbody>\n",
              "</table>\n",
              "</div>\n",
              "      <button class=\"colab-df-convert\" onclick=\"convertToInteractive('df-b919f103-47ea-4e90-ba9d-9285b7f26a05')\"\n",
              "              title=\"Convert this dataframe to an interactive table.\"\n",
              "              style=\"display:none;\">\n",
              "        \n",
              "  <svg xmlns=\"http://www.w3.org/2000/svg\" height=\"24px\"viewBox=\"0 0 24 24\"\n",
              "       width=\"24px\">\n",
              "    <path d=\"M0 0h24v24H0V0z\" fill=\"none\"/>\n",
              "    <path d=\"M18.56 5.44l.94 2.06.94-2.06 2.06-.94-2.06-.94-.94-2.06-.94 2.06-2.06.94zm-11 1L8.5 8.5l.94-2.06 2.06-.94-2.06-.94L8.5 2.5l-.94 2.06-2.06.94zm10 10l.94 2.06.94-2.06 2.06-.94-2.06-.94-.94-2.06-.94 2.06-2.06.94z\"/><path d=\"M17.41 7.96l-1.37-1.37c-.4-.4-.92-.59-1.43-.59-.52 0-1.04.2-1.43.59L10.3 9.45l-7.72 7.72c-.78.78-.78 2.05 0 2.83L4 21.41c.39.39.9.59 1.41.59.51 0 1.02-.2 1.41-.59l7.78-7.78 2.81-2.81c.8-.78.8-2.07 0-2.86zM5.41 20L4 18.59l7.72-7.72 1.47 1.35L5.41 20z\"/>\n",
              "  </svg>\n",
              "      </button>\n",
              "      \n",
              "  <style>\n",
              "    .colab-df-container {\n",
              "      display:flex;\n",
              "      flex-wrap:wrap;\n",
              "      gap: 12px;\n",
              "    }\n",
              "\n",
              "    .colab-df-convert {\n",
              "      background-color: #E8F0FE;\n",
              "      border: none;\n",
              "      border-radius: 50%;\n",
              "      cursor: pointer;\n",
              "      display: none;\n",
              "      fill: #1967D2;\n",
              "      height: 32px;\n",
              "      padding: 0 0 0 0;\n",
              "      width: 32px;\n",
              "    }\n",
              "\n",
              "    .colab-df-convert:hover {\n",
              "      background-color: #E2EBFA;\n",
              "      box-shadow: 0px 1px 2px rgba(60, 64, 67, 0.3), 0px 1px 3px 1px rgba(60, 64, 67, 0.15);\n",
              "      fill: #174EA6;\n",
              "    }\n",
              "\n",
              "    [theme=dark] .colab-df-convert {\n",
              "      background-color: #3B4455;\n",
              "      fill: #D2E3FC;\n",
              "    }\n",
              "\n",
              "    [theme=dark] .colab-df-convert:hover {\n",
              "      background-color: #434B5C;\n",
              "      box-shadow: 0px 1px 3px 1px rgba(0, 0, 0, 0.15);\n",
              "      filter: drop-shadow(0px 1px 2px rgba(0, 0, 0, 0.3));\n",
              "      fill: #FFFFFF;\n",
              "    }\n",
              "  </style>\n",
              "\n",
              "      <script>\n",
              "        const buttonEl =\n",
              "          document.querySelector('#df-b919f103-47ea-4e90-ba9d-9285b7f26a05 button.colab-df-convert');\n",
              "        buttonEl.style.display =\n",
              "          google.colab.kernel.accessAllowed ? 'block' : 'none';\n",
              "\n",
              "        async function convertToInteractive(key) {\n",
              "          const element = document.querySelector('#df-b919f103-47ea-4e90-ba9d-9285b7f26a05');\n",
              "          const dataTable =\n",
              "            await google.colab.kernel.invokeFunction('convertToInteractive',\n",
              "                                                     [key], {});\n",
              "          if (!dataTable) return;\n",
              "\n",
              "          const docLinkHtml = 'Like what you see? Visit the ' +\n",
              "            '<a target=\"_blank\" href=https://colab.research.google.com/notebooks/data_table.ipynb>data table notebook</a>'\n",
              "            + ' to learn more about interactive tables.';\n",
              "          element.innerHTML = '';\n",
              "          dataTable['output_type'] = 'display_data';\n",
              "          await google.colab.output.renderOutput(dataTable, element);\n",
              "          const docLink = document.createElement('div');\n",
              "          docLink.innerHTML = docLinkHtml;\n",
              "          element.appendChild(docLink);\n",
              "        }\n",
              "      </script>\n",
              "    </div>\n",
              "  </div>\n",
              "  "
            ]
          },
          "metadata": {},
          "execution_count": 75
        }
      ],
      "source": [
        "GetColumnsNullsPerc(df)"
      ]
    },
    {
      "cell_type": "markdown",
      "id": "128d4610",
      "metadata": {
        "id": "128d4610"
      },
      "source": [
        "\n",
        "<br> \n",
        "\n",
        "**In-app Purchases**\n",
        "- We can assum that any cell with null value, does not has any purshases. So replace all nulls with 0\n",
        "- Replce each cell with the mean"
      ]
    },
    {
      "cell_type": "code",
      "execution_count": 76,
      "id": "ef1eb79c",
      "metadata": {
        "id": "ef1eb79c"
      },
      "outputs": [],
      "source": [
        "FillColumnNulls(df, 'In-app Purchases')"
      ]
    },
    {
      "cell_type": "code",
      "execution_count": 77,
      "id": "f04121c3",
      "metadata": {
        "id": "f04121c3",
        "outputId": "bf836703-a967-44d7-f912-b4aaf06158d5",
        "colab": {
          "base_uri": "https://localhost:8080/",
          "height": 582
        }
      },
      "outputs": [
        {
          "output_type": "execute_result",
          "data": {
            "text/plain": [
              "                              total_missing  perc_missing\n",
              "URL                                       0       0.00000\n",
              "ID                                        0       0.00000\n",
              "Name                                      0       0.00000\n",
              "Icon URL                                  0       0.00000\n",
              "User Rating Count                         0       0.00000\n",
              "Price                                     0       0.00000\n",
              "In-app Purchases                          0       0.00000\n",
              "Description                               0       0.00000\n",
              "Developer                                 0       0.00000\n",
              "Age Rating                                0       0.00000\n",
              "Languages                                11       0.21097\n",
              "Size                                      0       0.00000\n",
              "Primary Genre                             0       0.00000\n",
              "Genres                                    0       0.00000\n",
              "Original Release Date                     0       0.00000\n",
              "Current Version Release Date              0       0.00000\n",
              "Average User Rating                       0       0.00000"
            ],
            "text/html": [
              "\n",
              "  <div id=\"df-dd3a3b26-f58d-452e-abdf-720f4fc68a89\">\n",
              "    <div class=\"colab-df-container\">\n",
              "      <div>\n",
              "<style scoped>\n",
              "    .dataframe tbody tr th:only-of-type {\n",
              "        vertical-align: middle;\n",
              "    }\n",
              "\n",
              "    .dataframe tbody tr th {\n",
              "        vertical-align: top;\n",
              "    }\n",
              "\n",
              "    .dataframe thead th {\n",
              "        text-align: right;\n",
              "    }\n",
              "</style>\n",
              "<table border=\"1\" class=\"dataframe\">\n",
              "  <thead>\n",
              "    <tr style=\"text-align: right;\">\n",
              "      <th></th>\n",
              "      <th>total_missing</th>\n",
              "      <th>perc_missing</th>\n",
              "    </tr>\n",
              "  </thead>\n",
              "  <tbody>\n",
              "    <tr>\n",
              "      <th>URL</th>\n",
              "      <td>0</td>\n",
              "      <td>0.00000</td>\n",
              "    </tr>\n",
              "    <tr>\n",
              "      <th>ID</th>\n",
              "      <td>0</td>\n",
              "      <td>0.00000</td>\n",
              "    </tr>\n",
              "    <tr>\n",
              "      <th>Name</th>\n",
              "      <td>0</td>\n",
              "      <td>0.00000</td>\n",
              "    </tr>\n",
              "    <tr>\n",
              "      <th>Icon URL</th>\n",
              "      <td>0</td>\n",
              "      <td>0.00000</td>\n",
              "    </tr>\n",
              "    <tr>\n",
              "      <th>User Rating Count</th>\n",
              "      <td>0</td>\n",
              "      <td>0.00000</td>\n",
              "    </tr>\n",
              "    <tr>\n",
              "      <th>Price</th>\n",
              "      <td>0</td>\n",
              "      <td>0.00000</td>\n",
              "    </tr>\n",
              "    <tr>\n",
              "      <th>In-app Purchases</th>\n",
              "      <td>0</td>\n",
              "      <td>0.00000</td>\n",
              "    </tr>\n",
              "    <tr>\n",
              "      <th>Description</th>\n",
              "      <td>0</td>\n",
              "      <td>0.00000</td>\n",
              "    </tr>\n",
              "    <tr>\n",
              "      <th>Developer</th>\n",
              "      <td>0</td>\n",
              "      <td>0.00000</td>\n",
              "    </tr>\n",
              "    <tr>\n",
              "      <th>Age Rating</th>\n",
              "      <td>0</td>\n",
              "      <td>0.00000</td>\n",
              "    </tr>\n",
              "    <tr>\n",
              "      <th>Languages</th>\n",
              "      <td>11</td>\n",
              "      <td>0.21097</td>\n",
              "    </tr>\n",
              "    <tr>\n",
              "      <th>Size</th>\n",
              "      <td>0</td>\n",
              "      <td>0.00000</td>\n",
              "    </tr>\n",
              "    <tr>\n",
              "      <th>Primary Genre</th>\n",
              "      <td>0</td>\n",
              "      <td>0.00000</td>\n",
              "    </tr>\n",
              "    <tr>\n",
              "      <th>Genres</th>\n",
              "      <td>0</td>\n",
              "      <td>0.00000</td>\n",
              "    </tr>\n",
              "    <tr>\n",
              "      <th>Original Release Date</th>\n",
              "      <td>0</td>\n",
              "      <td>0.00000</td>\n",
              "    </tr>\n",
              "    <tr>\n",
              "      <th>Current Version Release Date</th>\n",
              "      <td>0</td>\n",
              "      <td>0.00000</td>\n",
              "    </tr>\n",
              "    <tr>\n",
              "      <th>Average User Rating</th>\n",
              "      <td>0</td>\n",
              "      <td>0.00000</td>\n",
              "    </tr>\n",
              "  </tbody>\n",
              "</table>\n",
              "</div>\n",
              "      <button class=\"colab-df-convert\" onclick=\"convertToInteractive('df-dd3a3b26-f58d-452e-abdf-720f4fc68a89')\"\n",
              "              title=\"Convert this dataframe to an interactive table.\"\n",
              "              style=\"display:none;\">\n",
              "        \n",
              "  <svg xmlns=\"http://www.w3.org/2000/svg\" height=\"24px\"viewBox=\"0 0 24 24\"\n",
              "       width=\"24px\">\n",
              "    <path d=\"M0 0h24v24H0V0z\" fill=\"none\"/>\n",
              "    <path d=\"M18.56 5.44l.94 2.06.94-2.06 2.06-.94-2.06-.94-.94-2.06-.94 2.06-2.06.94zm-11 1L8.5 8.5l.94-2.06 2.06-.94-2.06-.94L8.5 2.5l-.94 2.06-2.06.94zm10 10l.94 2.06.94-2.06 2.06-.94-2.06-.94-.94-2.06-.94 2.06-2.06.94z\"/><path d=\"M17.41 7.96l-1.37-1.37c-.4-.4-.92-.59-1.43-.59-.52 0-1.04.2-1.43.59L10.3 9.45l-7.72 7.72c-.78.78-.78 2.05 0 2.83L4 21.41c.39.39.9.59 1.41.59.51 0 1.02-.2 1.41-.59l7.78-7.78 2.81-2.81c.8-.78.8-2.07 0-2.86zM5.41 20L4 18.59l7.72-7.72 1.47 1.35L5.41 20z\"/>\n",
              "  </svg>\n",
              "      </button>\n",
              "      \n",
              "  <style>\n",
              "    .colab-df-container {\n",
              "      display:flex;\n",
              "      flex-wrap:wrap;\n",
              "      gap: 12px;\n",
              "    }\n",
              "\n",
              "    .colab-df-convert {\n",
              "      background-color: #E8F0FE;\n",
              "      border: none;\n",
              "      border-radius: 50%;\n",
              "      cursor: pointer;\n",
              "      display: none;\n",
              "      fill: #1967D2;\n",
              "      height: 32px;\n",
              "      padding: 0 0 0 0;\n",
              "      width: 32px;\n",
              "    }\n",
              "\n",
              "    .colab-df-convert:hover {\n",
              "      background-color: #E2EBFA;\n",
              "      box-shadow: 0px 1px 2px rgba(60, 64, 67, 0.3), 0px 1px 3px 1px rgba(60, 64, 67, 0.15);\n",
              "      fill: #174EA6;\n",
              "    }\n",
              "\n",
              "    [theme=dark] .colab-df-convert {\n",
              "      background-color: #3B4455;\n",
              "      fill: #D2E3FC;\n",
              "    }\n",
              "\n",
              "    [theme=dark] .colab-df-convert:hover {\n",
              "      background-color: #434B5C;\n",
              "      box-shadow: 0px 1px 3px 1px rgba(0, 0, 0, 0.15);\n",
              "      filter: drop-shadow(0px 1px 2px rgba(0, 0, 0, 0.3));\n",
              "      fill: #FFFFFF;\n",
              "    }\n",
              "  </style>\n",
              "\n",
              "      <script>\n",
              "        const buttonEl =\n",
              "          document.querySelector('#df-dd3a3b26-f58d-452e-abdf-720f4fc68a89 button.colab-df-convert');\n",
              "        buttonEl.style.display =\n",
              "          google.colab.kernel.accessAllowed ? 'block' : 'none';\n",
              "\n",
              "        async function convertToInteractive(key) {\n",
              "          const element = document.querySelector('#df-dd3a3b26-f58d-452e-abdf-720f4fc68a89');\n",
              "          const dataTable =\n",
              "            await google.colab.kernel.invokeFunction('convertToInteractive',\n",
              "                                                     [key], {});\n",
              "          if (!dataTable) return;\n",
              "\n",
              "          const docLinkHtml = 'Like what you see? Visit the ' +\n",
              "            '<a target=\"_blank\" href=https://colab.research.google.com/notebooks/data_table.ipynb>data table notebook</a>'\n",
              "            + ' to learn more about interactive tables.';\n",
              "          element.innerHTML = '';\n",
              "          dataTable['output_type'] = 'display_data';\n",
              "          await google.colab.output.renderOutput(dataTable, element);\n",
              "          const docLink = document.createElement('div');\n",
              "          docLink.innerHTML = docLinkHtml;\n",
              "          element.appendChild(docLink);\n",
              "        }\n",
              "      </script>\n",
              "    </div>\n",
              "  </div>\n",
              "  "
            ]
          },
          "metadata": {},
          "execution_count": 77
        }
      ],
      "source": [
        "GetColumnsNullsPerc(df)"
      ]
    },
    {
      "cell_type": "code",
      "execution_count": 78,
      "id": "4e2ffeb4",
      "metadata": {
        "id": "4e2ffeb4"
      },
      "outputs": [],
      "source": [
        "# todo (replace with mean)"
      ]
    },
    {
      "cell_type": "code",
      "execution_count": 79,
      "id": "0de1441a",
      "metadata": {
        "id": "0de1441a"
      },
      "outputs": [],
      "source": [
        "df = avarage_Purchases(df, 'In-app Purchases')"
      ]
    },
    {
      "cell_type": "code",
      "execution_count": 80,
      "id": "83b64ee6",
      "metadata": {
        "id": "83b64ee6",
        "outputId": "12f4797c-7aec-4ba9-d6ea-7cd47d83477f",
        "colab": {
          "base_uri": "https://localhost:8080/"
        }
      },
      "outputs": [
        {
          "output_type": "execute_result",
          "data": {
            "text/plain": [
              "dtype('float64')"
            ]
          },
          "metadata": {},
          "execution_count": 80
        }
      ],
      "source": [
        "df['In-app Purchases'].dtype"
      ]
    },
    {
      "cell_type": "markdown",
      "id": "967eee32",
      "metadata": {
        "id": "967eee32"
      },
      "source": [
        "## \n",
        "\n",
        "## `3. Rows Nulls`"
      ]
    },
    {
      "cell_type": "code",
      "execution_count": 81,
      "id": "963fafb3",
      "metadata": {
        "id": "963fafb3",
        "outputId": "6b46a60c-e236-47c1-b888-c23b175d50c1",
        "colab": {
          "base_uri": "https://localhost:8080/"
        }
      },
      "outputs": [
        {
          "output_type": "execute_result",
          "data": {
            "text/plain": [
              "(5214, 17)"
            ]
          },
          "metadata": {},
          "execution_count": 81
        }
      ],
      "source": [
        "df.shape"
      ]
    },
    {
      "cell_type": "code",
      "execution_count": 82,
      "id": "9907d5a4",
      "metadata": {
        "id": "9907d5a4",
        "outputId": "1bc831fd-7c77-499c-9ab7-089ba5c75496",
        "colab": {
          "base_uri": "https://localhost:8080/"
        }
      },
      "outputs": [
        {
          "output_type": "stream",
          "name": "stdout",
          "text": [
            "Number of rows that have null values:  11\n"
          ]
        }
      ],
      "source": [
        "CheckNullRows(df)"
      ]
    },
    {
      "cell_type": "code",
      "execution_count": 83,
      "id": "239d0ec8",
      "metadata": {
        "id": "239d0ec8"
      },
      "outputs": [],
      "source": [
        "DropNullRows(df)"
      ]
    },
    {
      "cell_type": "code",
      "execution_count": 84,
      "id": "df954e94",
      "metadata": {
        "id": "df954e94",
        "outputId": "de560687-7a1e-4b8c-bfe7-e8174730fb65",
        "colab": {
          "base_uri": "https://localhost:8080/"
        }
      },
      "outputs": [
        {
          "output_type": "stream",
          "name": "stdout",
          "text": [
            "Number of rows that have null values:  0\n"
          ]
        }
      ],
      "source": [
        "CheckNullRows(df)"
      ]
    },
    {
      "cell_type": "code",
      "execution_count": 85,
      "id": "89cc5ccc",
      "metadata": {
        "id": "89cc5ccc",
        "outputId": "03c4da91-984d-4994-b06a-bf0871690960",
        "colab": {
          "base_uri": "https://localhost:8080/"
        }
      },
      "outputs": [
        {
          "output_type": "execute_result",
          "data": {
            "text/plain": [
              "(5203, 17)"
            ]
          },
          "metadata": {},
          "execution_count": 85
        }
      ],
      "source": [
        "df.shape"
      ]
    },
    {
      "cell_type": "markdown",
      "id": "43836b96",
      "metadata": {
        "id": "43836b96"
      },
      "source": [
        "<br>\n",
        "\n",
        "## `4. Duplicates`"
      ]
    },
    {
      "cell_type": "code",
      "execution_count": 86,
      "id": "a1b8142a",
      "metadata": {
        "id": "a1b8142a",
        "outputId": "f46dfdfa-ccc2-471e-e32d-f9e03b53e013",
        "colab": {
          "base_uri": "https://localhost:8080/"
        }
      },
      "outputs": [
        {
          "output_type": "stream",
          "name": "stdout",
          "text": [
            "Number of duplicates rows:  43\n"
          ]
        }
      ],
      "source": [
        "DuplicatesDetectionAndRemoval(df)"
      ]
    },
    {
      "cell_type": "code",
      "execution_count": 87,
      "id": "64d6aa4e",
      "metadata": {
        "id": "64d6aa4e",
        "outputId": "f4cb8afc-debe-4f24-b126-fbc9b5fa051a",
        "colab": {
          "base_uri": "https://localhost:8080/"
        }
      },
      "outputs": [
        {
          "output_type": "execute_result",
          "data": {
            "text/plain": [
              "(5160, 17)"
            ]
          },
          "metadata": {},
          "execution_count": 87
        }
      ],
      "source": [
        "df.shape"
      ]
    },
    {
      "cell_type": "markdown",
      "id": "27fbfee8",
      "metadata": {
        "id": "27fbfee8"
      },
      "source": [
        "<br>\n",
        "\n",
        "## `5. Outlires Detection & Removal`"
      ]
    },
    {
      "cell_type": "code",
      "execution_count": 88,
      "id": "77f14177",
      "metadata": {
        "id": "77f14177",
        "outputId": "cc6822ea-5cb8-4ecf-84c6-a3b09d5dfb0f",
        "colab": {
          "base_uri": "https://localhost:8080/",
          "height": 835
        }
      },
      "outputs": [
        {
          "output_type": "display_data",
          "data": {
            "text/plain": [
              "<Figure size 640x480 with 2 Axes>"
            ],
            "image/png": "[encoded data removed]"
          },
          "metadata": {}
        },
        {
          "output_type": "display_data",
          "data": {
            "text/plain": [
              "<Figure size 640x480 with 2 Axes>"
            ],
            "image/png": "[encoded data removed]"
          },
          "metadata": {}
        }
      ],
      "source": [
        "outliarlist=[\"User Rating Count\",\"Size\"]\n",
        "for i in outliarlist:\n",
        "    outliers(df,i)"
      ]
    },
    {
      "cell_type": "markdown",
      "id": "b8760f76",
      "metadata": {
        "id": "b8760f76"
      },
      "source": [
        "<br>\n",
        "\n",
        "## `6. Apply One Hot Encoding On Categories`"
      ]
    },
    {
      "cell_type": "code",
      "execution_count": 89,
      "id": "5373d5a6",
      "metadata": {
        "id": "5373d5a6"
      },
      "outputs": [],
      "source": [
        "# replace tst with df\n",
        "df = PreprocessListCategories(df,['Primary Genre', 'Genres', 'Languages'])"
      ]
    },
    {
      "cell_type": "code",
      "execution_count": 90,
      "id": "2535a27b",
      "metadata": {
        "id": "2535a27b",
        "outputId": "4b3a1003-7662-4108-feb7-21823b2ab26a",
        "colab": {
          "base_uri": "https://localhost:8080/"
        }
      },
      "outputs": [
        {
          "output_type": "execute_result",
          "data": {
            "text/plain": [
              "(5160, 188)"
            ]
          },
          "metadata": {},
          "execution_count": 90
        }
      ],
      "source": [
        "df.shape"
      ]
    },
    {
      "cell_type": "code",
      "source": [
        "df = feature_transformation(df)"
      ],
      "metadata": {
        "id": "KFpc5d69anyg"
      },
      "id": "KFpc5d69anyg",
      "execution_count": 91,
      "outputs": []
    },
    {
      "cell_type": "code",
      "source": [
        "df.head()"
      ],
      "metadata": {
        "id": "SaB0D6pxw3Z_",
        "outputId": "a3acf112-f30a-4254-b200-447081b54bdd",
        "colab": {
          "base_uri": "https://localhost:8080/",
          "height": 525
        }
      },
      "id": "SaB0D6pxw3Z_",
      "execution_count": 92,
      "outputs": [
        {
          "output_type": "execute_result",
          "data": {
            "text/plain": [
              "  Country          ID                          Name Color  User Rating Count  \\\n",
              "0      us  1264483706                 HEIR OF LIGHT   is3           1.000000   \n",
              "1      us   607705356               Endgame:Eurasia   is4           0.017381   \n",
              "2      us   627491527               Free Solitaire+   is5           0.011173   \n",
              "3      us   430252596                 Draft Trainer   is1           0.103042   \n",
              "4      us  1115082819  Rogue Knight: Infested Lands   is2           0.009932   \n",
              "\n",
              "   Price  In-app Purchases                                        Description  \\\n",
              "0      0             19.24  A Dark Fantasy, Collectible RPG\\n\\nDarkness ha...   \n",
              "1      0              0.00  \"This interactive experience is an exploration...   \n",
              "2      0              0.00  Same Solitaire game with classic Solitaire run...   \n",
              "3      1              0.00  ** Discounted for a limited time **\\n\\nEver wo...   \n",
              "4      1              0.00  Fight or sneak your way through hordes of mons...   \n",
              "\n",
              "   Other by developer  Age Rating  ... TT  UG UK UR UZ VI  YI  ZH  ZU  \\\n",
              "0                   2           3  ...  0   0  0  0  0  1   0   1   0   \n",
              "1                   2           3  ...  0   0  0  0  0  0   0   0   0   \n",
              "2                   3           1  ...  0   0  0  0  0  0   0   1   0   \n",
              "3                   1           2  ...  0   0  0  0  0  0   0   0   0   \n",
              "4                   1           3  ...  0   0  0  0  0  0   0   0   0   \n",
              "\n",
              "   Years Since Release  \n",
              "0                    2  \n",
              "1                    5  \n",
              "2                    3  \n",
              "3                    9  \n",
              "4                    3  \n",
              "\n",
              "[5 rows x 189 columns]"
            ],
            "text/html": [
              "\n",
              "  <div id=\"df-2e5f6441-6a6f-4da4-8829-d2e82093a415\">\n",
              "    <div class=\"colab-df-container\">\n",
              "      <div>\n",
              "<style scoped>\n",
              "    .dataframe tbody tr th:only-of-type {\n",
              "        vertical-align: middle;\n",
              "    }\n",
              "\n",
              "    .dataframe tbody tr th {\n",
              "        vertical-align: top;\n",
              "    }\n",
              "\n",
              "    .dataframe thead th {\n",
              "        text-align: right;\n",
              "    }\n",
              "</style>\n",
              "<table border=\"1\" class=\"dataframe\">\n",
              "  <thead>\n",
              "    <tr style=\"text-align: right;\">\n",
              "      <th></th>\n",
              "      <th>Country</th>\n",
              "      <th>ID</th>\n",
              "      <th>Name</th>\n",
              "      <th>Color</th>\n",
              "      <th>User Rating Count</th>\n",
              "      <th>Price</th>\n",
              "      <th>In-app Purchases</th>\n",
              "      <th>Description</th>\n",
              "      <th>Other by developer</th>\n",
              "      <th>Age Rating</th>\n",
              "      <th>...</th>\n",
              "      <th>TT</th>\n",
              "      <th>UG</th>\n",
              "      <th>UK</th>\n",
              "      <th>UR</th>\n",
              "      <th>UZ</th>\n",
              "      <th>VI</th>\n",
              "      <th>YI</th>\n",
              "      <th>ZH</th>\n",
              "      <th>ZU</th>\n",
              "      <th>Years Since Release</th>\n",
              "    </tr>\n",
              "  </thead>\n",
              "  <tbody>\n",
              "    <tr>\n",
              "      <th>0</th>\n",
              "      <td>us</td>\n",
              "      <td>1264483706</td>\n",
              "      <td>HEIR OF LIGHT</td>\n",
              "      <td>is3</td>\n",
              "      <td>1.000000</td>\n",
              "      <td>0</td>\n",
              "      <td>19.24</td>\n",
              "      <td>A Dark Fantasy, Collectible RPG\\n\\nDarkness ha...</td>\n",
              "      <td>2</td>\n",
              "      <td>3</td>\n",
              "      <td>...</td>\n",
              "      <td>0</td>\n",
              "      <td>0</td>\n",
              "      <td>0</td>\n",
              "      <td>0</td>\n",
              "      <td>0</td>\n",
              "      <td>1</td>\n",
              "      <td>0</td>\n",
              "      <td>1</td>\n",
              "      <td>0</td>\n",
              "      <td>2</td>\n",
              "    </tr>\n",
              "    <tr>\n",
              "      <th>1</th>\n",
              "      <td>us</td>\n",
              "      <td>607705356</td>\n",
              "      <td>Endgame:Eurasia</td>\n",
              "      <td>is4</td>\n",
              "      <td>0.017381</td>\n",
              "      <td>0</td>\n",
              "      <td>0.00</td>\n",
              "      <td>\"This interactive experience is an exploration...</td>\n",
              "      <td>2</td>\n",
              "      <td>3</td>\n",
              "      <td>...</td>\n",
              "      <td>0</td>\n",
              "      <td>0</td>\n",
              "      <td>0</td>\n",
              "      <td>0</td>\n",
              "      <td>0</td>\n",
              "      <td>0</td>\n",
              "      <td>0</td>\n",
              "      <td>0</td>\n",
              "      <td>0</td>\n",
              "      <td>5</td>\n",
              "    </tr>\n",
              "    <tr>\n",
              "      <th>2</th>\n",
              "      <td>us</td>\n",
              "      <td>627491527</td>\n",
              "      <td>Free Solitaire+</td>\n",
              "      <td>is5</td>\n",
              "      <td>0.011173</td>\n",
              "      <td>0</td>\n",
              "      <td>0.00</td>\n",
              "      <td>Same Solitaire game with classic Solitaire run...</td>\n",
              "      <td>3</td>\n",
              "      <td>1</td>\n",
              "      <td>...</td>\n",
              "      <td>0</td>\n",
              "      <td>0</td>\n",
              "      <td>0</td>\n",
              "      <td>0</td>\n",
              "      <td>0</td>\n",
              "      <td>0</td>\n",
              "      <td>0</td>\n",
              "      <td>1</td>\n",
              "      <td>0</td>\n",
              "      <td>3</td>\n",
              "    </tr>\n",
              "    <tr>\n",
              "      <th>3</th>\n",
              "      <td>us</td>\n",
              "      <td>430252596</td>\n",
              "      <td>Draft Trainer</td>\n",
              "      <td>is1</td>\n",
              "      <td>0.103042</td>\n",
              "      <td>1</td>\n",
              "      <td>0.00</td>\n",
              "      <td>** Discounted for a limited time **\\n\\nEver wo...</td>\n",
              "      <td>1</td>\n",
              "      <td>2</td>\n",
              "      <td>...</td>\n",
              "      <td>0</td>\n",
              "      <td>0</td>\n",
              "      <td>0</td>\n",
              "      <td>0</td>\n",
              "      <td>0</td>\n",
              "      <td>0</td>\n",
              "      <td>0</td>\n",
              "      <td>0</td>\n",
              "      <td>0</td>\n",
              "      <td>9</td>\n",
              "    </tr>\n",
              "    <tr>\n",
              "      <th>4</th>\n",
              "      <td>us</td>\n",
              "      <td>1115082819</td>\n",
              "      <td>Rogue Knight: Infested Lands</td>\n",
              "      <td>is2</td>\n",
              "      <td>0.009932</td>\n",
              "      <td>1</td>\n",
              "      <td>0.00</td>\n",
              "      <td>Fight or sneak your way through hordes of mons...</td>\n",
              "      <td>1</td>\n",
              "      <td>3</td>\n",
              "      <td>...</td>\n",
              "      <td>0</td>\n",
              "      <td>0</td>\n",
              "      <td>0</td>\n",
              "      <td>0</td>\n",
              "      <td>0</td>\n",
              "      <td>0</td>\n",
              "      <td>0</td>\n",
              "      <td>0</td>\n",
              "      <td>0</td>\n",
              "      <td>3</td>\n",
              "    </tr>\n",
              "  </tbody>\n",
              "</table>\n",
              "<p>5 rows × 189 columns</p>\n",
              "</div>\n",
              "      <button class=\"colab-df-convert\" onclick=\"convertToInteractive('df-2e5f6441-6a6f-4da4-8829-d2e82093a415')\"\n",
              "              title=\"Convert this dataframe to an interactive table.\"\n",
              "              style=\"display:none;\">\n",
              "        \n",
              "  <svg xmlns=\"http://www.w3.org/2000/svg\" height=\"24px\"viewBox=\"0 0 24 24\"\n",
              "       width=\"24px\">\n",
              "    <path d=\"M0 0h24v24H0V0z\" fill=\"none\"/>\n",
              "    <path d=\"M18.56 5.44l.94 2.06.94-2.06 2.06-.94-2.06-.94-.94-2.06-.94 2.06-2.06.94zm-11 1L8.5 8.5l.94-2.06 2.06-.94-2.06-.94L8.5 2.5l-.94 2.06-2.06.94zm10 10l.94 2.06.94-2.06 2.06-.94-2.06-.94-.94-2.06-.94 2.06-2.06.94z\"/><path d=\"M17.41 7.96l-1.37-1.37c-.4-.4-.92-.59-1.43-.59-.52 0-1.04.2-1.43.59L10.3 9.45l-7.72 7.72c-.78.78-.78 2.05 0 2.83L4 21.41c.39.39.9.59 1.41.59.51 0 1.02-.2 1.41-.59l7.78-7.78 2.81-2.81c.8-.78.8-2.07 0-2.86zM5.41 20L4 18.59l7.72-7.72 1.47 1.35L5.41 20z\"/>\n",
              "  </svg>\n",
              "      </button>\n",
              "      \n",
              "  <style>\n",
              "    .colab-df-container {\n",
              "      display:flex;\n",
              "      flex-wrap:wrap;\n",
              "      gap: 12px;\n",
              "    }\n",
              "\n",
              "    .colab-df-convert {\n",
              "      background-color: #E8F0FE;\n",
              "      border: none;\n",
              "      border-radius: 50%;\n",
              "      cursor: pointer;\n",
              "      display: none;\n",
              "      fill: #1967D2;\n",
              "      height: 32px;\n",
              "      padding: 0 0 0 0;\n",
              "      width: 32px;\n",
              "    }\n",
              "\n",
              "    .colab-df-convert:hover {\n",
              "      background-color: #E2EBFA;\n",
              "      box-shadow: 0px 1px 2px rgba(60, 64, 67, 0.3), 0px 1px 3px 1px rgba(60, 64, 67, 0.15);\n",
              "      fill: #174EA6;\n",
              "    }\n",
              "\n",
              "    [theme=dark] .colab-df-convert {\n",
              "      background-color: #3B4455;\n",
              "      fill: #D2E3FC;\n",
              "    }\n",
              "\n",
              "    [theme=dark] .colab-df-convert:hover {\n",
              "      background-color: #434B5C;\n",
              "      box-shadow: 0px 1px 3px 1px rgba(0, 0, 0, 0.15);\n",
              "      filter: drop-shadow(0px 1px 2px rgba(0, 0, 0, 0.3));\n",
              "      fill: #FFFFFF;\n",
              "    }\n",
              "  </style>\n",
              "\n",
              "      <script>\n",
              "        const buttonEl =\n",
              "          document.querySelector('#df-2e5f6441-6a6f-4da4-8829-d2e82093a415 button.colab-df-convert');\n",
              "        buttonEl.style.display =\n",
              "          google.colab.kernel.accessAllowed ? 'block' : 'none';\n",
              "\n",
              "        async function convertToInteractive(key) {\n",
              "          const element = document.querySelector('#df-2e5f6441-6a6f-4da4-8829-d2e82093a415');\n",
              "          const dataTable =\n",
              "            await google.colab.kernel.invokeFunction('convertToInteractive',\n",
              "                                                     [key], {});\n",
              "          if (!dataTable) return;\n",
              "\n",
              "          const docLinkHtml = 'Like what you see? Visit the ' +\n",
              "            '<a target=\"_blank\" href=https://colab.research.google.com/notebooks/data_table.ipynb>data table notebook</a>'\n",
              "            + ' to learn more about interactive tables.';\n",
              "          element.innerHTML = '';\n",
              "          dataTable['output_type'] = 'display_data';\n",
              "          await google.colab.output.renderOutput(dataTable, element);\n",
              "          const docLink = document.createElement('div');\n",
              "          docLink.innerHTML = docLinkHtml;\n",
              "          element.appendChild(docLink);\n",
              "        }\n",
              "      </script>\n",
              "    </div>\n",
              "  </div>\n",
              "  "
            ]
          },
          "metadata": {},
          "execution_count": 92
        }
      ]
    }
  ],
  "metadata": {
    "kernelspec": {
      "display_name": "Python 3 (ipykernel)",
      "language": "python",
      "name": "python3"
    },
    "language_info": {
      "codemirror_mode": {
        "name": "ipython",
        "version": 3
      },
      "file_extension": ".py",
      "mimetype": "text/x-python",
      "name": "python",
      "nbconvert_exporter": "python",
      "pygments_lexer": "ipython3",
      "version": "3.9.13"
    },
    "colab": {
      "provenance": [],
      "include_colab_link": true
    }
  },
  "nbformat": 4,
  "nbformat_minor": 5
}